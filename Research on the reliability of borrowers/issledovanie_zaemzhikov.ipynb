{
  "cells": [
    {
      "cell_type": "markdown",
      "id": "c81daeeb",
      "metadata": {
        "deletable": false,
        "id": "c81daeeb"
      },
      "source": [
        "# Исследование надежности заемщиков\n"
      ]
    },
    {
      "cell_type": "markdown",
      "source": [
        "Цель данного исследования- на основе данных кредитного отдела банка исследовать влияние различных характеристик заемщиков на погашение кредита в срок.\n",
        "На первом этапе выполним обзор и предобработку данных.\n",
        "На втором проверим, есть ли зависимость между семейным положением, количеством детей, уровнем дохода и целью кредита на выплату кредита в срок.\n",
        "(Проект учебный и не содержит проверки статистических гипотез)."
      ],
      "metadata": {
        "id": "XwJ1z_amKEbI"
      },
      "id": "XwJ1z_amKEbI"
    },
    {
      "cell_type": "markdown",
      "id": "744d7639",
      "metadata": {
        "deletable": false,
        "id": "744d7639"
      },
      "source": [
        "## Обзор данных"
      ]
    },
    {
      "cell_type": "code",
      "execution_count": 1,
      "id": "7bcf75c9",
      "metadata": {
        "deletable": false,
        "id": "7bcf75c9"
      },
      "outputs": [],
      "source": [
        "import pandas as pd\n",
        "import numpy as np\n",
        "import matplotlib.pyplot as plt\n",
        "from matplotlib.ticker import (MultipleLocator, FormatStrFormatter,\n",
        "AutoMinorLocator)\n",
        "\n"
      ]
    },
    {
      "cell_type": "code",
      "source": [
        "data=pd.read_csv('data.csv')"
      ],
      "metadata": {
        "id": "Ka0fazksKWEA"
      },
      "id": "Ka0fazksKWEA",
      "execution_count": 2,
      "outputs": []
    },
    {
      "cell_type": "code",
      "execution_count": 3,
      "id": "2a7cab99",
      "metadata": {
        "deletable": false,
        "id": "2a7cab99",
        "outputId": "a466c7bf-3088-46d9-fe8d-be9f32f13720",
        "colab": {
          "base_uri": "https://localhost:8080/",
          "height": 297
        }
      },
      "outputs": [
        {
          "output_type": "execute_result",
          "data": {
            "text/plain": [
              "   children  days_employed  dob_years education  education_id  \\\n",
              "0         1   -8437.673028         42    высшее             0   \n",
              "1         1   -4024.803754         36   среднее             1   \n",
              "2         0   -5623.422610         33   Среднее             1   \n",
              "3         3   -4124.747207         32   среднее             1   \n",
              "4         0  340266.072047         53   среднее             1   \n",
              "\n",
              "      family_status  family_status_id gender income_type  debt   total_income  \\\n",
              "0   женат / замужем                 0      F   сотрудник     0  253875.639453   \n",
              "1   женат / замужем                 0      F   сотрудник     0  112080.014102   \n",
              "2   женат / замужем                 0      M   сотрудник     0  145885.952297   \n",
              "3   женат / замужем                 0      M   сотрудник     0  267628.550329   \n",
              "4  гражданский брак                 1      F   пенсионер     0  158616.077870   \n",
              "\n",
              "                      purpose  \n",
              "0               покупка жилья  \n",
              "1     приобретение автомобиля  \n",
              "2               покупка жилья  \n",
              "3  дополнительное образование  \n",
              "4             сыграть свадьбу  "
            ],
            "text/html": [
              "\n",
              "  <div id=\"df-e9f97cfe-4500-4a6a-9841-3b736ba0245b\">\n",
              "    <div class=\"colab-df-container\">\n",
              "      <div>\n",
              "<style scoped>\n",
              "    .dataframe tbody tr th:only-of-type {\n",
              "        vertical-align: middle;\n",
              "    }\n",
              "\n",
              "    .dataframe tbody tr th {\n",
              "        vertical-align: top;\n",
              "    }\n",
              "\n",
              "    .dataframe thead th {\n",
              "        text-align: right;\n",
              "    }\n",
              "</style>\n",
              "<table border=\"1\" class=\"dataframe\">\n",
              "  <thead>\n",
              "    <tr style=\"text-align: right;\">\n",
              "      <th></th>\n",
              "      <th>children</th>\n",
              "      <th>days_employed</th>\n",
              "      <th>dob_years</th>\n",
              "      <th>education</th>\n",
              "      <th>education_id</th>\n",
              "      <th>family_status</th>\n",
              "      <th>family_status_id</th>\n",
              "      <th>gender</th>\n",
              "      <th>income_type</th>\n",
              "      <th>debt</th>\n",
              "      <th>total_income</th>\n",
              "      <th>purpose</th>\n",
              "    </tr>\n",
              "  </thead>\n",
              "  <tbody>\n",
              "    <tr>\n",
              "      <th>0</th>\n",
              "      <td>1</td>\n",
              "      <td>-8437.673028</td>\n",
              "      <td>42</td>\n",
              "      <td>высшее</td>\n",
              "      <td>0</td>\n",
              "      <td>женат / замужем</td>\n",
              "      <td>0</td>\n",
              "      <td>F</td>\n",
              "      <td>сотрудник</td>\n",
              "      <td>0</td>\n",
              "      <td>253875.639453</td>\n",
              "      <td>покупка жилья</td>\n",
              "    </tr>\n",
              "    <tr>\n",
              "      <th>1</th>\n",
              "      <td>1</td>\n",
              "      <td>-4024.803754</td>\n",
              "      <td>36</td>\n",
              "      <td>среднее</td>\n",
              "      <td>1</td>\n",
              "      <td>женат / замужем</td>\n",
              "      <td>0</td>\n",
              "      <td>F</td>\n",
              "      <td>сотрудник</td>\n",
              "      <td>0</td>\n",
              "      <td>112080.014102</td>\n",
              "      <td>приобретение автомобиля</td>\n",
              "    </tr>\n",
              "    <tr>\n",
              "      <th>2</th>\n",
              "      <td>0</td>\n",
              "      <td>-5623.422610</td>\n",
              "      <td>33</td>\n",
              "      <td>Среднее</td>\n",
              "      <td>1</td>\n",
              "      <td>женат / замужем</td>\n",
              "      <td>0</td>\n",
              "      <td>M</td>\n",
              "      <td>сотрудник</td>\n",
              "      <td>0</td>\n",
              "      <td>145885.952297</td>\n",
              "      <td>покупка жилья</td>\n",
              "    </tr>\n",
              "    <tr>\n",
              "      <th>3</th>\n",
              "      <td>3</td>\n",
              "      <td>-4124.747207</td>\n",
              "      <td>32</td>\n",
              "      <td>среднее</td>\n",
              "      <td>1</td>\n",
              "      <td>женат / замужем</td>\n",
              "      <td>0</td>\n",
              "      <td>M</td>\n",
              "      <td>сотрудник</td>\n",
              "      <td>0</td>\n",
              "      <td>267628.550329</td>\n",
              "      <td>дополнительное образование</td>\n",
              "    </tr>\n",
              "    <tr>\n",
              "      <th>4</th>\n",
              "      <td>0</td>\n",
              "      <td>340266.072047</td>\n",
              "      <td>53</td>\n",
              "      <td>среднее</td>\n",
              "      <td>1</td>\n",
              "      <td>гражданский брак</td>\n",
              "      <td>1</td>\n",
              "      <td>F</td>\n",
              "      <td>пенсионер</td>\n",
              "      <td>0</td>\n",
              "      <td>158616.077870</td>\n",
              "      <td>сыграть свадьбу</td>\n",
              "    </tr>\n",
              "  </tbody>\n",
              "</table>\n",
              "</div>\n",
              "      <button class=\"colab-df-convert\" onclick=\"convertToInteractive('df-e9f97cfe-4500-4a6a-9841-3b736ba0245b')\"\n",
              "              title=\"Convert this dataframe to an interactive table.\"\n",
              "              style=\"display:none;\">\n",
              "        \n",
              "  <svg xmlns=\"http://www.w3.org/2000/svg\" height=\"24px\"viewBox=\"0 0 24 24\"\n",
              "       width=\"24px\">\n",
              "    <path d=\"M0 0h24v24H0V0z\" fill=\"none\"/>\n",
              "    <path d=\"M18.56 5.44l.94 2.06.94-2.06 2.06-.94-2.06-.94-.94-2.06-.94 2.06-2.06.94zm-11 1L8.5 8.5l.94-2.06 2.06-.94-2.06-.94L8.5 2.5l-.94 2.06-2.06.94zm10 10l.94 2.06.94-2.06 2.06-.94-2.06-.94-.94-2.06-.94 2.06-2.06.94z\"/><path d=\"M17.41 7.96l-1.37-1.37c-.4-.4-.92-.59-1.43-.59-.52 0-1.04.2-1.43.59L10.3 9.45l-7.72 7.72c-.78.78-.78 2.05 0 2.83L4 21.41c.39.39.9.59 1.41.59.51 0 1.02-.2 1.41-.59l7.78-7.78 2.81-2.81c.8-.78.8-2.07 0-2.86zM5.41 20L4 18.59l7.72-7.72 1.47 1.35L5.41 20z\"/>\n",
              "  </svg>\n",
              "      </button>\n",
              "      \n",
              "  <style>\n",
              "    .colab-df-container {\n",
              "      display:flex;\n",
              "      flex-wrap:wrap;\n",
              "      gap: 12px;\n",
              "    }\n",
              "\n",
              "    .colab-df-convert {\n",
              "      background-color: #E8F0FE;\n",
              "      border: none;\n",
              "      border-radius: 50%;\n",
              "      cursor: pointer;\n",
              "      display: none;\n",
              "      fill: #1967D2;\n",
              "      height: 32px;\n",
              "      padding: 0 0 0 0;\n",
              "      width: 32px;\n",
              "    }\n",
              "\n",
              "    .colab-df-convert:hover {\n",
              "      background-color: #E2EBFA;\n",
              "      box-shadow: 0px 1px 2px rgba(60, 64, 67, 0.3), 0px 1px 3px 1px rgba(60, 64, 67, 0.15);\n",
              "      fill: #174EA6;\n",
              "    }\n",
              "\n",
              "    [theme=dark] .colab-df-convert {\n",
              "      background-color: #3B4455;\n",
              "      fill: #D2E3FC;\n",
              "    }\n",
              "\n",
              "    [theme=dark] .colab-df-convert:hover {\n",
              "      background-color: #434B5C;\n",
              "      box-shadow: 0px 1px 3px 1px rgba(0, 0, 0, 0.15);\n",
              "      filter: drop-shadow(0px 1px 2px rgba(0, 0, 0, 0.3));\n",
              "      fill: #FFFFFF;\n",
              "    }\n",
              "  </style>\n",
              "\n",
              "      <script>\n",
              "        const buttonEl =\n",
              "          document.querySelector('#df-e9f97cfe-4500-4a6a-9841-3b736ba0245b button.colab-df-convert');\n",
              "        buttonEl.style.display =\n",
              "          google.colab.kernel.accessAllowed ? 'block' : 'none';\n",
              "\n",
              "        async function convertToInteractive(key) {\n",
              "          const element = document.querySelector('#df-e9f97cfe-4500-4a6a-9841-3b736ba0245b');\n",
              "          const dataTable =\n",
              "            await google.colab.kernel.invokeFunction('convertToInteractive',\n",
              "                                                     [key], {});\n",
              "          if (!dataTable) return;\n",
              "\n",
              "          const docLinkHtml = 'Like what you see? Visit the ' +\n",
              "            '<a target=\"_blank\" href=https://colab.research.google.com/notebooks/data_table.ipynb>data table notebook</a>'\n",
              "            + ' to learn more about interactive tables.';\n",
              "          element.innerHTML = '';\n",
              "          dataTable['output_type'] = 'display_data';\n",
              "          await google.colab.output.renderOutput(dataTable, element);\n",
              "          const docLink = document.createElement('div');\n",
              "          docLink.innerHTML = docLinkHtml;\n",
              "          element.appendChild(docLink);\n",
              "        }\n",
              "      </script>\n",
              "    </div>\n",
              "  </div>\n",
              "  "
            ]
          },
          "metadata": {},
          "execution_count": 3
        }
      ],
      "source": [
        "data.head()"
      ]
    },
    {
      "cell_type": "code",
      "execution_count": 4,
      "id": "2b757bca",
      "metadata": {
        "deletable": false,
        "id": "2b757bca",
        "outputId": "7d539430-7c98-4c8a-8438-501d689747c6",
        "colab": {
          "base_uri": "https://localhost:8080/"
        }
      },
      "outputs": [
        {
          "output_type": "stream",
          "name": "stdout",
          "text": [
            "<class 'pandas.core.frame.DataFrame'>\n",
            "RangeIndex: 21525 entries, 0 to 21524\n",
            "Data columns (total 12 columns):\n",
            " #   Column            Non-Null Count  Dtype  \n",
            "---  ------            --------------  -----  \n",
            " 0   children          21525 non-null  int64  \n",
            " 1   days_employed     19351 non-null  float64\n",
            " 2   dob_years         21525 non-null  int64  \n",
            " 3   education         21525 non-null  object \n",
            " 4   education_id      21525 non-null  int64  \n",
            " 5   family_status     21525 non-null  object \n",
            " 6   family_status_id  21525 non-null  int64  \n",
            " 7   gender            21525 non-null  object \n",
            " 8   income_type       21525 non-null  object \n",
            " 9   debt              21525 non-null  int64  \n",
            " 10  total_income      19351 non-null  float64\n",
            " 11  purpose           21525 non-null  object \n",
            "dtypes: float64(2), int64(5), object(5)\n",
            "memory usage: 2.0+ MB\n"
          ]
        }
      ],
      "source": [
        "data.info()"
      ]
    },
    {
      "cell_type": "markdown",
      "source": [
        "Данный фатасет содержит 11 столбцов и включает в себя данные о таких характеристиках заемщика как:количество детей, возраст, образование, семейное положение, пол, рабочий статус и стаж, цель кредита. Есть информация о более чем 21000 заемщиков."
      ],
      "metadata": {
        "id": "6f5cFegyKuEp"
      },
      "id": "6f5cFegyKuEp"
    },
    {
      "cell_type": "markdown",
      "id": "333ec665",
      "metadata": {
        "deletable": false,
        "id": "333ec665"
      },
      "source": [
        "## Предобработка данных"
      ]
    },
    {
      "cell_type": "markdown",
      "source": [
        "Далее необходимо выполнить предобработку данных: обработать пропуски, удалить дубликаты, аномальные значения."
      ],
      "metadata": {
        "id": "6inpuAVBz-1-"
      },
      "id": "6inpuAVBz-1-"
    },
    {
      "cell_type": "code",
      "execution_count": 5,
      "id": "7f9b2309",
      "metadata": {
        "deletable": false,
        "id": "7f9b2309",
        "outputId": "ccb788da-99a6-4222-c6fa-a8655b018320",
        "colab": {
          "base_uri": "https://localhost:8080/"
        }
      },
      "outputs": [
        {
          "output_type": "execute_result",
          "data": {
            "text/plain": [
              "children               0\n",
              "days_employed       2174\n",
              "dob_years              0\n",
              "education              0\n",
              "education_id           0\n",
              "family_status          0\n",
              "family_status_id       0\n",
              "gender                 0\n",
              "income_type            0\n",
              "debt                   0\n",
              "total_income        2174\n",
              "purpose                0\n",
              "dtype: int64"
            ]
          },
          "metadata": {},
          "execution_count": 5
        }
      ],
      "source": [
        "data.isna().sum()"
      ]
    },
    {
      "cell_type": "markdown",
      "source": [
        "Заполним пропуски в столбце с данными о доходах медианными значениями по каждому типу дохода из столбца 'income_type'. "
      ],
      "metadata": {
        "id": "bO7vOfg10fd3"
      },
      "id": "bO7vOfg10fd3"
    },
    {
      "cell_type": "code",
      "execution_count": 6,
      "id": "42006a93",
      "metadata": {
        "deletable": false,
        "id": "42006a93"
      },
      "outputs": [],
      "source": [
        "for t in data['income_type'].unique():\n",
        "    data.loc[(data['income_type'] == t) & (data['total_income'].isna()), 'total_income'] = \\\n",
        "    data.loc[(data['income_type'] == t), 'total_income'].median()"
      ]
    },
    {
      "cell_type": "markdown",
      "source": [
        "Обработаем данные в столбце с трудовым стажем: заменим все отрицательные значения на модуль этих значений."
      ],
      "metadata": {
        "id": "cTo6chst1MZp"
      },
      "id": "cTo6chst1MZp"
    },
    {
      "cell_type": "code",
      "execution_count": 7,
      "id": "f6f055bf",
      "metadata": {
        "deletable": false,
        "id": "f6f055bf"
      },
      "outputs": [],
      "source": [
        "data['days_employed'] = data['days_employed'].abs()"
      ]
    },
    {
      "cell_type": "markdown",
      "source": [
        "Для каждого типа занятости выведем медианное значение трудового стажа."
      ],
      "metadata": {
        "id": "2OpaDVTmLgT9"
      },
      "id": "2OpaDVTmLgT9"
    },
    {
      "cell_type": "code",
      "execution_count": 8,
      "metadata": {
        "id": "2847671d",
        "outputId": "623c96dc-f83c-4c8d-8bdb-ec6edeb4116f",
        "colab": {
          "base_uri": "https://localhost:8080/"
        }
      },
      "outputs": [
        {
          "output_type": "stream",
          "name": "stdout",
          "text": [
            "income_type\n",
            "безработный        366413.652744\n",
            "в декрете            3296.759962\n",
            "госслужащий          2689.368353\n",
            "компаньон            1547.382223\n",
            "пенсионер          365213.306266\n",
            "предприниматель       520.848083\n",
            "сотрудник            1574.202821\n",
            "студент               578.751554\n",
            "Name: days_employed, dtype: float64\n"
          ]
        }
      ],
      "source": [
        "grouped=data.groupby('income_type')['days_employed'].median()\n",
        "print(grouped)\n"
      ],
      "id": "2847671d"
    },
    {
      "cell_type": "markdown",
      "metadata": {
        "deletable": false,
        "editable": false,
        "id": "5a04f64a"
      },
      "source": [
        "У двух типов (безработные и пенсионеры) получатся аномально большие значения. Данные о рабочем стаже нам не нужны в исследовании, поэтому оставим их без изменений."
      ],
      "id": "5a04f64a"
    },
    {
      "cell_type": "markdown",
      "source": [
        "Удалим аномальные значения из столбца с количеством детей."
      ],
      "metadata": {
        "id": "ucrb2QjO2EWT"
      },
      "id": "ucrb2QjO2EWT"
    },
    {
      "cell_type": "code",
      "execution_count": 9,
      "metadata": {
        "id": "46adcce8",
        "outputId": "914d1e57-904a-47a6-d15f-7a4fe2fe4ad4",
        "colab": {
          "base_uri": "https://localhost:8080/"
        }
      },
      "outputs": [
        {
          "output_type": "execute_result",
          "data": {
            "text/plain": [
              "array([ 1,  0,  3,  2, -1,  4, 20,  5])"
            ]
          },
          "metadata": {},
          "execution_count": 9
        }
      ],
      "source": [
        "data['children'].unique()"
      ],
      "id": "46adcce8"
    },
    {
      "cell_type": "code",
      "execution_count": 10,
      "metadata": {
        "id": "4cfb15e6"
      },
      "outputs": [],
      "source": [
        "data=data.loc[(data['children']!=-1)&(data['children']!=20)]"
      ],
      "id": "4cfb15e6"
    },
    {
      "cell_type": "code",
      "execution_count": 11,
      "metadata": {
        "id": "ea71cc21",
        "outputId": "8915be5e-d186-4e81-8f4c-cf0f8de8e0ef",
        "colab": {
          "base_uri": "https://localhost:8080/"
        }
      },
      "outputs": [
        {
          "output_type": "execute_result",
          "data": {
            "text/plain": [
              "array([1, 0, 3, 2, 4, 5])"
            ]
          },
          "metadata": {},
          "execution_count": 11
        }
      ],
      "source": [
        "data['children'].unique()"
      ],
      "id": "ea71cc21"
    },
    {
      "cell_type": "markdown",
      "source": [
        "Заполним пропуски в столбце со стажем медианными значениями по каждому типу занятости."
      ],
      "metadata": {
        "id": "gAHMk7p9GksB"
      },
      "id": "gAHMk7p9GksB"
    },
    {
      "cell_type": "code",
      "execution_count": 31,
      "metadata": {
        "id": "1b2baec2"
      },
      "outputs": [],
      "source": [
        "for t in data['income_type'].unique():\n",
        "    data.loc[(data['income_type'] == t) & (data['days_employed'].isna()), 'days_employed'] = \\\n",
        "    data.loc[(data['income_type'] == t), 'days_employed'].median()"
      ],
      "id": "1b2baec2"
    },
    {
      "cell_type": "markdown",
      "source": [
        "Все пропуски заполнены."
      ],
      "metadata": {
        "id": "rB7-vGsbG8ft"
      },
      "id": "rB7-vGsbG8ft"
    },
    {
      "cell_type": "code",
      "execution_count": 13,
      "metadata": {
        "id": "7c75a697",
        "outputId": "01d7dc9f-573f-4adc-9ae8-d4fea0c9b2d4",
        "colab": {
          "base_uri": "https://localhost:8080/"
        }
      },
      "outputs": [
        {
          "output_type": "execute_result",
          "data": {
            "text/plain": [
              "children            0\n",
              "days_employed       0\n",
              "dob_years           0\n",
              "education           0\n",
              "education_id        0\n",
              "family_status       0\n",
              "family_status_id    0\n",
              "gender              0\n",
              "income_type         0\n",
              "debt                0\n",
              "total_income        0\n",
              "purpose             0\n",
              "dtype: int64"
            ]
          },
          "metadata": {},
          "execution_count": 13
        }
      ],
      "source": [
        "data.isna().sum()"
      ],
      "id": "7c75a697"
    },
    {
      "cell_type": "markdown",
      "source": [
        "Изменим вещественный тип данных в столбце 'total_income' на целочисленный."
      ],
      "metadata": {
        "id": "rY2V-ioxHStI"
      },
      "id": "rY2V-ioxHStI"
    },
    {
      "cell_type": "code",
      "execution_count": 14,
      "metadata": {
        "id": "bdac5c47",
        "colab": {
          "base_uri": "https://localhost:8080/"
        },
        "outputId": "aa3958b0-5331-4527-94f0-dfa453d7b10e"
      },
      "outputs": [
        {
          "output_type": "stream",
          "name": "stderr",
          "text": [
            "<ipython-input-14-38ef34bf3b17>:1: SettingWithCopyWarning: \n",
            "A value is trying to be set on a copy of a slice from a DataFrame.\n",
            "Try using .loc[row_indexer,col_indexer] = value instead\n",
            "\n",
            "See the caveats in the documentation: https://pandas.pydata.org/pandas-docs/stable/user_guide/indexing.html#returning-a-view-versus-a-copy\n",
            "  data['total_income']=data['total_income'].astype(int)\n"
          ]
        }
      ],
      "source": [
        "data['total_income']=data['total_income'].astype(int)"
      ],
      "id": "bdac5c47"
    },
    {
      "cell_type": "markdown",
      "source": [
        "Удалим явные и неявные дубликаты."
      ],
      "metadata": {
        "id": "ux9FUh-WHi7m"
      },
      "id": "ux9FUh-WHi7m"
    },
    {
      "cell_type": "code",
      "execution_count": 15,
      "metadata": {
        "id": "d88a3ff6",
        "outputId": "9cdad7c1-187b-4539-d8fe-90d2a173504e",
        "colab": {
          "base_uri": "https://localhost:8080/"
        }
      },
      "outputs": [
        {
          "output_type": "execute_result",
          "data": {
            "text/plain": [
              "54"
            ]
          },
          "metadata": {},
          "execution_count": 15
        }
      ],
      "source": [
        "data.duplicated().sum()"
      ],
      "id": "d88a3ff6"
    },
    {
      "cell_type": "code",
      "execution_count": 16,
      "metadata": {
        "id": "6fcc98cc"
      },
      "outputs": [],
      "source": [
        "data=data.drop_duplicates().reset_index(drop=True) "
      ],
      "id": "6fcc98cc"
    },
    {
      "cell_type": "code",
      "execution_count": 17,
      "metadata": {
        "id": "7653bb93"
      },
      "outputs": [],
      "source": [
        "data['education']=data['education'].str.lower()"
      ],
      "id": "7653bb93"
    },
    {
      "cell_type": "markdown",
      "metadata": {
        "deletable": false,
        "editable": false,
        "id": "0284f11f"
      },
      "source": [
        "### Категоризация данных"
      ],
      "id": "0284f11f"
    },
    {
      "cell_type": "markdown",
      "source": [
        "Для дальнейшего анализа данных создадим столбец с различными категориями доходов."
      ],
      "metadata": {
        "id": "L6AejH8pH4Lv"
      },
      "id": "L6AejH8pH4Lv"
    },
    {
      "cell_type": "code",
      "execution_count": 18,
      "metadata": {
        "id": "99e18842"
      },
      "outputs": [],
      "source": [
        "def categorize_income(row):\n",
        "    income=row['total_income']\n",
        "    if income<=30000:\n",
        "        return 'E'\n",
        "    if 30001<=income<=50000:\n",
        "        return 'D'\n",
        "    if 50001<=income<=200000:\n",
        "        return 'C'\n",
        "    if 200001<=income<=1000000:\n",
        "        return 'B'\n",
        "    return 'A'\n",
        "\n",
        "# создаем функцию categorize_income()"
      ],
      "id": "99e18842"
    },
    {
      "cell_type": "code",
      "execution_count": 19,
      "metadata": {
        "id": "4debaf8d"
      },
      "outputs": [],
      "source": [
        "data['total_income_category']=data.apply(categorize_income, axis=1) # применяем функцию методом apply()"
      ],
      "id": "4debaf8d"
    },
    {
      "cell_type": "markdown",
      "source": [
        "Также создадим несколько категорий целей кредита. Отнесем каждую заявку к той или иной категории."
      ],
      "metadata": {
        "id": "FuAFoLE9IZOq"
      },
      "id": "FuAFoLE9IZOq"
    },
    {
      "cell_type": "code",
      "execution_count": 20,
      "metadata": {
        "id": "a89783b2",
        "outputId": "bd76ab58-316b-4f89-eea9-76899c2bd4f0",
        "colab": {
          "base_uri": "https://localhost:8080/"
        }
      },
      "outputs": [
        {
          "output_type": "execute_result",
          "data": {
            "text/plain": [
              "array(['покупка жилья', 'приобретение автомобиля',\n",
              "       'дополнительное образование', 'сыграть свадьбу',\n",
              "       'операции с жильем', 'образование', 'на проведение свадьбы',\n",
              "       'покупка жилья для семьи', 'покупка недвижимости',\n",
              "       'покупка коммерческой недвижимости', 'покупка жилой недвижимости',\n",
              "       'строительство собственной недвижимости', 'недвижимость',\n",
              "       'строительство недвижимости', 'на покупку подержанного автомобиля',\n",
              "       'на покупку своего автомобиля',\n",
              "       'операции с коммерческой недвижимостью',\n",
              "       'строительство жилой недвижимости', 'жилье',\n",
              "       'операции со своей недвижимостью', 'автомобили',\n",
              "       'заняться образованием', 'сделка с подержанным автомобилем',\n",
              "       'получение образования', 'автомобиль', 'свадьба',\n",
              "       'получение дополнительного образования', 'покупка своего жилья',\n",
              "       'операции с недвижимостью', 'получение высшего образования',\n",
              "       'свой автомобиль', 'сделка с автомобилем',\n",
              "       'профильное образование', 'высшее образование',\n",
              "       'покупка жилья для сдачи', 'на покупку автомобиля', 'ремонт жилью',\n",
              "       'заняться высшим образованием'], dtype=object)"
            ]
          },
          "metadata": {},
          "execution_count": 20
        }
      ],
      "source": [
        "data['purpose'].unique()"
      ],
      "id": "a89783b2"
    },
    {
      "cell_type": "code",
      "execution_count": 21,
      "metadata": {
        "id": "cd30cb2a"
      },
      "outputs": [],
      "source": [
        "def categorize_purpose(row):\n",
        "    purpose=row['purpose']\n",
        "    if purpose== 'приобретение автомобиля'or purpose=='на покупку подержанного автомобиля'or purpose=='на покупку своего автомобиля'or purpose=='автомобили'or purpose=='сделка с подержанным автомобилем'or purpose=='автомобиль'or purpose=='свой автомобиль'or purpose=='сделка с автомобилем'or purpose=='на покупку автомобиля':\n",
        "        return 'операции с автомобилем'\n",
        "    if purpose=='покупка жилья'or  purpose=='операции с жильем'or purpose=='покупка жилья для семьи'or purpose=='покупка недвижимости'or purpose=='покупка коммерческой недвижимости' or purpose=='покупка жилой недвижимости'or purpose=='строительство собственной недвижимости'or purpose=='недвижимость'or purpose=='строительство недвижимости'or  purpose=='строительство жилой недвижимости'or purpose=='жилье'or purpose=='операции со своей недвижимостью'or  purpose=='покупка своего жилья'or purpose=='операции с недвижимостью'or\\\n",
        "    purpose=='покупка жилья для сдачи'or  purpose=='ремонт жилью'or purpose=='операции с коммерческой недвижимостью':\n",
        "        return 'операции с недвижимостью'\n",
        "    if purpose== 'сыграть свадьбу' or purpose=='на проведение свадьбы' or purpose=='свадьба':\n",
        "        return 'проведение свадьбы'\n",
        "    if purpose== 'дополнительное образование'or  purpose=='образование' or purpose=='получение образования'or purpose=='получение дополнительного образования'or purpose=='получение высшего образования'or purpose=='профильное образование'or purpose=='высшее образование'or purpose=='заняться высшим образованием'or purpose=='заняться образованием':\n",
        "        return 'получение образования'\n",
        "    # создадим функцию categorize_purpose()"
      ],
      "id": "cd30cb2a"
    },
    {
      "cell_type": "code",
      "execution_count": 22,
      "metadata": {
        "id": "c8956a01"
      },
      "outputs": [],
      "source": [
        "data['purpose_category']=data.apply(categorize_purpose, axis=1)# применим функцию методом apply()"
      ],
      "id": "c8956a01"
    },
    {
      "cell_type": "markdown",
      "id": "09b242bf",
      "metadata": {
        "deletable": false,
        "editable": false,
        "id": "09b242bf"
      },
      "source": [
        "## Исследование зависимости семейного положения и количества детей на возврат кредита в срок\n",
        "\n",
        "\n"
      ]
    },
    {
      "cell_type": "markdown",
      "source": [
        "Определим есть ли зависимость между количеством детей и возвратом кредита в срок."
      ],
      "metadata": {
        "id": "81JHrriFMkSV"
      },
      "id": "81JHrriFMkSV"
    },
    {
      "cell_type": "code",
      "execution_count": 23,
      "id": "3415a8f7",
      "metadata": {
        "colab": {
          "base_uri": "https://localhost:8080/"
        },
        "id": "3415a8f7",
        "outputId": "11408405-8b6f-4fae-fe7a-e2e7e5ae8f90"
      },
      "outputs": [
        {
          "output_type": "stream",
          "name": "stdout",
          "text": [
            "          children  debt  percent\n",
            "children                         \n",
            "0            14107  1063      7.5\n",
            "1             4809   444      9.2\n",
            "2             2052   194      9.5\n",
            "3              330    27      8.2\n",
            "4               41     4      9.8\n",
            "5                9     0      0.0\n"
          ]
        }
      ],
      "source": [
        "#создадим сводную таблицу,где первый столбец-количество людей с определенным количеством детей, второй-количество людей, ранее \n",
        "#ранее имеющих задолженность по кредиту, а в третьем рассчитаем процент в каждой группе\n",
        "data_grouped = data.groupby(['children']).agg({'children':'count','debt':'sum'})\n",
        "data_grouped['percent'] = round(data_grouped['debt'] / data_grouped['children']*100,1)\n",
        "print(data_grouped)"
      ]
    },
    {
      "cell_type": "code",
      "execution_count": 24,
      "id": "65a1df97",
      "metadata": {
        "colab": {
          "base_uri": "https://localhost:8080/",
          "height": 295
        },
        "id": "65a1df97",
        "outputId": "73b35482-cfe2-443e-99ba-33de93e6e54b"
      },
      "outputs": [
        {
          "output_type": "display_data",
          "data": {
            "text/plain": [
              "<Figure size 432x288 with 1 Axes>"
            ],
            "image/png": "[encoded data removed]"
          },
          "metadata": {
            "needs_background": "light"
          }
        }
      ],
      "source": [
        "number_of_children = range(len(data['children'].unique()))\n",
        "percent = data_grouped['percent']\n",
        "plt.bar(number_of_children, percent)\n",
        "plt.title('Процент людей,имеющих задолженность по кредиту, среди людей с разным количеством детей')\n",
        "plt.xlabel('Количество детей')\n",
        "plt.ylabel('Процент')\n",
        "None"
      ]
    },
    {
      "cell_type": "markdown",
      "id": "3a6b99ec",
      "metadata": {
        "deletable": false,
        "id": "3a6b99ec"
      },
      "source": [
        "**Вывод:** \n",
        "Мы определили, что наименьший процент заемщиков, у которых ранее была задолженность по кредиту, среди людей с 5 детьми.Но количество респондентов, у которых 5 детей, составляет всего 9 человек, что недостаточно для нашего исследования.\n",
        "Не беря в учет данную категорию людей, можно сделать вывод, что самый большой процент  людей (9.8%),ранее имевших задолженность по кредиту, среди группы людей с 4 детьми, самый маленький-среди тех, у которых нет детей(7.5%). Таким образом, существует небольшая взаимосвязь между количеством детей и возвратом кредита в срок."
      ]
    },
    {
      "cell_type": "markdown",
      "source": [
        "Определим есть ли зависимость между семейным положением и возвратом кредита в срок."
      ],
      "metadata": {
        "id": "N7fcW-tAM0MS"
      },
      "id": "N7fcW-tAM0MS"
    },
    {
      "cell_type": "code",
      "execution_count": 25,
      "id": "c2a2c5bc",
      "metadata": {
        "colab": {
          "base_uri": "https://localhost:8080/"
        },
        "id": "c2a2c5bc",
        "outputId": "cb6ce67f-f045-4b46-c3bf-3d4868c199e9"
      },
      "outputs": [
        {
          "output_type": "stream",
          "name": "stdout",
          "text": [
            "                       family_status  debt  percent\n",
            "family_status                                      \n",
            "Не женат / не замужем           2796   273      9.8\n",
            "в разводе                       1189    84      7.1\n",
            "вдовец / вдова                   951    63      6.6\n",
            "гражданский брак                4146   385      9.3\n",
            "женат / замужем                12266   927      7.6\n"
          ]
        }
      ],
      "source": [
        "#создадим сводную таблицу,где первый столбец-количество людей с определенным семейным положением, второй-количество людей, ранее \n",
        "#ранее имеющих задолженность по кредиту, а в третьем рассчитаем процент в каждой группе\n",
        "\n",
        "data_grouped1 = data.groupby(['family_status']).agg({'family_status':'count','debt':'sum'})\n",
        "data_grouped1['percent'] = round(data_grouped1['debt'] / data_grouped1['family_status']*100,1)\n",
        "print(data_grouped1)"
      ]
    },
    {
      "cell_type": "code",
      "execution_count": 26,
      "id": "7f4b6660",
      "metadata": {
        "colab": {
          "base_uri": "https://localhost:8080/",
          "height": 404
        },
        "id": "7f4b6660",
        "outputId": "1f242af8-9a78-40cb-92d4-b40bdda4d4aa"
      },
      "outputs": [
        {
          "output_type": "display_data",
          "data": {
            "text/plain": [
              "<Figure size 864x432 with 1 Axes>"
            ],
            "image/png": "[encoded data removed]"
          },
          "metadata": {
            "needs_background": "light"
          }
        }
      ],
      "source": [
        "#создадим гистограмму\n",
        "fig, ax = plt.subplots(figsize=(12, 6))\n",
        "family_status=data['family_status'].unique()\n",
        "percent1=data_grouped1['percent']\n",
        "plt.bar(family_status, percent1)\n",
        "plt.title('Процент людей,имеющих задолженность по кредиту, среди людей с разным семейным положением')\n",
        "plt.xlabel('Семейное положение')\n",
        "plt.ylabel('Процент')\n",
        "None"
      ]
    },
    {
      "cell_type": "markdown",
      "id": "1cef7837",
      "metadata": {
        "deletable": false,
        "id": "1cef7837"
      },
      "source": [
        "**Вывод:** между семейным положением и благонадежностью заемщика также прослеживается связь: самый большой процент людей, имеющих ранее задолженность по кредиту, среди тех, кто не женат и не замужем (9.8%). Самый наименьший среди тех, кто в разводе или овдовел:7.1% и 6.6% соответственно."
      ]
    },
    {
      "cell_type": "markdown",
      "source": [
        "Определим есть ли зависимость между уровнем дохода и возвратом кредита в срок."
      ],
      "metadata": {
        "id": "idaHE48gNHwd"
      },
      "id": "idaHE48gNHwd"
    },
    {
      "cell_type": "code",
      "execution_count": 27,
      "id": "ba995367",
      "metadata": {
        "colab": {
          "base_uri": "https://localhost:8080/"
        },
        "id": "ba995367",
        "outputId": "cd16988a-749d-4bbc-a191-a138618f6e22"
      },
      "outputs": [
        {
          "output_type": "stream",
          "name": "stdout",
          "text": [
            "                       total_income_category  debt  percent\n",
            "total_income_category                                      \n",
            "A                                         25     2      8.0\n",
            "B                                       5014   354      7.1\n",
            "C                                      15938  1353      8.5\n",
            "D                                        349    21      6.0\n",
            "E                                         22     2      9.1\n"
          ]
        }
      ],
      "source": [
        "data_grouped2 = data.groupby(['total_income_category']).agg({'total_income_category':'count','debt':'sum'})\n",
        "data_grouped2['percent'] = round(data_grouped2['debt'] / data_grouped2['total_income_category']*100,1)\n",
        "print(data_grouped2)"
      ]
    },
    {
      "cell_type": "code",
      "execution_count": 28,
      "id": "62d82443",
      "metadata": {
        "colab": {
          "base_uri": "https://localhost:8080/",
          "height": 295
        },
        "id": "62d82443",
        "outputId": "bd53333b-ea54-40f7-cecc-590141ec27ee"
      },
      "outputs": [
        {
          "output_type": "display_data",
          "data": {
            "text/plain": [
              "<Figure size 432x288 with 1 Axes>"
            ],
            "image/png": "[encoded data removed]"
          },
          "metadata": {
            "needs_background": "light"
          }
        }
      ],
      "source": [
        "#создадим гистограмму\n",
        "total_income_category=['A','B','C','D','E']\n",
        "percent2=data_grouped2['percent']\n",
        "plt.bar(total_income_category, percent2)\n",
        "plt.title('Процент людей,имеющих задолженность по кредиту, среди людей с разным уровнем дохода')\n",
        "plt.xlabel('Уровень дохода')\n",
        "plt.ylabel('Процент')\n",
        "None"
      ]
    },
    {
      "cell_type": "markdown",
      "id": "e8593def",
      "metadata": {
        "deletable": false,
        "id": "e8593def"
      },
      "source": [
        "**Вывод:** самый большой процент заемщиков, имевших ранее задолженность, среди тех,чей доход состаляет до 30000. А самые благонадежные-имеют доход от 30000 до 50000. Таким образом, связь между уровнем дохода и риском задолженности есть, но она не линейная."
      ]
    },
    {
      "cell_type": "markdown",
      "source": [
        "Узнаем, как разные цели кредита влияют на его возврат."
      ],
      "metadata": {
        "id": "o6z8jwdGNVNt"
      },
      "id": "o6z8jwdGNVNt"
    },
    {
      "cell_type": "code",
      "execution_count": 29,
      "id": "d79f841a",
      "metadata": {
        "colab": {
          "base_uri": "https://localhost:8080/"
        },
        "id": "d79f841a",
        "outputId": "6bd59ccc-828b-42e1-8a84-6ac4de40c03a"
      },
      "outputs": [
        {
          "output_type": "stream",
          "name": "stdout",
          "text": [
            "                          purpose_category  debt  percent\n",
            "purpose_category                                         \n",
            "операции с автомобилем                4281   400      9.3\n",
            "операции с недвижимостью             10754   780      7.3\n",
            "получение образования                 3989   369      9.3\n",
            "проведение свадьбы                    2324   183      7.9\n"
          ]
        }
      ],
      "source": [
        "data_grouped3 = data.groupby(['purpose_category']).agg({'purpose_category':'count','debt':'sum'})\n",
        "data_grouped3['percent'] = round(data_grouped3['debt'] / data_grouped3['purpose_category']*100,1)\n",
        "print(data_grouped3)"
      ]
    },
    {
      "cell_type": "code",
      "execution_count": 30,
      "id": "2b687290",
      "metadata": {
        "id": "2b687290",
        "colab": {
          "base_uri": "https://localhost:8080/",
          "height": 404
        },
        "outputId": "68ab88c7-9a29-42da-930c-1c14d6bba5f9"
      },
      "outputs": [
        {
          "output_type": "display_data",
          "data": {
            "text/plain": [
              "<Figure size 864x432 with 1 Axes>"
            ],
            "image/png": "[encoded data removed]"
          },
          "metadata": {
            "needs_background": "light"
          }
        }
      ],
      "source": [
        "#создадим гистограмму\n",
        "fig, ax = plt.subplots(figsize=(12, 6))\n",
        "purpose_category=['операции с автомобилем','операции с недвижимостью','получение образования','проведение свадьбы']\n",
        "percent3=data_grouped3['percent']\n",
        "plt.bar(purpose_category, percent3)\n",
        "plt.title('Процент людей,имеющих задолженность по кредиту,среди людей с разными целями кредита ')\n",
        "plt.xlabel('Цель кредита')\n",
        "plt.ylabel('Процент')\n",
        "None"
      ]
    },
    {
      "cell_type": "markdown",
      "id": "b4bb2ce6",
      "metadata": {
        "deletable": false,
        "id": "b4bb2ce6"
      },
      "source": [
        "**Вывод:** среди заемщиков, которые берут кредит для получения образования и покупки автомобиля, больше тех, кто имел ранее задолженности, чем среди тех, кто берет кредит для проведения свадьбы и операций с недвижимостью, примерно на 2%."
      ]
    },
    {
      "cell_type": "markdown",
      "id": "6db5255a",
      "metadata": {
        "deletable": false,
        "editable": false,
        "id": "6db5255a"
      },
      "source": [
        "## Общий вывод."
      ]
    },
    {
      "cell_type": "markdown",
      "id": "bad65432",
      "metadata": {
        "id": "bad65432"
      },
      "source": [
        "В процессе исследования мы нашли небольшую взаимосвязь между возвратом кредита в срок и характеристиками заемщиков: семейным положением, наличием детей, уровнем дохода и целями кредита. При этом разница между благонадежностью разных категорий людей была небольшой: в среднем примерно 2%. Для более точного прогнозирования риска невозврата кредита необходимо учитывать все 4 характеристики одновременно, а также и другие характеристики заемщика, такие как возраст, уровень образования и т.д."
      ]
    },
    {
      "cell_type": "code",
      "execution_count": 30,
      "id": "0009f4f3",
      "metadata": {
        "id": "0009f4f3"
      },
      "outputs": [],
      "source": []
    }
  ],
  "metadata": {
    "ExecuteTimeLog": [
      {
        "duration": 89,
        "start_time": "2022-07-14T18:29:43.784Z"
      },
      {
        "duration": 50,
        "start_time": "2022-07-14T18:29:51.483Z"
      },
      {
        "duration": 6,
        "start_time": "2022-07-14T18:30:03.660Z"
      },
      {
        "duration": 551,
        "start_time": "2022-07-14T18:30:14.402Z"
      },
      {
        "duration": 4,
        "start_time": "2022-07-14T18:30:26.249Z"
      },
      {
        "duration": 5,
        "start_time": "2022-07-14T18:30:46.309Z"
      },
      {
        "duration": 4,
        "start_time": "2022-07-14T18:31:09.816Z"
      },
      {
        "duration": 3,
        "start_time": "2022-07-14T18:31:13.670Z"
      },
      {
        "duration": 5,
        "start_time": "2022-07-14T18:31:57.438Z"
      },
      {
        "duration": 75,
        "start_time": "2022-07-14T18:32:46.974Z"
      },
      {
        "duration": 23,
        "start_time": "2022-07-14T18:32:48.382Z"
      },
      {
        "duration": 16,
        "start_time": "2022-07-14T18:32:49.590Z"
      },
      {
        "duration": 10,
        "start_time": "2022-07-14T18:32:51.825Z"
      },
      {
        "duration": 35,
        "start_time": "2022-07-14T18:32:53.238Z"
      },
      {
        "duration": 5,
        "start_time": "2022-07-14T18:32:55.068Z"
      },
      {
        "duration": 10,
        "start_time": "2022-07-14T18:32:56.470Z"
      },
      {
        "duration": 4,
        "start_time": "2022-07-14T18:32:58.743Z"
      },
      {
        "duration": 7,
        "start_time": "2022-07-14T18:33:20.901Z"
      },
      {
        "duration": 5,
        "start_time": "2022-07-14T18:33:22.221Z"
      },
      {
        "duration": 34,
        "start_time": "2022-07-14T18:33:24.440Z"
      },
      {
        "duration": 11,
        "start_time": "2022-07-14T18:33:26.051Z"
      },
      {
        "duration": 4,
        "start_time": "2022-07-14T18:33:29.182Z"
      },
      {
        "duration": 18,
        "start_time": "2022-07-14T18:33:31.144Z"
      },
      {
        "duration": 18,
        "start_time": "2022-07-14T18:33:31.954Z"
      },
      {
        "duration": 10,
        "start_time": "2022-07-14T18:33:33.460Z"
      },
      {
        "duration": 3,
        "start_time": "2022-07-14T18:33:35.672Z"
      },
      {
        "duration": 10,
        "start_time": "2022-07-14T18:33:36.364Z"
      },
      {
        "duration": 6,
        "start_time": "2022-07-14T18:33:38.051Z"
      },
      {
        "duration": 4,
        "start_time": "2022-07-14T18:33:39.746Z"
      },
      {
        "duration": 10,
        "start_time": "2022-07-14T18:33:40.443Z"
      },
      {
        "duration": 6,
        "start_time": "2022-07-14T18:33:43.217Z"
      },
      {
        "duration": 6,
        "start_time": "2022-07-14T18:34:07.759Z"
      },
      {
        "duration": 90,
        "start_time": "2022-07-14T18:44:53.796Z"
      },
      {
        "duration": 20,
        "start_time": "2022-07-14T18:45:09.471Z"
      },
      {
        "duration": 20,
        "start_time": "2022-07-14T18:45:44.085Z"
      },
      {
        "duration": 18,
        "start_time": "2022-07-14T18:47:47.122Z"
      },
      {
        "duration": 18,
        "start_time": "2022-07-14T18:48:16.391Z"
      },
      {
        "duration": 16,
        "start_time": "2022-07-14T18:48:35.352Z"
      },
      {
        "duration": 6,
        "start_time": "2022-07-14T18:49:08.657Z"
      },
      {
        "duration": 16,
        "start_time": "2022-07-14T18:51:06.069Z"
      },
      {
        "duration": 17,
        "start_time": "2022-07-14T18:52:12.243Z"
      },
      {
        "duration": 6,
        "start_time": "2022-07-14T18:54:25.922Z"
      },
      {
        "duration": 33,
        "start_time": "2022-07-14T18:55:37.459Z"
      },
      {
        "duration": 25,
        "start_time": "2022-07-14T18:56:15.419Z"
      },
      {
        "duration": 607,
        "start_time": "2022-07-14T18:56:36.220Z"
      },
      {
        "duration": 31,
        "start_time": "2022-07-14T18:57:32.499Z"
      },
      {
        "duration": 17,
        "start_time": "2022-07-14T18:59:19.868Z"
      },
      {
        "duration": 26,
        "start_time": "2022-07-14T19:01:49.462Z"
      },
      {
        "duration": 19,
        "start_time": "2022-07-14T19:03:00.087Z"
      },
      {
        "duration": 23,
        "start_time": "2022-07-14T19:03:41.094Z"
      },
      {
        "duration": 28,
        "start_time": "2022-07-14T19:04:00.630Z"
      },
      {
        "duration": 23,
        "start_time": "2022-07-14T19:05:35.565Z"
      },
      {
        "duration": 21,
        "start_time": "2022-07-14T19:05:45.590Z"
      },
      {
        "duration": 22,
        "start_time": "2022-07-14T19:06:09.618Z"
      },
      {
        "duration": 32,
        "start_time": "2022-07-14T19:06:16.657Z"
      },
      {
        "duration": 15,
        "start_time": "2022-07-14T19:34:36.778Z"
      },
      {
        "duration": 380,
        "start_time": "2022-07-14T19:35:07.924Z"
      },
      {
        "duration": 14,
        "start_time": "2022-07-14T19:35:23.767Z"
      },
      {
        "duration": 18,
        "start_time": "2022-07-14T19:35:45.089Z"
      },
      {
        "duration": 8,
        "start_time": "2022-07-14T19:37:21.016Z"
      },
      {
        "duration": 575,
        "start_time": "2022-07-14T19:38:45.621Z"
      },
      {
        "duration": 131,
        "start_time": "2022-07-14T19:40:27.437Z"
      },
      {
        "duration": 225,
        "start_time": "2022-07-14T19:41:46.217Z"
      },
      {
        "duration": 123,
        "start_time": "2022-07-14T19:42:13.416Z"
      },
      {
        "duration": 183,
        "start_time": "2022-07-14T19:42:51.670Z"
      },
      {
        "duration": 14,
        "start_time": "2022-07-14T19:49:12.884Z"
      },
      {
        "duration": 1254,
        "start_time": "2022-07-14T19:50:25.854Z"
      },
      {
        "duration": 11,
        "start_time": "2022-07-14T19:51:03.156Z"
      },
      {
        "duration": 11,
        "start_time": "2022-07-14T19:51:17.414Z"
      },
      {
        "duration": 12,
        "start_time": "2022-07-14T19:52:15.425Z"
      },
      {
        "duration": 10,
        "start_time": "2022-07-14T19:53:11.506Z"
      },
      {
        "duration": 10,
        "start_time": "2022-07-14T19:54:43.601Z"
      },
      {
        "duration": 10,
        "start_time": "2022-07-14T19:55:16.485Z"
      },
      {
        "duration": 10,
        "start_time": "2022-07-14T19:55:35.543Z"
      },
      {
        "duration": 11,
        "start_time": "2022-07-14T19:55:53.474Z"
      },
      {
        "duration": 10,
        "start_time": "2022-07-14T19:56:04.018Z"
      },
      {
        "duration": 130,
        "start_time": "2022-07-14T19:56:59.676Z"
      },
      {
        "duration": 123,
        "start_time": "2022-07-14T19:58:02.008Z"
      },
      {
        "duration": 12,
        "start_time": "2022-07-14T20:01:37.480Z"
      },
      {
        "duration": 12,
        "start_time": "2022-07-14T20:03:07.982Z"
      },
      {
        "duration": 1315,
        "start_time": "2022-07-14T20:04:26.666Z"
      },
      {
        "duration": 14,
        "start_time": "2022-07-14T20:04:41.275Z"
      },
      {
        "duration": 4,
        "start_time": "2022-07-14T20:05:59.850Z"
      },
      {
        "duration": 5,
        "start_time": "2022-07-14T20:06:50.206Z"
      },
      {
        "duration": 198,
        "start_time": "2022-07-14T20:09:11.806Z"
      },
      {
        "duration": 105,
        "start_time": "2022-07-14T20:09:26.147Z"
      },
      {
        "duration": 187,
        "start_time": "2022-07-14T20:09:35.128Z"
      },
      {
        "duration": 4,
        "start_time": "2022-07-14T20:09:52.526Z"
      },
      {
        "duration": 375,
        "start_time": "2022-07-14T20:10:02.152Z"
      },
      {
        "duration": 3,
        "start_time": "2022-07-14T20:10:55.075Z"
      },
      {
        "duration": 212,
        "start_time": "2022-07-14T20:10:58.480Z"
      },
      {
        "duration": 199,
        "start_time": "2022-07-14T20:11:13.744Z"
      },
      {
        "duration": 11,
        "start_time": "2022-07-14T20:11:27.386Z"
      },
      {
        "duration": 131,
        "start_time": "2022-07-14T20:11:30.915Z"
      },
      {
        "duration": 43,
        "start_time": "2022-07-15T08:19:23.694Z"
      },
      {
        "duration": 722,
        "start_time": "2022-07-15T08:19:37.125Z"
      },
      {
        "duration": 20,
        "start_time": "2022-07-15T08:19:39.013Z"
      },
      {
        "duration": 15,
        "start_time": "2022-07-15T08:19:40.485Z"
      },
      {
        "duration": 11,
        "start_time": "2022-07-15T08:19:43.524Z"
      },
      {
        "duration": 31,
        "start_time": "2022-07-15T08:19:44.586Z"
      },
      {
        "duration": 4,
        "start_time": "2022-07-15T08:19:46.824Z"
      },
      {
        "duration": 8,
        "start_time": "2022-07-15T08:19:48.403Z"
      },
      {
        "duration": 5,
        "start_time": "2022-07-15T08:19:50.393Z"
      },
      {
        "duration": 10,
        "start_time": "2022-07-15T08:19:51.777Z"
      },
      {
        "duration": 5,
        "start_time": "2022-07-15T08:19:53.285Z"
      },
      {
        "duration": 45,
        "start_time": "2022-07-15T08:19:55.453Z"
      },
      {
        "duration": 13,
        "start_time": "2022-07-15T08:19:56.654Z"
      },
      {
        "duration": 4,
        "start_time": "2022-07-15T08:19:58.938Z"
      },
      {
        "duration": 18,
        "start_time": "2022-07-15T08:20:05.188Z"
      },
      {
        "duration": 16,
        "start_time": "2022-07-15T08:20:05.208Z"
      },
      {
        "duration": 12,
        "start_time": "2022-07-15T08:20:05.225Z"
      },
      {
        "duration": 3,
        "start_time": "2022-07-15T08:20:07.154Z"
      },
      {
        "duration": 38,
        "start_time": "2022-07-15T08:20:07.159Z"
      },
      {
        "duration": 5,
        "start_time": "2022-07-15T08:20:07.203Z"
      },
      {
        "duration": 3,
        "start_time": "2022-07-15T08:20:08.043Z"
      },
      {
        "duration": 12,
        "start_time": "2022-07-15T08:20:09.784Z"
      },
      {
        "duration": 11,
        "start_time": "2022-07-15T08:20:20.747Z"
      },
      {
        "duration": 557,
        "start_time": "2022-07-15T08:20:22.689Z"
      },
      {
        "duration": 5,
        "start_time": "2022-07-15T08:20:25.127Z"
      },
      {
        "duration": 118,
        "start_time": "2022-07-15T08:28:04.178Z"
      },
      {
        "duration": 120,
        "start_time": "2022-07-15T08:31:21.528Z"
      },
      {
        "duration": 1109,
        "start_time": "2022-07-15T08:34:13.036Z"
      },
      {
        "duration": 1023,
        "start_time": "2022-07-15T08:34:20.019Z"
      },
      {
        "duration": 14,
        "start_time": "2022-07-15T08:34:34.736Z"
      },
      {
        "duration": 187,
        "start_time": "2022-07-15T08:35:42.436Z"
      },
      {
        "duration": 174,
        "start_time": "2022-07-15T08:36:01.847Z"
      },
      {
        "duration": 129,
        "start_time": "2022-07-15T08:36:17.679Z"
      },
      {
        "duration": 1996,
        "start_time": "2022-07-15T08:36:37.160Z"
      },
      {
        "duration": 144,
        "start_time": "2022-07-15T08:37:00.040Z"
      },
      {
        "duration": 592,
        "start_time": "2022-07-15T19:10:31.499Z"
      },
      {
        "duration": 325,
        "start_time": "2022-07-15T19:10:51.290Z"
      },
      {
        "duration": 22,
        "start_time": "2022-07-15T19:11:00.947Z"
      },
      {
        "duration": 12,
        "start_time": "2022-07-15T19:11:19.485Z"
      },
      {
        "duration": 128,
        "start_time": "2022-07-15T19:11:27.538Z"
      },
      {
        "duration": 133,
        "start_time": "2022-07-15T19:13:01.781Z"
      },
      {
        "duration": 69,
        "start_time": "2022-07-15T19:13:14.031Z"
      },
      {
        "duration": 17,
        "start_time": "2022-07-15T19:13:15.561Z"
      },
      {
        "duration": 16,
        "start_time": "2022-07-15T19:13:17.048Z"
      },
      {
        "duration": 13,
        "start_time": "2022-07-15T19:13:19.321Z"
      },
      {
        "duration": 29,
        "start_time": "2022-07-15T19:13:19.975Z"
      },
      {
        "duration": 4,
        "start_time": "2022-07-15T19:13:21.121Z"
      },
      {
        "duration": 8,
        "start_time": "2022-07-15T19:13:22.221Z"
      },
      {
        "duration": 7,
        "start_time": "2022-07-15T19:13:24.241Z"
      },
      {
        "duration": 6,
        "start_time": "2022-07-15T19:13:25.232Z"
      },
      {
        "duration": 5,
        "start_time": "2022-07-15T19:13:26.061Z"
      },
      {
        "duration": 38,
        "start_time": "2022-07-15T19:13:27.205Z"
      },
      {
        "duration": 8,
        "start_time": "2022-07-15T19:13:28.186Z"
      },
      {
        "duration": 4,
        "start_time": "2022-07-15T19:13:30.304Z"
      },
      {
        "duration": 17,
        "start_time": "2022-07-15T19:13:32.321Z"
      },
      {
        "duration": 24,
        "start_time": "2022-07-15T19:13:33.017Z"
      },
      {
        "duration": 16,
        "start_time": "2022-07-15T19:13:34.310Z"
      },
      {
        "duration": 4,
        "start_time": "2022-07-15T19:13:35.021Z"
      },
      {
        "duration": 16,
        "start_time": "2022-07-15T19:13:35.224Z"
      },
      {
        "duration": 9,
        "start_time": "2022-07-15T19:13:35.702Z"
      },
      {
        "duration": 4,
        "start_time": "2022-07-15T19:13:36.121Z"
      },
      {
        "duration": 12,
        "start_time": "2022-07-15T19:13:36.723Z"
      },
      {
        "duration": 13,
        "start_time": "2022-07-15T19:13:37.422Z"
      },
      {
        "duration": 123,
        "start_time": "2022-07-15T19:13:37.681Z"
      },
      {
        "duration": 136,
        "start_time": "2022-07-15T19:13:49.333Z"
      },
      {
        "duration": 163,
        "start_time": "2022-07-15T19:17:37.431Z"
      },
      {
        "duration": 205,
        "start_time": "2022-07-15T19:17:55.701Z"
      },
      {
        "duration": 10,
        "start_time": "2022-07-15T19:19:48.701Z"
      },
      {
        "duration": 18,
        "start_time": "2022-07-15T19:20:21.706Z"
      },
      {
        "duration": 15,
        "start_time": "2022-07-15T19:20:33.494Z"
      },
      {
        "duration": 121,
        "start_time": "2022-07-15T19:20:36.959Z"
      },
      {
        "duration": 192,
        "start_time": "2022-07-15T19:21:06.078Z"
      },
      {
        "duration": 187,
        "start_time": "2022-07-15T19:21:37.799Z"
      },
      {
        "duration": 4,
        "start_time": "2022-07-15T19:22:11.818Z"
      },
      {
        "duration": 6,
        "start_time": "2022-07-15T19:22:44.237Z"
      },
      {
        "duration": 150,
        "start_time": "2022-07-15T19:23:02.478Z"
      },
      {
        "duration": 186,
        "start_time": "2022-07-15T19:23:35.201Z"
      },
      {
        "duration": 11,
        "start_time": "2022-07-15T19:24:52.696Z"
      },
      {
        "duration": 114,
        "start_time": "2022-07-15T19:25:15.403Z"
      },
      {
        "duration": 152,
        "start_time": "2022-07-15T19:25:27.715Z"
      },
      {
        "duration": 191,
        "start_time": "2022-07-15T19:26:55.274Z"
      },
      {
        "duration": 5,
        "start_time": "2022-07-15T19:28:26.949Z"
      },
      {
        "duration": 10,
        "start_time": "2022-07-15T19:29:02.820Z"
      },
      {
        "duration": 5,
        "start_time": "2022-07-15T19:29:18.720Z"
      },
      {
        "duration": 11,
        "start_time": "2022-07-15T19:29:19.895Z"
      },
      {
        "duration": 8,
        "start_time": "2022-07-15T19:29:33.232Z"
      },
      {
        "duration": 15,
        "start_time": "2022-07-15T19:30:10.036Z"
      },
      {
        "duration": 6,
        "start_time": "2022-07-15T19:30:12.815Z"
      },
      {
        "duration": 9,
        "start_time": "2022-07-15T19:30:13.958Z"
      },
      {
        "duration": 7,
        "start_time": "2022-07-15T19:31:17.453Z"
      },
      {
        "duration": 6,
        "start_time": "2022-07-15T19:31:37.641Z"
      },
      {
        "duration": 3,
        "start_time": "2022-07-15T19:32:00.864Z"
      },
      {
        "duration": 2,
        "start_time": "2022-07-15T19:32:06.659Z"
      },
      {
        "duration": 140,
        "start_time": "2022-07-15T19:32:07.909Z"
      },
      {
        "duration": 148,
        "start_time": "2022-07-15T19:32:29.135Z"
      },
      {
        "duration": 3,
        "start_time": "2022-07-15T19:38:14.594Z"
      },
      {
        "duration": 138,
        "start_time": "2022-07-15T19:38:18.434Z"
      },
      {
        "duration": 136,
        "start_time": "2022-07-15T19:38:33.074Z"
      },
      {
        "duration": 12,
        "start_time": "2022-07-15T19:39:18.022Z"
      },
      {
        "duration": 233,
        "start_time": "2022-07-15T19:39:20.734Z"
      },
      {
        "duration": 125,
        "start_time": "2022-07-15T19:41:19.314Z"
      },
      {
        "duration": 11,
        "start_time": "2022-07-15T19:42:59.920Z"
      },
      {
        "duration": 111,
        "start_time": "2022-07-15T19:43:35.682Z"
      },
      {
        "duration": 13,
        "start_time": "2022-07-15T19:47:34.124Z"
      },
      {
        "duration": 26,
        "start_time": "2022-07-15T19:48:35.199Z"
      },
      {
        "duration": 132,
        "start_time": "2022-07-15T19:50:59.319Z"
      },
      {
        "duration": 12,
        "start_time": "2022-07-15T19:51:14.132Z"
      },
      {
        "duration": 151,
        "start_time": "2022-07-15T19:51:15.437Z"
      },
      {
        "duration": 4,
        "start_time": "2022-07-15T19:51:53.052Z"
      },
      {
        "duration": 130,
        "start_time": "2022-07-15T19:52:16.773Z"
      },
      {
        "duration": 115,
        "start_time": "2022-07-15T19:54:30.252Z"
      },
      {
        "duration": 142,
        "start_time": "2022-07-15T19:55:05.124Z"
      },
      {
        "duration": 122,
        "start_time": "2022-07-15T19:55:24.712Z"
      },
      {
        "duration": 112,
        "start_time": "2022-07-15T19:55:39.319Z"
      },
      {
        "duration": 125,
        "start_time": "2022-07-15T19:58:38.318Z"
      },
      {
        "duration": 105,
        "start_time": "2022-07-15T19:58:59.272Z"
      },
      {
        "duration": 151,
        "start_time": "2022-07-15T19:59:11.384Z"
      },
      {
        "duration": 179,
        "start_time": "2022-07-15T20:23:03.927Z"
      }
    ],
    "colab": {
      "provenance": []
    },
    "kernelspec": {
      "display_name": "Python 3 (ipykernel)",
      "language": "python",
      "name": "python3"
    },
    "language_info": {
      "codemirror_mode": {
        "name": "ipython",
        "version": 3
      },
      "file_extension": ".py",
      "mimetype": "text/x-python",
      "name": "python",
      "nbconvert_exporter": "python",
      "pygments_lexer": "ipython3",
      "version": "3.9.5"
    },
    "toc": {
      "base_numbering": 1,
      "nav_menu": {},
      "number_sections": true,
      "sideBar": true,
      "skip_h1_title": true,
      "title_cell": "Table of Contents",
      "title_sidebar": "Contents",
      "toc_cell": false,
      "toc_position": {},
      "toc_section_display": true,
      "toc_window_display": false
    }
  },
  "nbformat": 4,
  "nbformat_minor": 5
}