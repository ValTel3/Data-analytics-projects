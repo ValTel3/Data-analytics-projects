{
  "cells": [
    {
      "cell_type": "markdown",
      "metadata": {
        "id": "5BO7Xb3OiNlR"
      },
      "source": [
        "# Исследование данных о продаже компьютерных игр.\n",
        "\n",
        "Данное исследование посвящено изучению закономерностей, определяющих успешность продаж той или иной игры. Эта информация будет полезна для разработчиков компьютерных игр, а также для маркетинговых целей.\n",
        "\n",
        "В наличии исторические данные о продажах игр в различных регионах, оценках пользователей и экспертов, а также жанрах и платформах. Данные представлены более чем за 30 лет: c 1980 по 2016 г.г.\n",
        "\n",
        "\n"
      ]
    },
    {
      "cell_type": "markdown",
      "metadata": {
        "id": "vyGF1vaEiNlI"
      },
      "source": [
        "***Оглавление***:\n",
        "\n",
        "1 [Изучение общей информации](#paragraph1)\n",
        "\n",
        "2 [Подготовка данных](#paragraph2)\n",
        "\n",
        "3 [Исследовательский анализ данных](#paragraph3)\n",
        "\n",
        "4 [Составляем портрет пользователя каждого региона](#paragraph4)\n",
        "\n",
        "5 [Проверка гипотезы](#paragraph5)\n",
        "\n",
        "6 [Общие выводы](#paragraph6)"
      ]
    },
    {
      "cell_type": "markdown",
      "metadata": {
        "id": "8x65XOgDiNlT"
      },
      "source": [
        "## Изучение общей информации\n",
        "<a name=\"paragraph1\"></a>"
      ]
    },
    {
      "cell_type": "code",
      "execution_count": null,
      "metadata": {
        "id": "4sx92ohxiNlU"
      },
      "outputs": [],
      "source": [
        "#загружаем необходимые библиотеки\n",
        "import pandas as pd\n",
        "from scipy import stats as st\n",
        "import matplotlib.pyplot as plt"
      ]
    },
    {
      "cell_type": "code",
      "execution_count": null,
      "metadata": {
        "id": "Sar6LYw_iNlW"
      },
      "outputs": [],
      "source": [
        "#загружаем данные из файла в датафрейм\n",
        "df=pd.read_csv('/datasets/games.csv')"
      ]
    },
    {
      "cell_type": "code",
      "execution_count": null,
      "metadata": {
        "id": "mtWQNvxBiNlX",
        "outputId": "fefac290-d49f-491f-8577-9c905c5134b6"
      },
      "outputs": [
        {
          "data": {
            "text/html": [
              "<div>\n",
              "<style scoped>\n",
              "    .dataframe tbody tr th:only-of-type {\n",
              "        vertical-align: middle;\n",
              "    }\n",
              "\n",
              "    .dataframe tbody tr th {\n",
              "        vertical-align: top;\n",
              "    }\n",
              "\n",
              "    .dataframe thead th {\n",
              "        text-align: right;\n",
              "    }\n",
              "</style>\n",
              "<table border=\"1\" class=\"dataframe\">\n",
              "  <thead>\n",
              "    <tr style=\"text-align: right;\">\n",
              "      <th></th>\n",
              "      <th>Name</th>\n",
              "      <th>Platform</th>\n",
              "      <th>Year_of_Release</th>\n",
              "      <th>Genre</th>\n",
              "      <th>NA_sales</th>\n",
              "      <th>EU_sales</th>\n",
              "      <th>JP_sales</th>\n",
              "      <th>Other_sales</th>\n",
              "      <th>Critic_Score</th>\n",
              "      <th>User_Score</th>\n",
              "      <th>Rating</th>\n",
              "    </tr>\n",
              "  </thead>\n",
              "  <tbody>\n",
              "    <tr>\n",
              "      <th>0</th>\n",
              "      <td>Wii Sports</td>\n",
              "      <td>Wii</td>\n",
              "      <td>2006.0</td>\n",
              "      <td>Sports</td>\n",
              "      <td>41.36</td>\n",
              "      <td>28.96</td>\n",
              "      <td>3.77</td>\n",
              "      <td>8.45</td>\n",
              "      <td>76.0</td>\n",
              "      <td>8</td>\n",
              "      <td>E</td>\n",
              "    </tr>\n",
              "    <tr>\n",
              "      <th>1</th>\n",
              "      <td>Super Mario Bros.</td>\n",
              "      <td>NES</td>\n",
              "      <td>1985.0</td>\n",
              "      <td>Platform</td>\n",
              "      <td>29.08</td>\n",
              "      <td>3.58</td>\n",
              "      <td>6.81</td>\n",
              "      <td>0.77</td>\n",
              "      <td>NaN</td>\n",
              "      <td>NaN</td>\n",
              "      <td>NaN</td>\n",
              "    </tr>\n",
              "    <tr>\n",
              "      <th>2</th>\n",
              "      <td>Mario Kart Wii</td>\n",
              "      <td>Wii</td>\n",
              "      <td>2008.0</td>\n",
              "      <td>Racing</td>\n",
              "      <td>15.68</td>\n",
              "      <td>12.76</td>\n",
              "      <td>3.79</td>\n",
              "      <td>3.29</td>\n",
              "      <td>82.0</td>\n",
              "      <td>8.3</td>\n",
              "      <td>E</td>\n",
              "    </tr>\n",
              "    <tr>\n",
              "      <th>3</th>\n",
              "      <td>Wii Sports Resort</td>\n",
              "      <td>Wii</td>\n",
              "      <td>2009.0</td>\n",
              "      <td>Sports</td>\n",
              "      <td>15.61</td>\n",
              "      <td>10.93</td>\n",
              "      <td>3.28</td>\n",
              "      <td>2.95</td>\n",
              "      <td>80.0</td>\n",
              "      <td>8</td>\n",
              "      <td>E</td>\n",
              "    </tr>\n",
              "    <tr>\n",
              "      <th>4</th>\n",
              "      <td>Pokemon Red/Pokemon Blue</td>\n",
              "      <td>GB</td>\n",
              "      <td>1996.0</td>\n",
              "      <td>Role-Playing</td>\n",
              "      <td>11.27</td>\n",
              "      <td>8.89</td>\n",
              "      <td>10.22</td>\n",
              "      <td>1.00</td>\n",
              "      <td>NaN</td>\n",
              "      <td>NaN</td>\n",
              "      <td>NaN</td>\n",
              "    </tr>\n",
              "  </tbody>\n",
              "</table>\n",
              "</div>"
            ],
            "text/plain": [
              "                       Name Platform  Year_of_Release         Genre  NA_sales  \\\n",
              "0                Wii Sports      Wii           2006.0        Sports     41.36   \n",
              "1         Super Mario Bros.      NES           1985.0      Platform     29.08   \n",
              "2            Mario Kart Wii      Wii           2008.0        Racing     15.68   \n",
              "3         Wii Sports Resort      Wii           2009.0        Sports     15.61   \n",
              "4  Pokemon Red/Pokemon Blue       GB           1996.0  Role-Playing     11.27   \n",
              "\n",
              "   EU_sales  JP_sales  Other_sales  Critic_Score User_Score Rating  \n",
              "0     28.96      3.77         8.45          76.0          8      E  \n",
              "1      3.58      6.81         0.77           NaN        NaN    NaN  \n",
              "2     12.76      3.79         3.29          82.0        8.3      E  \n",
              "3     10.93      3.28         2.95          80.0          8      E  \n",
              "4      8.89     10.22         1.00           NaN        NaN    NaN  "
            ]
          },
          "execution_count": 3,
          "metadata": {},
          "output_type": "execute_result"
        }
      ],
      "source": [
        "#смотрим первые 5 строк датафрейма\n",
        "df.head()"
      ]
    },
    {
      "cell_type": "code",
      "execution_count": null,
      "metadata": {
        "scrolled": true,
        "id": "0DIxH3VJiNla",
        "outputId": "f6f5b6d6-699d-4be4-92b2-2a9d8cc2096c"
      },
      "outputs": [
        {
          "name": "stdout",
          "output_type": "stream",
          "text": [
            "<class 'pandas.core.frame.DataFrame'>\n",
            "RangeIndex: 16715 entries, 0 to 16714\n",
            "Data columns (total 11 columns):\n",
            " #   Column           Non-Null Count  Dtype  \n",
            "---  ------           --------------  -----  \n",
            " 0   Name             16713 non-null  object \n",
            " 1   Platform         16715 non-null  object \n",
            " 2   Year_of_Release  16446 non-null  float64\n",
            " 3   Genre            16713 non-null  object \n",
            " 4   NA_sales         16715 non-null  float64\n",
            " 5   EU_sales         16715 non-null  float64\n",
            " 6   JP_sales         16715 non-null  float64\n",
            " 7   Other_sales      16715 non-null  float64\n",
            " 8   Critic_Score     8137 non-null   float64\n",
            " 9   User_Score       10014 non-null  object \n",
            " 10  Rating           9949 non-null   object \n",
            "dtypes: float64(6), object(5)\n",
            "memory usage: 1.4+ MB\n"
          ]
        }
      ],
      "source": [
        "#смотрим общую информацию о датафрейме\n",
        "df.info()"
      ]
    },
    {
      "cell_type": "code",
      "execution_count": null,
      "metadata": {
        "id": "fxIetJN8iNlb",
        "outputId": "4547b59e-c9b7-4555-9318-bffa0b6f00f3"
      },
      "outputs": [
        {
          "data": {
            "text/html": [
              "<div>\n",
              "<style scoped>\n",
              "    .dataframe tbody tr th:only-of-type {\n",
              "        vertical-align: middle;\n",
              "    }\n",
              "\n",
              "    .dataframe tbody tr th {\n",
              "        vertical-align: top;\n",
              "    }\n",
              "\n",
              "    .dataframe thead th {\n",
              "        text-align: right;\n",
              "    }\n",
              "</style>\n",
              "<table border=\"1\" class=\"dataframe\">\n",
              "  <thead>\n",
              "    <tr style=\"text-align: right;\">\n",
              "      <th></th>\n",
              "      <th>Year_of_Release</th>\n",
              "      <th>NA_sales</th>\n",
              "      <th>EU_sales</th>\n",
              "      <th>JP_sales</th>\n",
              "      <th>Other_sales</th>\n",
              "      <th>Critic_Score</th>\n",
              "    </tr>\n",
              "  </thead>\n",
              "  <tbody>\n",
              "    <tr>\n",
              "      <th>count</th>\n",
              "      <td>16446.000000</td>\n",
              "      <td>16715.000000</td>\n",
              "      <td>16715.000000</td>\n",
              "      <td>16715.000000</td>\n",
              "      <td>16715.000000</td>\n",
              "      <td>8137.000000</td>\n",
              "    </tr>\n",
              "    <tr>\n",
              "      <th>mean</th>\n",
              "      <td>2006.484616</td>\n",
              "      <td>0.263377</td>\n",
              "      <td>0.145060</td>\n",
              "      <td>0.077617</td>\n",
              "      <td>0.047342</td>\n",
              "      <td>68.967679</td>\n",
              "    </tr>\n",
              "    <tr>\n",
              "      <th>std</th>\n",
              "      <td>5.877050</td>\n",
              "      <td>0.813604</td>\n",
              "      <td>0.503339</td>\n",
              "      <td>0.308853</td>\n",
              "      <td>0.186731</td>\n",
              "      <td>13.938165</td>\n",
              "    </tr>\n",
              "    <tr>\n",
              "      <th>min</th>\n",
              "      <td>1980.000000</td>\n",
              "      <td>0.000000</td>\n",
              "      <td>0.000000</td>\n",
              "      <td>0.000000</td>\n",
              "      <td>0.000000</td>\n",
              "      <td>13.000000</td>\n",
              "    </tr>\n",
              "    <tr>\n",
              "      <th>25%</th>\n",
              "      <td>2003.000000</td>\n",
              "      <td>0.000000</td>\n",
              "      <td>0.000000</td>\n",
              "      <td>0.000000</td>\n",
              "      <td>0.000000</td>\n",
              "      <td>60.000000</td>\n",
              "    </tr>\n",
              "    <tr>\n",
              "      <th>50%</th>\n",
              "      <td>2007.000000</td>\n",
              "      <td>0.080000</td>\n",
              "      <td>0.020000</td>\n",
              "      <td>0.000000</td>\n",
              "      <td>0.010000</td>\n",
              "      <td>71.000000</td>\n",
              "    </tr>\n",
              "    <tr>\n",
              "      <th>75%</th>\n",
              "      <td>2010.000000</td>\n",
              "      <td>0.240000</td>\n",
              "      <td>0.110000</td>\n",
              "      <td>0.040000</td>\n",
              "      <td>0.030000</td>\n",
              "      <td>79.000000</td>\n",
              "    </tr>\n",
              "    <tr>\n",
              "      <th>max</th>\n",
              "      <td>2016.000000</td>\n",
              "      <td>41.360000</td>\n",
              "      <td>28.960000</td>\n",
              "      <td>10.220000</td>\n",
              "      <td>10.570000</td>\n",
              "      <td>98.000000</td>\n",
              "    </tr>\n",
              "  </tbody>\n",
              "</table>\n",
              "</div>"
            ],
            "text/plain": [
              "       Year_of_Release      NA_sales      EU_sales      JP_sales  \\\n",
              "count     16446.000000  16715.000000  16715.000000  16715.000000   \n",
              "mean       2006.484616      0.263377      0.145060      0.077617   \n",
              "std           5.877050      0.813604      0.503339      0.308853   \n",
              "min        1980.000000      0.000000      0.000000      0.000000   \n",
              "25%        2003.000000      0.000000      0.000000      0.000000   \n",
              "50%        2007.000000      0.080000      0.020000      0.000000   \n",
              "75%        2010.000000      0.240000      0.110000      0.040000   \n",
              "max        2016.000000     41.360000     28.960000     10.220000   \n",
              "\n",
              "        Other_sales  Critic_Score  \n",
              "count  16715.000000   8137.000000  \n",
              "mean       0.047342     68.967679  \n",
              "std        0.186731     13.938165  \n",
              "min        0.000000     13.000000  \n",
              "25%        0.000000     60.000000  \n",
              "50%        0.010000     71.000000  \n",
              "75%        0.030000     79.000000  \n",
              "max       10.570000     98.000000  "
            ]
          },
          "execution_count": 5,
          "metadata": {},
          "output_type": "execute_result"
        }
      ],
      "source": [
        "#смотрим статистические данные\n",
        "df.describe()"
      ]
    },
    {
      "cell_type": "markdown",
      "metadata": {
        "id": "hvdEXdZKiNlc"
      },
      "source": [
        "Наш датафрейм содержит 11 колонок со следующей информацией о каждой игре:платформа, год выпуска, жанра, продажи в Северной Америке, Европе и Японии и других странах (в миллионах проданных копий), оценка критиков (от 0 до 100), оценка пользователей (от 0 до 10) и рейтинг, указывающий на подходящую возрастную категорию. \n",
        "\n",
        "Есть данные о **16715** играх, собранные с 1980 по 2016 г.г. Но в некоторых столбцах содежится достаточно много пустых значений, которые мы будем обрабатывать в дальнейшем в исследовании.\n"
      ]
    },
    {
      "cell_type": "markdown",
      "metadata": {
        "id": "xF-eLwgDiNld"
      },
      "source": [
        "## Подготовка данных\n",
        "<a name=\"paragraph2\"></a>"
      ]
    },
    {
      "cell_type": "code",
      "execution_count": null,
      "metadata": {
        "id": "cwE-qeqOiNle"
      },
      "outputs": [],
      "source": [
        "#заменяем названия столбцов:приводим к нижнему регистру\n",
        "df.columns=df.columns.str.lower()"
      ]
    },
    {
      "cell_type": "code",
      "execution_count": null,
      "metadata": {
        "id": "agRVS7GFiNlf",
        "outputId": "f09b049a-aa6d-415e-fbc5-e4ad8388bb84"
      },
      "outputs": [
        {
          "data": {
            "text/plain": [
              "name                  2\n",
              "platform              0\n",
              "year_of_release     269\n",
              "genre                 2\n",
              "na_sales              0\n",
              "eu_sales              0\n",
              "jp_sales              0\n",
              "other_sales           0\n",
              "critic_score       8578\n",
              "user_score         6701\n",
              "rating             6766\n",
              "dtype: int64"
            ]
          },
          "execution_count": 7,
          "metadata": {},
          "output_type": "execute_result"
        }
      ],
      "source": [
        "#оценим количество пропусков\n",
        "df.isna().sum()"
      ]
    },
    {
      "cell_type": "code",
      "execution_count": null,
      "metadata": {
        "id": "OwKycVJ7iNlg",
        "outputId": "baf38742-623c-42a1-dbd8-1bdcda83bd62"
      },
      "outputs": [
        {
          "data": {
            "text/plain": [
              "array(['8', nan, '8.3', '8.5', '6.6', '8.4', '8.6', '7.7', '6.3', '7.4',\n",
              "       '8.2', '9', '7.9', '8.1', '8.7', '7.1', '3.4', '5.3', '4.8', '3.2',\n",
              "       '8.9', '6.4', '7.8', '7.5', '2.6', '7.2', '9.2', '7', '7.3', '4.3',\n",
              "       '7.6', '5.7', '5', '9.1', '6.5', 'tbd', '8.8', '6.9', '9.4', '6.8',\n",
              "       '6.1', '6.7', '5.4', '4', '4.9', '4.5', '9.3', '6.2', '4.2', '6',\n",
              "       '3.7', '4.1', '5.8', '5.6', '5.5', '4.4', '4.6', '5.9', '3.9',\n",
              "       '3.1', '2.9', '5.2', '3.3', '4.7', '5.1', '3.5', '2.5', '1.9', '3',\n",
              "       '2.7', '2.2', '2', '9.5', '2.1', '3.6', '2.8', '1.8', '3.8', '0',\n",
              "       '1.6', '9.6', '2.4', '1.7', '1.1', '0.3', '1.5', '0.7', '1.2',\n",
              "       '2.3', '0.5', '1.3', '0.2', '0.6', '1.4', '0.9', '1', '9.7'],\n",
              "      dtype=object)"
            ]
          },
          "execution_count": 8,
          "metadata": {},
          "output_type": "execute_result"
        }
      ],
      "source": [
        "#посмотрим уникальные значения в столбце user_score\n",
        "df['user_score'].unique()"
      ]
    },
    {
      "cell_type": "code",
      "execution_count": null,
      "metadata": {
        "id": "t-tEFoqRiNlh",
        "outputId": "3dfed2ea-8612-4801-c081-e432a1d3e442"
      },
      "outputs": [
        {
          "data": {
            "text/plain": [
              "2424"
            ]
          },
          "execution_count": 9,
          "metadata": {},
          "output_type": "execute_result"
        }
      ],
      "source": [
        "df.query('user_score==\"tbd\"')['user_score'].count()\n"
      ]
    },
    {
      "cell_type": "markdown",
      "metadata": {
        "id": "NyqEnUEDiNlh"
      },
      "source": [
        "Обратим внимание, что в столбце 'user_score' встречается также значение 'tbd', которое означает, что значение пока не проставлено. Изменим его на значение NaN, чтобы в дальнейшем мы могли поменять тип столбца."
      ]
    },
    {
      "cell_type": "code",
      "execution_count": null,
      "metadata": {
        "id": "9tck8XTfiNli"
      },
      "outputs": [],
      "source": [
        "df['user_score']=df['user_score'].replace('tbd','nan')"
      ]
    },
    {
      "cell_type": "markdown",
      "metadata": {
        "id": "IwcnFEQNiNlj"
      },
      "source": [
        "Мы увидели небольшое количество пропусков в столбцах с названием и годом выпуска игры (0.01% и 1.6% соответственно). \n",
        "Заменить эти значения репрезентативными не видится возможным, поэтому данные пропуски мы удалим.\n"
      ]
    },
    {
      "cell_type": "code",
      "execution_count": null,
      "metadata": {
        "id": "L2kfc_4BiNlk"
      },
      "outputs": [],
      "source": [
        "#удаление пропусков в name и year_of_release\n",
        "df=df.dropna(subset=['name'])\n",
        "df=df.dropna(subset=['year_of_release'])\n"
      ]
    },
    {
      "cell_type": "markdown",
      "metadata": {
        "id": "kSmCsNi-iNll"
      },
      "source": [
        "Для дальнейшей работы с данными заменим **тип данных** в столбце с годом выпуска игры с типа float на int. А также изменим данные в столбце 'оценка пользователей' c типа object на тип int. Чтобы в дальнейшем мы могли осуществлять с этими данными различные вычисления и преобразования. Заменить данные с оценками на int нам не позволяют пропуски в данных, но тип float также позволит выполнить все необходимые преобразования."
      ]
    },
    {
      "cell_type": "code",
      "execution_count": null,
      "metadata": {
        "id": "nGL5mm9OiNll"
      },
      "outputs": [],
      "source": [
        "#изменяем типы данных в столбцах year_of_release и user_score\n",
        "df['year_of_release']=df['year_of_release'].astype('int')\n",
        "df['user_score'] = df['user_score'].astype('float')"
      ]
    },
    {
      "cell_type": "markdown",
      "metadata": {
        "id": "c0kFA7GaiNll"
      },
      "source": [
        "В столбцах с оценкой пользователей, оценкой критиков и рейтингом ESRB содержится наоборот очень много пропусков (до 51%). Эти данные удалять нельзя. Изучим подробнее данные с пропусками."
      ]
    },
    {
      "cell_type": "code",
      "execution_count": null,
      "metadata": {
        "id": "NLO5xOytiNlm",
        "outputId": "66d4caa0-5bfc-4451-df50-6e3860ba6ad7"
      },
      "outputs": [
        {
          "data": {
            "text/plain": [
              "(9550, 12)"
            ]
          },
          "execution_count": 47,
          "metadata": {},
          "output_type": "execute_result"
        }
      ],
      "source": [
        "#изучим отдельно данные с пропусками\n",
        "df_nan=df[df.isna().any(axis=1)]\n",
        "df_nan.shape"
      ]
    },
    {
      "cell_type": "code",
      "execution_count": null,
      "metadata": {
        "id": "vqiHiejNiNlm",
        "outputId": "e4896958-ab9e-4e79-efbd-678a779091e5"
      },
      "outputs": [
        {
          "data": {
            "text/html": [
              "<div>\n",
              "<style scoped>\n",
              "    .dataframe tbody tr th:only-of-type {\n",
              "        vertical-align: middle;\n",
              "    }\n",
              "\n",
              "    .dataframe tbody tr th {\n",
              "        vertical-align: top;\n",
              "    }\n",
              "\n",
              "    .dataframe thead th {\n",
              "        text-align: right;\n",
              "    }\n",
              "</style>\n",
              "<table border=\"1\" class=\"dataframe\">\n",
              "  <thead>\n",
              "    <tr style=\"text-align: right;\">\n",
              "      <th></th>\n",
              "      <th>year_of_release</th>\n",
              "      <th>na_sales</th>\n",
              "      <th>eu_sales</th>\n",
              "      <th>jp_sales</th>\n",
              "      <th>other_sales</th>\n",
              "      <th>critic_score</th>\n",
              "      <th>user_score</th>\n",
              "      <th>all_sales</th>\n",
              "    </tr>\n",
              "  </thead>\n",
              "  <tbody>\n",
              "    <tr>\n",
              "      <th>count</th>\n",
              "      <td>9550.000000</td>\n",
              "      <td>9550.000000</td>\n",
              "      <td>9550.000000</td>\n",
              "      <td>9550.000000</td>\n",
              "      <td>9550.000000</td>\n",
              "      <td>1089.000000</td>\n",
              "      <td>569.000000</td>\n",
              "      <td>9550.000000</td>\n",
              "    </tr>\n",
              "    <tr>\n",
              "      <th>mean</th>\n",
              "      <td>2005.767225</td>\n",
              "      <td>0.172400</td>\n",
              "      <td>0.081981</td>\n",
              "      <td>0.089041</td>\n",
              "      <td>0.022756</td>\n",
              "      <td>60.991736</td>\n",
              "      <td>6.423023</td>\n",
              "      <td>0.366178</td>\n",
              "    </tr>\n",
              "    <tr>\n",
              "      <th>std</th>\n",
              "      <td>6.727305</td>\n",
              "      <td>0.680809</td>\n",
              "      <td>0.307314</td>\n",
              "      <td>0.327347</td>\n",
              "      <td>0.085476</td>\n",
              "      <td>11.406144</td>\n",
              "      <td>1.960422</td>\n",
              "      <td>1.164586</td>\n",
              "    </tr>\n",
              "    <tr>\n",
              "      <th>min</th>\n",
              "      <td>1980.000000</td>\n",
              "      <td>0.000000</td>\n",
              "      <td>0.000000</td>\n",
              "      <td>0.000000</td>\n",
              "      <td>0.000000</td>\n",
              "      <td>23.000000</td>\n",
              "      <td>0.000000</td>\n",
              "      <td>0.000000</td>\n",
              "    </tr>\n",
              "    <tr>\n",
              "      <th>25%</th>\n",
              "      <td>2002.000000</td>\n",
              "      <td>0.000000</td>\n",
              "      <td>0.000000</td>\n",
              "      <td>0.000000</td>\n",
              "      <td>0.000000</td>\n",
              "      <td>54.000000</td>\n",
              "      <td>5.300000</td>\n",
              "      <td>0.040000</td>\n",
              "    </tr>\n",
              "    <tr>\n",
              "      <th>50%</th>\n",
              "      <td>2008.000000</td>\n",
              "      <td>0.030000</td>\n",
              "      <td>0.000000</td>\n",
              "      <td>0.000000</td>\n",
              "      <td>0.000000</td>\n",
              "      <td>62.000000</td>\n",
              "      <td>7.000000</td>\n",
              "      <td>0.110000</td>\n",
              "    </tr>\n",
              "    <tr>\n",
              "      <th>75%</th>\n",
              "      <td>2010.000000</td>\n",
              "      <td>0.140000</td>\n",
              "      <td>0.050000</td>\n",
              "      <td>0.050000</td>\n",
              "      <td>0.020000</td>\n",
              "      <td>69.000000</td>\n",
              "      <td>7.900000</td>\n",
              "      <td>0.310000</td>\n",
              "    </tr>\n",
              "    <tr>\n",
              "      <th>max</th>\n",
              "      <td>2016.000000</td>\n",
              "      <td>29.080000</td>\n",
              "      <td>10.950000</td>\n",
              "      <td>10.220000</td>\n",
              "      <td>2.740000</td>\n",
              "      <td>90.000000</td>\n",
              "      <td>9.700000</td>\n",
              "      <td>40.240000</td>\n",
              "    </tr>\n",
              "  </tbody>\n",
              "</table>\n",
              "</div>"
            ],
            "text/plain": [
              "       year_of_release     na_sales     eu_sales     jp_sales  other_sales  \\\n",
              "count      9550.000000  9550.000000  9550.000000  9550.000000  9550.000000   \n",
              "mean       2005.767225     0.172400     0.081981     0.089041     0.022756   \n",
              "std           6.727305     0.680809     0.307314     0.327347     0.085476   \n",
              "min        1980.000000     0.000000     0.000000     0.000000     0.000000   \n",
              "25%        2002.000000     0.000000     0.000000     0.000000     0.000000   \n",
              "50%        2008.000000     0.030000     0.000000     0.000000     0.000000   \n",
              "75%        2010.000000     0.140000     0.050000     0.050000     0.020000   \n",
              "max        2016.000000    29.080000    10.950000    10.220000     2.740000   \n",
              "\n",
              "       critic_score  user_score    all_sales  \n",
              "count   1089.000000  569.000000  9550.000000  \n",
              "mean      60.991736    6.423023     0.366178  \n",
              "std       11.406144    1.960422     1.164586  \n",
              "min       23.000000    0.000000     0.000000  \n",
              "25%       54.000000    5.300000     0.040000  \n",
              "50%       62.000000    7.000000     0.110000  \n",
              "75%       69.000000    7.900000     0.310000  \n",
              "max       90.000000    9.700000    40.240000  "
            ]
          },
          "execution_count": 48,
          "metadata": {},
          "output_type": "execute_result"
        }
      ],
      "source": [
        "df_nan.describe()"
      ]
    },
    {
      "cell_type": "code",
      "execution_count": null,
      "metadata": {
        "id": "1MJAkp5WiNln",
        "outputId": "952a5d06-401c-4fd0-8c56-1f7859dc3b87"
      },
      "outputs": [
        {
          "data": {
            "image/png": "[encoded data removed]",
            "text/plain": [
              "<Figure size 1080x576 with 1 Axes>"
            ]
          },
          "metadata": {
            "needs_background": "light"
          },
          "output_type": "display_data"
        }
      ],
      "source": [
        "df_nan['platform'].hist(bins=31,figsize=(15,8))\n",
        "None"
      ]
    },
    {
      "cell_type": "code",
      "execution_count": null,
      "metadata": {
        "id": "nTOEEv3yiNlo",
        "outputId": "5558f4e1-2891-4a88-afed-1d089e6abde8"
      },
      "outputs": [
        {
          "data": {
            "text/plain": [
              "(6580, 11)"
            ]
          },
          "execution_count": 16,
          "metadata": {},
          "output_type": "execute_result"
        }
      ],
      "source": [
        "df[df['critic_score'].isna() &df['user_score'].isna()&df['rating'].isna()].shape"
      ]
    },
    {
      "cell_type": "markdown",
      "metadata": {
        "id": "v1Wim0utiNlo"
      },
      "source": [
        "В нашей таблице осталось достаточно большое количество данных без пропусков:9618 игр. Отметим, что большинство игр имеют одновременно пропуски в графах: оценка критиков, оценка пользователей и возрастной рейтинг (6580 игр). Игры с пропусками немного менее успешны, чем игры во всей совокупности:  количество проданных копий в Северной Америке и Европе у них меньше. Каких-то других особенностей у данных игр нет (год их выпуска в среднем такой же, как и по общей совокупности; игры были выпущены на различных платформах).\n",
        "\n",
        "Данные пропуски могли возникнуть в силу разных причин: ошибки человека, которые заполнял,собирал данные, технические ошибки при сборе, хранении, передаче данных. Так как сразу многое количество игр содержит пропуска в оценках пользователей и критиков и в рейтинге, возможно, данные по этим категориям у данных игр не были изначально собраны.\n",
        "\n",
        "Так как ESRB основана в 1994 году, а данные о играх с 1980 г., логично предположить, что часть пропусков в данных об возрастных ограничениях произошла из-за того, что этого рейтинга еще не было создано."
      ]
    },
    {
      "cell_type": "markdown",
      "metadata": {
        "id": "Itx_31iiiNlp"
      },
      "source": [
        "Чтобы не искажать статистические свойства выборки, а следовательно, результаты нашего исследования, оставим пропуски в столбцах 'оценка пользователей' и 'оценка критиков' без изменений. Это не помешает делать последующий анализ и не исказит данные.\n",
        "\n",
        "Пропуски в столбце 'возрастной рейтинг' заменим на 'undefined'."
      ]
    },
    {
      "cell_type": "code",
      "execution_count": null,
      "metadata": {
        "id": "dii11NVAiNlp"
      },
      "outputs": [],
      "source": [
        "df['rating']=df['rating'].fillna('underfined')"
      ]
    },
    {
      "cell_type": "markdown",
      "metadata": {
        "id": "Oy73dUHriNlq"
      },
      "source": [
        "Для дальнейшего анализа данных посчитаем по каждой игре общую сумму продаж."
      ]
    },
    {
      "cell_type": "code",
      "execution_count": null,
      "metadata": {
        "id": "i0-Qg7XviNlq"
      },
      "outputs": [],
      "source": [
        "#посчитаем суммарные продажи во всех регионах\n",
        "df['all_sales']=df[['na_sales','eu_sales','jp_sales', 'other_sales']].sum(axis = 1)"
      ]
    },
    {
      "cell_type": "markdown",
      "metadata": {
        "id": "Ol8u-a_SiNls"
      },
      "source": [
        "## Исследовательский анализ данных.\n",
        "<a name=\"paragraph3\"></a>"
      ]
    },
    {
      "cell_type": "code",
      "execution_count": null,
      "metadata": {
        "id": "_O5gVJbQiNls",
        "outputId": "cfe20926-6074-4b89-f598-60a1bf4ffa42"
      },
      "outputs": [
        {
          "data": {
            "image/png": "[encoded data removed]",
            "text/plain": [
              "<Figure size 432x288 with 1 Axes>"
            ]
          },
          "metadata": {
            "needs_background": "light"
          },
          "output_type": "display_data"
        }
      ],
      "source": [
        "#количество выпущенных игр по годам\n",
        "df['year_of_release'].hist(bins=36)\n",
        "None"
      ]
    },
    {
      "cell_type": "code",
      "execution_count": null,
      "metadata": {
        "id": "4u8_Eqo6iNlt",
        "outputId": "bca2ff2a-83ae-43b6-f4ac-a6b04d7f91a7"
      },
      "outputs": [
        {
          "data": {
            "text/plain": [
              "year_of_release\n",
              "1980       9\n",
              "1981      46\n",
              "1982      36\n",
              "1983      17\n",
              "1984      14\n",
              "1985      14\n",
              "1986      21\n",
              "1987      16\n",
              "1988      15\n",
              "1989      17\n",
              "1990      16\n",
              "1991      41\n",
              "1992      43\n",
              "1993      60\n",
              "1994     121\n",
              "1995     219\n",
              "1996     263\n",
              "1997     289\n",
              "1998     379\n",
              "1999     338\n",
              "2000     350\n",
              "2001     482\n",
              "2002     829\n",
              "2003     775\n",
              "2004     762\n",
              "2005     939\n",
              "2006    1006\n",
              "2007    1197\n",
              "2008    1427\n",
              "2009    1426\n",
              "2010    1255\n",
              "2011    1136\n",
              "2012     653\n",
              "2013     544\n",
              "2014     581\n",
              "2015     606\n",
              "2016     502\n",
              "Name: name, dtype: int64"
            ]
          },
          "execution_count": 20,
          "metadata": {},
          "output_type": "execute_result"
        }
      ],
      "source": [
        "df.groupby(['year_of_release'])['name'].count()"
      ]
    },
    {
      "cell_type": "markdown",
      "metadata": {
        "id": "tsSTqFKMiNlt"
      },
      "source": [
        "Обратим внимание, что до 1995 года количество выпущенных игр в год было очень небольшим: менее 200 игр.Далее начинается быстрый рост, который достигает своего пика в 2008 году:1427 игры. После 2009 года начинается постепенный спад в количестве. В 2015 году было выпущено 606 игр,что близко к уровню 2001 года. Данные по играм за 2016 г. неполные."
      ]
    },
    {
      "cell_type": "code",
      "execution_count": null,
      "metadata": {
        "id": "XfsWeq51iNlu",
        "outputId": "5bf1d8e8-5fc3-4dc3-85dd-7ebe5d6f7ccb"
      },
      "outputs": [
        {
          "data": {
            "text/html": [
              "<div>\n",
              "<style scoped>\n",
              "    .dataframe tbody tr th:only-of-type {\n",
              "        vertical-align: middle;\n",
              "    }\n",
              "\n",
              "    .dataframe tbody tr th {\n",
              "        vertical-align: top;\n",
              "    }\n",
              "\n",
              "    .dataframe thead th {\n",
              "        text-align: right;\n",
              "    }\n",
              "</style>\n",
              "<table border=\"1\" class=\"dataframe\">\n",
              "  <thead>\n",
              "    <tr style=\"text-align: right;\">\n",
              "      <th></th>\n",
              "      <th>all_sales</th>\n",
              "      <th>eu_sales</th>\n",
              "      <th>jp_sales</th>\n",
              "      <th>na_sales</th>\n",
              "    </tr>\n",
              "    <tr>\n",
              "      <th>platform</th>\n",
              "      <th></th>\n",
              "      <th></th>\n",
              "      <th></th>\n",
              "      <th></th>\n",
              "    </tr>\n",
              "  </thead>\n",
              "  <tbody>\n",
              "    <tr>\n",
              "      <th>PS2</th>\n",
              "      <td>1233.56</td>\n",
              "      <td>332.63</td>\n",
              "      <td>137.54</td>\n",
              "      <td>572.92</td>\n",
              "    </tr>\n",
              "    <tr>\n",
              "      <th>X360</th>\n",
              "      <td>961.24</td>\n",
              "      <td>268.32</td>\n",
              "      <td>12.30</td>\n",
              "      <td>595.74</td>\n",
              "    </tr>\n",
              "    <tr>\n",
              "      <th>PS3</th>\n",
              "      <td>931.34</td>\n",
              "      <td>327.21</td>\n",
              "      <td>79.41</td>\n",
              "      <td>390.13</td>\n",
              "    </tr>\n",
              "    <tr>\n",
              "      <th>Wii</th>\n",
              "      <td>891.18</td>\n",
              "      <td>258.32</td>\n",
              "      <td>68.28</td>\n",
              "      <td>486.87</td>\n",
              "    </tr>\n",
              "    <tr>\n",
              "      <th>DS</th>\n",
              "      <td>802.78</td>\n",
              "      <td>188.41</td>\n",
              "      <td>175.02</td>\n",
              "      <td>380.31</td>\n",
              "    </tr>\n",
              "    <tr>\n",
              "      <th>PS</th>\n",
              "      <td>727.58</td>\n",
              "      <td>212.39</td>\n",
              "      <td>139.78</td>\n",
              "      <td>334.72</td>\n",
              "    </tr>\n",
              "    <tr>\n",
              "      <th>PS4</th>\n",
              "      <td>314.14</td>\n",
              "      <td>141.09</td>\n",
              "      <td>15.96</td>\n",
              "      <td>108.74</td>\n",
              "    </tr>\n",
              "    <tr>\n",
              "      <th>GBA</th>\n",
              "      <td>312.88</td>\n",
              "      <td>74.59</td>\n",
              "      <td>46.56</td>\n",
              "      <td>184.12</td>\n",
              "    </tr>\n",
              "    <tr>\n",
              "      <th>PSP</th>\n",
              "      <td>289.53</td>\n",
              "      <td>65.62</td>\n",
              "      <td>75.88</td>\n",
              "      <td>107.27</td>\n",
              "    </tr>\n",
              "    <tr>\n",
              "      <th>3DS</th>\n",
              "      <td>257.81</td>\n",
              "      <td>61.27</td>\n",
              "      <td>100.62</td>\n",
              "      <td>82.65</td>\n",
              "    </tr>\n",
              "    <tr>\n",
              "      <th>PC</th>\n",
              "      <td>255.76</td>\n",
              "      <td>140.37</td>\n",
              "      <td>0.17</td>\n",
              "      <td>93.34</td>\n",
              "    </tr>\n",
              "    <tr>\n",
              "      <th>GB</th>\n",
              "      <td>254.43</td>\n",
              "      <td>47.51</td>\n",
              "      <td>85.12</td>\n",
              "      <td>113.64</td>\n",
              "    </tr>\n",
              "    <tr>\n",
              "      <th>XB</th>\n",
              "      <td>251.57</td>\n",
              "      <td>59.65</td>\n",
              "      <td>1.38</td>\n",
              "      <td>182.06</td>\n",
              "    </tr>\n",
              "    <tr>\n",
              "      <th>NES</th>\n",
              "      <td>251.05</td>\n",
              "      <td>21.15</td>\n",
              "      <td>98.65</td>\n",
              "      <td>125.94</td>\n",
              "    </tr>\n",
              "    <tr>\n",
              "      <th>N64</th>\n",
              "      <td>218.01</td>\n",
              "      <td>41.03</td>\n",
              "      <td>33.76</td>\n",
              "      <td>138.91</td>\n",
              "    </tr>\n",
              "    <tr>\n",
              "      <th>SNES</th>\n",
              "      <td>200.04</td>\n",
              "      <td>19.04</td>\n",
              "      <td>116.55</td>\n",
              "      <td>61.23</td>\n",
              "    </tr>\n",
              "    <tr>\n",
              "      <th>GC</th>\n",
              "      <td>196.73</td>\n",
              "      <td>38.32</td>\n",
              "      <td>21.34</td>\n",
              "      <td>131.94</td>\n",
              "    </tr>\n",
              "    <tr>\n",
              "      <th>XOne</th>\n",
              "      <td>159.32</td>\n",
              "      <td>51.59</td>\n",
              "      <td>0.34</td>\n",
              "      <td>93.12</td>\n",
              "    </tr>\n",
              "    <tr>\n",
              "      <th>2600</th>\n",
              "      <td>86.48</td>\n",
              "      <td>4.86</td>\n",
              "      <td>0.00</td>\n",
              "      <td>80.78</td>\n",
              "    </tr>\n",
              "    <tr>\n",
              "      <th>WiiU</th>\n",
              "      <td>82.19</td>\n",
              "      <td>25.13</td>\n",
              "      <td>13.01</td>\n",
              "      <td>38.10</td>\n",
              "    </tr>\n",
              "    <tr>\n",
              "      <th>PSV</th>\n",
              "      <td>53.81</td>\n",
              "      <td>13.07</td>\n",
              "      <td>21.84</td>\n",
              "      <td>12.47</td>\n",
              "    </tr>\n",
              "    <tr>\n",
              "      <th>SAT</th>\n",
              "      <td>33.59</td>\n",
              "      <td>0.54</td>\n",
              "      <td>32.26</td>\n",
              "      <td>0.72</td>\n",
              "    </tr>\n",
              "    <tr>\n",
              "      <th>GEN</th>\n",
              "      <td>28.35</td>\n",
              "      <td>5.52</td>\n",
              "      <td>2.67</td>\n",
              "      <td>19.27</td>\n",
              "    </tr>\n",
              "    <tr>\n",
              "      <th>DC</th>\n",
              "      <td>15.95</td>\n",
              "      <td>1.69</td>\n",
              "      <td>8.56</td>\n",
              "      <td>5.43</td>\n",
              "    </tr>\n",
              "    <tr>\n",
              "      <th>SCD</th>\n",
              "      <td>1.86</td>\n",
              "      <td>0.36</td>\n",
              "      <td>0.45</td>\n",
              "      <td>1.00</td>\n",
              "    </tr>\n",
              "    <tr>\n",
              "      <th>NG</th>\n",
              "      <td>1.44</td>\n",
              "      <td>0.00</td>\n",
              "      <td>1.44</td>\n",
              "      <td>0.00</td>\n",
              "    </tr>\n",
              "    <tr>\n",
              "      <th>WS</th>\n",
              "      <td>1.42</td>\n",
              "      <td>0.00</td>\n",
              "      <td>1.42</td>\n",
              "      <td>0.00</td>\n",
              "    </tr>\n",
              "    <tr>\n",
              "      <th>TG16</th>\n",
              "      <td>0.16</td>\n",
              "      <td>0.00</td>\n",
              "      <td>0.16</td>\n",
              "      <td>0.00</td>\n",
              "    </tr>\n",
              "    <tr>\n",
              "      <th>3DO</th>\n",
              "      <td>0.10</td>\n",
              "      <td>0.00</td>\n",
              "      <td>0.10</td>\n",
              "      <td>0.00</td>\n",
              "    </tr>\n",
              "    <tr>\n",
              "      <th>GG</th>\n",
              "      <td>0.04</td>\n",
              "      <td>0.00</td>\n",
              "      <td>0.04</td>\n",
              "      <td>0.00</td>\n",
              "    </tr>\n",
              "    <tr>\n",
              "      <th>PCFX</th>\n",
              "      <td>0.03</td>\n",
              "      <td>0.00</td>\n",
              "      <td>0.03</td>\n",
              "      <td>0.00</td>\n",
              "    </tr>\n",
              "  </tbody>\n",
              "</table>\n",
              "</div>"
            ],
            "text/plain": [
              "          all_sales  eu_sales  jp_sales  na_sales\n",
              "platform                                         \n",
              "PS2         1233.56    332.63    137.54    572.92\n",
              "X360         961.24    268.32     12.30    595.74\n",
              "PS3          931.34    327.21     79.41    390.13\n",
              "Wii          891.18    258.32     68.28    486.87\n",
              "DS           802.78    188.41    175.02    380.31\n",
              "PS           727.58    212.39    139.78    334.72\n",
              "PS4          314.14    141.09     15.96    108.74\n",
              "GBA          312.88     74.59     46.56    184.12\n",
              "PSP          289.53     65.62     75.88    107.27\n",
              "3DS          257.81     61.27    100.62     82.65\n",
              "PC           255.76    140.37      0.17     93.34\n",
              "GB           254.43     47.51     85.12    113.64\n",
              "XB           251.57     59.65      1.38    182.06\n",
              "NES          251.05     21.15     98.65    125.94\n",
              "N64          218.01     41.03     33.76    138.91\n",
              "SNES         200.04     19.04    116.55     61.23\n",
              "GC           196.73     38.32     21.34    131.94\n",
              "XOne         159.32     51.59      0.34     93.12\n",
              "2600          86.48      4.86      0.00     80.78\n",
              "WiiU          82.19     25.13     13.01     38.10\n",
              "PSV           53.81     13.07     21.84     12.47\n",
              "SAT           33.59      0.54     32.26      0.72\n",
              "GEN           28.35      5.52      2.67     19.27\n",
              "DC            15.95      1.69      8.56      5.43\n",
              "SCD            1.86      0.36      0.45      1.00\n",
              "NG             1.44      0.00      1.44      0.00\n",
              "WS             1.42      0.00      1.42      0.00\n",
              "TG16           0.16      0.00      0.16      0.00\n",
              "3DO            0.10      0.00      0.10      0.00\n",
              "GG             0.04      0.00      0.04      0.00\n",
              "PCFX           0.03      0.00      0.03      0.00"
            ]
          },
          "execution_count": 21,
          "metadata": {},
          "output_type": "execute_result"
        }
      ],
      "source": [
        "#количество выпущенных игр по платформам\n",
        "df.pivot_table(index='platform',values=['na_sales','eu_sales','jp_sales','all_sales'],aggfunc=sum)\\\n",
        ".sort_values(by='all_sales',ascending=False)"
      ]
    },
    {
      "cell_type": "code",
      "execution_count": null,
      "metadata": {
        "id": "tQ6-UYLQiNlu",
        "outputId": "6dc9d6ac-9554-40d5-df98-2935d2c18b4b"
      },
      "outputs": [
        {
          "data": {
            "image/png": "[encoded data removed]",
            "text/plain": [
              "<Figure size 432x288 with 1 Axes>"
            ]
          },
          "metadata": {
            "needs_background": "light"
          },
          "output_type": "display_data"
        }
      ],
      "source": [
        "#распределение по годам\n",
        "df_PS2=df.query('platform==\"PS2\"')\n",
        "df_X360=df.query('platform==\"X360\"')\n",
        "df_PS3=df.query('platform==\"PS3\"')\n",
        "df_PS2['year_of_release'].hist(alpha=0.5)\n",
        "df_X360['year_of_release'].hist(alpha=0.5)\n",
        "df_PS3['year_of_release'].hist(alpha=0.5)\n",
        "None"
      ]
    },
    {
      "cell_type": "markdown",
      "metadata": {
        "id": "_xR3RqSJiNlv"
      },
      "source": [
        "Рекордсменами среди платформ стали PS2,PS3,X360. Суммарные продажи игр на этих платформах по всем регионам за весь период наблюдения были наиболее высокими. На каждой из них было продано около 1000 млн. копий. Если рассмотреть продажи с этих трех платформ по годам, то можно обратить внимание, что срок жизни каждой платформы около 10 лет. После середины этого срока продажи по платформам уменьшаются.\n",
        "\n",
        "Используя эту информацию, для дальнейшего анализа возьмем данные за актуальный период: за последние 5 лет. Так мы определим платформы, продажи игр которых находятся или в состоянии роста или на своем пике."
      ]
    },
    {
      "cell_type": "code",
      "execution_count": null,
      "metadata": {
        "id": "FkGMcPZJiNlv"
      },
      "outputs": [],
      "source": [
        "#возьмем данные за актуальный период\n",
        "df_actualdate=df.query('year_of_release>2011')"
      ]
    },
    {
      "cell_type": "code",
      "execution_count": null,
      "metadata": {
        "id": "bdpXYx81iNlw",
        "outputId": "d3a70591-9229-4b58-ffdc-4a8bf431ae94"
      },
      "outputs": [
        {
          "data": {
            "image/png": "[encoded data removed]",
            "text/plain": [
              "<Figure size 1080x720 with 1 Axes>"
            ]
          },
          "metadata": {
            "needs_background": "light"
          },
          "output_type": "display_data"
        }
      ],
      "source": [
        "#построим график продаж по платформам\n",
        "df_actualdate.pivot_table(index='year_of_release',columns='platform',values='name',aggfunc='count')\\\n",
        ".plot(grid=True,figsize=(15,10))\n",
        "\n",
        "None"
      ]
    },
    {
      "cell_type": "markdown",
      "metadata": {
        "id": "fsWq3SXriNlw"
      },
      "source": [
        "С помощью графика мы видим, что платформы **XOne** и **PS4** находятся в стадии роста. Также растут продажи PC, но незначительно, и в 2013 г. был спад продаж игр на этой платформе. Все остальные платформы переживают спад продаж."
      ]
    },
    {
      "cell_type": "code",
      "execution_count": null,
      "metadata": {
        "id": "rDO9hWfRiNlx",
        "outputId": "97c0c939-a173-4107-97c6-a5b581fc55ae"
      },
      "outputs": [
        {
          "data": {
            "image/png": "[encoded data removed]",
            "text/plain": [
              "<Figure size 1440x720 with 1 Axes>"
            ]
          },
          "metadata": {
            "needs_background": "light"
          },
          "output_type": "display_data"
        }
      ],
      "source": [
        "#строим boxplot\n",
        "df_actualdate.boxplot(column='all_sales',by='platform',figsize=(20,10))\n",
        "plt.ylim(0,1.75)\n",
        "None"
      ]
    },
    {
      "cell_type": "markdown",
      "metadata": {
        "id": "ieslzMlhiNlx"
      },
      "source": [
        "С помощью графика boxplot мы можем сравнить характерные величины по каждой платформе. Средние общие продажи по всем регионам наиболее высокие у платформ PS3 и X360. Наименьшие продажи игр на платформах-DC,GC,PC (но были игры с этой платформы, которые были проданы в размере более 1.5 млн копий),PSV,XB. Наибольший размах в числе проданных копий разных игр у платформ \n",
        "GBA,PS4 и X360."
      ]
    },
    {
      "cell_type": "markdown",
      "metadata": {
        "id": "-VdtWDioiNly"
      },
      "source": [
        "Проанализируем далее, есть ли связь между продажами и оценками критиков и пользователей. Возьмем одну из платформ с высокими продажами, которая на данный момент находится в росте: PS4."
      ]
    },
    {
      "cell_type": "code",
      "execution_count": null,
      "metadata": {
        "id": "EGUOO2AeiNly",
        "outputId": "f9020204-7074-4a3b-c5a7-445ee36c1232"
      },
      "outputs": [
        {
          "data": {
            "image/png": "[encoded data removed]",
            "text/plain": [
              "<Figure size 432x288 with 1 Axes>"
            ]
          },
          "metadata": {
            "needs_background": "light"
          },
          "output_type": "display_data"
        }
      ],
      "source": [
        "#оценки критиков и продажи\n",
        "df_actualdate.query('platform==\"PS4\"').plot(x='critic_score', y='all_sales',kind='scatter',grid=True,alpha=0.7) \n",
        "None"
      ]
    },
    {
      "cell_type": "code",
      "execution_count": null,
      "metadata": {
        "id": "jQAytvfxiNlz",
        "outputId": "dd0023e8-eaf0-42b9-86c7-cb1929bde073"
      },
      "outputs": [
        {
          "data": {
            "image/png": "[encoded data removed]",
            "text/plain": [
              "<Figure size 432x288 with 1 Axes>"
            ]
          },
          "metadata": {
            "needs_background": "light"
          },
          "output_type": "display_data"
        }
      ],
      "source": [
        "#оценки пользователей и продажи\n",
        "df_actualdate.query('platform==\"PS4\"').plot(x='user_score', y='all_sales',kind='scatter',grid=True,alpha=0.7) \n",
        "None"
      ]
    },
    {
      "cell_type": "code",
      "execution_count": null,
      "metadata": {
        "id": "IXrHgibNiNlz",
        "outputId": "fbb615d0-6e70-4a1c-95b9-6649a9db485b"
      },
      "outputs": [
        {
          "name": "stdout",
          "output_type": "stream",
          "text": [
            "-0.031957110204556376\n",
            "0.40656790206178095\n"
          ]
        }
      ],
      "source": [
        "df_PS4=df_actualdate.query('platform==\"PS4\"')\n",
        "print(df_PS4['user_score'].corr(df_PS4['all_sales']))\n",
        "print(df_PS4['critic_score'].corr(df_PS4['all_sales']))\n",
        "\n"
      ]
    },
    {
      "cell_type": "markdown",
      "metadata": {
        "id": "2Yid9XKLiNl0"
      },
      "source": [
        "Мы получили умеренную корреляцию между оценками компьютерных игр критиками  и их успешностью. Связь между оценками пользователей и продажами игр или отсутствует, или носит нелинейный характер."
      ]
    },
    {
      "cell_type": "code",
      "execution_count": null,
      "metadata": {
        "id": "wzgZOVwNiNl1",
        "outputId": "28223d1d-4557-4865-a707-f1927777503a"
      },
      "outputs": [
        {
          "data": {
            "image/png": "[encoded data removed]",
            "text/plain": [
              "<Figure size 432x288 with 1 Axes>"
            ]
          },
          "metadata": {
            "needs_background": "light"
          },
          "output_type": "display_data"
        }
      ],
      "source": [
        "df_actualdate.pivot_table(index='genre',values=['all_sales'],aggfunc='mean').plot(kind='bar')\n",
        "None"
      ]
    },
    {
      "cell_type": "markdown",
      "metadata": {
        "id": "MxS4Q_1GiNl1"
      },
      "source": [
        "На диаграмме отчетливо видна разница успешности продаж игр разных жанров. Наиболее популярными являются игры в стиле Shooter, Sports и Platform. Наименее популярная- Adventure."
      ]
    },
    {
      "cell_type": "markdown",
      "metadata": {
        "id": "WjOTGBd5iNl2"
      },
      "source": [
        "##  Составляем портрет пользователя каждого региона.\n",
        "<a name=\"paragraph4\"></a>"
      ]
    },
    {
      "cell_type": "code",
      "execution_count": null,
      "metadata": {
        "id": "lGC2TSiuiNl2",
        "outputId": "1e8527bb-21ad-40ec-d64a-a99e1a2aed78"
      },
      "outputs": [
        {
          "name": "stdout",
          "output_type": "stream",
          "text": [
            "Доля продаж компьютерных игр в разных регионах составляет:\n",
            "в Северной Америке -  49.3\n",
            "в Европе -  27.2\n",
            "в Японии -  14.6\n",
            "в других регионах -  8.9\n"
          ]
        }
      ],
      "source": [
        "print('Доля продаж компьютерных игр в разных регионах составляет:')\n",
        "print('в Северной Америке - ',round(df['na_sales'].sum()/df['all_sales'].sum()*100,1))\n",
        "print('в Европе - ',round(df['eu_sales'].sum()/df['all_sales'].sum()*100,1))\n",
        "print('в Японии - ',round(df['jp_sales'].sum()/df['all_sales'].sum()*100,1))\n",
        "print('в других регионах - ',round(df['other_sales'].sum()/df['all_sales'].sum()*100,1))"
      ]
    },
    {
      "cell_type": "markdown",
      "metadata": {
        "id": "30_BZh74iNl3"
      },
      "source": [
        "Почти половина всех компьютерных игр в мире была продана в Северной Америке (49%), 27% в Европе и 15% в Японии. Продажи по регионам очень сильно различаются. Посмотрим, отличается ли покупательское поведение пользователей разных регионов."
      ]
    },
    {
      "cell_type": "code",
      "execution_count": null,
      "metadata": {
        "id": "QWqwIpnTiNl4",
        "outputId": "9f221c17-8f4f-42df-f2de-fa632fc66942"
      },
      "outputs": [
        {
          "name": "stdout",
          "output_type": "stream",
          "text": [
            "          na_sales\n",
            "platform          \n",
            "X360        595.74\n",
            "PS2         572.92\n",
            "Wii         486.87\n",
            "PS3         390.13\n",
            "DS          380.31\n",
            "          eu_sales\n",
            "platform          \n",
            "PS2         332.63\n",
            "PS3         327.21\n",
            "X360        268.32\n",
            "Wii         258.32\n",
            "PS          212.39\n",
            "          jp_sales\n",
            "platform          \n",
            "DS          175.02\n",
            "PS          139.78\n",
            "PS2         137.54\n",
            "SNES        116.55\n",
            "3DS         100.62\n",
            "          other_sales\n",
            "platform             \n",
            "PS2            190.47\n",
            "PS3            134.59\n",
            "X360            84.88\n",
            "Wii             77.71\n",
            "DS              59.04\n"
          ]
        }
      ],
      "source": [
        "print(df.pivot_table(index='platform',values='na_sales',aggfunc=sum).sort_values(by='na_sales',ascending=False).head())\n",
        "print(df.pivot_table(index='platform',values='eu_sales',aggfunc=sum).sort_values(by='eu_sales',ascending=False).head())\n",
        "print(df.pivot_table(index='platform',values='jp_sales',aggfunc=sum).sort_values(by='jp_sales',ascending=False).head())\n",
        "print(df.pivot_table(index='platform',values='other_sales',aggfunc=sum).sort_values(by='other_sales',ascending=False).head())"
      ]
    },
    {
      "cell_type": "markdown",
      "metadata": {
        "id": "NgTzB_gyiNl4"
      },
      "source": [
        "*ТОП-5* популярных платформ по регионам:\n",
        "- Северная Америка:X360,PS2,Wii,PS3,DS\n",
        "- Европа:PS2,PS3,X360,Wii,PS\n",
        "- Япония:DS,PS,PS2,SNES,3DS \n",
        "- другие страны:PS2,PS3,X360,Wii,DS  "
      ]
    },
    {
      "cell_type": "code",
      "execution_count": null,
      "metadata": {
        "id": "q7LVHNroiNl5",
        "outputId": "cdf5b766-f62e-433d-ba2d-664e95754238"
      },
      "outputs": [
        {
          "name": "stdout",
          "output_type": "stream",
          "text": [
            "          na_sales\n",
            "genre             \n",
            "Action      863.17\n",
            "Sports      671.20\n",
            "Shooter     584.83\n",
            "Platform    444.44\n",
            "Misc        399.57\n",
            "         eu_sales\n",
            "genre            \n",
            "Action     510.99\n",
            "Sports     371.33\n",
            "Shooter    314.52\n",
            "Racing     234.49\n",
            "Misc       210.60\n",
            "              jp_sales\n",
            "genre                 \n",
            "Role-Playing    353.39\n",
            "Action          160.14\n",
            "Sports          134.93\n",
            "Platform        130.71\n",
            "Misc            107.02\n",
            "         other_sales\n",
            "genre               \n",
            "Action        182.22\n",
            "Sports        132.21\n",
            "Shooter       103.33\n",
            "Racing         75.51\n",
            "Misc           73.10\n"
          ]
        }
      ],
      "source": [
        "print(df.pivot_table(index='genre',values='na_sales',aggfunc=sum).sort_values(by='na_sales',ascending=False).head())\n",
        "print(df.pivot_table(index='genre',values='eu_sales',aggfunc=sum).sort_values(by='eu_sales',ascending=False).head())\n",
        "print(df.pivot_table(index='genre',values='jp_sales',aggfunc=sum).sort_values(by='jp_sales',ascending=False).head())\n",
        "print(df.pivot_table(index='genre',values='other_sales',aggfunc=sum).sort_values(by='other_sales',ascending=False).head())"
      ]
    },
    {
      "cell_type": "markdown",
      "metadata": {
        "id": "qu5WbsIoiNl6"
      },
      "source": [
        "*ТОП-5* популярных жанров по регионам:\n",
        "- Северная Америка:Action,Sports,Shooter,Platform,Misc\n",
        "- Европа:Action,Sports,Shooter,Racing,Misc\n",
        "- Япония:Role-Playing,Action,Sports,Platform,Misc \n",
        "- другие страны:Action,Sports,Shooter,Racing,Misc  "
      ]
    },
    {
      "cell_type": "code",
      "execution_count": null,
      "metadata": {
        "id": "syENeQUxiNl6",
        "outputId": "556f2202-8c8f-463a-d30a-288b01715223"
      },
      "outputs": [
        {
          "data": {
            "text/html": [
              "<div>\n",
              "<style scoped>\n",
              "    .dataframe tbody tr th:only-of-type {\n",
              "        vertical-align: middle;\n",
              "    }\n",
              "\n",
              "    .dataframe tbody tr th {\n",
              "        vertical-align: top;\n",
              "    }\n",
              "\n",
              "    .dataframe thead th {\n",
              "        text-align: right;\n",
              "    }\n",
              "</style>\n",
              "<table border=\"1\" class=\"dataframe\">\n",
              "  <thead>\n",
              "    <tr style=\"text-align: right;\">\n",
              "      <th></th>\n",
              "      <th>na_sales</th>\n",
              "      <th>eu_sales</th>\n",
              "      <th>jp_sales</th>\n",
              "      <th>other_sales</th>\n",
              "    </tr>\n",
              "    <tr>\n",
              "      <th>genre</th>\n",
              "      <th></th>\n",
              "      <th></th>\n",
              "      <th></th>\n",
              "      <th></th>\n",
              "    </tr>\n",
              "  </thead>\n",
              "  <tbody>\n",
              "    <tr>\n",
              "      <th>Action</th>\n",
              "      <td>863.17</td>\n",
              "      <td>510.99</td>\n",
              "      <td>160.14</td>\n",
              "      <td>182.22</td>\n",
              "    </tr>\n",
              "    <tr>\n",
              "      <th>Adventure</th>\n",
              "      <td>101.52</td>\n",
              "      <td>63.20</td>\n",
              "      <td>52.24</td>\n",
              "      <td>16.37</td>\n",
              "    </tr>\n",
              "    <tr>\n",
              "      <th>Fighting</th>\n",
              "      <td>220.51</td>\n",
              "      <td>99.00</td>\n",
              "      <td>87.28</td>\n",
              "      <td>35.87</td>\n",
              "    </tr>\n",
              "    <tr>\n",
              "      <th>Misc</th>\n",
              "      <td>399.57</td>\n",
              "      <td>210.60</td>\n",
              "      <td>107.02</td>\n",
              "      <td>73.10</td>\n",
              "    </tr>\n",
              "    <tr>\n",
              "      <th>Platform</th>\n",
              "      <td>444.44</td>\n",
              "      <td>199.39</td>\n",
              "      <td>130.71</td>\n",
              "      <td>51.01</td>\n",
              "    </tr>\n",
              "    <tr>\n",
              "      <th>Puzzle</th>\n",
              "      <td>121.13</td>\n",
              "      <td>49.78</td>\n",
              "      <td>56.68</td>\n",
              "      <td>12.30</td>\n",
              "    </tr>\n",
              "    <tr>\n",
              "      <th>Racing</th>\n",
              "      <td>356.86</td>\n",
              "      <td>234.49</td>\n",
              "      <td>56.63</td>\n",
              "      <td>75.51</td>\n",
              "    </tr>\n",
              "    <tr>\n",
              "      <th>Role-Playing</th>\n",
              "      <td>330.04</td>\n",
              "      <td>188.24</td>\n",
              "      <td>353.39</td>\n",
              "      <td>59.41</td>\n",
              "    </tr>\n",
              "    <tr>\n",
              "      <th>Shooter</th>\n",
              "      <td>584.83</td>\n",
              "      <td>314.52</td>\n",
              "      <td>38.68</td>\n",
              "      <td>103.33</td>\n",
              "    </tr>\n",
              "    <tr>\n",
              "      <th>Simulation</th>\n",
              "      <td>180.40</td>\n",
              "      <td>113.35</td>\n",
              "      <td>63.64</td>\n",
              "      <td>30.57</td>\n",
              "    </tr>\n",
              "    <tr>\n",
              "      <th>Sports</th>\n",
              "      <td>671.20</td>\n",
              "      <td>371.33</td>\n",
              "      <td>134.93</td>\n",
              "      <td>132.21</td>\n",
              "    </tr>\n",
              "    <tr>\n",
              "      <th>Strategy</th>\n",
              "      <td>67.75</td>\n",
              "      <td>44.79</td>\n",
              "      <td>49.30</td>\n",
              "      <td>10.73</td>\n",
              "    </tr>\n",
              "  </tbody>\n",
              "</table>\n",
              "</div>"
            ],
            "text/plain": [
              "              na_sales  eu_sales  jp_sales  other_sales\n",
              "genre                                                  \n",
              "Action          863.17    510.99    160.14       182.22\n",
              "Adventure       101.52     63.20     52.24        16.37\n",
              "Fighting        220.51     99.00     87.28        35.87\n",
              "Misc            399.57    210.60    107.02        73.10\n",
              "Platform        444.44    199.39    130.71        51.01\n",
              "Puzzle          121.13     49.78     56.68        12.30\n",
              "Racing          356.86    234.49     56.63        75.51\n",
              "Role-Playing    330.04    188.24    353.39        59.41\n",
              "Shooter         584.83    314.52     38.68       103.33\n",
              "Simulation      180.40    113.35     63.64        30.57\n",
              "Sports          671.20    371.33    134.93       132.21\n",
              "Strategy         67.75     44.79     49.30        10.73"
            ]
          },
          "execution_count": 41,
          "metadata": {},
          "output_type": "execute_result"
        }
      ],
      "source": [
        "#популярность разных жанров по странам\n",
        "df.groupby('genre')[['na_sales','eu_sales','jp_sales','other_sales']].sum()"
      ]
    },
    {
      "cell_type": "markdown",
      "metadata": {
        "id": "Wv_pOj2NiNl7"
      },
      "source": [
        "Поведение пользователей из разных регионов имеет как схожие черты, так и различия. В ТОП-5 платформ всех регионов входит только платформа PS2. Остальные платформы различаются. Предпочтения в жанрах более схожи. Игроки из всех регионов любят Action, Sports и Misc.."
      ]
    },
    {
      "cell_type": "code",
      "execution_count": null,
      "metadata": {
        "id": "ctJ7vTFniNl7",
        "outputId": "9511f0be-8e3c-421e-d0b1-ce1df93f413d"
      },
      "outputs": [
        {
          "data": {
            "text/html": [
              "<div>\n",
              "<style scoped>\n",
              "    .dataframe tbody tr th:only-of-type {\n",
              "        vertical-align: middle;\n",
              "    }\n",
              "\n",
              "    .dataframe tbody tr th {\n",
              "        vertical-align: top;\n",
              "    }\n",
              "\n",
              "    .dataframe thead th {\n",
              "        text-align: right;\n",
              "    }\n",
              "</style>\n",
              "<table border=\"1\" class=\"dataframe\">\n",
              "  <thead>\n",
              "    <tr style=\"text-align: right;\">\n",
              "      <th></th>\n",
              "      <th>na_sales</th>\n",
              "      <th>eu_sales</th>\n",
              "      <th>jp_sales</th>\n",
              "      <th>other_sales</th>\n",
              "    </tr>\n",
              "    <tr>\n",
              "      <th>rating</th>\n",
              "      <th></th>\n",
              "      <th></th>\n",
              "      <th></th>\n",
              "      <th></th>\n",
              "    </tr>\n",
              "  </thead>\n",
              "  <tbody>\n",
              "    <tr>\n",
              "      <th>AO</th>\n",
              "      <td>1.26</td>\n",
              "      <td>0.61</td>\n",
              "      <td>0.00</td>\n",
              "      <td>0.09</td>\n",
              "    </tr>\n",
              "    <tr>\n",
              "      <th>E</th>\n",
              "      <td>1274.24</td>\n",
              "      <td>703.87</td>\n",
              "      <td>197.96</td>\n",
              "      <td>231.54</td>\n",
              "    </tr>\n",
              "    <tr>\n",
              "      <th>E10+</th>\n",
              "      <td>345.50</td>\n",
              "      <td>183.35</td>\n",
              "      <td>40.20</td>\n",
              "      <td>71.93</td>\n",
              "    </tr>\n",
              "    <tr>\n",
              "      <th>EC</th>\n",
              "      <td>1.53</td>\n",
              "      <td>0.11</td>\n",
              "      <td>0.00</td>\n",
              "      <td>0.11</td>\n",
              "    </tr>\n",
              "    <tr>\n",
              "      <th>K-A</th>\n",
              "      <td>2.56</td>\n",
              "      <td>0.27</td>\n",
              "      <td>1.46</td>\n",
              "      <td>0.03</td>\n",
              "    </tr>\n",
              "    <tr>\n",
              "      <th>M</th>\n",
              "      <td>742.89</td>\n",
              "      <td>480.00</td>\n",
              "      <td>63.58</td>\n",
              "      <td>176.06</td>\n",
              "    </tr>\n",
              "    <tr>\n",
              "      <th>RP</th>\n",
              "      <td>0.00</td>\n",
              "      <td>0.03</td>\n",
              "      <td>0.00</td>\n",
              "      <td>0.01</td>\n",
              "    </tr>\n",
              "    <tr>\n",
              "      <th>T</th>\n",
              "      <td>747.60</td>\n",
              "      <td>421.79</td>\n",
              "      <td>150.70</td>\n",
              "      <td>152.99</td>\n",
              "    </tr>\n",
              "    <tr>\n",
              "      <th>underfined</th>\n",
              "      <td>1225.84</td>\n",
              "      <td>609.65</td>\n",
              "      <td>836.74</td>\n",
              "      <td>149.87</td>\n",
              "    </tr>\n",
              "  </tbody>\n",
              "</table>\n",
              "</div>"
            ],
            "text/plain": [
              "            na_sales  eu_sales  jp_sales  other_sales\n",
              "rating                                               \n",
              "AO              1.26      0.61      0.00         0.09\n",
              "E            1274.24    703.87    197.96       231.54\n",
              "E10+          345.50    183.35     40.20        71.93\n",
              "EC              1.53      0.11      0.00         0.11\n",
              "K-A             2.56      0.27      1.46         0.03\n",
              "M             742.89    480.00     63.58       176.06\n",
              "RP              0.00      0.03      0.00         0.01\n",
              "T             747.60    421.79    150.70       152.99\n",
              "underfined   1225.84    609.65    836.74       149.87"
            ]
          },
          "execution_count": 50,
          "metadata": {},
          "output_type": "execute_result"
        }
      ],
      "source": [
        "#возрастные рейтинги по странам\n",
        "df.groupby('rating')[['na_sales','eu_sales','jp_sales','other_sales']].sum()"
      ]
    },
    {
      "cell_type": "markdown",
      "metadata": {
        "id": "rFDKPmSpiNl8"
      },
      "source": [
        "Во всех регионах самая популярная возрастная категория игр- \"Для всех\". Значительную долю рынка также составляют игры с отсутствием данных по категории. Особенно это заметно на японском рынке, где количество проданных игр без возрастных категорий более 800 млн.копий. Возможно, потому что это игры,выпущенные в Японии, и помеченные другой системой рейтингов контента видеоигр- CERO."
      ]
    },
    {
      "cell_type": "markdown",
      "metadata": {
        "id": "mHZqakE5iNl9"
      },
      "source": [
        "## Проверка гипотезы\n",
        "<a name=\"paragraph5\"></a>"
      ]
    },
    {
      "cell_type": "markdown",
      "metadata": {
        "id": "MEfd8wbriNl9"
      },
      "source": [
        "Проверим гипотезу, что средние пользовательские рейтинги платформ Xbox One и PC одинаковые. За нулевую гипотезу примем \n",
        "утверждение, что \"Средние пользовательские рейтинги платформ Xbox One и PC одинаковые.\", \n",
        "за альтернативную-\"Средние пользовательские рейтинги платформ Xbox One и PC разные\"."
      ]
    },
    {
      "cell_type": "code",
      "execution_count": null,
      "metadata": {
        "id": "BFzOJI-9iNl-",
        "outputId": "5951e830-9526-4a18-963c-49bc74fe258b"
      },
      "outputs": [
        {
          "name": "stdout",
          "output_type": "stream",
          "text": [
            "nan\n",
            "Не получилось отвергнуть нулевую гипотезу\n"
          ]
        }
      ],
      "source": [
        "results =st.ttest_ind(\n",
        "    df.query('platform==\"XOne\"')['user_score'], \n",
        "    df.query('platform==\"PC\"')['user_score'],\n",
        "equal_var=False)\n",
        "alpha = 0.05\n",
        "print(results.pvalue)\n",
        "if results.pvalue< alpha:\n",
        "    print(\"Отвергаем нулевую гипотезу\")\n",
        "else:\n",
        "    print(\"Не получилось отвергнуть нулевую гипотезу\")"
      ]
    },
    {
      "cell_type": "markdown",
      "metadata": {
        "id": "VPXl8AFpiNl-"
      },
      "source": [
        "Проверим гипотезу, что cредние пользовательские рейтинги жанров Action  и Sports разные. За нулевую гипотезу примем \n",
        "утверждение, что \"Средние пользовательские рейтинги жанров Action и Sports одинаковые\", \n",
        "за альтернативную-\"Средние пользовательские рейтинги жанров Action и Sports разные\"\n",
        "\n",
        "Нулевую гипотезу мы сформулировали таким образом, чтобы утверждение было со знаком равенства.\n",
        "Пороговым значением возьмем общепринятое значение в 5%.\n",
        "\n",
        "Для проверки гипотезы о равенстве средних 2 генеральных совокупностей, мы будем использовать статистический тест Стъюдента. Данный тест подходит для выборки любого размера. Генеральные совокупности не зависят друг от друга, поэтому данный тест нам подходит.\n",
        "\n",
        "Так как выборки не равны между собой, мы будем считать дисперсии выборок по отдельности.\n",
        "\n"
      ]
    },
    {
      "cell_type": "code",
      "execution_count": null,
      "metadata": {
        "id": "5ul5nDETiNmE",
        "outputId": "ff92b0fb-1fcd-4699-9b74-197613415fcb"
      },
      "outputs": [
        {
          "name": "stdout",
          "output_type": "stream",
          "text": [
            "nan\n",
            "Не получилось отвергнуть нулевую гипотезу\n"
          ]
        }
      ],
      "source": [
        "results =st.ttest_ind(\n",
        "    df.query('genre==\"Action\"')['user_score'], \n",
        "    df.query('genre==\"Sports\"')['user_score'],\n",
        "equal_var=False)\n",
        "alpha = 0.05\n",
        "print(results.pvalue)\n",
        "if results.pvalue< alpha:\n",
        "    print(\"Отвергаем нулевую гипотезу\")\n",
        "else:\n",
        "    print(\"Не получилось отвергнуть нулевую гипотезу\")"
      ]
    },
    {
      "cell_type": "markdown",
      "metadata": {
        "id": "7hDPlKeCiNmE"
      },
      "source": [
        "В первом случае мы можем отвергнуть гипотезу, что \"Средние пользовательские рейтинги платформ Xbox One и PC одинаковые\".\n",
        "\n",
        "Во втором случае, отвергнуть гипотезу, что  \"Средние пользовательские рейтинги жанров Action и Sports одинаковые\" мы не можем. Так как полученная вероятность не на много, но больше уровня статистической значимости.\n"
      ]
    },
    {
      "cell_type": "markdown",
      "metadata": {
        "id": "oK6uuaRsiNmF"
      },
      "source": [
        "## Общий вывод.\n",
        "<a name=\"paragraph6\"></a>"
      ]
    },
    {
      "cell_type": "markdown",
      "metadata": {
        "id": "Wg8ZBeLdiNmF"
      },
      "source": [
        "В данном исследовании мы проанализировали продажи компьютерных игр с 1980 г. по 2016 г. У нас была информация по 16715 играм: данные об их продажах в разных регионах, оценки пользователей и критиков, возрастной рейтинг и платформы, на которых они выпускались. Регионы, по которым анализируются данные по продажам: Северная Америка, Европа, Япония и остальные регионы.\n",
        "\n",
        "Основной рост производства компьютерных игр начался в 1995 г. и достиг пика в 2006 г. С тех пор скорость выпуска новых компьютерных игр замедлилась, но составляет не менее 500 игр в год. За все это время была создана 31 платформа для игр. Какие-то были более успешными, какие-то менее. В среднем срок жизни одной платформы составляет около 10 лет. В дальнейшем она устаревает и на ее место приходят другие, более обновленные платформы. На 2016 г. многообещающими платформами были XOne и PS4: продажи игр на этих платформах находились в стадии роста.\n",
        "\n",
        "Исследование взаимосвязи успешности продаж игр и оценок критиков показало умеренную положительную связь: чем выше критики оценивали игру, тем игра была более успешной. Связи между оценками пользователей и продажами обнаружено не было - возможно, она носит нелинейный характер.\n",
        "\n",
        "Самый популярный жанр компьютерных игр - Shooter. Достаточно менее популярные жанры, но все равно пользующиеся успехом- Sports и Platform. Наименее популярные жанры- Adventure,Puzzle,Strategy.\n",
        "\n",
        "Игроки в Северной Америке, Европе и Японии имеют различия в своих предпочтениях.В Японии пользователи больше всего любят игры в жанре Role-Playing, а в Америке и Европе - жанр Action. Пользователи из всех регионов любят Action, Sports и Misc. Только одна платформа входит в топ-5 во всех регионах: это PS2. Таким образом существуют различия у пользователей разных регионов в предпочтениях той или иной платформы. Наиболее популярные возрастные категории похожи во всех странах: это игры \"для всех\",\"для взрослых\" и \"для подростков\".\n",
        "\n",
        "Чтобы оценить возможный успех той или иной новой игры необходимо учитывать много факторов: и платформа, на которой она выпускается, и жанр, и регион продаж, и возрастную категорию, и оценки критиков. Но благодаря этим данным можно наиболее выгодно распределить рекламный бюджет, инвестировать денежные средства в новую игру, а также выбрать игру для продаж в необходимом регионе.\n",
        "\n"
      ]
    }
  ],
  "metadata": {
    "ExecuteTimeLog": [
      {
        "duration": 385,
        "start_time": "2022-08-22T09:16:47.807Z"
      },
      {
        "duration": 89,
        "start_time": "2022-08-22T09:16:48.569Z"
      },
      {
        "duration": 22,
        "start_time": "2022-08-22T09:16:57.861Z"
      },
      {
        "duration": 14,
        "start_time": "2022-08-22T09:17:20.364Z"
      },
      {
        "duration": 27,
        "start_time": "2022-08-22T09:17:39.896Z"
      },
      {
        "duration": 57,
        "start_time": "2022-08-22T09:22:36.232Z"
      },
      {
        "duration": 3,
        "start_time": "2022-08-22T09:23:01.824Z"
      },
      {
        "duration": 3,
        "start_time": "2022-08-22T09:23:14.931Z"
      },
      {
        "duration": 7,
        "start_time": "2022-08-22T09:23:26.531Z"
      },
      {
        "duration": 4,
        "start_time": "2022-08-22T09:23:57.265Z"
      },
      {
        "duration": 3,
        "start_time": "2022-08-22T09:25:10.011Z"
      },
      {
        "duration": 12,
        "start_time": "2022-08-22T09:25:22.603Z"
      },
      {
        "duration": 10,
        "start_time": "2022-08-22T09:26:09.473Z"
      },
      {
        "duration": 5,
        "start_time": "2022-08-22T09:26:35.359Z"
      },
      {
        "duration": 4,
        "start_time": "2022-08-22T09:31:24.151Z"
      },
      {
        "duration": 6,
        "start_time": "2022-08-22T09:31:28.496Z"
      },
      {
        "duration": 13,
        "start_time": "2022-08-22T09:32:01.073Z"
      },
      {
        "duration": 13,
        "start_time": "2022-08-22T09:35:18.938Z"
      },
      {
        "duration": 11,
        "start_time": "2022-08-22T09:41:21.762Z"
      },
      {
        "duration": 7,
        "start_time": "2022-08-22T09:41:51.947Z"
      },
      {
        "duration": 376,
        "start_time": "2022-08-22T09:43:28.526Z"
      },
      {
        "duration": 6,
        "start_time": "2022-08-22T09:47:02.120Z"
      },
      {
        "duration": 5,
        "start_time": "2022-08-22T09:47:21.200Z"
      },
      {
        "duration": 11,
        "start_time": "2022-08-22T09:49:55.007Z"
      },
      {
        "duration": 2,
        "start_time": "2022-08-22T09:50:08.083Z"
      },
      {
        "duration": 9,
        "start_time": "2022-08-22T09:50:58.172Z"
      },
      {
        "duration": 23,
        "start_time": "2022-08-22T09:52:16.305Z"
      },
      {
        "duration": 7,
        "start_time": "2022-08-22T09:52:32.288Z"
      },
      {
        "duration": 8,
        "start_time": "2022-08-22T09:52:38.869Z"
      },
      {
        "duration": 9,
        "start_time": "2022-08-22T09:54:15.569Z"
      },
      {
        "duration": 9,
        "start_time": "2022-08-22T09:55:03.272Z"
      },
      {
        "duration": 8,
        "start_time": "2022-08-22T09:55:10.090Z"
      },
      {
        "duration": 404,
        "start_time": "2022-08-22T09:56:05.483Z"
      },
      {
        "duration": 49,
        "start_time": "2022-08-22T09:56:05.889Z"
      },
      {
        "duration": 19,
        "start_time": "2022-08-22T09:56:05.939Z"
      },
      {
        "duration": 17,
        "start_time": "2022-08-22T09:56:05.960Z"
      },
      {
        "duration": 27,
        "start_time": "2022-08-22T09:56:05.978Z"
      },
      {
        "duration": 3,
        "start_time": "2022-08-22T09:56:06.007Z"
      },
      {
        "duration": 14,
        "start_time": "2022-08-22T09:56:06.012Z"
      },
      {
        "duration": 12,
        "start_time": "2022-08-22T09:56:06.027Z"
      },
      {
        "duration": 10,
        "start_time": "2022-08-22T09:56:06.040Z"
      },
      {
        "duration": 11,
        "start_time": "2022-08-22T09:56:06.052Z"
      },
      {
        "duration": 44,
        "start_time": "2022-08-22T09:56:06.064Z"
      },
      {
        "duration": 4,
        "start_time": "2022-08-22T09:56:25.823Z"
      },
      {
        "duration": 58,
        "start_time": "2022-08-22T09:56:35.830Z"
      },
      {
        "duration": 9,
        "start_time": "2022-08-22T09:56:46.627Z"
      },
      {
        "duration": 3,
        "start_time": "2022-08-22T09:56:55.618Z"
      },
      {
        "duration": 61,
        "start_time": "2022-08-22T09:56:55.624Z"
      },
      {
        "duration": 14,
        "start_time": "2022-08-22T09:56:55.687Z"
      },
      {
        "duration": 15,
        "start_time": "2022-08-22T09:56:55.703Z"
      },
      {
        "duration": 30,
        "start_time": "2022-08-22T09:56:55.720Z"
      },
      {
        "duration": 3,
        "start_time": "2022-08-22T09:56:55.751Z"
      },
      {
        "duration": 18,
        "start_time": "2022-08-22T09:56:55.755Z"
      },
      {
        "duration": 16,
        "start_time": "2022-08-22T09:56:55.774Z"
      },
      {
        "duration": 16,
        "start_time": "2022-08-22T09:56:55.792Z"
      },
      {
        "duration": 30,
        "start_time": "2022-08-22T09:56:55.809Z"
      },
      {
        "duration": 58,
        "start_time": "2022-08-22T09:56:55.841Z"
      },
      {
        "duration": 8,
        "start_time": "2022-08-22T09:57:24.229Z"
      },
      {
        "duration": 2,
        "start_time": "2022-08-22T09:57:48.896Z"
      },
      {
        "duration": 47,
        "start_time": "2022-08-22T09:57:48.914Z"
      },
      {
        "duration": 12,
        "start_time": "2022-08-22T09:57:48.962Z"
      },
      {
        "duration": 12,
        "start_time": "2022-08-22T09:57:48.976Z"
      },
      {
        "duration": 24,
        "start_time": "2022-08-22T09:57:48.990Z"
      },
      {
        "duration": 2,
        "start_time": "2022-08-22T09:57:49.016Z"
      },
      {
        "duration": 7,
        "start_time": "2022-08-22T09:57:49.020Z"
      },
      {
        "duration": 5,
        "start_time": "2022-08-22T09:57:49.028Z"
      },
      {
        "duration": 17,
        "start_time": "2022-08-22T09:57:49.034Z"
      },
      {
        "duration": 7,
        "start_time": "2022-08-22T09:57:49.053Z"
      },
      {
        "duration": 29,
        "start_time": "2022-08-22T09:57:49.062Z"
      },
      {
        "duration": 79,
        "start_time": "2022-08-22T09:57:49.092Z"
      },
      {
        "duration": 12,
        "start_time": "2022-08-22T09:58:08.477Z"
      },
      {
        "duration": 14,
        "start_time": "2022-08-22T09:59:29.256Z"
      },
      {
        "duration": 8,
        "start_time": "2022-08-22T10:02:53.886Z"
      },
      {
        "duration": 4,
        "start_time": "2022-08-22T10:03:16.172Z"
      },
      {
        "duration": 47,
        "start_time": "2022-08-22T10:09:33.870Z"
      },
      {
        "duration": 4,
        "start_time": "2022-08-22T10:09:42.657Z"
      },
      {
        "duration": 16,
        "start_time": "2022-08-22T10:09:55.236Z"
      },
      {
        "duration": 884,
        "start_time": "2022-08-22T10:11:40.197Z"
      },
      {
        "duration": 502,
        "start_time": "2022-08-22T10:11:59.288Z"
      },
      {
        "duration": 176,
        "start_time": "2022-08-22T10:12:25.535Z"
      },
      {
        "duration": 162,
        "start_time": "2022-08-22T10:12:42.035Z"
      },
      {
        "duration": 7,
        "start_time": "2022-08-22T10:14:57.882Z"
      },
      {
        "duration": 7,
        "start_time": "2022-08-22T10:16:27.738Z"
      },
      {
        "duration": 666,
        "start_time": "2022-08-22T10:19:20.783Z"
      },
      {
        "duration": 6,
        "start_time": "2022-08-22T10:19:57.610Z"
      },
      {
        "duration": 67,
        "start_time": "2022-08-22T10:20:21.805Z"
      },
      {
        "duration": 147,
        "start_time": "2022-08-22T10:21:23.970Z"
      },
      {
        "duration": 168,
        "start_time": "2022-08-22T10:21:41.500Z"
      },
      {
        "duration": 133,
        "start_time": "2022-08-22T10:21:56.581Z"
      },
      {
        "duration": 121,
        "start_time": "2022-08-22T10:22:05.632Z"
      },
      {
        "duration": 166,
        "start_time": "2022-08-22T10:23:07.098Z"
      },
      {
        "duration": 14,
        "start_time": "2022-08-22T10:24:30.721Z"
      },
      {
        "duration": 174,
        "start_time": "2022-08-22T10:24:43.879Z"
      },
      {
        "duration": 139,
        "start_time": "2022-08-22T10:55:09.331Z"
      },
      {
        "duration": 131,
        "start_time": "2022-08-22T10:59:43.921Z"
      },
      {
        "duration": 11,
        "start_time": "2022-08-22T11:02:09.807Z"
      },
      {
        "duration": 78,
        "start_time": "2022-08-22T11:02:46.386Z"
      },
      {
        "duration": 197,
        "start_time": "2022-08-22T11:03:39.956Z"
      },
      {
        "duration": 61,
        "start_time": "2022-08-22T11:04:51.327Z"
      },
      {
        "duration": 118,
        "start_time": "2022-08-22T11:04:56.023Z"
      },
      {
        "duration": 121,
        "start_time": "2022-08-22T11:05:41.619Z"
      },
      {
        "duration": 205,
        "start_time": "2022-08-22T11:06:46.664Z"
      },
      {
        "duration": 171,
        "start_time": "2022-08-22T11:07:25.609Z"
      },
      {
        "duration": 171,
        "start_time": "2022-08-22T11:07:41.141Z"
      },
      {
        "duration": 185,
        "start_time": "2022-08-22T11:07:54.103Z"
      },
      {
        "duration": 255,
        "start_time": "2022-08-22T11:09:24.367Z"
      },
      {
        "duration": 193,
        "start_time": "2022-08-22T11:09:39.762Z"
      },
      {
        "duration": 40,
        "start_time": "2022-08-22T11:12:17.193Z"
      },
      {
        "duration": 27,
        "start_time": "2022-08-22T11:12:42.350Z"
      },
      {
        "duration": 6,
        "start_time": "2022-08-22T11:13:07.702Z"
      },
      {
        "duration": 6,
        "start_time": "2022-08-22T11:14:28.840Z"
      },
      {
        "duration": 17,
        "start_time": "2022-08-22T11:14:43.625Z"
      },
      {
        "duration": 108,
        "start_time": "2022-08-22T11:20:24.696Z"
      },
      {
        "duration": 111,
        "start_time": "2022-08-22T11:20:41.653Z"
      },
      {
        "duration": 131,
        "start_time": "2022-08-22T11:21:25.448Z"
      },
      {
        "duration": 50,
        "start_time": "2022-08-22T11:22:04.907Z"
      },
      {
        "duration": 133,
        "start_time": "2022-08-22T11:22:17.267Z"
      },
      {
        "duration": 131,
        "start_time": "2022-08-22T11:22:28.292Z"
      },
      {
        "duration": 192,
        "start_time": "2022-08-22T11:23:59.049Z"
      },
      {
        "duration": 53,
        "start_time": "2022-08-22T14:15:35.450Z"
      },
      {
        "duration": 359,
        "start_time": "2022-08-22T14:15:41.252Z"
      },
      {
        "duration": 91,
        "start_time": "2022-08-22T14:15:41.613Z"
      },
      {
        "duration": 27,
        "start_time": "2022-08-22T14:15:41.706Z"
      },
      {
        "duration": 16,
        "start_time": "2022-08-22T14:15:41.735Z"
      },
      {
        "duration": 29,
        "start_time": "2022-08-22T14:15:41.753Z"
      },
      {
        "duration": 4,
        "start_time": "2022-08-22T14:15:41.784Z"
      },
      {
        "duration": 10,
        "start_time": "2022-08-22T14:15:41.810Z"
      },
      {
        "duration": 15,
        "start_time": "2022-08-22T14:15:41.822Z"
      },
      {
        "duration": 17,
        "start_time": "2022-08-22T14:15:41.839Z"
      },
      {
        "duration": 5,
        "start_time": "2022-08-22T14:15:41.859Z"
      },
      {
        "duration": 628,
        "start_time": "2022-08-22T14:15:41.866Z"
      },
      {
        "duration": 19,
        "start_time": "2022-08-22T14:15:42.496Z"
      },
      {
        "duration": 16,
        "start_time": "2022-08-22T14:15:42.519Z"
      },
      {
        "duration": 218,
        "start_time": "2022-08-22T14:15:42.537Z"
      },
      {
        "duration": 7,
        "start_time": "2022-08-22T14:15:42.757Z"
      },
      {
        "duration": 33,
        "start_time": "2022-08-22T14:15:42.766Z"
      },
      {
        "duration": 68,
        "start_time": "2022-08-22T14:15:42.800Z"
      },
      {
        "duration": 0,
        "start_time": "2022-08-22T14:15:42.871Z"
      },
      {
        "duration": 8,
        "start_time": "2022-08-22T14:16:58.197Z"
      },
      {
        "duration": 144,
        "start_time": "2022-08-22T14:17:14.748Z"
      },
      {
        "duration": 27,
        "start_time": "2022-08-22T14:18:54.053Z"
      },
      {
        "duration": 19,
        "start_time": "2022-08-22T14:19:28.751Z"
      },
      {
        "duration": 7,
        "start_time": "2022-08-22T14:20:17.509Z"
      },
      {
        "duration": 60,
        "start_time": "2022-08-22T14:20:28.424Z"
      },
      {
        "duration": 21,
        "start_time": "2022-08-22T14:22:06.497Z"
      },
      {
        "duration": 151,
        "start_time": "2022-08-22T14:22:28.299Z"
      },
      {
        "duration": 306,
        "start_time": "2022-08-22T14:23:03.961Z"
      },
      {
        "duration": 177,
        "start_time": "2022-08-22T14:24:45.921Z"
      },
      {
        "duration": 309,
        "start_time": "2022-08-22T14:25:02.248Z"
      },
      {
        "duration": 276,
        "start_time": "2022-08-22T15:50:33.653Z"
      },
      {
        "duration": 271,
        "start_time": "2022-08-22T15:50:55.303Z"
      },
      {
        "duration": 143,
        "start_time": "2022-08-22T15:53:29.787Z"
      },
      {
        "duration": 298,
        "start_time": "2022-08-22T15:53:50.629Z"
      },
      {
        "duration": 7,
        "start_time": "2022-08-22T15:57:22.267Z"
      },
      {
        "duration": 7,
        "start_time": "2022-08-22T15:57:39.652Z"
      },
      {
        "duration": 46,
        "start_time": "2022-08-22T19:47:19.296Z"
      },
      {
        "duration": 415,
        "start_time": "2022-08-22T19:47:23.885Z"
      },
      {
        "duration": 192,
        "start_time": "2022-08-22T19:47:24.301Z"
      },
      {
        "duration": 21,
        "start_time": "2022-08-22T19:47:24.495Z"
      },
      {
        "duration": 25,
        "start_time": "2022-08-22T19:47:24.518Z"
      },
      {
        "duration": 42,
        "start_time": "2022-08-22T19:47:24.545Z"
      },
      {
        "duration": 4,
        "start_time": "2022-08-22T19:47:24.589Z"
      },
      {
        "duration": 21,
        "start_time": "2022-08-22T19:47:24.595Z"
      },
      {
        "duration": 15,
        "start_time": "2022-08-22T19:47:24.618Z"
      },
      {
        "duration": 25,
        "start_time": "2022-08-22T19:47:24.635Z"
      },
      {
        "duration": 8,
        "start_time": "2022-08-22T19:47:24.663Z"
      },
      {
        "duration": 599,
        "start_time": "2022-08-22T19:47:24.672Z"
      },
      {
        "duration": 9,
        "start_time": "2022-08-22T19:47:25.273Z"
      },
      {
        "duration": 12,
        "start_time": "2022-08-22T19:47:25.293Z"
      },
      {
        "duration": 199,
        "start_time": "2022-08-22T19:47:25.307Z"
      },
      {
        "duration": 5,
        "start_time": "2022-08-22T19:47:25.508Z"
      },
      {
        "duration": 10,
        "start_time": "2022-08-22T19:47:25.515Z"
      },
      {
        "duration": 406,
        "start_time": "2022-08-22T19:47:25.526Z"
      },
      {
        "duration": 4,
        "start_time": "2022-08-22T19:47:25.934Z"
      },
      {
        "duration": 72,
        "start_time": "2022-08-22T19:47:25.940Z"
      },
      {
        "duration": 0,
        "start_time": "2022-08-22T19:47:26.013Z"
      },
      {
        "duration": 37,
        "start_time": "2022-08-22T19:48:25.060Z"
      },
      {
        "duration": 9,
        "start_time": "2022-08-22T19:48:40.817Z"
      },
      {
        "duration": 8,
        "start_time": "2022-08-22T19:48:48.909Z"
      },
      {
        "duration": 7,
        "start_time": "2022-08-22T19:49:00.667Z"
      },
      {
        "duration": 18,
        "start_time": "2022-08-22T19:49:15.143Z"
      },
      {
        "duration": 15,
        "start_time": "2022-08-22T19:49:34.403Z"
      },
      {
        "duration": 13,
        "start_time": "2022-08-22T19:49:56.437Z"
      },
      {
        "duration": 17,
        "start_time": "2022-08-22T19:50:16.503Z"
      },
      {
        "duration": 15,
        "start_time": "2022-08-22T19:51:17.765Z"
      },
      {
        "duration": 17,
        "start_time": "2022-08-22T19:51:26.549Z"
      },
      {
        "duration": 33,
        "start_time": "2022-08-22T19:52:55.828Z"
      },
      {
        "duration": 31,
        "start_time": "2022-08-22T19:53:15.920Z"
      },
      {
        "duration": 28,
        "start_time": "2022-08-22T19:53:45.056Z"
      },
      {
        "duration": 28,
        "start_time": "2022-08-22T19:54:51.130Z"
      },
      {
        "duration": 31,
        "start_time": "2022-08-22T19:57:38.327Z"
      },
      {
        "duration": 28,
        "start_time": "2022-08-22T19:58:04.424Z"
      },
      {
        "duration": 30,
        "start_time": "2022-08-22T19:58:25.339Z"
      },
      {
        "duration": 141,
        "start_time": "2022-08-22T19:59:33.843Z"
      },
      {
        "duration": 145,
        "start_time": "2022-08-22T19:59:56.939Z"
      },
      {
        "duration": 168,
        "start_time": "2022-08-22T20:00:31.861Z"
      },
      {
        "duration": 28,
        "start_time": "2022-08-22T20:00:55.834Z"
      },
      {
        "duration": 149,
        "start_time": "2022-08-22T20:01:17.382Z"
      },
      {
        "duration": 147,
        "start_time": "2022-08-22T20:03:34.570Z"
      },
      {
        "duration": 469,
        "start_time": "2022-08-22T20:04:41.345Z"
      },
      {
        "duration": 452,
        "start_time": "2022-08-22T20:07:03.824Z"
      },
      {
        "duration": 18,
        "start_time": "2022-08-22T20:08:43.753Z"
      },
      {
        "duration": 194,
        "start_time": "2022-08-22T20:11:00.525Z"
      },
      {
        "duration": 228,
        "start_time": "2022-08-22T20:15:02.142Z"
      },
      {
        "duration": 29,
        "start_time": "2022-08-22T20:15:15.810Z"
      },
      {
        "duration": 268,
        "start_time": "2022-08-22T20:17:44.229Z"
      },
      {
        "duration": 13,
        "start_time": "2022-08-22T20:18:08.171Z"
      },
      {
        "duration": 1178,
        "start_time": "2022-08-22T20:18:33.592Z"
      },
      {
        "duration": 122,
        "start_time": "2022-08-22T20:18:56.437Z"
      },
      {
        "duration": 103,
        "start_time": "2022-08-22T20:19:19.342Z"
      },
      {
        "duration": 530,
        "start_time": "2022-08-22T20:21:53.154Z"
      },
      {
        "duration": 328,
        "start_time": "2022-08-22T20:22:18.131Z"
      },
      {
        "duration": 533,
        "start_time": "2022-08-22T20:28:32.968Z"
      },
      {
        "duration": 481,
        "start_time": "2022-08-22T20:29:41.541Z"
      },
      {
        "duration": 416,
        "start_time": "2022-08-22T20:29:52.538Z"
      },
      {
        "duration": 515,
        "start_time": "2022-08-22T20:30:08.783Z"
      },
      {
        "duration": 428,
        "start_time": "2022-08-22T20:30:24.810Z"
      },
      {
        "duration": 313,
        "start_time": "2022-08-22T20:30:36.165Z"
      },
      {
        "duration": 325,
        "start_time": "2022-08-22T20:30:59.692Z"
      },
      {
        "duration": 1822,
        "start_time": "2022-08-22T20:36:04.500Z"
      },
      {
        "duration": 1627,
        "start_time": "2022-08-22T20:38:26.221Z"
      },
      {
        "duration": 1309,
        "start_time": "2022-08-22T20:38:35.523Z"
      },
      {
        "duration": 130,
        "start_time": "2022-08-22T20:39:11.576Z"
      },
      {
        "duration": 169,
        "start_time": "2022-08-22T20:39:29.138Z"
      },
      {
        "duration": 176,
        "start_time": "2022-08-22T20:39:45.590Z"
      },
      {
        "duration": 269,
        "start_time": "2022-08-22T20:39:52.678Z"
      },
      {
        "duration": 333,
        "start_time": "2022-08-22T20:40:25.824Z"
      },
      {
        "duration": 391,
        "start_time": "2022-08-22T20:40:37.078Z"
      },
      {
        "duration": 52,
        "start_time": "2022-08-23T11:41:25.351Z"
      },
      {
        "duration": 549,
        "start_time": "2022-08-23T11:41:30.161Z"
      },
      {
        "duration": 103,
        "start_time": "2022-08-23T11:41:30.712Z"
      },
      {
        "duration": 21,
        "start_time": "2022-08-23T11:41:30.817Z"
      },
      {
        "duration": 40,
        "start_time": "2022-08-23T11:41:30.840Z"
      },
      {
        "duration": 32,
        "start_time": "2022-08-23T11:41:30.882Z"
      },
      {
        "duration": 3,
        "start_time": "2022-08-23T11:41:30.916Z"
      },
      {
        "duration": 29,
        "start_time": "2022-08-23T11:41:30.920Z"
      },
      {
        "duration": 39,
        "start_time": "2022-08-23T11:41:30.950Z"
      },
      {
        "duration": 36,
        "start_time": "2022-08-23T11:41:30.991Z"
      },
      {
        "duration": 9,
        "start_time": "2022-08-23T11:41:31.030Z"
      },
      {
        "duration": 647,
        "start_time": "2022-08-23T11:41:31.040Z"
      },
      {
        "duration": 9,
        "start_time": "2022-08-23T11:41:31.689Z"
      },
      {
        "duration": 30,
        "start_time": "2022-08-23T11:41:31.699Z"
      },
      {
        "duration": 189,
        "start_time": "2022-08-23T11:41:31.730Z"
      },
      {
        "duration": 6,
        "start_time": "2022-08-23T11:41:31.921Z"
      },
      {
        "duration": 26,
        "start_time": "2022-08-23T11:41:31.929Z"
      },
      {
        "duration": 425,
        "start_time": "2022-08-23T11:41:31.956Z"
      },
      {
        "duration": 5,
        "start_time": "2022-08-23T11:41:32.383Z"
      },
      {
        "duration": 313,
        "start_time": "2022-08-23T11:41:32.389Z"
      },
      {
        "duration": 162,
        "start_time": "2022-08-23T11:41:32.703Z"
      },
      {
        "duration": 25,
        "start_time": "2022-08-23T11:41:32.867Z"
      },
      {
        "duration": 29,
        "start_time": "2022-08-23T11:41:32.894Z"
      },
      {
        "duration": 50,
        "start_time": "2022-08-23T11:41:32.926Z"
      },
      {
        "duration": 30,
        "start_time": "2022-08-23T11:41:32.978Z"
      },
      {
        "duration": 216,
        "start_time": "2022-08-23T11:41:33.010Z"
      },
      {
        "duration": 76,
        "start_time": "2022-08-23T11:41:33.227Z"
      },
      {
        "duration": 0,
        "start_time": "2022-08-23T11:41:33.305Z"
      },
      {
        "duration": 23,
        "start_time": "2022-08-23T11:42:48.657Z"
      },
      {
        "duration": 83,
        "start_time": "2022-08-23T11:43:48.859Z"
      },
      {
        "duration": 24,
        "start_time": "2022-08-23T11:44:02.274Z"
      },
      {
        "duration": 151,
        "start_time": "2022-08-23T11:46:11.469Z"
      },
      {
        "duration": 131,
        "start_time": "2022-08-23T11:46:52.076Z"
      },
      {
        "duration": 8,
        "start_time": "2022-08-23T11:49:56.679Z"
      },
      {
        "duration": 1734,
        "start_time": "2022-08-23T11:50:21.962Z"
      },
      {
        "duration": 10,
        "start_time": "2022-08-23T11:50:39.774Z"
      },
      {
        "duration": 175,
        "start_time": "2022-08-23T11:53:52.749Z"
      },
      {
        "duration": 29,
        "start_time": "2022-08-23T11:55:16.986Z"
      },
      {
        "duration": 15,
        "start_time": "2022-08-23T11:58:00.421Z"
      },
      {
        "duration": 25,
        "start_time": "2022-08-23T11:58:38.584Z"
      },
      {
        "duration": 8,
        "start_time": "2022-08-23T11:59:10.226Z"
      },
      {
        "duration": 167,
        "start_time": "2022-08-23T11:59:21.121Z"
      },
      {
        "duration": 8,
        "start_time": "2022-08-23T12:00:35.071Z"
      },
      {
        "duration": 7,
        "start_time": "2022-08-23T12:01:39.064Z"
      },
      {
        "duration": 8,
        "start_time": "2022-08-23T12:05:07.665Z"
      },
      {
        "duration": 6,
        "start_time": "2022-08-23T12:05:45.893Z"
      },
      {
        "duration": 8,
        "start_time": "2022-08-23T12:06:46.696Z"
      },
      {
        "duration": 47,
        "start_time": "2022-08-23T12:07:05.946Z"
      },
      {
        "duration": 10,
        "start_time": "2022-08-23T12:07:29.305Z"
      },
      {
        "duration": 14,
        "start_time": "2022-08-23T12:07:44.688Z"
      },
      {
        "duration": 57,
        "start_time": "2022-08-23T12:07:44.705Z"
      },
      {
        "duration": 14,
        "start_time": "2022-08-23T12:07:44.764Z"
      },
      {
        "duration": 16,
        "start_time": "2022-08-23T12:07:44.779Z"
      },
      {
        "duration": 28,
        "start_time": "2022-08-23T12:07:44.796Z"
      },
      {
        "duration": 865,
        "start_time": "2022-08-23T12:07:44.826Z"
      },
      {
        "duration": 0,
        "start_time": "2022-08-23T12:07:45.694Z"
      },
      {
        "duration": 0,
        "start_time": "2022-08-23T12:07:45.695Z"
      },
      {
        "duration": 0,
        "start_time": "2022-08-23T12:07:45.696Z"
      },
      {
        "duration": 0,
        "start_time": "2022-08-23T12:07:45.698Z"
      },
      {
        "duration": 0,
        "start_time": "2022-08-23T12:07:45.699Z"
      },
      {
        "duration": 0,
        "start_time": "2022-08-23T12:07:45.700Z"
      },
      {
        "duration": 0,
        "start_time": "2022-08-23T12:07:45.701Z"
      },
      {
        "duration": 0,
        "start_time": "2022-08-23T12:07:45.703Z"
      },
      {
        "duration": 0,
        "start_time": "2022-08-23T12:07:45.704Z"
      },
      {
        "duration": 0,
        "start_time": "2022-08-23T12:07:45.705Z"
      },
      {
        "duration": 0,
        "start_time": "2022-08-23T12:07:45.713Z"
      },
      {
        "duration": 0,
        "start_time": "2022-08-23T12:07:45.715Z"
      },
      {
        "duration": 0,
        "start_time": "2022-08-23T12:07:45.716Z"
      },
      {
        "duration": 0,
        "start_time": "2022-08-23T12:07:45.717Z"
      },
      {
        "duration": 0,
        "start_time": "2022-08-23T12:07:45.719Z"
      },
      {
        "duration": 0,
        "start_time": "2022-08-23T12:07:45.720Z"
      },
      {
        "duration": 0,
        "start_time": "2022-08-23T12:07:45.722Z"
      },
      {
        "duration": 0,
        "start_time": "2022-08-23T12:07:45.723Z"
      },
      {
        "duration": 0,
        "start_time": "2022-08-23T12:07:45.725Z"
      },
      {
        "duration": 0,
        "start_time": "2022-08-23T12:07:45.725Z"
      },
      {
        "duration": 0,
        "start_time": "2022-08-23T12:07:45.726Z"
      },
      {
        "duration": 0,
        "start_time": "2022-08-23T12:07:45.727Z"
      },
      {
        "duration": 0,
        "start_time": "2022-08-23T12:07:45.727Z"
      },
      {
        "duration": 0,
        "start_time": "2022-08-23T12:07:45.729Z"
      },
      {
        "duration": 0,
        "start_time": "2022-08-23T12:07:45.731Z"
      },
      {
        "duration": 0,
        "start_time": "2022-08-23T12:07:45.732Z"
      },
      {
        "duration": 3,
        "start_time": "2022-08-23T12:09:43.008Z"
      },
      {
        "duration": 68,
        "start_time": "2022-08-23T12:09:43.013Z"
      },
      {
        "duration": 14,
        "start_time": "2022-08-23T12:09:43.082Z"
      },
      {
        "duration": 39,
        "start_time": "2022-08-23T12:09:43.097Z"
      },
      {
        "duration": 40,
        "start_time": "2022-08-23T12:09:43.138Z"
      },
      {
        "duration": 2,
        "start_time": "2022-08-23T12:09:43.180Z"
      },
      {
        "duration": 17,
        "start_time": "2022-08-23T12:09:43.184Z"
      },
      {
        "duration": 21,
        "start_time": "2022-08-23T12:09:43.203Z"
      },
      {
        "duration": 16,
        "start_time": "2022-08-23T12:09:43.226Z"
      },
      {
        "duration": 24,
        "start_time": "2022-08-23T12:09:43.243Z"
      },
      {
        "duration": 21,
        "start_time": "2022-08-23T12:09:43.269Z"
      },
      {
        "duration": 27,
        "start_time": "2022-08-23T12:09:43.291Z"
      },
      {
        "duration": 228,
        "start_time": "2022-08-23T12:09:43.322Z"
      },
      {
        "duration": 10,
        "start_time": "2022-08-23T12:09:43.552Z"
      },
      {
        "duration": 18,
        "start_time": "2022-08-23T12:09:43.564Z"
      },
      {
        "duration": 255,
        "start_time": "2022-08-23T12:09:43.583Z"
      },
      {
        "duration": 6,
        "start_time": "2022-08-23T12:09:43.839Z"
      },
      {
        "duration": 15,
        "start_time": "2022-08-23T12:09:43.847Z"
      },
      {
        "duration": 327,
        "start_time": "2022-08-23T12:09:43.864Z"
      },
      {
        "duration": 4,
        "start_time": "2022-08-23T12:09:44.193Z"
      },
      {
        "duration": 308,
        "start_time": "2022-08-23T12:09:44.198Z"
      },
      {
        "duration": 160,
        "start_time": "2022-08-23T12:09:44.508Z"
      },
      {
        "duration": 140,
        "start_time": "2022-08-23T12:09:44.670Z"
      },
      {
        "duration": 10,
        "start_time": "2022-08-23T12:09:44.812Z"
      },
      {
        "duration": 190,
        "start_time": "2022-08-23T12:09:44.824Z"
      },
      {
        "duration": 23,
        "start_time": "2022-08-23T12:09:45.017Z"
      },
      {
        "duration": 41,
        "start_time": "2022-08-23T12:09:45.042Z"
      },
      {
        "duration": 30,
        "start_time": "2022-08-23T12:09:45.085Z"
      },
      {
        "duration": 45,
        "start_time": "2022-08-23T12:09:45.116Z"
      },
      {
        "duration": 208,
        "start_time": "2022-08-23T12:09:45.163Z"
      },
      {
        "duration": 72,
        "start_time": "2022-08-23T12:09:45.373Z"
      },
      {
        "duration": 0,
        "start_time": "2022-08-23T12:09:45.447Z"
      },
      {
        "duration": 22,
        "start_time": "2022-08-23T12:30:59.559Z"
      },
      {
        "duration": 9,
        "start_time": "2022-08-23T12:35:26.459Z"
      },
      {
        "duration": 553,
        "start_time": "2022-08-23T12:35:45.310Z"
      },
      {
        "duration": 12,
        "start_time": "2022-08-23T12:35:46.425Z"
      },
      {
        "duration": 10,
        "start_time": "2022-08-23T12:39:02.074Z"
      },
      {
        "duration": 961,
        "start_time": "2022-08-23T12:51:14.186Z"
      },
      {
        "duration": 1208,
        "start_time": "2022-08-23T12:51:42.085Z"
      },
      {
        "duration": 0,
        "start_time": "2022-08-23T12:51:43.296Z"
      },
      {
        "duration": 0,
        "start_time": "2022-08-23T12:51:43.297Z"
      },
      {
        "duration": 0,
        "start_time": "2022-08-23T12:51:43.298Z"
      },
      {
        "duration": 0,
        "start_time": "2022-08-23T12:51:43.299Z"
      },
      {
        "duration": 0,
        "start_time": "2022-08-23T12:51:43.300Z"
      },
      {
        "duration": 0,
        "start_time": "2022-08-23T12:51:43.301Z"
      },
      {
        "duration": 0,
        "start_time": "2022-08-23T12:51:43.302Z"
      },
      {
        "duration": 0,
        "start_time": "2022-08-23T12:51:43.303Z"
      },
      {
        "duration": 0,
        "start_time": "2022-08-23T12:51:43.304Z"
      },
      {
        "duration": 0,
        "start_time": "2022-08-23T12:51:43.305Z"
      },
      {
        "duration": 0,
        "start_time": "2022-08-23T12:51:43.306Z"
      },
      {
        "duration": 0,
        "start_time": "2022-08-23T12:51:43.307Z"
      },
      {
        "duration": 0,
        "start_time": "2022-08-23T12:51:43.308Z"
      },
      {
        "duration": 0,
        "start_time": "2022-08-23T12:51:43.309Z"
      },
      {
        "duration": 0,
        "start_time": "2022-08-23T12:51:43.310Z"
      },
      {
        "duration": 0,
        "start_time": "2022-08-23T12:51:43.310Z"
      },
      {
        "duration": 0,
        "start_time": "2022-08-23T12:51:43.312Z"
      },
      {
        "duration": 0,
        "start_time": "2022-08-23T12:51:43.313Z"
      },
      {
        "duration": 0,
        "start_time": "2022-08-23T12:51:43.313Z"
      },
      {
        "duration": 0,
        "start_time": "2022-08-23T12:51:43.314Z"
      },
      {
        "duration": 0,
        "start_time": "2022-08-23T12:51:43.315Z"
      },
      {
        "duration": 0,
        "start_time": "2022-08-23T12:51:43.316Z"
      },
      {
        "duration": 0,
        "start_time": "2022-08-23T12:51:43.317Z"
      },
      {
        "duration": 0,
        "start_time": "2022-08-23T12:51:43.318Z"
      },
      {
        "duration": 0,
        "start_time": "2022-08-23T12:51:43.319Z"
      },
      {
        "duration": 0,
        "start_time": "2022-08-23T12:51:43.320Z"
      },
      {
        "duration": 0,
        "start_time": "2022-08-23T12:51:43.321Z"
      },
      {
        "duration": 0,
        "start_time": "2022-08-23T12:51:43.322Z"
      },
      {
        "duration": 0,
        "start_time": "2022-08-23T12:51:43.323Z"
      },
      {
        "duration": 0,
        "start_time": "2022-08-23T12:51:43.324Z"
      },
      {
        "duration": 0,
        "start_time": "2022-08-23T12:51:43.324Z"
      },
      {
        "duration": 0,
        "start_time": "2022-08-23T12:51:43.325Z"
      },
      {
        "duration": 0,
        "start_time": "2022-08-23T12:51:43.326Z"
      },
      {
        "duration": 0,
        "start_time": "2022-08-23T12:51:43.327Z"
      },
      {
        "duration": 3,
        "start_time": "2022-08-23T12:51:56.396Z"
      },
      {
        "duration": 55,
        "start_time": "2022-08-23T12:51:56.812Z"
      },
      {
        "duration": 12,
        "start_time": "2022-08-23T12:51:57.463Z"
      },
      {
        "duration": 13,
        "start_time": "2022-08-23T12:51:57.705Z"
      },
      {
        "duration": 29,
        "start_time": "2022-08-23T12:51:57.941Z"
      },
      {
        "duration": 3,
        "start_time": "2022-08-23T12:52:00.005Z"
      },
      {
        "duration": 5,
        "start_time": "2022-08-23T12:52:01.242Z"
      },
      {
        "duration": 11,
        "start_time": "2022-08-23T12:52:02.354Z"
      },
      {
        "duration": 9,
        "start_time": "2022-08-23T12:52:04.623Z"
      },
      {
        "duration": 9,
        "start_time": "2022-08-23T12:52:06.016Z"
      },
      {
        "duration": 9,
        "start_time": "2022-08-23T12:52:07.073Z"
      },
      {
        "duration": 5,
        "start_time": "2022-08-23T12:52:07.784Z"
      },
      {
        "duration": 1110,
        "start_time": "2022-08-23T12:52:16.079Z"
      },
      {
        "duration": 4,
        "start_time": "2022-08-23T12:52:23.895Z"
      },
      {
        "duration": 3,
        "start_time": "2022-08-23T13:30:08.727Z"
      },
      {
        "duration": 55,
        "start_time": "2022-08-23T13:30:08.732Z"
      },
      {
        "duration": 13,
        "start_time": "2022-08-23T13:30:08.788Z"
      },
      {
        "duration": 15,
        "start_time": "2022-08-23T13:30:08.802Z"
      },
      {
        "duration": 38,
        "start_time": "2022-08-23T13:30:08.819Z"
      },
      {
        "duration": 3,
        "start_time": "2022-08-23T13:30:08.859Z"
      },
      {
        "duration": 7,
        "start_time": "2022-08-23T13:30:08.863Z"
      },
      {
        "duration": 13,
        "start_time": "2022-08-23T13:30:08.871Z"
      },
      {
        "duration": 8,
        "start_time": "2022-08-23T13:30:08.885Z"
      },
      {
        "duration": 7,
        "start_time": "2022-08-23T13:30:08.894Z"
      },
      {
        "duration": 8,
        "start_time": "2022-08-23T13:30:08.903Z"
      },
      {
        "duration": 4,
        "start_time": "2022-08-23T13:30:08.913Z"
      },
      {
        "duration": 196,
        "start_time": "2022-08-23T13:30:08.918Z"
      },
      {
        "duration": 6,
        "start_time": "2022-08-23T13:30:09.117Z"
      },
      {
        "duration": 10,
        "start_time": "2022-08-23T13:30:09.125Z"
      },
      {
        "duration": 212,
        "start_time": "2022-08-23T13:30:09.136Z"
      },
      {
        "duration": 11,
        "start_time": "2022-08-23T13:30:09.350Z"
      },
      {
        "duration": 6,
        "start_time": "2022-08-23T13:30:09.363Z"
      },
      {
        "duration": 322,
        "start_time": "2022-08-23T13:30:09.370Z"
      },
      {
        "duration": 4,
        "start_time": "2022-08-23T13:30:09.694Z"
      },
      {
        "duration": 313,
        "start_time": "2022-08-23T13:30:09.700Z"
      },
      {
        "duration": 162,
        "start_time": "2022-08-23T13:30:10.015Z"
      },
      {
        "duration": 174,
        "start_time": "2022-08-23T13:30:10.179Z"
      },
      {
        "duration": 12,
        "start_time": "2022-08-23T13:30:10.357Z"
      },
      {
        "duration": 191,
        "start_time": "2022-08-23T13:30:10.371Z"
      },
      {
        "duration": 21,
        "start_time": "2022-08-23T13:30:10.564Z"
      },
      {
        "duration": 26,
        "start_time": "2022-08-23T13:30:10.586Z"
      },
      {
        "duration": 47,
        "start_time": "2022-08-23T13:30:10.614Z"
      },
      {
        "duration": 129,
        "start_time": "2022-08-23T13:30:10.663Z"
      },
      {
        "duration": 187,
        "start_time": "2022-08-23T13:30:10.794Z"
      },
      {
        "duration": 3,
        "start_time": "2022-08-23T13:30:10.982Z"
      },
      {
        "duration": 18,
        "start_time": "2022-08-23T13:30:10.987Z"
      },
      {
        "duration": 14,
        "start_time": "2022-08-23T13:30:11.006Z"
      },
      {
        "duration": 50,
        "start_time": "2022-08-23T13:30:11.022Z"
      },
      {
        "duration": 11,
        "start_time": "2022-08-23T13:32:05.192Z"
      },
      {
        "duration": 5,
        "start_time": "2022-08-23T13:32:16.009Z"
      },
      {
        "duration": 14,
        "start_time": "2022-08-23T14:32:33.751Z"
      },
      {
        "duration": 3,
        "start_time": "2022-08-23T14:33:35.122Z"
      },
      {
        "duration": 75,
        "start_time": "2022-08-23T14:33:35.126Z"
      },
      {
        "duration": 16,
        "start_time": "2022-08-23T14:33:35.203Z"
      },
      {
        "duration": 106,
        "start_time": "2022-08-23T14:33:35.222Z"
      },
      {
        "duration": 41,
        "start_time": "2022-08-23T14:33:35.330Z"
      },
      {
        "duration": 4,
        "start_time": "2022-08-23T14:33:35.373Z"
      },
      {
        "duration": 31,
        "start_time": "2022-08-23T14:33:35.379Z"
      },
      {
        "duration": 0,
        "start_time": "2022-08-23T14:33:35.413Z"
      },
      {
        "duration": 1,
        "start_time": "2022-08-23T14:33:35.415Z"
      },
      {
        "duration": 0,
        "start_time": "2022-08-23T14:33:35.417Z"
      },
      {
        "duration": 0,
        "start_time": "2022-08-23T14:33:35.419Z"
      },
      {
        "duration": 0,
        "start_time": "2022-08-23T14:33:35.421Z"
      },
      {
        "duration": 0,
        "start_time": "2022-08-23T14:33:35.422Z"
      },
      {
        "duration": 0,
        "start_time": "2022-08-23T14:33:35.424Z"
      },
      {
        "duration": 0,
        "start_time": "2022-08-23T14:33:35.426Z"
      },
      {
        "duration": 0,
        "start_time": "2022-08-23T14:33:35.427Z"
      },
      {
        "duration": 0,
        "start_time": "2022-08-23T14:33:35.429Z"
      },
      {
        "duration": 0,
        "start_time": "2022-08-23T14:33:35.430Z"
      },
      {
        "duration": 0,
        "start_time": "2022-08-23T14:33:35.432Z"
      },
      {
        "duration": 0,
        "start_time": "2022-08-23T14:33:35.458Z"
      },
      {
        "duration": 0,
        "start_time": "2022-08-23T14:33:35.459Z"
      },
      {
        "duration": 0,
        "start_time": "2022-08-23T14:33:35.460Z"
      },
      {
        "duration": 0,
        "start_time": "2022-08-23T14:33:35.462Z"
      },
      {
        "duration": 0,
        "start_time": "2022-08-23T14:33:35.464Z"
      },
      {
        "duration": 1,
        "start_time": "2022-08-23T14:33:35.465Z"
      },
      {
        "duration": 0,
        "start_time": "2022-08-23T14:33:35.468Z"
      },
      {
        "duration": 0,
        "start_time": "2022-08-23T14:33:35.469Z"
      },
      {
        "duration": 0,
        "start_time": "2022-08-23T14:33:35.471Z"
      },
      {
        "duration": 0,
        "start_time": "2022-08-23T14:33:35.473Z"
      },
      {
        "duration": 0,
        "start_time": "2022-08-23T14:33:35.474Z"
      },
      {
        "duration": 0,
        "start_time": "2022-08-23T14:33:35.475Z"
      },
      {
        "duration": 0,
        "start_time": "2022-08-23T14:33:35.477Z"
      },
      {
        "duration": 0,
        "start_time": "2022-08-23T14:33:35.479Z"
      },
      {
        "duration": 0,
        "start_time": "2022-08-23T14:33:35.480Z"
      },
      {
        "duration": 2,
        "start_time": "2022-08-23T14:34:17.350Z"
      },
      {
        "duration": 50,
        "start_time": "2022-08-23T14:34:19.470Z"
      },
      {
        "duration": 13,
        "start_time": "2022-08-23T14:34:20.808Z"
      },
      {
        "duration": 423,
        "start_time": "2022-08-23T14:36:50.150Z"
      },
      {
        "duration": 53,
        "start_time": "2022-08-23T14:36:50.575Z"
      },
      {
        "duration": 22,
        "start_time": "2022-08-23T14:36:50.629Z"
      },
      {
        "duration": 14,
        "start_time": "2022-08-23T14:36:50.654Z"
      },
      {
        "duration": 28,
        "start_time": "2022-08-23T14:36:50.670Z"
      },
      {
        "duration": 3,
        "start_time": "2022-08-23T14:36:50.699Z"
      },
      {
        "duration": 87,
        "start_time": "2022-08-23T14:36:50.703Z"
      },
      {
        "duration": 0,
        "start_time": "2022-08-23T14:36:50.793Z"
      },
      {
        "duration": 0,
        "start_time": "2022-08-23T14:36:50.795Z"
      },
      {
        "duration": 0,
        "start_time": "2022-08-23T14:36:50.795Z"
      },
      {
        "duration": 0,
        "start_time": "2022-08-23T14:36:50.796Z"
      },
      {
        "duration": 0,
        "start_time": "2022-08-23T14:36:50.797Z"
      },
      {
        "duration": 0,
        "start_time": "2022-08-23T14:36:50.798Z"
      },
      {
        "duration": 0,
        "start_time": "2022-08-23T14:36:50.799Z"
      },
      {
        "duration": 0,
        "start_time": "2022-08-23T14:36:50.799Z"
      },
      {
        "duration": 0,
        "start_time": "2022-08-23T14:36:50.800Z"
      },
      {
        "duration": 0,
        "start_time": "2022-08-23T14:36:50.801Z"
      },
      {
        "duration": 0,
        "start_time": "2022-08-23T14:36:50.802Z"
      },
      {
        "duration": 0,
        "start_time": "2022-08-23T14:36:50.802Z"
      },
      {
        "duration": 0,
        "start_time": "2022-08-23T14:36:50.803Z"
      },
      {
        "duration": 0,
        "start_time": "2022-08-23T14:36:50.804Z"
      },
      {
        "duration": 0,
        "start_time": "2022-08-23T14:36:50.805Z"
      },
      {
        "duration": 0,
        "start_time": "2022-08-23T14:36:50.806Z"
      },
      {
        "duration": 0,
        "start_time": "2022-08-23T14:36:50.807Z"
      },
      {
        "duration": 0,
        "start_time": "2022-08-23T14:36:50.808Z"
      },
      {
        "duration": 0,
        "start_time": "2022-08-23T14:36:50.809Z"
      },
      {
        "duration": 0,
        "start_time": "2022-08-23T14:36:50.810Z"
      },
      {
        "duration": 0,
        "start_time": "2022-08-23T14:36:50.811Z"
      },
      {
        "duration": 0,
        "start_time": "2022-08-23T14:36:50.812Z"
      },
      {
        "duration": 0,
        "start_time": "2022-08-23T14:36:50.812Z"
      },
      {
        "duration": 0,
        "start_time": "2022-08-23T14:36:50.813Z"
      },
      {
        "duration": 0,
        "start_time": "2022-08-23T14:36:50.814Z"
      },
      {
        "duration": 0,
        "start_time": "2022-08-23T14:36:50.815Z"
      },
      {
        "duration": 0,
        "start_time": "2022-08-23T14:36:50.816Z"
      },
      {
        "duration": 9,
        "start_time": "2022-08-23T14:37:49.850Z"
      },
      {
        "duration": 38,
        "start_time": "2022-08-23T14:38:20.475Z"
      },
      {
        "duration": 11,
        "start_time": "2022-08-23T14:38:46.257Z"
      },
      {
        "duration": 15,
        "start_time": "2022-08-23T14:41:13.176Z"
      },
      {
        "duration": 12,
        "start_time": "2022-08-23T14:42:15.592Z"
      },
      {
        "duration": 6,
        "start_time": "2022-08-23T14:43:52.375Z"
      },
      {
        "duration": 5,
        "start_time": "2022-08-23T14:44:30.418Z"
      },
      {
        "duration": 2,
        "start_time": "2022-08-23T14:45:25.541Z"
      },
      {
        "duration": 67,
        "start_time": "2022-08-23T14:45:25.548Z"
      },
      {
        "duration": 16,
        "start_time": "2022-08-23T14:45:25.617Z"
      },
      {
        "duration": 38,
        "start_time": "2022-08-23T14:45:25.635Z"
      },
      {
        "duration": 37,
        "start_time": "2022-08-23T14:45:25.676Z"
      },
      {
        "duration": 4,
        "start_time": "2022-08-23T14:45:25.715Z"
      },
      {
        "duration": 51,
        "start_time": "2022-08-23T14:45:25.720Z"
      },
      {
        "duration": 30,
        "start_time": "2022-08-23T14:45:25.773Z"
      },
      {
        "duration": 28,
        "start_time": "2022-08-23T14:45:25.804Z"
      },
      {
        "duration": 31,
        "start_time": "2022-08-23T14:45:25.833Z"
      },
      {
        "duration": 22,
        "start_time": "2022-08-23T14:45:25.868Z"
      },
      {
        "duration": 30,
        "start_time": "2022-08-23T14:45:25.892Z"
      },
      {
        "duration": 27,
        "start_time": "2022-08-23T14:45:25.924Z"
      },
      {
        "duration": 404,
        "start_time": "2022-08-23T14:45:25.953Z"
      },
      {
        "duration": 7,
        "start_time": "2022-08-23T14:45:26.358Z"
      },
      {
        "duration": 9,
        "start_time": "2022-08-23T14:45:26.367Z"
      },
      {
        "duration": 176,
        "start_time": "2022-08-23T14:45:26.377Z"
      },
      {
        "duration": 5,
        "start_time": "2022-08-23T14:45:26.557Z"
      },
      {
        "duration": 9,
        "start_time": "2022-08-23T14:45:26.564Z"
      },
      {
        "duration": 382,
        "start_time": "2022-08-23T14:45:26.575Z"
      },
      {
        "duration": 4,
        "start_time": "2022-08-23T14:45:26.960Z"
      },
      {
        "duration": 306,
        "start_time": "2022-08-23T14:45:26.966Z"
      },
      {
        "duration": 156,
        "start_time": "2022-08-23T14:45:27.274Z"
      },
      {
        "duration": 135,
        "start_time": "2022-08-23T14:45:27.432Z"
      },
      {
        "duration": 9,
        "start_time": "2022-08-23T14:45:27.568Z"
      },
      {
        "duration": 183,
        "start_time": "2022-08-23T14:45:27.579Z"
      },
      {
        "duration": 22,
        "start_time": "2022-08-23T14:45:27.764Z"
      },
      {
        "duration": 26,
        "start_time": "2022-08-23T14:45:27.788Z"
      },
      {
        "duration": 50,
        "start_time": "2022-08-23T14:45:27.817Z"
      },
      {
        "duration": 27,
        "start_time": "2022-08-23T14:45:27.869Z"
      },
      {
        "duration": 189,
        "start_time": "2022-08-23T14:45:27.897Z"
      },
      {
        "duration": 434,
        "start_time": "2022-08-23T14:45:28.088Z"
      },
      {
        "duration": 12,
        "start_time": "2022-08-23T14:45:28.524Z"
      },
      {
        "duration": 9,
        "start_time": "2022-08-23T14:45:28.537Z"
      },
      {
        "duration": 49,
        "start_time": "2022-08-23T14:45:28.557Z"
      },
      {
        "duration": 5,
        "start_time": "2022-08-23T14:46:29.438Z"
      },
      {
        "duration": 6,
        "start_time": "2022-08-23T14:54:18.182Z"
      },
      {
        "duration": 91,
        "start_time": "2022-08-23T14:54:37.335Z"
      },
      {
        "duration": 4,
        "start_time": "2022-08-23T14:54:43.875Z"
      },
      {
        "duration": 7,
        "start_time": "2022-08-23T14:55:01.863Z"
      },
      {
        "duration": 3,
        "start_time": "2022-08-23T14:55:19.295Z"
      },
      {
        "duration": 51,
        "start_time": "2022-08-23T14:55:19.389Z"
      },
      {
        "duration": 14,
        "start_time": "2022-08-23T14:55:19.442Z"
      },
      {
        "duration": 23,
        "start_time": "2022-08-23T14:55:19.457Z"
      },
      {
        "duration": 26,
        "start_time": "2022-08-23T14:55:19.482Z"
      },
      {
        "duration": 3,
        "start_time": "2022-08-23T14:55:19.510Z"
      },
      {
        "duration": 12,
        "start_time": "2022-08-23T14:55:19.514Z"
      },
      {
        "duration": 6,
        "start_time": "2022-08-23T14:55:19.527Z"
      },
      {
        "duration": 13,
        "start_time": "2022-08-23T14:55:19.534Z"
      },
      {
        "duration": 8,
        "start_time": "2022-08-23T14:55:19.557Z"
      },
      {
        "duration": 4,
        "start_time": "2022-08-23T14:55:19.566Z"
      },
      {
        "duration": 11,
        "start_time": "2022-08-23T14:55:19.572Z"
      },
      {
        "duration": 3,
        "start_time": "2022-08-23T14:55:19.584Z"
      },
      {
        "duration": 22,
        "start_time": "2022-08-23T14:55:19.589Z"
      },
      {
        "duration": 13,
        "start_time": "2022-08-23T14:55:19.613Z"
      },
      {
        "duration": 5,
        "start_time": "2022-08-23T14:55:19.628Z"
      },
      {
        "duration": 176,
        "start_time": "2022-08-23T14:55:19.635Z"
      },
      {
        "duration": 7,
        "start_time": "2022-08-23T14:55:19.812Z"
      },
      {
        "duration": 15,
        "start_time": "2022-08-23T14:55:19.820Z"
      },
      {
        "duration": 179,
        "start_time": "2022-08-23T14:55:19.836Z"
      },
      {
        "duration": 6,
        "start_time": "2022-08-23T14:55:20.017Z"
      },
      {
        "duration": 11,
        "start_time": "2022-08-23T14:55:20.025Z"
      },
      {
        "duration": 318,
        "start_time": "2022-08-23T14:55:20.037Z"
      },
      {
        "duration": 3,
        "start_time": "2022-08-23T14:55:20.358Z"
      },
      {
        "duration": 302,
        "start_time": "2022-08-23T14:55:20.364Z"
      },
      {
        "duration": 159,
        "start_time": "2022-08-23T14:55:20.668Z"
      },
      {
        "duration": 142,
        "start_time": "2022-08-23T14:55:20.828Z"
      },
      {
        "duration": 8,
        "start_time": "2022-08-23T14:55:20.972Z"
      },
      {
        "duration": 178,
        "start_time": "2022-08-23T14:55:20.982Z"
      },
      {
        "duration": 21,
        "start_time": "2022-08-23T14:55:21.161Z"
      },
      {
        "duration": 24,
        "start_time": "2022-08-23T14:55:21.184Z"
      },
      {
        "duration": 50,
        "start_time": "2022-08-23T14:55:21.209Z"
      },
      {
        "duration": 24,
        "start_time": "2022-08-23T14:55:21.261Z"
      },
      {
        "duration": 188,
        "start_time": "2022-08-23T14:55:21.287Z"
      },
      {
        "duration": 3,
        "start_time": "2022-08-23T14:55:21.477Z"
      },
      {
        "duration": 12,
        "start_time": "2022-08-23T14:55:21.482Z"
      },
      {
        "duration": 9,
        "start_time": "2022-08-23T14:55:21.496Z"
      },
      {
        "duration": 53,
        "start_time": "2022-08-23T14:55:21.506Z"
      },
      {
        "duration": 3,
        "start_time": "2022-08-23T14:56:23.379Z"
      },
      {
        "duration": 48,
        "start_time": "2022-08-23T14:56:23.392Z"
      },
      {
        "duration": 12,
        "start_time": "2022-08-23T14:56:23.442Z"
      },
      {
        "duration": 14,
        "start_time": "2022-08-23T14:56:23.455Z"
      },
      {
        "duration": 25,
        "start_time": "2022-08-23T14:56:23.471Z"
      },
      {
        "duration": 3,
        "start_time": "2022-08-23T14:56:23.498Z"
      },
      {
        "duration": 11,
        "start_time": "2022-08-23T14:56:23.502Z"
      },
      {
        "duration": 5,
        "start_time": "2022-08-23T14:56:23.515Z"
      },
      {
        "duration": 11,
        "start_time": "2022-08-23T14:56:23.521Z"
      },
      {
        "duration": 26,
        "start_time": "2022-08-23T14:56:23.534Z"
      },
      {
        "duration": 6,
        "start_time": "2022-08-23T14:56:23.561Z"
      },
      {
        "duration": 95,
        "start_time": "2022-08-23T14:56:23.568Z"
      },
      {
        "duration": 3,
        "start_time": "2022-08-23T14:56:23.664Z"
      },
      {
        "duration": 7,
        "start_time": "2022-08-23T14:56:23.668Z"
      },
      {
        "duration": 6,
        "start_time": "2022-08-23T14:56:23.676Z"
      },
      {
        "duration": 6,
        "start_time": "2022-08-23T14:56:23.684Z"
      },
      {
        "duration": 196,
        "start_time": "2022-08-23T14:56:23.691Z"
      },
      {
        "duration": 8,
        "start_time": "2022-08-23T14:56:23.889Z"
      },
      {
        "duration": 8,
        "start_time": "2022-08-23T14:56:23.900Z"
      },
      {
        "duration": 190,
        "start_time": "2022-08-23T14:56:23.909Z"
      },
      {
        "duration": 8,
        "start_time": "2022-08-23T14:56:24.101Z"
      },
      {
        "duration": 17,
        "start_time": "2022-08-23T14:56:24.110Z"
      },
      {
        "duration": 324,
        "start_time": "2022-08-23T14:56:24.128Z"
      },
      {
        "duration": 5,
        "start_time": "2022-08-23T14:56:24.454Z"
      },
      {
        "duration": 291,
        "start_time": "2022-08-23T14:56:24.460Z"
      },
      {
        "duration": 150,
        "start_time": "2022-08-23T14:56:24.753Z"
      },
      {
        "duration": 139,
        "start_time": "2022-08-23T14:56:24.904Z"
      },
      {
        "duration": 15,
        "start_time": "2022-08-23T14:56:25.045Z"
      },
      {
        "duration": 213,
        "start_time": "2022-08-23T14:56:25.061Z"
      },
      {
        "duration": 30,
        "start_time": "2022-08-23T14:56:25.277Z"
      },
      {
        "duration": 54,
        "start_time": "2022-08-23T14:56:25.309Z"
      },
      {
        "duration": 35,
        "start_time": "2022-08-23T14:56:25.365Z"
      },
      {
        "duration": 35,
        "start_time": "2022-08-23T14:56:25.402Z"
      },
      {
        "duration": 210,
        "start_time": "2022-08-23T14:56:25.439Z"
      },
      {
        "duration": 2,
        "start_time": "2022-08-23T14:56:25.657Z"
      },
      {
        "duration": 22,
        "start_time": "2022-08-23T14:56:25.661Z"
      },
      {
        "duration": 9,
        "start_time": "2022-08-23T14:56:25.685Z"
      },
      {
        "duration": 49,
        "start_time": "2022-08-23T14:56:25.696Z"
      },
      {
        "duration": 2,
        "start_time": "2022-08-23T14:57:00.358Z"
      },
      {
        "duration": 52,
        "start_time": "2022-08-23T14:57:01.180Z"
      },
      {
        "duration": 14,
        "start_time": "2022-08-23T14:57:01.921Z"
      },
      {
        "duration": 13,
        "start_time": "2022-08-23T14:57:03.093Z"
      },
      {
        "duration": 27,
        "start_time": "2022-08-23T14:57:04.072Z"
      },
      {
        "duration": 3,
        "start_time": "2022-08-23T14:57:11.533Z"
      },
      {
        "duration": 9,
        "start_time": "2022-08-23T14:57:12.955Z"
      },
      {
        "duration": 10,
        "start_time": "2022-08-23T14:57:44.201Z"
      },
      {
        "duration": 4,
        "start_time": "2022-08-23T14:58:10.882Z"
      },
      {
        "duration": 5,
        "start_time": "2022-08-23T14:58:20.110Z"
      },
      {
        "duration": 9,
        "start_time": "2022-08-23T14:58:46.185Z"
      },
      {
        "duration": 44,
        "start_time": "2022-08-23T14:59:51.128Z"
      },
      {
        "duration": 11,
        "start_time": "2022-08-23T15:00:21.181Z"
      },
      {
        "duration": 6,
        "start_time": "2022-08-23T15:00:22.693Z"
      },
      {
        "duration": 9,
        "start_time": "2022-08-23T15:00:32.162Z"
      },
      {
        "duration": 6,
        "start_time": "2022-08-23T15:01:15.695Z"
      },
      {
        "duration": 9,
        "start_time": "2022-08-23T15:05:47.965Z"
      },
      {
        "duration": 7,
        "start_time": "2022-08-23T15:06:25.477Z"
      },
      {
        "duration": 3,
        "start_time": "2022-08-23T15:09:37.563Z"
      },
      {
        "duration": 54,
        "start_time": "2022-08-23T15:09:37.573Z"
      },
      {
        "duration": 14,
        "start_time": "2022-08-23T15:09:37.629Z"
      },
      {
        "duration": 18,
        "start_time": "2022-08-23T15:09:37.645Z"
      },
      {
        "duration": 27,
        "start_time": "2022-08-23T15:09:37.665Z"
      },
      {
        "duration": 3,
        "start_time": "2022-08-23T15:09:37.694Z"
      },
      {
        "duration": 16,
        "start_time": "2022-08-23T15:09:37.698Z"
      },
      {
        "duration": 4,
        "start_time": "2022-08-23T15:09:37.716Z"
      },
      {
        "duration": 18,
        "start_time": "2022-08-23T15:09:37.722Z"
      },
      {
        "duration": 4,
        "start_time": "2022-08-23T15:09:37.758Z"
      },
      {
        "duration": 8,
        "start_time": "2022-08-23T15:09:37.763Z"
      },
      {
        "duration": 13,
        "start_time": "2022-08-23T15:09:37.772Z"
      },
      {
        "duration": 12,
        "start_time": "2022-08-23T15:09:37.787Z"
      },
      {
        "duration": 5,
        "start_time": "2022-08-23T15:09:37.801Z"
      },
      {
        "duration": 5,
        "start_time": "2022-08-23T15:09:37.810Z"
      },
      {
        "duration": 6,
        "start_time": "2022-08-23T15:09:37.816Z"
      },
      {
        "duration": 203,
        "start_time": "2022-08-23T15:09:37.824Z"
      },
      {
        "duration": 6,
        "start_time": "2022-08-23T15:09:38.029Z"
      },
      {
        "duration": 8,
        "start_time": "2022-08-23T15:09:38.037Z"
      },
      {
        "duration": 9,
        "start_time": "2022-08-23T15:09:38.057Z"
      },
      {
        "duration": 182,
        "start_time": "2022-08-23T15:09:38.068Z"
      },
      {
        "duration": 9,
        "start_time": "2022-08-23T15:09:38.252Z"
      },
      {
        "duration": 14,
        "start_time": "2022-08-23T15:09:38.262Z"
      },
      {
        "duration": 408,
        "start_time": "2022-08-23T15:09:38.277Z"
      },
      {
        "duration": 5,
        "start_time": "2022-08-23T15:09:38.687Z"
      },
      {
        "duration": 313,
        "start_time": "2022-08-23T15:09:38.694Z"
      },
      {
        "duration": 165,
        "start_time": "2022-08-23T15:09:39.008Z"
      },
      {
        "duration": 156,
        "start_time": "2022-08-23T15:09:39.175Z"
      },
      {
        "duration": 9,
        "start_time": "2022-08-23T15:09:39.333Z"
      },
      {
        "duration": 184,
        "start_time": "2022-08-23T15:09:39.344Z"
      },
      {
        "duration": 28,
        "start_time": "2022-08-23T15:09:39.530Z"
      },
      {
        "duration": 34,
        "start_time": "2022-08-23T15:09:39.560Z"
      },
      {
        "duration": 32,
        "start_time": "2022-08-23T15:09:39.596Z"
      },
      {
        "duration": 38,
        "start_time": "2022-08-23T15:09:39.630Z"
      },
      {
        "duration": 196,
        "start_time": "2022-08-23T15:09:39.669Z"
      },
      {
        "duration": 3,
        "start_time": "2022-08-23T15:09:39.867Z"
      },
      {
        "duration": 19,
        "start_time": "2022-08-23T15:09:39.872Z"
      },
      {
        "duration": 10,
        "start_time": "2022-08-23T15:09:39.893Z"
      },
      {
        "duration": 61,
        "start_time": "2022-08-23T15:09:39.904Z"
      },
      {
        "duration": 306,
        "start_time": "2022-08-23T15:11:13.234Z"
      },
      {
        "duration": 173,
        "start_time": "2022-08-23T15:11:30.471Z"
      },
      {
        "duration": 161,
        "start_time": "2022-08-23T15:11:44.541Z"
      },
      {
        "duration": 317,
        "start_time": "2022-08-23T15:12:20.419Z"
      },
      {
        "duration": 473,
        "start_time": "2022-08-23T15:13:26.933Z"
      },
      {
        "duration": 364,
        "start_time": "2022-08-23T15:14:58.159Z"
      },
      {
        "duration": 142,
        "start_time": "2022-08-23T15:18:36.770Z"
      },
      {
        "duration": 138,
        "start_time": "2022-08-23T15:20:11.654Z"
      },
      {
        "duration": 15,
        "start_time": "2022-08-23T15:21:12.940Z"
      },
      {
        "duration": 241,
        "start_time": "2022-08-23T15:21:25.969Z"
      },
      {
        "duration": 206,
        "start_time": "2022-08-23T15:26:31.083Z"
      },
      {
        "duration": 385,
        "start_time": "2022-08-23T15:30:16.778Z"
      },
      {
        "duration": 52,
        "start_time": "2022-08-23T15:30:17.165Z"
      },
      {
        "duration": 23,
        "start_time": "2022-08-23T15:30:17.218Z"
      },
      {
        "duration": 16,
        "start_time": "2022-08-23T15:30:17.243Z"
      },
      {
        "duration": 28,
        "start_time": "2022-08-23T15:30:17.260Z"
      },
      {
        "duration": 3,
        "start_time": "2022-08-23T15:30:17.290Z"
      },
      {
        "duration": 9,
        "start_time": "2022-08-23T15:30:17.295Z"
      },
      {
        "duration": 5,
        "start_time": "2022-08-23T15:30:17.306Z"
      },
      {
        "duration": 12,
        "start_time": "2022-08-23T15:30:17.313Z"
      },
      {
        "duration": 30,
        "start_time": "2022-08-23T15:30:17.328Z"
      },
      {
        "duration": 6,
        "start_time": "2022-08-23T15:30:17.360Z"
      },
      {
        "duration": 10,
        "start_time": "2022-08-23T15:30:17.367Z"
      },
      {
        "duration": 11,
        "start_time": "2022-08-23T15:30:17.379Z"
      },
      {
        "duration": 5,
        "start_time": "2022-08-23T15:30:17.392Z"
      },
      {
        "duration": 6,
        "start_time": "2022-08-23T15:30:17.398Z"
      },
      {
        "duration": 6,
        "start_time": "2022-08-23T15:30:17.405Z"
      },
      {
        "duration": 407,
        "start_time": "2022-08-23T15:30:17.412Z"
      },
      {
        "duration": 6,
        "start_time": "2022-08-23T15:30:17.821Z"
      },
      {
        "duration": 14,
        "start_time": "2022-08-23T15:30:17.829Z"
      },
      {
        "duration": 53,
        "start_time": "2022-08-23T15:30:17.844Z"
      },
      {
        "duration": 0,
        "start_time": "2022-08-23T15:30:17.899Z"
      },
      {
        "duration": 0,
        "start_time": "2022-08-23T15:30:17.900Z"
      },
      {
        "duration": 0,
        "start_time": "2022-08-23T15:30:17.901Z"
      },
      {
        "duration": 0,
        "start_time": "2022-08-23T15:30:17.902Z"
      },
      {
        "duration": 0,
        "start_time": "2022-08-23T15:30:17.904Z"
      },
      {
        "duration": 0,
        "start_time": "2022-08-23T15:30:17.905Z"
      },
      {
        "duration": 0,
        "start_time": "2022-08-23T15:30:17.906Z"
      },
      {
        "duration": 0,
        "start_time": "2022-08-23T15:30:17.907Z"
      },
      {
        "duration": 0,
        "start_time": "2022-08-23T15:30:17.908Z"
      },
      {
        "duration": 0,
        "start_time": "2022-08-23T15:30:17.909Z"
      },
      {
        "duration": 0,
        "start_time": "2022-08-23T15:30:17.910Z"
      },
      {
        "duration": 0,
        "start_time": "2022-08-23T15:30:17.911Z"
      },
      {
        "duration": 0,
        "start_time": "2022-08-23T15:30:17.912Z"
      },
      {
        "duration": 0,
        "start_time": "2022-08-23T15:30:17.913Z"
      },
      {
        "duration": 0,
        "start_time": "2022-08-23T15:30:17.914Z"
      },
      {
        "duration": 0,
        "start_time": "2022-08-23T15:30:17.915Z"
      },
      {
        "duration": 0,
        "start_time": "2022-08-23T15:30:17.916Z"
      },
      {
        "duration": 0,
        "start_time": "2022-08-23T15:30:17.917Z"
      },
      {
        "duration": 0,
        "start_time": "2022-08-23T15:30:17.918Z"
      },
      {
        "duration": 0,
        "start_time": "2022-08-23T15:30:17.919Z"
      },
      {
        "duration": 0,
        "start_time": "2022-08-23T15:30:17.920Z"
      },
      {
        "duration": 7,
        "start_time": "2022-08-23T15:31:49.981Z"
      },
      {
        "duration": 8,
        "start_time": "2022-08-23T15:31:52.654Z"
      },
      {
        "duration": 159,
        "start_time": "2022-08-23T15:31:53.729Z"
      },
      {
        "duration": 6,
        "start_time": "2022-08-23T15:31:55.629Z"
      },
      {
        "duration": 347,
        "start_time": "2022-08-23T15:31:56.470Z"
      },
      {
        "duration": 396,
        "start_time": "2022-08-23T15:31:58.708Z"
      },
      {
        "duration": 49,
        "start_time": "2022-08-23T15:31:59.525Z"
      },
      {
        "duration": 146,
        "start_time": "2022-08-23T15:32:00.433Z"
      },
      {
        "duration": 152,
        "start_time": "2022-08-23T15:32:01.217Z"
      },
      {
        "duration": 9,
        "start_time": "2022-08-23T15:32:02.268Z"
      },
      {
        "duration": 161,
        "start_time": "2022-08-23T15:32:04.003Z"
      },
      {
        "duration": 22,
        "start_time": "2022-08-23T15:32:06.708Z"
      },
      {
        "duration": 29,
        "start_time": "2022-08-23T15:32:07.569Z"
      },
      {
        "duration": 55,
        "start_time": "2022-08-23T15:32:08.441Z"
      },
      {
        "duration": 27,
        "start_time": "2022-08-23T15:32:09.320Z"
      },
      {
        "duration": 55,
        "start_time": "2022-08-23T15:32:10.162Z"
      },
      {
        "duration": 27,
        "start_time": "2022-08-23T15:32:11.082Z"
      },
      {
        "duration": 26,
        "start_time": "2022-08-23T15:32:20.393Z"
      },
      {
        "duration": 175,
        "start_time": "2022-08-23T15:32:21.521Z"
      },
      {
        "duration": 47,
        "start_time": "2022-08-23T15:32:23.725Z"
      },
      {
        "duration": 430,
        "start_time": "2022-08-23T15:32:34.289Z"
      },
      {
        "duration": 11,
        "start_time": "2022-08-23T15:32:35.954Z"
      },
      {
        "duration": 11,
        "start_time": "2022-08-23T15:32:37.489Z"
      },
      {
        "duration": 3,
        "start_time": "2022-08-23T15:32:43.647Z"
      },
      {
        "duration": 57,
        "start_time": "2022-08-23T15:32:43.653Z"
      },
      {
        "duration": 13,
        "start_time": "2022-08-23T15:32:43.712Z"
      },
      {
        "duration": 17,
        "start_time": "2022-08-23T15:32:43.727Z"
      },
      {
        "duration": 28,
        "start_time": "2022-08-23T15:32:43.746Z"
      },
      {
        "duration": 2,
        "start_time": "2022-08-23T15:32:43.776Z"
      },
      {
        "duration": 21,
        "start_time": "2022-08-23T15:32:43.780Z"
      },
      {
        "duration": 6,
        "start_time": "2022-08-23T15:32:43.802Z"
      },
      {
        "duration": 16,
        "start_time": "2022-08-23T15:32:43.810Z"
      },
      {
        "duration": 5,
        "start_time": "2022-08-23T15:32:43.827Z"
      },
      {
        "duration": 15,
        "start_time": "2022-08-23T15:32:43.834Z"
      },
      {
        "duration": 11,
        "start_time": "2022-08-23T15:32:43.850Z"
      },
      {
        "duration": 10,
        "start_time": "2022-08-23T15:32:43.862Z"
      },
      {
        "duration": 5,
        "start_time": "2022-08-23T15:32:43.873Z"
      },
      {
        "duration": 11,
        "start_time": "2022-08-23T15:32:43.880Z"
      },
      {
        "duration": 4,
        "start_time": "2022-08-23T15:32:43.892Z"
      },
      {
        "duration": 183,
        "start_time": "2022-08-23T15:32:43.898Z"
      },
      {
        "duration": 8,
        "start_time": "2022-08-23T15:32:44.083Z"
      },
      {
        "duration": 10,
        "start_time": "2022-08-23T15:32:44.094Z"
      },
      {
        "duration": 182,
        "start_time": "2022-08-23T15:32:44.105Z"
      },
      {
        "duration": 6,
        "start_time": "2022-08-23T15:32:44.288Z"
      },
      {
        "duration": 334,
        "start_time": "2022-08-23T15:32:44.296Z"
      },
      {
        "duration": 359,
        "start_time": "2022-08-23T15:32:44.632Z"
      },
      {
        "duration": 67,
        "start_time": "2022-08-23T15:32:44.993Z"
      },
      {
        "duration": 0,
        "start_time": "2022-08-23T15:32:45.061Z"
      },
      {
        "duration": 0,
        "start_time": "2022-08-23T15:32:45.062Z"
      },
      {
        "duration": 0,
        "start_time": "2022-08-23T15:32:45.063Z"
      },
      {
        "duration": 0,
        "start_time": "2022-08-23T15:32:45.064Z"
      },
      {
        "duration": 0,
        "start_time": "2022-08-23T15:32:45.065Z"
      },
      {
        "duration": 0,
        "start_time": "2022-08-23T15:32:45.066Z"
      },
      {
        "duration": 0,
        "start_time": "2022-08-23T15:32:45.067Z"
      },
      {
        "duration": 0,
        "start_time": "2022-08-23T15:32:45.068Z"
      },
      {
        "duration": 0,
        "start_time": "2022-08-23T15:32:45.069Z"
      },
      {
        "duration": 0,
        "start_time": "2022-08-23T15:32:45.070Z"
      },
      {
        "duration": 0,
        "start_time": "2022-08-23T15:32:45.071Z"
      },
      {
        "duration": 0,
        "start_time": "2022-08-23T15:32:45.072Z"
      },
      {
        "duration": 0,
        "start_time": "2022-08-23T15:32:45.073Z"
      },
      {
        "duration": 3,
        "start_time": "2022-08-23T15:33:08.331Z"
      },
      {
        "duration": 49,
        "start_time": "2022-08-23T15:33:08.373Z"
      },
      {
        "duration": 13,
        "start_time": "2022-08-23T15:33:08.424Z"
      },
      {
        "duration": 20,
        "start_time": "2022-08-23T15:33:08.439Z"
      },
      {
        "duration": 32,
        "start_time": "2022-08-23T15:33:08.461Z"
      },
      {
        "duration": 3,
        "start_time": "2022-08-23T15:33:08.495Z"
      },
      {
        "duration": 16,
        "start_time": "2022-08-23T15:33:08.499Z"
      },
      {
        "duration": 10,
        "start_time": "2022-08-23T15:33:08.517Z"
      },
      {
        "duration": 18,
        "start_time": "2022-08-23T15:33:08.528Z"
      },
      {
        "duration": 7,
        "start_time": "2022-08-23T15:33:08.548Z"
      },
      {
        "duration": 8,
        "start_time": "2022-08-23T15:33:08.557Z"
      },
      {
        "duration": 17,
        "start_time": "2022-08-23T15:33:08.566Z"
      },
      {
        "duration": 14,
        "start_time": "2022-08-23T15:33:08.584Z"
      },
      {
        "duration": 8,
        "start_time": "2022-08-23T15:33:08.599Z"
      },
      {
        "duration": 9,
        "start_time": "2022-08-23T15:33:08.608Z"
      },
      {
        "duration": 19,
        "start_time": "2022-08-23T15:33:08.619Z"
      },
      {
        "duration": 181,
        "start_time": "2022-08-23T15:33:08.640Z"
      },
      {
        "duration": 7,
        "start_time": "2022-08-23T15:33:08.823Z"
      },
      {
        "duration": 10,
        "start_time": "2022-08-23T15:33:08.832Z"
      },
      {
        "duration": 175,
        "start_time": "2022-08-23T15:33:08.844Z"
      },
      {
        "duration": 5,
        "start_time": "2022-08-23T15:33:09.022Z"
      },
      {
        "duration": 369,
        "start_time": "2022-08-23T15:33:09.029Z"
      },
      {
        "duration": 353,
        "start_time": "2022-08-23T15:33:09.400Z"
      },
      {
        "duration": 233,
        "start_time": "2022-08-23T15:33:09.754Z"
      },
      {
        "duration": 155,
        "start_time": "2022-08-23T15:33:09.989Z"
      },
      {
        "duration": 15,
        "start_time": "2022-08-23T15:33:10.145Z"
      },
      {
        "duration": 184,
        "start_time": "2022-08-23T15:33:10.162Z"
      },
      {
        "duration": 31,
        "start_time": "2022-08-23T15:33:10.348Z"
      },
      {
        "duration": 29,
        "start_time": "2022-08-23T15:33:10.381Z"
      },
      {
        "duration": 82,
        "start_time": "2022-08-23T15:33:10.412Z"
      },
      {
        "duration": 0,
        "start_time": "2022-08-23T15:33:10.496Z"
      },
      {
        "duration": 0,
        "start_time": "2022-08-23T15:33:10.497Z"
      },
      {
        "duration": 0,
        "start_time": "2022-08-23T15:33:10.498Z"
      },
      {
        "duration": 0,
        "start_time": "2022-08-23T15:33:10.499Z"
      },
      {
        "duration": 0,
        "start_time": "2022-08-23T15:33:10.500Z"
      },
      {
        "duration": 0,
        "start_time": "2022-08-23T15:33:10.501Z"
      },
      {
        "duration": 2,
        "start_time": "2022-08-23T15:33:28.587Z"
      },
      {
        "duration": 47,
        "start_time": "2022-08-23T15:33:28.606Z"
      },
      {
        "duration": 13,
        "start_time": "2022-08-23T15:33:28.704Z"
      },
      {
        "duration": 13,
        "start_time": "2022-08-23T15:33:28.720Z"
      },
      {
        "duration": 26,
        "start_time": "2022-08-23T15:33:28.740Z"
      },
      {
        "duration": 3,
        "start_time": "2022-08-23T15:33:28.768Z"
      },
      {
        "duration": 11,
        "start_time": "2022-08-23T15:33:28.772Z"
      },
      {
        "duration": 6,
        "start_time": "2022-08-23T15:33:28.785Z"
      },
      {
        "duration": 13,
        "start_time": "2022-08-23T15:33:28.793Z"
      },
      {
        "duration": 8,
        "start_time": "2022-08-23T15:33:28.807Z"
      },
      {
        "duration": 7,
        "start_time": "2022-08-23T15:33:28.817Z"
      },
      {
        "duration": 9,
        "start_time": "2022-08-23T15:33:28.825Z"
      },
      {
        "duration": 9,
        "start_time": "2022-08-23T15:33:28.856Z"
      },
      {
        "duration": 5,
        "start_time": "2022-08-23T15:33:28.867Z"
      },
      {
        "duration": 5,
        "start_time": "2022-08-23T15:33:28.874Z"
      },
      {
        "duration": 5,
        "start_time": "2022-08-23T15:33:28.880Z"
      },
      {
        "duration": 175,
        "start_time": "2022-08-23T15:33:28.886Z"
      },
      {
        "duration": 7,
        "start_time": "2022-08-23T15:33:29.064Z"
      },
      {
        "duration": 19,
        "start_time": "2022-08-23T15:33:29.072Z"
      },
      {
        "duration": 175,
        "start_time": "2022-08-23T15:33:29.092Z"
      },
      {
        "duration": 7,
        "start_time": "2022-08-23T15:33:29.269Z"
      },
      {
        "duration": 337,
        "start_time": "2022-08-23T15:33:29.277Z"
      },
      {
        "duration": 380,
        "start_time": "2022-08-23T15:33:29.616Z"
      },
      {
        "duration": 169,
        "start_time": "2022-08-23T15:33:29.998Z"
      },
      {
        "duration": 165,
        "start_time": "2022-08-23T15:33:30.169Z"
      },
      {
        "duration": 21,
        "start_time": "2022-08-23T15:33:30.336Z"
      },
      {
        "duration": 196,
        "start_time": "2022-08-23T15:33:30.360Z"
      },
      {
        "duration": 22,
        "start_time": "2022-08-23T15:33:30.558Z"
      },
      {
        "duration": 29,
        "start_time": "2022-08-23T15:33:30.582Z"
      },
      {
        "duration": 148,
        "start_time": "2022-08-23T15:33:30.612Z"
      },
      {
        "duration": 28,
        "start_time": "2022-08-23T15:33:30.762Z"
      },
      {
        "duration": 201,
        "start_time": "2022-08-23T15:33:30.791Z"
      },
      {
        "duration": 3,
        "start_time": "2022-08-23T15:33:30.993Z"
      },
      {
        "duration": 34,
        "start_time": "2022-08-23T15:33:30.998Z"
      },
      {
        "duration": 29,
        "start_time": "2022-08-23T15:33:31.035Z"
      },
      {
        "duration": 433,
        "start_time": "2022-08-25T11:37:29.116Z"
      },
      {
        "duration": 94,
        "start_time": "2022-08-25T11:37:31.217Z"
      },
      {
        "duration": 17,
        "start_time": "2022-08-25T11:37:34.070Z"
      },
      {
        "duration": 12,
        "start_time": "2022-08-25T11:37:36.015Z"
      },
      {
        "duration": 24,
        "start_time": "2022-08-25T11:37:37.069Z"
      },
      {
        "duration": 4,
        "start_time": "2022-08-25T11:37:42.692Z"
      },
      {
        "duration": 8,
        "start_time": "2022-08-25T11:37:43.668Z"
      },
      {
        "duration": 5,
        "start_time": "2022-08-25T11:38:13.093Z"
      },
      {
        "duration": 16,
        "start_time": "2022-08-25T11:38:22.011Z"
      },
      {
        "duration": 68,
        "start_time": "2022-08-25T11:39:33.462Z"
      },
      {
        "duration": 10,
        "start_time": "2022-08-25T11:39:52.593Z"
      },
      {
        "duration": 11,
        "start_time": "2022-08-25T11:40:22.553Z"
      },
      {
        "duration": 29,
        "start_time": "2022-08-25T11:40:47.543Z"
      },
      {
        "duration": 7,
        "start_time": "2022-08-25T11:41:04.456Z"
      },
      {
        "duration": 7,
        "start_time": "2022-08-25T11:47:43.208Z"
      },
      {
        "duration": 4,
        "start_time": "2022-08-25T11:47:50.278Z"
      },
      {
        "duration": 8,
        "start_time": "2022-08-25T11:48:14.554Z"
      },
      {
        "duration": 8,
        "start_time": "2022-08-25T11:48:45.289Z"
      },
      {
        "duration": 4,
        "start_time": "2022-08-25T11:49:01.498Z"
      },
      {
        "duration": 4,
        "start_time": "2022-08-25T11:49:49.810Z"
      },
      {
        "duration": 2,
        "start_time": "2022-08-25T11:50:33.533Z"
      },
      {
        "duration": 57,
        "start_time": "2022-08-25T11:50:33.536Z"
      },
      {
        "duration": 12,
        "start_time": "2022-08-25T11:50:33.595Z"
      },
      {
        "duration": 15,
        "start_time": "2022-08-25T11:50:33.608Z"
      },
      {
        "duration": 23,
        "start_time": "2022-08-25T11:50:33.625Z"
      },
      {
        "duration": 2,
        "start_time": "2022-08-25T11:50:33.650Z"
      },
      {
        "duration": 16,
        "start_time": "2022-08-25T11:50:33.654Z"
      },
      {
        "duration": 6,
        "start_time": "2022-08-25T11:50:33.671Z"
      },
      {
        "duration": 15,
        "start_time": "2022-08-25T11:50:33.678Z"
      },
      {
        "duration": 17,
        "start_time": "2022-08-25T11:50:33.694Z"
      },
      {
        "duration": 10,
        "start_time": "2022-08-25T11:50:33.712Z"
      },
      {
        "duration": 14,
        "start_time": "2022-08-25T11:50:33.723Z"
      },
      {
        "duration": 13,
        "start_time": "2022-08-25T11:50:33.738Z"
      },
      {
        "duration": 7,
        "start_time": "2022-08-25T11:50:33.753Z"
      },
      {
        "duration": 7,
        "start_time": "2022-08-25T11:50:33.761Z"
      },
      {
        "duration": 5,
        "start_time": "2022-08-25T11:50:33.769Z"
      },
      {
        "duration": 560,
        "start_time": "2022-08-25T11:50:33.776Z"
      },
      {
        "duration": 7,
        "start_time": "2022-08-25T11:50:34.338Z"
      },
      {
        "duration": 10,
        "start_time": "2022-08-25T11:50:34.347Z"
      },
      {
        "duration": 160,
        "start_time": "2022-08-25T11:50:34.358Z"
      },
      {
        "duration": 5,
        "start_time": "2022-08-25T11:50:34.520Z"
      },
      {
        "duration": 387,
        "start_time": "2022-08-25T11:50:34.528Z"
      },
      {
        "duration": 336,
        "start_time": "2022-08-25T11:50:34.916Z"
      },
      {
        "duration": 141,
        "start_time": "2022-08-25T11:50:35.254Z"
      },
      {
        "duration": 149,
        "start_time": "2022-08-25T11:50:35.396Z"
      },
      {
        "duration": 8,
        "start_time": "2022-08-25T11:50:35.546Z"
      },
      {
        "duration": 163,
        "start_time": "2022-08-25T11:50:35.555Z"
      },
      {
        "duration": 21,
        "start_time": "2022-08-25T11:50:35.719Z"
      },
      {
        "duration": 24,
        "start_time": "2022-08-25T11:50:35.741Z"
      },
      {
        "duration": 47,
        "start_time": "2022-08-25T11:50:35.767Z"
      },
      {
        "duration": 24,
        "start_time": "2022-08-25T11:50:35.815Z"
      },
      {
        "duration": 173,
        "start_time": "2022-08-25T11:50:35.841Z"
      },
      {
        "duration": 434,
        "start_time": "2022-08-25T11:50:36.015Z"
      },
      {
        "duration": 10,
        "start_time": "2022-08-25T11:50:36.450Z"
      },
      {
        "duration": 11,
        "start_time": "2022-08-25T11:50:36.461Z"
      },
      {
        "duration": 3,
        "start_time": "2022-08-25T11:51:35.451Z"
      },
      {
        "duration": 58,
        "start_time": "2022-08-25T11:51:35.457Z"
      },
      {
        "duration": 13,
        "start_time": "2022-08-25T11:51:35.520Z"
      },
      {
        "duration": 16,
        "start_time": "2022-08-25T11:51:35.534Z"
      },
      {
        "duration": 25,
        "start_time": "2022-08-25T11:51:35.551Z"
      },
      {
        "duration": 3,
        "start_time": "2022-08-25T11:51:35.577Z"
      },
      {
        "duration": 20,
        "start_time": "2022-08-25T11:51:35.594Z"
      },
      {
        "duration": 5,
        "start_time": "2022-08-25T11:51:35.616Z"
      },
      {
        "duration": 10,
        "start_time": "2022-08-25T11:51:35.623Z"
      },
      {
        "duration": 39,
        "start_time": "2022-08-25T11:51:35.634Z"
      },
      {
        "duration": 0,
        "start_time": "2022-08-25T11:51:35.675Z"
      },
      {
        "duration": 0,
        "start_time": "2022-08-25T11:51:35.676Z"
      },
      {
        "duration": 0,
        "start_time": "2022-08-25T11:51:35.677Z"
      },
      {
        "duration": 0,
        "start_time": "2022-08-25T11:51:35.678Z"
      },
      {
        "duration": 0,
        "start_time": "2022-08-25T11:51:35.710Z"
      },
      {
        "duration": 4,
        "start_time": "2022-08-25T11:51:35.715Z"
      },
      {
        "duration": 175,
        "start_time": "2022-08-25T11:51:35.720Z"
      },
      {
        "duration": 16,
        "start_time": "2022-08-25T11:51:35.897Z"
      },
      {
        "duration": 8,
        "start_time": "2022-08-25T11:51:35.915Z"
      },
      {
        "duration": 168,
        "start_time": "2022-08-25T11:51:35.924Z"
      },
      {
        "duration": 7,
        "start_time": "2022-08-25T11:51:36.093Z"
      },
      {
        "duration": 332,
        "start_time": "2022-08-25T11:51:36.110Z"
      },
      {
        "duration": 332,
        "start_time": "2022-08-25T11:51:36.443Z"
      },
      {
        "duration": 139,
        "start_time": "2022-08-25T11:51:36.776Z"
      },
      {
        "duration": 118,
        "start_time": "2022-08-25T11:51:36.917Z"
      },
      {
        "duration": 0,
        "start_time": "2022-08-25T11:51:37.037Z"
      },
      {
        "duration": 0,
        "start_time": "2022-08-25T11:51:37.038Z"
      },
      {
        "duration": 0,
        "start_time": "2022-08-25T11:51:37.040Z"
      },
      {
        "duration": 0,
        "start_time": "2022-08-25T11:51:37.041Z"
      },
      {
        "duration": 0,
        "start_time": "2022-08-25T11:51:37.042Z"
      },
      {
        "duration": 0,
        "start_time": "2022-08-25T11:51:37.044Z"
      },
      {
        "duration": 0,
        "start_time": "2022-08-25T11:51:37.045Z"
      },
      {
        "duration": 0,
        "start_time": "2022-08-25T11:51:37.046Z"
      },
      {
        "duration": 0,
        "start_time": "2022-08-25T11:51:37.048Z"
      },
      {
        "duration": 0,
        "start_time": "2022-08-25T11:51:37.049Z"
      },
      {
        "duration": 2,
        "start_time": "2022-08-25T11:52:18.121Z"
      },
      {
        "duration": 47,
        "start_time": "2022-08-25T11:52:20.129Z"
      },
      {
        "duration": 11,
        "start_time": "2022-08-25T11:52:20.956Z"
      },
      {
        "duration": 13,
        "start_time": "2022-08-25T11:52:21.939Z"
      },
      {
        "duration": 27,
        "start_time": "2022-08-25T11:52:22.831Z"
      },
      {
        "duration": 3,
        "start_time": "2022-08-25T11:52:29.455Z"
      },
      {
        "duration": 13,
        "start_time": "2022-08-25T11:52:44.988Z"
      },
      {
        "duration": 2,
        "start_time": "2022-08-25T11:53:50.376Z"
      },
      {
        "duration": 51,
        "start_time": "2022-08-25T11:53:51.161Z"
      },
      {
        "duration": 12,
        "start_time": "2022-08-25T11:53:51.777Z"
      },
      {
        "duration": 15,
        "start_time": "2022-08-25T11:53:52.772Z"
      },
      {
        "duration": 27,
        "start_time": "2022-08-25T11:53:53.781Z"
      },
      {
        "duration": 4,
        "start_time": "2022-08-25T11:54:02.484Z"
      },
      {
        "duration": 8,
        "start_time": "2022-08-25T11:54:04.310Z"
      },
      {
        "duration": 9,
        "start_time": "2022-08-25T11:54:23.016Z"
      },
      {
        "duration": 17,
        "start_time": "2022-08-25T11:54:35.172Z"
      },
      {
        "duration": 2,
        "start_time": "2022-08-25T11:55:23.579Z"
      },
      {
        "duration": 48,
        "start_time": "2022-08-25T11:55:24.404Z"
      },
      {
        "duration": 13,
        "start_time": "2022-08-25T11:55:25.302Z"
      },
      {
        "duration": 17,
        "start_time": "2022-08-25T11:55:26.390Z"
      },
      {
        "duration": 25,
        "start_time": "2022-08-25T11:55:28.162Z"
      },
      {
        "duration": 3,
        "start_time": "2022-08-25T11:55:41.251Z"
      },
      {
        "duration": 9,
        "start_time": "2022-08-25T11:55:42.821Z"
      },
      {
        "duration": 5,
        "start_time": "2022-08-25T11:55:47.077Z"
      },
      {
        "duration": 8,
        "start_time": "2022-08-25T11:55:49.365Z"
      },
      {
        "duration": 4,
        "start_time": "2022-08-25T11:55:53.007Z"
      },
      {
        "duration": 9,
        "start_time": "2022-08-25T11:57:01.597Z"
      },
      {
        "duration": 6,
        "start_time": "2022-08-25T11:57:23.261Z"
      },
      {
        "duration": 5,
        "start_time": "2022-08-25T11:57:48.313Z"
      },
      {
        "duration": 4,
        "start_time": "2022-08-25T11:57:49.889Z"
      },
      {
        "duration": 3,
        "start_time": "2022-08-25T11:59:58.024Z"
      },
      {
        "duration": 5,
        "start_time": "2022-08-25T12:00:16.224Z"
      },
      {
        "duration": 4,
        "start_time": "2022-08-25T12:00:18.199Z"
      },
      {
        "duration": 3,
        "start_time": "2022-08-25T12:00:43.882Z"
      },
      {
        "duration": 5,
        "start_time": "2022-08-25T12:00:55.460Z"
      },
      {
        "duration": 5,
        "start_time": "2022-08-25T12:01:33.845Z"
      },
      {
        "duration": 2,
        "start_time": "2022-08-25T12:01:39.367Z"
      },
      {
        "duration": 61,
        "start_time": "2022-08-25T12:01:39.371Z"
      },
      {
        "duration": 13,
        "start_time": "2022-08-25T12:01:39.435Z"
      },
      {
        "duration": 22,
        "start_time": "2022-08-25T12:01:39.449Z"
      },
      {
        "duration": 25,
        "start_time": "2022-08-25T12:01:39.473Z"
      },
      {
        "duration": 11,
        "start_time": "2022-08-25T12:01:39.500Z"
      },
      {
        "duration": 12,
        "start_time": "2022-08-25T12:01:39.512Z"
      },
      {
        "duration": 16,
        "start_time": "2022-08-25T12:01:39.525Z"
      },
      {
        "duration": 12,
        "start_time": "2022-08-25T12:01:39.543Z"
      },
      {
        "duration": 4,
        "start_time": "2022-08-25T12:01:39.557Z"
      },
      {
        "duration": 11,
        "start_time": "2022-08-25T12:01:39.563Z"
      },
      {
        "duration": 13,
        "start_time": "2022-08-25T12:01:39.576Z"
      },
      {
        "duration": 6,
        "start_time": "2022-08-25T12:01:39.590Z"
      },
      {
        "duration": 18,
        "start_time": "2022-08-25T12:01:39.598Z"
      },
      {
        "duration": 5,
        "start_time": "2022-08-25T12:01:39.617Z"
      },
      {
        "duration": 159,
        "start_time": "2022-08-25T12:01:39.624Z"
      },
      {
        "duration": 6,
        "start_time": "2022-08-25T12:01:39.785Z"
      },
      {
        "duration": 22,
        "start_time": "2022-08-25T12:01:39.793Z"
      },
      {
        "duration": 218,
        "start_time": "2022-08-25T12:01:39.817Z"
      },
      {
        "duration": 5,
        "start_time": "2022-08-25T12:01:40.037Z"
      },
      {
        "duration": 325,
        "start_time": "2022-08-25T12:01:40.043Z"
      },
      {
        "duration": 351,
        "start_time": "2022-08-25T12:01:40.371Z"
      },
      {
        "duration": 137,
        "start_time": "2022-08-25T12:01:40.724Z"
      },
      {
        "duration": 135,
        "start_time": "2022-08-25T12:01:40.863Z"
      },
      {
        "duration": 17,
        "start_time": "2022-08-25T12:01:41.000Z"
      },
      {
        "duration": 154,
        "start_time": "2022-08-25T12:01:41.019Z"
      },
      {
        "duration": 22,
        "start_time": "2022-08-25T12:01:41.175Z"
      },
      {
        "duration": 34,
        "start_time": "2022-08-25T12:01:41.198Z"
      },
      {
        "duration": 23,
        "start_time": "2022-08-25T12:01:41.234Z"
      },
      {
        "duration": 23,
        "start_time": "2022-08-25T12:01:41.258Z"
      },
      {
        "duration": 185,
        "start_time": "2022-08-25T12:01:41.283Z"
      },
      {
        "duration": 3,
        "start_time": "2022-08-25T12:01:41.469Z"
      },
      {
        "duration": 11,
        "start_time": "2022-08-25T12:01:41.473Z"
      },
      {
        "duration": 11,
        "start_time": "2022-08-25T12:01:41.486Z"
      },
      {
        "duration": 10,
        "start_time": "2022-08-25T12:03:37.088Z"
      },
      {
        "duration": 5,
        "start_time": "2022-08-25T12:03:39.563Z"
      },
      {
        "duration": 5,
        "start_time": "2022-08-25T12:03:41.733Z"
      },
      {
        "duration": 5,
        "start_time": "2022-08-25T12:03:46.049Z"
      },
      {
        "duration": 6,
        "start_time": "2022-08-25T12:24:39.119Z"
      },
      {
        "duration": 53,
        "start_time": "2022-08-25T12:24:40.478Z"
      },
      {
        "duration": 335,
        "start_time": "2022-08-25T12:25:13.420Z"
      },
      {
        "duration": 289,
        "start_time": "2022-08-25T12:42:35.816Z"
      },
      {
        "duration": 6,
        "start_time": "2022-08-25T12:51:34.980Z"
      },
      {
        "duration": 289,
        "start_time": "2022-08-25T12:51:35.852Z"
      },
      {
        "duration": 208,
        "start_time": "2022-08-25T13:01:37.729Z"
      },
      {
        "duration": 135,
        "start_time": "2022-08-25T13:01:39.620Z"
      },
      {
        "duration": 136,
        "start_time": "2022-08-25T13:03:26.552Z"
      },
      {
        "duration": 125,
        "start_time": "2022-08-25T13:04:23.583Z"
      },
      {
        "duration": 8,
        "start_time": "2022-08-25T13:04:25.664Z"
      },
      {
        "duration": 7,
        "start_time": "2022-08-25T13:05:18.274Z"
      },
      {
        "duration": 7,
        "start_time": "2022-08-25T13:06:06.806Z"
      },
      {
        "duration": 141,
        "start_time": "2022-08-25T13:08:10.216Z"
      },
      {
        "duration": 128,
        "start_time": "2022-08-25T13:08:19.854Z"
      },
      {
        "duration": 7,
        "start_time": "2022-08-25T13:08:54.862Z"
      },
      {
        "duration": 134,
        "start_time": "2022-08-25T13:16:23.033Z"
      },
      {
        "duration": 24,
        "start_time": "2022-08-25T13:16:41.238Z"
      },
      {
        "duration": 413,
        "start_time": "2022-08-25T13:23:01.084Z"
      },
      {
        "duration": 53,
        "start_time": "2022-08-25T13:23:01.742Z"
      },
      {
        "duration": 18,
        "start_time": "2022-08-25T13:23:02.254Z"
      },
      {
        "duration": 13,
        "start_time": "2022-08-25T13:23:02.862Z"
      },
      {
        "duration": 25,
        "start_time": "2022-08-25T13:23:03.590Z"
      },
      {
        "duration": 3,
        "start_time": "2022-08-25T13:23:06.969Z"
      },
      {
        "duration": 8,
        "start_time": "2022-08-25T13:23:08.157Z"
      },
      {
        "duration": 6,
        "start_time": "2022-08-25T13:23:10.557Z"
      },
      {
        "duration": 11,
        "start_time": "2022-08-25T13:23:11.205Z"
      },
      {
        "duration": 6,
        "start_time": "2022-08-25T13:23:12.919Z"
      },
      {
        "duration": 7,
        "start_time": "2022-08-25T13:23:13.691Z"
      },
      {
        "duration": 11,
        "start_time": "2022-08-25T13:23:28.606Z"
      },
      {
        "duration": 6,
        "start_time": "2022-08-25T13:23:32.155Z"
      },
      {
        "duration": 5,
        "start_time": "2022-08-25T13:23:40.463Z"
      },
      {
        "duration": 404,
        "start_time": "2022-08-25T13:23:42.489Z"
      },
      {
        "duration": 7,
        "start_time": "2022-08-25T13:23:48.650Z"
      },
      {
        "duration": 22,
        "start_time": "2022-08-25T13:23:48.717Z"
      },
      {
        "duration": 151,
        "start_time": "2022-08-25T13:23:48.741Z"
      },
      {
        "duration": 18,
        "start_time": "2022-08-25T13:23:48.893Z"
      },
      {
        "duration": 315,
        "start_time": "2022-08-25T13:23:48.912Z"
      },
      {
        "duration": 320,
        "start_time": "2022-08-25T13:23:49.229Z"
      },
      {
        "duration": 131,
        "start_time": "2022-08-25T13:23:49.551Z"
      },
      {
        "duration": 130,
        "start_time": "2022-08-25T13:23:49.684Z"
      },
      {
        "duration": 76,
        "start_time": "2022-08-25T13:23:49.815Z"
      },
      {
        "duration": 0,
        "start_time": "2022-08-25T13:23:49.893Z"
      },
      {
        "duration": 0,
        "start_time": "2022-08-25T13:23:49.894Z"
      },
      {
        "duration": 0,
        "start_time": "2022-08-25T13:23:49.895Z"
      },
      {
        "duration": 0,
        "start_time": "2022-08-25T13:23:49.896Z"
      },
      {
        "duration": 0,
        "start_time": "2022-08-25T13:23:49.897Z"
      },
      {
        "duration": 0,
        "start_time": "2022-08-25T13:23:49.911Z"
      },
      {
        "duration": 7,
        "start_time": "2022-08-25T13:23:49.974Z"
      },
      {
        "duration": 0,
        "start_time": "2022-08-25T13:23:49.983Z"
      },
      {
        "duration": 7,
        "start_time": "2022-08-25T13:24:33.952Z"
      },
      {
        "duration": 355,
        "start_time": "2022-08-25T13:25:57.368Z"
      },
      {
        "duration": 51,
        "start_time": "2022-08-25T13:25:57.725Z"
      },
      {
        "duration": 18,
        "start_time": "2022-08-25T13:25:57.778Z"
      },
      {
        "duration": 12,
        "start_time": "2022-08-25T13:25:57.798Z"
      },
      {
        "duration": 26,
        "start_time": "2022-08-25T13:25:57.812Z"
      },
      {
        "duration": 3,
        "start_time": "2022-08-25T13:25:57.839Z"
      },
      {
        "duration": 19,
        "start_time": "2022-08-25T13:25:57.844Z"
      },
      {
        "duration": 4,
        "start_time": "2022-08-25T13:25:57.865Z"
      },
      {
        "duration": 14,
        "start_time": "2022-08-25T13:25:57.871Z"
      },
      {
        "duration": 26,
        "start_time": "2022-08-25T13:25:57.887Z"
      },
      {
        "duration": 13,
        "start_time": "2022-08-25T13:25:57.914Z"
      },
      {
        "duration": 31,
        "start_time": "2022-08-25T13:25:57.929Z"
      },
      {
        "duration": 6,
        "start_time": "2022-08-25T13:25:57.961Z"
      },
      {
        "duration": 7,
        "start_time": "2022-08-25T13:25:57.968Z"
      },
      {
        "duration": 3,
        "start_time": "2022-08-25T13:25:57.977Z"
      },
      {
        "duration": 371,
        "start_time": "2022-08-25T13:25:57.982Z"
      },
      {
        "duration": 6,
        "start_time": "2022-08-25T13:25:58.355Z"
      },
      {
        "duration": 27,
        "start_time": "2022-08-25T13:25:58.362Z"
      },
      {
        "duration": 163,
        "start_time": "2022-08-25T13:25:58.391Z"
      },
      {
        "duration": 5,
        "start_time": "2022-08-25T13:25:58.556Z"
      },
      {
        "duration": 353,
        "start_time": "2022-08-25T13:25:58.562Z"
      },
      {
        "duration": 328,
        "start_time": "2022-08-25T13:25:58.918Z"
      },
      {
        "duration": 147,
        "start_time": "2022-08-25T13:25:59.248Z"
      },
      {
        "duration": 146,
        "start_time": "2022-08-25T13:25:59.397Z"
      },
      {
        "duration": 7,
        "start_time": "2022-08-25T13:25:59.545Z"
      },
      {
        "duration": 177,
        "start_time": "2022-08-25T13:25:59.553Z"
      },
      {
        "duration": 27,
        "start_time": "2022-08-25T13:25:59.732Z"
      },
      {
        "duration": 52,
        "start_time": "2022-08-25T13:25:59.760Z"
      },
      {
        "duration": 28,
        "start_time": "2022-08-25T13:25:59.814Z"
      },
      {
        "duration": 188,
        "start_time": "2022-08-25T13:25:59.843Z"
      },
      {
        "duration": 463,
        "start_time": "2022-08-25T13:26:00.033Z"
      },
      {
        "duration": 16,
        "start_time": "2022-08-25T13:26:00.498Z"
      },
      {
        "duration": 48,
        "start_time": "2022-08-25T13:26:00.515Z"
      },
      {
        "duration": 153,
        "start_time": "2022-08-25T13:34:00.324Z"
      },
      {
        "duration": 99,
        "start_time": "2022-08-25T14:14:53.266Z"
      },
      {
        "duration": 7,
        "start_time": "2022-08-25T14:15:21.729Z"
      },
      {
        "duration": 8,
        "start_time": "2022-08-25T14:15:44.807Z"
      },
      {
        "duration": 6,
        "start_time": "2022-08-25T14:16:04.898Z"
      },
      {
        "duration": 4,
        "start_time": "2022-08-25T14:16:16.318Z"
      },
      {
        "duration": 2023,
        "start_time": "2022-08-25T14:16:40.096Z"
      },
      {
        "duration": 7,
        "start_time": "2022-08-25T14:16:57.904Z"
      },
      {
        "duration": 8,
        "start_time": "2022-08-25T14:17:29.739Z"
      },
      {
        "duration": 4,
        "start_time": "2022-08-25T14:18:53.299Z"
      },
      {
        "duration": 5,
        "start_time": "2022-08-25T14:19:26.505Z"
      },
      {
        "duration": 201,
        "start_time": "2022-08-25T14:21:09.837Z"
      },
      {
        "duration": 5,
        "start_time": "2022-08-25T14:21:19.007Z"
      },
      {
        "duration": 7,
        "start_time": "2022-08-25T14:22:25.115Z"
      },
      {
        "duration": 6,
        "start_time": "2022-08-25T14:22:56.669Z"
      },
      {
        "duration": 5,
        "start_time": "2022-08-25T14:23:24.890Z"
      },
      {
        "duration": 7,
        "start_time": "2022-08-25T14:24:08.929Z"
      },
      {
        "duration": 39,
        "start_time": "2022-08-25T14:29:23.215Z"
      },
      {
        "duration": 36,
        "start_time": "2022-08-25T14:29:53.907Z"
      },
      {
        "duration": 32,
        "start_time": "2022-08-25T14:30:03.938Z"
      },
      {
        "duration": 39,
        "start_time": "2022-08-25T14:33:07.501Z"
      },
      {
        "duration": 33,
        "start_time": "2022-08-25T14:33:41.844Z"
      },
      {
        "duration": 32,
        "start_time": "2022-08-25T14:37:40.175Z"
      },
      {
        "duration": 175,
        "start_time": "2022-08-25T14:38:09.401Z"
      },
      {
        "duration": 9,
        "start_time": "2022-08-25T15:05:06.908Z"
      },
      {
        "duration": 9,
        "start_time": "2022-08-25T15:15:36.079Z"
      },
      {
        "duration": 10,
        "start_time": "2022-08-25T15:18:20.754Z"
      },
      {
        "duration": 7,
        "start_time": "2022-08-25T15:54:16.580Z"
      },
      {
        "duration": 11,
        "start_time": "2022-08-25T15:54:24.557Z"
      },
      {
        "duration": 22,
        "start_time": "2022-08-25T15:54:43.866Z"
      },
      {
        "duration": 6,
        "start_time": "2022-08-25T15:55:29.776Z"
      },
      {
        "duration": 2,
        "start_time": "2022-08-25T16:05:04.613Z"
      },
      {
        "duration": 176,
        "start_time": "2022-08-25T16:05:04.617Z"
      },
      {
        "duration": 216,
        "start_time": "2022-08-25T16:05:04.795Z"
      },
      {
        "duration": 39,
        "start_time": "2022-08-25T16:05:05.012Z"
      },
      {
        "duration": 30,
        "start_time": "2022-08-25T16:05:05.053Z"
      },
      {
        "duration": 11,
        "start_time": "2022-08-25T16:10:34.102Z"
      },
      {
        "duration": 369,
        "start_time": "2022-08-25T17:09:01.039Z"
      },
      {
        "duration": 98,
        "start_time": "2022-08-25T17:09:01.411Z"
      },
      {
        "duration": 18,
        "start_time": "2022-08-25T17:09:01.510Z"
      },
      {
        "duration": 36,
        "start_time": "2022-08-25T17:09:01.530Z"
      },
      {
        "duration": 29,
        "start_time": "2022-08-25T17:09:01.568Z"
      },
      {
        "duration": 16,
        "start_time": "2022-08-25T17:09:01.599Z"
      },
      {
        "duration": 22,
        "start_time": "2022-08-25T17:09:01.617Z"
      },
      {
        "duration": 14,
        "start_time": "2022-08-25T17:09:01.640Z"
      },
      {
        "duration": 23,
        "start_time": "2022-08-25T17:09:01.656Z"
      },
      {
        "duration": 6,
        "start_time": "2022-08-25T17:09:01.683Z"
      },
      {
        "duration": 55,
        "start_time": "2022-08-25T17:09:01.690Z"
      },
      {
        "duration": 55,
        "start_time": "2022-08-25T17:09:01.747Z"
      },
      {
        "duration": 61,
        "start_time": "2022-08-25T17:09:01.804Z"
      },
      {
        "duration": 11,
        "start_time": "2022-08-25T17:09:01.867Z"
      },
      {
        "duration": 588,
        "start_time": "2022-08-25T17:09:01.880Z"
      },
      {
        "duration": 8,
        "start_time": "2022-08-25T17:09:02.470Z"
      },
      {
        "duration": 45,
        "start_time": "2022-08-25T17:09:02.479Z"
      },
      {
        "duration": 218,
        "start_time": "2022-08-25T17:09:02.525Z"
      },
      {
        "duration": 6,
        "start_time": "2022-08-25T17:09:02.745Z"
      },
      {
        "duration": 372,
        "start_time": "2022-08-25T17:09:02.752Z"
      },
      {
        "duration": 345,
        "start_time": "2022-08-25T17:09:03.127Z"
      },
      {
        "duration": 148,
        "start_time": "2022-08-25T17:09:03.474Z"
      },
      {
        "duration": 137,
        "start_time": "2022-08-25T17:09:03.623Z"
      },
      {
        "duration": 7,
        "start_time": "2022-08-25T17:09:03.762Z"
      },
      {
        "duration": 170,
        "start_time": "2022-08-25T17:09:03.771Z"
      },
      {
        "duration": 7,
        "start_time": "2022-08-25T17:09:03.942Z"
      },
      {
        "duration": 41,
        "start_time": "2022-08-25T17:09:03.951Z"
      },
      {
        "duration": 45,
        "start_time": "2022-08-25T17:09:03.995Z"
      },
      {
        "duration": 257,
        "start_time": "2022-08-25T17:09:04.042Z"
      },
      {
        "duration": 40,
        "start_time": "2022-08-25T17:09:04.300Z"
      },
      {
        "duration": 208,
        "start_time": "2022-08-25T17:09:04.342Z"
      },
      {
        "duration": 48,
        "start_time": "2022-08-25T17:09:04.552Z"
      },
      {
        "duration": 0,
        "start_time": "2022-08-25T17:09:04.601Z"
      },
      {
        "duration": 0,
        "start_time": "2022-08-25T17:09:04.603Z"
      },
      {
        "duration": 0,
        "start_time": "2022-08-25T17:09:04.604Z"
      },
      {
        "duration": 437,
        "start_time": "2022-08-25T17:10:58.500Z"
      },
      {
        "duration": 9,
        "start_time": "2022-08-25T17:10:59.228Z"
      },
      {
        "duration": 10,
        "start_time": "2022-08-25T17:11:04.539Z"
      },
      {
        "duration": 92,
        "start_time": "2022-08-26T11:56:15.540Z"
      },
      {
        "duration": 63,
        "start_time": "2022-08-26T11:56:33.352Z"
      },
      {
        "duration": 76,
        "start_time": "2022-08-26T11:56:55.379Z"
      },
      {
        "duration": 70,
        "start_time": "2022-08-26T11:57:47.445Z"
      },
      {
        "duration": 67,
        "start_time": "2022-08-26T11:58:33.658Z"
      },
      {
        "duration": 37,
        "start_time": "2022-08-26T12:05:45.256Z"
      },
      {
        "duration": 347,
        "start_time": "2022-08-26T12:05:53.847Z"
      },
      {
        "duration": 175,
        "start_time": "2022-08-26T12:05:54.196Z"
      },
      {
        "duration": 18,
        "start_time": "2022-08-26T12:05:54.372Z"
      },
      {
        "duration": 12,
        "start_time": "2022-08-26T12:05:54.392Z"
      },
      {
        "duration": 26,
        "start_time": "2022-08-26T12:05:54.406Z"
      },
      {
        "duration": 3,
        "start_time": "2022-08-26T12:05:54.433Z"
      },
      {
        "duration": 10,
        "start_time": "2022-08-26T12:05:54.437Z"
      },
      {
        "duration": 7,
        "start_time": "2022-08-26T12:05:54.448Z"
      },
      {
        "duration": 8,
        "start_time": "2022-08-26T12:05:54.456Z"
      },
      {
        "duration": 6,
        "start_time": "2022-08-26T12:05:54.467Z"
      },
      {
        "duration": 31,
        "start_time": "2022-08-26T12:05:54.475Z"
      },
      {
        "duration": 7,
        "start_time": "2022-08-26T12:05:54.507Z"
      },
      {
        "duration": 6,
        "start_time": "2022-08-26T12:05:54.516Z"
      },
      {
        "duration": 10,
        "start_time": "2022-08-26T12:05:54.524Z"
      },
      {
        "duration": 515,
        "start_time": "2022-08-26T12:05:54.536Z"
      },
      {
        "duration": 7,
        "start_time": "2022-08-26T12:05:55.053Z"
      },
      {
        "duration": 24,
        "start_time": "2022-08-26T12:05:55.062Z"
      },
      {
        "duration": 165,
        "start_time": "2022-08-26T12:05:55.088Z"
      },
      {
        "duration": 5,
        "start_time": "2022-08-26T12:05:55.254Z"
      },
      {
        "duration": 327,
        "start_time": "2022-08-26T12:05:55.261Z"
      },
      {
        "duration": 330,
        "start_time": "2022-08-26T12:05:55.590Z"
      },
      {
        "duration": 156,
        "start_time": "2022-08-26T12:05:55.922Z"
      },
      {
        "duration": 181,
        "start_time": "2022-08-26T12:05:56.080Z"
      },
      {
        "duration": 10,
        "start_time": "2022-08-26T12:05:56.264Z"
      },
      {
        "duration": 168,
        "start_time": "2022-08-26T12:05:56.276Z"
      },
      {
        "duration": 7,
        "start_time": "2022-08-26T12:05:56.445Z"
      },
      {
        "duration": 32,
        "start_time": "2022-08-26T12:05:56.453Z"
      },
      {
        "duration": 31,
        "start_time": "2022-08-26T12:05:56.505Z"
      },
      {
        "duration": 247,
        "start_time": "2022-08-26T12:05:56.537Z"
      },
      {
        "duration": 39,
        "start_time": "2022-08-26T12:05:56.785Z"
      },
      {
        "duration": 183,
        "start_time": "2022-08-26T12:05:56.825Z"
      },
      {
        "duration": 433,
        "start_time": "2022-08-26T12:05:57.009Z"
      },
      {
        "duration": 11,
        "start_time": "2022-08-26T12:05:57.443Z"
      },
      {
        "duration": 9,
        "start_time": "2022-08-26T12:05:57.458Z"
      },
      {
        "duration": 31,
        "start_time": "2022-08-26T12:08:41.661Z"
      },
      {
        "duration": 220,
        "start_time": "2022-08-26T12:08:55.217Z"
      },
      {
        "duration": 31,
        "start_time": "2022-08-26T12:09:09.289Z"
      },
      {
        "duration": 111,
        "start_time": "2022-08-26T12:18:23.297Z"
      },
      {
        "duration": 196,
        "start_time": "2022-08-26T12:20:11.463Z"
      },
      {
        "duration": 514,
        "start_time": "2022-08-27T12:08:51.212Z"
      },
      {
        "duration": 213,
        "start_time": "2022-08-27T12:08:51.728Z"
      },
      {
        "duration": 18,
        "start_time": "2022-08-27T12:08:51.943Z"
      },
      {
        "duration": 18,
        "start_time": "2022-08-27T12:08:51.962Z"
      },
      {
        "duration": 36,
        "start_time": "2022-08-27T12:08:51.983Z"
      },
      {
        "duration": 3,
        "start_time": "2022-08-27T12:08:52.021Z"
      },
      {
        "duration": 16,
        "start_time": "2022-08-27T12:08:52.026Z"
      },
      {
        "duration": 15,
        "start_time": "2022-08-27T12:08:52.044Z"
      },
      {
        "duration": 22,
        "start_time": "2022-08-27T12:08:52.061Z"
      },
      {
        "duration": 39,
        "start_time": "2022-08-27T12:08:52.085Z"
      },
      {
        "duration": 31,
        "start_time": "2022-08-27T12:08:52.126Z"
      },
      {
        "duration": 11,
        "start_time": "2022-08-27T12:08:52.159Z"
      },
      {
        "duration": 17,
        "start_time": "2022-08-27T12:08:52.171Z"
      },
      {
        "duration": 86,
        "start_time": "2022-08-27T12:08:52.190Z"
      },
      {
        "duration": 0,
        "start_time": "2022-08-27T12:08:52.277Z"
      },
      {
        "duration": 0,
        "start_time": "2022-08-27T12:08:52.278Z"
      },
      {
        "duration": 0,
        "start_time": "2022-08-27T12:08:52.279Z"
      },
      {
        "duration": 0,
        "start_time": "2022-08-27T12:08:52.280Z"
      },
      {
        "duration": 0,
        "start_time": "2022-08-27T12:08:52.281Z"
      },
      {
        "duration": 0,
        "start_time": "2022-08-27T12:08:52.282Z"
      },
      {
        "duration": 0,
        "start_time": "2022-08-27T12:08:52.282Z"
      },
      {
        "duration": 0,
        "start_time": "2022-08-27T12:08:52.283Z"
      },
      {
        "duration": 0,
        "start_time": "2022-08-27T12:08:52.284Z"
      },
      {
        "duration": 0,
        "start_time": "2022-08-27T12:08:52.285Z"
      },
      {
        "duration": 0,
        "start_time": "2022-08-27T12:08:52.286Z"
      },
      {
        "duration": 0,
        "start_time": "2022-08-27T12:08:52.287Z"
      },
      {
        "duration": 0,
        "start_time": "2022-08-27T12:08:52.288Z"
      },
      {
        "duration": 1,
        "start_time": "2022-08-27T12:08:52.288Z"
      },
      {
        "duration": 0,
        "start_time": "2022-08-27T12:08:52.290Z"
      },
      {
        "duration": 1,
        "start_time": "2022-08-27T12:08:52.305Z"
      },
      {
        "duration": 0,
        "start_time": "2022-08-27T12:08:52.307Z"
      },
      {
        "duration": 0,
        "start_time": "2022-08-27T12:08:52.308Z"
      },
      {
        "duration": 0,
        "start_time": "2022-08-27T12:08:52.309Z"
      },
      {
        "duration": 0,
        "start_time": "2022-08-27T12:08:52.310Z"
      },
      {
        "duration": 6,
        "start_time": "2022-08-27T12:09:24.885Z"
      },
      {
        "duration": 4,
        "start_time": "2022-08-27T12:12:03.221Z"
      },
      {
        "duration": 10,
        "start_time": "2022-08-27T12:12:06.515Z"
      },
      {
        "duration": 561,
        "start_time": "2022-08-27T12:12:10.427Z"
      },
      {
        "duration": 30,
        "start_time": "2022-08-27T12:14:49.892Z"
      },
      {
        "duration": 75,
        "start_time": "2022-08-27T12:16:23.829Z"
      },
      {
        "duration": 66,
        "start_time": "2022-08-27T12:16:32.010Z"
      },
      {
        "duration": 9,
        "start_time": "2022-08-27T12:17:09.319Z"
      },
      {
        "duration": 12,
        "start_time": "2022-08-27T12:17:25.019Z"
      },
      {
        "duration": 7,
        "start_time": "2022-08-27T12:17:36.353Z"
      },
      {
        "duration": 4,
        "start_time": "2022-08-27T12:17:44.607Z"
      },
      {
        "duration": 3,
        "start_time": "2022-08-27T12:18:01.655Z"
      },
      {
        "duration": 60,
        "start_time": "2022-08-27T12:18:01.660Z"
      },
      {
        "duration": 14,
        "start_time": "2022-08-27T12:18:01.721Z"
      },
      {
        "duration": 22,
        "start_time": "2022-08-27T12:18:01.736Z"
      },
      {
        "duration": 27,
        "start_time": "2022-08-27T12:18:01.760Z"
      },
      {
        "duration": 19,
        "start_time": "2022-08-27T12:18:01.788Z"
      },
      {
        "duration": 14,
        "start_time": "2022-08-27T12:18:01.808Z"
      },
      {
        "duration": 21,
        "start_time": "2022-08-27T12:18:01.823Z"
      },
      {
        "duration": 17,
        "start_time": "2022-08-27T12:18:01.846Z"
      },
      {
        "duration": 5,
        "start_time": "2022-08-27T12:18:01.864Z"
      },
      {
        "duration": 27,
        "start_time": "2022-08-27T12:18:01.871Z"
      },
      {
        "duration": 21,
        "start_time": "2022-08-27T12:18:01.899Z"
      },
      {
        "duration": 29,
        "start_time": "2022-08-27T12:18:01.921Z"
      },
      {
        "duration": 18,
        "start_time": "2022-08-27T12:18:01.951Z"
      },
      {
        "duration": 15,
        "start_time": "2022-08-27T12:18:01.970Z"
      },
      {
        "duration": 21,
        "start_time": "2022-08-27T12:18:01.986Z"
      },
      {
        "duration": 176,
        "start_time": "2022-08-27T12:18:02.008Z"
      },
      {
        "duration": 6,
        "start_time": "2022-08-27T12:18:02.186Z"
      },
      {
        "duration": 34,
        "start_time": "2022-08-27T12:18:02.193Z"
      },
      {
        "duration": 224,
        "start_time": "2022-08-27T12:18:02.229Z"
      },
      {
        "duration": 5,
        "start_time": "2022-08-27T12:18:02.455Z"
      },
      {
        "duration": 318,
        "start_time": "2022-08-27T12:18:02.462Z"
      },
      {
        "duration": 295,
        "start_time": "2022-08-27T12:18:02.782Z"
      },
      {
        "duration": 129,
        "start_time": "2022-08-27T12:18:03.080Z"
      },
      {
        "duration": 121,
        "start_time": "2022-08-27T12:18:03.211Z"
      },
      {
        "duration": 8,
        "start_time": "2022-08-27T12:18:03.333Z"
      },
      {
        "duration": 177,
        "start_time": "2022-08-27T12:18:03.343Z"
      },
      {
        "duration": 8,
        "start_time": "2022-08-27T12:18:03.522Z"
      },
      {
        "duration": 35,
        "start_time": "2022-08-27T12:18:03.532Z"
      },
      {
        "duration": 57,
        "start_time": "2022-08-27T12:18:03.569Z"
      },
      {
        "duration": 240,
        "start_time": "2022-08-27T12:18:03.628Z"
      },
      {
        "duration": 49,
        "start_time": "2022-08-27T12:18:03.870Z"
      },
      {
        "duration": 197,
        "start_time": "2022-08-27T12:18:03.921Z"
      },
      {
        "duration": 596,
        "start_time": "2022-08-27T12:18:04.119Z"
      },
      {
        "duration": 9,
        "start_time": "2022-08-27T12:18:04.717Z"
      },
      {
        "duration": 12,
        "start_time": "2022-08-27T12:18:04.728Z"
      },
      {
        "duration": 11,
        "start_time": "2022-08-27T12:18:47.485Z"
      },
      {
        "duration": 4,
        "start_time": "2022-08-27T12:18:48.877Z"
      },
      {
        "duration": 411,
        "start_time": "2022-08-27T12:19:13.183Z"
      },
      {
        "duration": 51,
        "start_time": "2022-08-27T12:19:13.595Z"
      },
      {
        "duration": 20,
        "start_time": "2022-08-27T12:19:13.647Z"
      },
      {
        "duration": 13,
        "start_time": "2022-08-27T12:19:13.668Z"
      },
      {
        "duration": 29,
        "start_time": "2022-08-27T12:19:13.683Z"
      },
      {
        "duration": 3,
        "start_time": "2022-08-27T12:19:13.713Z"
      },
      {
        "duration": 10,
        "start_time": "2022-08-27T12:19:13.717Z"
      },
      {
        "duration": 14,
        "start_time": "2022-08-27T12:19:13.729Z"
      },
      {
        "duration": 10,
        "start_time": "2022-08-27T12:19:13.745Z"
      },
      {
        "duration": 3,
        "start_time": "2022-08-27T12:19:13.757Z"
      },
      {
        "duration": 12,
        "start_time": "2022-08-27T12:19:13.761Z"
      },
      {
        "duration": 5,
        "start_time": "2022-08-27T12:19:13.774Z"
      },
      {
        "duration": 9,
        "start_time": "2022-08-27T12:19:13.781Z"
      },
      {
        "duration": 3,
        "start_time": "2022-08-27T12:19:13.806Z"
      },
      {
        "duration": 6,
        "start_time": "2022-08-27T12:19:13.810Z"
      },
      {
        "duration": 8,
        "start_time": "2022-08-27T12:19:13.817Z"
      },
      {
        "duration": 384,
        "start_time": "2022-08-27T12:19:13.827Z"
      },
      {
        "duration": 7,
        "start_time": "2022-08-27T12:19:14.212Z"
      },
      {
        "duration": 26,
        "start_time": "2022-08-27T12:19:14.220Z"
      },
      {
        "duration": 166,
        "start_time": "2022-08-27T12:19:14.248Z"
      },
      {
        "duration": 8,
        "start_time": "2022-08-27T12:19:14.416Z"
      },
      {
        "duration": 343,
        "start_time": "2022-08-27T12:19:14.425Z"
      },
      {
        "duration": 331,
        "start_time": "2022-08-27T12:19:14.770Z"
      },
      {
        "duration": 127,
        "start_time": "2022-08-27T12:19:15.102Z"
      },
      {
        "duration": 138,
        "start_time": "2022-08-27T12:19:15.230Z"
      },
      {
        "duration": 8,
        "start_time": "2022-08-27T12:19:15.369Z"
      },
      {
        "duration": 164,
        "start_time": "2022-08-27T12:19:15.378Z"
      },
      {
        "duration": 6,
        "start_time": "2022-08-27T12:19:15.545Z"
      },
      {
        "duration": 53,
        "start_time": "2022-08-27T12:19:15.553Z"
      },
      {
        "duration": 44,
        "start_time": "2022-08-27T12:19:15.608Z"
      },
      {
        "duration": 236,
        "start_time": "2022-08-27T12:19:15.654Z"
      },
      {
        "duration": 51,
        "start_time": "2022-08-27T12:19:15.892Z"
      },
      {
        "duration": 251,
        "start_time": "2022-08-27T12:19:15.945Z"
      },
      {
        "duration": 449,
        "start_time": "2022-08-27T12:19:16.198Z"
      },
      {
        "duration": 10,
        "start_time": "2022-08-27T12:19:16.648Z"
      },
      {
        "duration": 12,
        "start_time": "2022-08-27T12:19:16.660Z"
      },
      {
        "duration": 26,
        "start_time": "2022-08-27T12:21:06.695Z"
      },
      {
        "duration": 36,
        "start_time": "2022-08-27T12:21:33.543Z"
      },
      {
        "duration": 400,
        "start_time": "2022-08-27T12:22:39.734Z"
      },
      {
        "duration": 56,
        "start_time": "2022-08-27T12:22:40.136Z"
      },
      {
        "duration": 23,
        "start_time": "2022-08-27T12:22:40.193Z"
      },
      {
        "duration": 12,
        "start_time": "2022-08-27T12:22:40.219Z"
      },
      {
        "duration": 35,
        "start_time": "2022-08-27T12:22:40.232Z"
      },
      {
        "duration": 3,
        "start_time": "2022-08-27T12:22:40.269Z"
      },
      {
        "duration": 11,
        "start_time": "2022-08-27T12:22:40.274Z"
      },
      {
        "duration": 6,
        "start_time": "2022-08-27T12:22:40.306Z"
      },
      {
        "duration": 17,
        "start_time": "2022-08-27T12:22:40.313Z"
      },
      {
        "duration": 5,
        "start_time": "2022-08-27T12:22:40.333Z"
      },
      {
        "duration": 15,
        "start_time": "2022-08-27T12:22:40.340Z"
      },
      {
        "duration": 9,
        "start_time": "2022-08-27T12:22:40.357Z"
      },
      {
        "duration": 18,
        "start_time": "2022-08-27T12:22:40.368Z"
      },
      {
        "duration": 20,
        "start_time": "2022-08-27T12:22:40.387Z"
      },
      {
        "duration": 28,
        "start_time": "2022-08-27T12:22:40.409Z"
      },
      {
        "duration": 6,
        "start_time": "2022-08-27T12:22:40.439Z"
      },
      {
        "duration": 435,
        "start_time": "2022-08-27T12:22:40.447Z"
      },
      {
        "duration": 9,
        "start_time": "2022-08-27T12:22:40.885Z"
      },
      {
        "duration": 44,
        "start_time": "2022-08-27T12:22:40.896Z"
      },
      {
        "duration": 195,
        "start_time": "2022-08-27T12:22:40.941Z"
      },
      {
        "duration": 8,
        "start_time": "2022-08-27T12:22:41.138Z"
      },
      {
        "duration": 352,
        "start_time": "2022-08-27T12:22:41.148Z"
      },
      {
        "duration": 350,
        "start_time": "2022-08-27T12:22:41.502Z"
      },
      {
        "duration": 143,
        "start_time": "2022-08-27T12:22:41.853Z"
      },
      {
        "duration": 154,
        "start_time": "2022-08-27T12:22:41.998Z"
      },
      {
        "duration": 17,
        "start_time": "2022-08-27T12:22:42.154Z"
      },
      {
        "duration": 188,
        "start_time": "2022-08-27T12:22:42.173Z"
      },
      {
        "duration": 8,
        "start_time": "2022-08-27T12:22:42.365Z"
      },
      {
        "duration": 46,
        "start_time": "2022-08-27T12:22:42.374Z"
      },
      {
        "duration": 38,
        "start_time": "2022-08-27T12:22:42.422Z"
      },
      {
        "duration": 253,
        "start_time": "2022-08-27T12:22:42.461Z"
      },
      {
        "duration": 33,
        "start_time": "2022-08-27T12:22:42.716Z"
      },
      {
        "duration": 209,
        "start_time": "2022-08-27T12:22:42.751Z"
      },
      {
        "duration": 499,
        "start_time": "2022-08-27T12:22:42.961Z"
      },
      {
        "duration": 11,
        "start_time": "2022-08-27T12:22:43.462Z"
      },
      {
        "duration": 17,
        "start_time": "2022-08-27T12:22:43.475Z"
      },
      {
        "duration": 30,
        "start_time": "2022-08-27T12:23:33.893Z"
      },
      {
        "duration": 9,
        "start_time": "2022-08-27T12:24:23.998Z"
      },
      {
        "duration": 37,
        "start_time": "2022-08-27T12:24:35.366Z"
      },
      {
        "duration": 19,
        "start_time": "2022-08-27T12:27:03.249Z"
      },
      {
        "duration": 15,
        "start_time": "2022-08-27T12:27:22.857Z"
      },
      {
        "duration": 3,
        "start_time": "2022-08-27T12:28:40.057Z"
      },
      {
        "duration": 69,
        "start_time": "2022-08-27T12:28:40.777Z"
      },
      {
        "duration": 17,
        "start_time": "2022-08-27T12:28:41.656Z"
      },
      {
        "duration": 15,
        "start_time": "2022-08-27T12:28:43.173Z"
      },
      {
        "duration": 30,
        "start_time": "2022-08-27T12:28:44.703Z"
      },
      {
        "duration": 3,
        "start_time": "2022-08-27T12:28:52.198Z"
      },
      {
        "duration": 10,
        "start_time": "2022-08-27T12:29:04.977Z"
      },
      {
        "duration": 5,
        "start_time": "2022-08-27T12:29:09.854Z"
      },
      {
        "duration": 7,
        "start_time": "2022-08-27T12:29:12.197Z"
      },
      {
        "duration": 5,
        "start_time": "2022-08-27T12:29:16.776Z"
      },
      {
        "duration": 9,
        "start_time": "2022-08-27T12:29:19.436Z"
      },
      {
        "duration": 8,
        "start_time": "2022-08-27T12:29:26.018Z"
      },
      {
        "duration": 84,
        "start_time": "2022-08-27T12:29:48.170Z"
      },
      {
        "duration": 9,
        "start_time": "2022-08-27T12:30:02.843Z"
      },
      {
        "duration": 32,
        "start_time": "2022-08-27T12:31:04.442Z"
      },
      {
        "duration": 9,
        "start_time": "2022-08-27T12:32:24.636Z"
      },
      {
        "duration": 11,
        "start_time": "2022-08-27T12:32:50.097Z"
      },
      {
        "duration": 4,
        "start_time": "2022-08-27T12:32:55.103Z"
      },
      {
        "duration": 50,
        "start_time": "2022-08-27T12:36:16.169Z"
      },
      {
        "duration": 7,
        "start_time": "2022-08-27T12:36:37.731Z"
      },
      {
        "duration": 34,
        "start_time": "2022-08-27T12:36:45.226Z"
      },
      {
        "duration": 47,
        "start_time": "2022-08-27T12:36:46.049Z"
      },
      {
        "duration": 11,
        "start_time": "2022-08-27T12:39:46.758Z"
      },
      {
        "duration": 57,
        "start_time": "2022-08-27T12:40:08.030Z"
      },
      {
        "duration": 45,
        "start_time": "2022-08-27T12:47:08.991Z"
      },
      {
        "duration": 9,
        "start_time": "2022-08-27T12:52:53.171Z"
      },
      {
        "duration": 19,
        "start_time": "2022-08-27T12:53:03.521Z"
      },
      {
        "duration": 11,
        "start_time": "2022-08-27T12:53:20.826Z"
      },
      {
        "duration": 6,
        "start_time": "2022-08-27T12:53:28.197Z"
      },
      {
        "duration": 8,
        "start_time": "2022-08-27T12:54:15.866Z"
      },
      {
        "duration": 359,
        "start_time": "2022-08-27T13:03:30.381Z"
      },
      {
        "duration": 414,
        "start_time": "2022-08-27T13:03:50.382Z"
      },
      {
        "duration": 491,
        "start_time": "2022-08-27T13:04:32.060Z"
      },
      {
        "duration": 459,
        "start_time": "2022-08-27T13:04:55.101Z"
      },
      {
        "duration": 419,
        "start_time": "2022-08-27T13:05:02.772Z"
      },
      {
        "duration": 452,
        "start_time": "2022-08-27T13:05:17.521Z"
      },
      {
        "duration": 345,
        "start_time": "2022-08-27T13:05:31.888Z"
      },
      {
        "duration": 77,
        "start_time": "2022-08-27T13:09:25.430Z"
      },
      {
        "duration": 523,
        "start_time": "2022-08-27T13:09:34.023Z"
      },
      {
        "duration": 6,
        "start_time": "2022-08-27T13:09:59.820Z"
      },
      {
        "duration": 4,
        "start_time": "2022-08-27T13:10:17.261Z"
      },
      {
        "duration": 264,
        "start_time": "2022-08-27T13:11:46.020Z"
      },
      {
        "duration": 189,
        "start_time": "2022-08-27T13:12:00.140Z"
      },
      {
        "duration": 7,
        "start_time": "2022-08-27T13:12:29.036Z"
      },
      {
        "duration": 465,
        "start_time": "2022-08-27T13:12:40.838Z"
      },
      {
        "duration": 635,
        "start_time": "2022-08-27T13:16:05.827Z"
      },
      {
        "duration": 3,
        "start_time": "2022-08-27T13:16:28.959Z"
      },
      {
        "duration": 59,
        "start_time": "2022-08-27T13:16:28.964Z"
      },
      {
        "duration": 14,
        "start_time": "2022-08-27T13:16:29.025Z"
      },
      {
        "duration": 15,
        "start_time": "2022-08-27T13:16:29.041Z"
      },
      {
        "duration": 27,
        "start_time": "2022-08-27T13:16:29.058Z"
      },
      {
        "duration": 3,
        "start_time": "2022-08-27T13:16:29.087Z"
      },
      {
        "duration": 10,
        "start_time": "2022-08-27T13:16:29.178Z"
      },
      {
        "duration": 8,
        "start_time": "2022-08-27T13:16:29.189Z"
      },
      {
        "duration": 13,
        "start_time": "2022-08-27T13:16:29.200Z"
      },
      {
        "duration": 14,
        "start_time": "2022-08-27T13:16:29.215Z"
      },
      {
        "duration": 14,
        "start_time": "2022-08-27T13:16:29.232Z"
      },
      {
        "duration": 9,
        "start_time": "2022-08-27T13:16:29.248Z"
      },
      {
        "duration": 15,
        "start_time": "2022-08-27T13:16:29.260Z"
      },
      {
        "duration": 65,
        "start_time": "2022-08-27T13:16:29.277Z"
      },
      {
        "duration": 297,
        "start_time": "2022-08-27T13:16:29.345Z"
      },
      {
        "duration": 8,
        "start_time": "2022-08-27T13:16:29.643Z"
      },
      {
        "duration": 6,
        "start_time": "2022-08-27T13:16:29.658Z"
      },
      {
        "duration": 206,
        "start_time": "2022-08-27T13:16:29.666Z"
      },
      {
        "duration": 8,
        "start_time": "2022-08-27T13:16:29.873Z"
      },
      {
        "duration": 42,
        "start_time": "2022-08-27T13:16:29.883Z"
      },
      {
        "duration": 206,
        "start_time": "2022-08-27T13:16:29.927Z"
      },
      {
        "duration": 6,
        "start_time": "2022-08-27T13:16:30.134Z"
      },
      {
        "duration": 475,
        "start_time": "2022-08-27T13:16:30.142Z"
      },
      {
        "duration": 316,
        "start_time": "2022-08-27T13:16:30.620Z"
      },
      {
        "duration": 160,
        "start_time": "2022-08-27T13:16:30.938Z"
      },
      {
        "duration": 153,
        "start_time": "2022-08-27T13:16:31.107Z"
      },
      {
        "duration": 8,
        "start_time": "2022-08-27T13:16:31.262Z"
      },
      {
        "duration": 205,
        "start_time": "2022-08-27T13:16:31.272Z"
      },
      {
        "duration": 9,
        "start_time": "2022-08-27T13:16:31.479Z"
      },
      {
        "duration": 66,
        "start_time": "2022-08-27T13:16:31.490Z"
      },
      {
        "duration": 35,
        "start_time": "2022-08-27T13:16:31.557Z"
      },
      {
        "duration": 524,
        "start_time": "2022-08-27T13:16:31.594Z"
      },
      {
        "duration": 0,
        "start_time": "2022-08-27T13:16:32.120Z"
      },
      {
        "duration": 0,
        "start_time": "2022-08-27T13:16:32.120Z"
      },
      {
        "duration": 0,
        "start_time": "2022-08-27T13:16:32.121Z"
      },
      {
        "duration": 0,
        "start_time": "2022-08-27T13:16:32.121Z"
      },
      {
        "duration": 0,
        "start_time": "2022-08-27T13:16:32.122Z"
      },
      {
        "duration": 424,
        "start_time": "2022-08-27T13:20:29.604Z"
      },
      {
        "duration": 64,
        "start_time": "2022-08-27T13:20:30.030Z"
      },
      {
        "duration": 25,
        "start_time": "2022-08-27T13:20:30.095Z"
      },
      {
        "duration": 32,
        "start_time": "2022-08-27T13:20:30.122Z"
      },
      {
        "duration": 32,
        "start_time": "2022-08-27T13:20:30.156Z"
      },
      {
        "duration": 3,
        "start_time": "2022-08-27T13:20:30.189Z"
      },
      {
        "duration": 52,
        "start_time": "2022-08-27T13:20:30.193Z"
      },
      {
        "duration": 7,
        "start_time": "2022-08-27T13:20:30.246Z"
      },
      {
        "duration": 23,
        "start_time": "2022-08-27T13:20:30.254Z"
      },
      {
        "duration": 7,
        "start_time": "2022-08-27T13:20:30.279Z"
      },
      {
        "duration": 30,
        "start_time": "2022-08-27T13:20:30.287Z"
      },
      {
        "duration": 25,
        "start_time": "2022-08-27T13:20:30.322Z"
      },
      {
        "duration": 18,
        "start_time": "2022-08-27T13:20:30.349Z"
      },
      {
        "duration": 33,
        "start_time": "2022-08-27T13:20:30.369Z"
      },
      {
        "duration": 588,
        "start_time": "2022-08-27T13:20:30.403Z"
      },
      {
        "duration": 8,
        "start_time": "2022-08-27T13:20:30.992Z"
      },
      {
        "duration": 32,
        "start_time": "2022-08-27T13:20:31.008Z"
      },
      {
        "duration": 202,
        "start_time": "2022-08-27T13:20:31.042Z"
      },
      {
        "duration": 6,
        "start_time": "2022-08-27T13:20:31.246Z"
      },
      {
        "duration": 24,
        "start_time": "2022-08-27T13:20:31.254Z"
      },
      {
        "duration": 217,
        "start_time": "2022-08-27T13:20:31.280Z"
      },
      {
        "duration": 17,
        "start_time": "2022-08-27T13:20:31.499Z"
      },
      {
        "duration": 434,
        "start_time": "2022-08-27T13:20:31.522Z"
      },
      {
        "duration": 381,
        "start_time": "2022-08-27T13:20:31.958Z"
      },
      {
        "duration": 165,
        "start_time": "2022-08-27T13:20:32.342Z"
      },
      {
        "duration": 165,
        "start_time": "2022-08-27T13:20:32.509Z"
      },
      {
        "duration": 8,
        "start_time": "2022-08-27T13:20:32.676Z"
      },
      {
        "duration": 203,
        "start_time": "2022-08-27T13:20:32.687Z"
      },
      {
        "duration": 27,
        "start_time": "2022-08-27T13:20:32.892Z"
      },
      {
        "duration": 55,
        "start_time": "2022-08-27T13:20:32.922Z"
      },
      {
        "duration": 47,
        "start_time": "2022-08-27T13:20:32.979Z"
      },
      {
        "duration": 623,
        "start_time": "2022-08-27T13:20:33.031Z"
      },
      {
        "duration": 0,
        "start_time": "2022-08-27T13:20:33.656Z"
      },
      {
        "duration": 0,
        "start_time": "2022-08-27T13:20:33.657Z"
      },
      {
        "duration": 0,
        "start_time": "2022-08-27T13:20:33.658Z"
      },
      {
        "duration": 0,
        "start_time": "2022-08-27T13:20:33.659Z"
      },
      {
        "duration": 0,
        "start_time": "2022-08-27T13:20:33.660Z"
      },
      {
        "duration": 6,
        "start_time": "2022-08-27T13:53:26.955Z"
      },
      {
        "duration": 13,
        "start_time": "2022-08-27T13:53:40.494Z"
      },
      {
        "duration": 5,
        "start_time": "2022-08-27T13:53:52.091Z"
      },
      {
        "duration": 350,
        "start_time": "2022-08-27T13:54:34.137Z"
      },
      {
        "duration": 50,
        "start_time": "2022-08-27T13:54:34.489Z"
      },
      {
        "duration": 24,
        "start_time": "2022-08-27T13:54:34.540Z"
      },
      {
        "duration": 14,
        "start_time": "2022-08-27T13:54:34.566Z"
      },
      {
        "duration": 39,
        "start_time": "2022-08-27T13:54:34.582Z"
      },
      {
        "duration": 3,
        "start_time": "2022-08-27T13:54:34.623Z"
      },
      {
        "duration": 17,
        "start_time": "2022-08-27T13:54:34.627Z"
      },
      {
        "duration": 6,
        "start_time": "2022-08-27T13:54:34.645Z"
      },
      {
        "duration": 26,
        "start_time": "2022-08-27T13:54:34.653Z"
      },
      {
        "duration": 8,
        "start_time": "2022-08-27T13:54:35.041Z"
      },
      {
        "duration": 15,
        "start_time": "2022-08-27T13:54:35.051Z"
      },
      {
        "duration": 8,
        "start_time": "2022-08-27T13:54:35.068Z"
      },
      {
        "duration": 12,
        "start_time": "2022-08-27T13:54:35.077Z"
      },
      {
        "duration": 34,
        "start_time": "2022-08-27T13:54:35.091Z"
      },
      {
        "duration": 566,
        "start_time": "2022-08-27T13:54:35.127Z"
      },
      {
        "duration": 12,
        "start_time": "2022-08-27T13:54:35.695Z"
      },
      {
        "duration": 10,
        "start_time": "2022-08-27T13:54:35.709Z"
      },
      {
        "duration": 8,
        "start_time": "2022-08-27T13:54:35.722Z"
      },
      {
        "duration": 166,
        "start_time": "2022-08-27T13:54:35.732Z"
      },
      {
        "duration": 10,
        "start_time": "2022-08-27T13:54:35.900Z"
      },
      {
        "duration": 29,
        "start_time": "2022-08-27T13:54:35.912Z"
      },
      {
        "duration": 230,
        "start_time": "2022-08-27T13:54:35.942Z"
      },
      {
        "duration": 8,
        "start_time": "2022-08-27T13:54:36.174Z"
      },
      {
        "duration": 380,
        "start_time": "2022-08-27T13:54:36.185Z"
      },
      {
        "duration": 384,
        "start_time": "2022-08-27T13:54:36.566Z"
      },
      {
        "duration": 159,
        "start_time": "2022-08-27T13:54:36.952Z"
      },
      {
        "duration": 151,
        "start_time": "2022-08-27T13:54:37.113Z"
      },
      {
        "duration": 8,
        "start_time": "2022-08-27T13:54:37.266Z"
      },
      {
        "duration": 175,
        "start_time": "2022-08-27T13:54:37.276Z"
      },
      {
        "duration": 9,
        "start_time": "2022-08-27T13:54:37.452Z"
      },
      {
        "duration": 58,
        "start_time": "2022-08-27T13:54:37.462Z"
      },
      {
        "duration": 33,
        "start_time": "2022-08-27T13:54:37.522Z"
      },
      {
        "duration": 603,
        "start_time": "2022-08-27T13:54:37.556Z"
      },
      {
        "duration": 0,
        "start_time": "2022-08-27T13:54:38.160Z"
      },
      {
        "duration": 0,
        "start_time": "2022-08-27T13:54:38.161Z"
      },
      {
        "duration": 0,
        "start_time": "2022-08-27T13:54:38.162Z"
      },
      {
        "duration": 0,
        "start_time": "2022-08-27T13:54:38.163Z"
      },
      {
        "duration": 0,
        "start_time": "2022-08-27T13:54:38.165Z"
      },
      {
        "duration": 3,
        "start_time": "2022-08-27T13:55:12.137Z"
      },
      {
        "duration": 36,
        "start_time": "2022-08-27T13:55:18.713Z"
      },
      {
        "duration": 218,
        "start_time": "2022-08-27T13:55:18.751Z"
      },
      {
        "duration": 459,
        "start_time": "2022-08-27T13:55:18.970Z"
      },
      {
        "duration": 10,
        "start_time": "2022-08-27T13:55:19.434Z"
      },
      {
        "duration": 13,
        "start_time": "2022-08-27T13:55:19.446Z"
      },
      {
        "duration": 527,
        "start_time": "2022-08-27T14:45:38.067Z"
      },
      {
        "duration": 19,
        "start_time": "2022-08-27T14:55:45.255Z"
      },
      {
        "duration": 14,
        "start_time": "2022-08-27T14:56:34.443Z"
      },
      {
        "duration": 230,
        "start_time": "2022-08-27T14:57:13.299Z"
      },
      {
        "duration": 18,
        "start_time": "2022-08-27T14:57:36.122Z"
      },
      {
        "duration": 568,
        "start_time": "2022-08-27T15:01:03.602Z"
      },
      {
        "duration": 22,
        "start_time": "2022-08-27T15:01:35.031Z"
      },
      {
        "duration": 9,
        "start_time": "2022-08-27T15:03:44.661Z"
      },
      {
        "duration": 53,
        "start_time": "2022-08-27T15:03:45.896Z"
      },
      {
        "duration": 59,
        "start_time": "2022-08-27T15:06:23.369Z"
      },
      {
        "duration": 13,
        "start_time": "2022-08-27T15:07:45.623Z"
      }
    ],
    "kernelspec": {
      "display_name": "Python 3 (ipykernel)",
      "language": "python",
      "name": "python3"
    },
    "language_info": {
      "codemirror_mode": {
        "name": "ipython",
        "version": 3
      },
      "file_extension": ".py",
      "mimetype": "text/x-python",
      "name": "python",
      "nbconvert_exporter": "python",
      "pygments_lexer": "ipython3",
      "version": "3.9.5"
    },
    "toc": {
      "base_numbering": 1,
      "nav_menu": {},
      "number_sections": true,
      "sideBar": true,
      "skip_h1_title": true,
      "title_cell": "Table of Contents",
      "title_sidebar": "Contents",
      "toc_cell": false,
      "toc_position": {},
      "toc_section_display": true,
      "toc_window_display": false
    },
    "colab": {
      "provenance": []
    }
  },
  "nbformat": 4,
  "nbformat_minor": 0
}