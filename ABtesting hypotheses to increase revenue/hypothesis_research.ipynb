{
  "cells": [
    {
      "cell_type": "markdown",
      "metadata": {
        "id": "AAogqL_CH53e"
      },
      "source": [
        "# Исследование гипотез для увеличения выручки."
      ]
    },
    {
      "cell_type": "markdown",
      "metadata": {
        "id": "IpXlFECpH53e"
      },
      "source": [
        "В данном проекте мы исследуем гипотезы для выявления тех, чье внедрение окажет положительное влияние на выручку компании. В первой части с помощью методов ICE и RICE мы определим те гипотезы,  которые необходимо проверить в первую очередь.\n",
        "Во второй части мы проанализируем итоги А/В теста и примем решение о результатах данного теста и есть ли необходимость в его продолжении."
      ]
    },
    {
      "cell_type": "markdown",
      "metadata": {
        "id": "nek-ueu6H53g"
      },
      "source": [
        "##  Приоритизация гипотез."
      ]
    },
    {
      "cell_type": "markdown",
      "metadata": {
        "id": "UR03dBymH53h"
      },
      "source": [
        "Было составлено 9 гипотез по увеличению выручки интернет-магазина. Изучим данные и определим, какие гипотезу нуждаются в проверке в первую очередь."
      ]
    },
    {
      "cell_type": "code",
      "execution_count": null,
      "metadata": {
        "id": "ZLu4nWwsH53i"
      },
      "outputs": [],
      "source": [
        "import pandas as pd\n",
        "df=pd.read_csv('/datasets/hypothesis.csv')\n",
        "df.columns=['hypothesis','reach','impact','confidence','efforts']\n",
        "pd.options.display.max_colwidth=110"
      ]
    },
    {
      "cell_type": "code",
      "execution_count": null,
      "metadata": {
        "id": "Qlw1xOqHH53k",
        "outputId": "66914b29-ff32-48ad-9a80-fae69607c377"
      },
      "outputs": [
        {
          "data": {
            "text/html": [
              "<div>\n",
              "<style scoped>\n",
              "    .dataframe tbody tr th:only-of-type {\n",
              "        vertical-align: middle;\n",
              "    }\n",
              "\n",
              "    .dataframe tbody tr th {\n",
              "        vertical-align: top;\n",
              "    }\n",
              "\n",
              "    .dataframe thead th {\n",
              "        text-align: right;\n",
              "    }\n",
              "</style>\n",
              "<table border=\"1\" class=\"dataframe\">\n",
              "  <thead>\n",
              "    <tr style=\"text-align: right;\">\n",
              "      <th></th>\n",
              "      <th>hypothesis</th>\n",
              "      <th>reach</th>\n",
              "      <th>impact</th>\n",
              "      <th>confidence</th>\n",
              "      <th>efforts</th>\n",
              "    </tr>\n",
              "  </thead>\n",
              "  <tbody>\n",
              "    <tr>\n",
              "      <th>0</th>\n",
              "      <td>Добавить два новых канала привлечения трафика, что позволит привлекать на 30% больше пользователей</td>\n",
              "      <td>3</td>\n",
              "      <td>10</td>\n",
              "      <td>8</td>\n",
              "      <td>6</td>\n",
              "    </tr>\n",
              "    <tr>\n",
              "      <th>1</th>\n",
              "      <td>Запустить собственную службу доставки, что сократит срок доставки заказов</td>\n",
              "      <td>2</td>\n",
              "      <td>5</td>\n",
              "      <td>4</td>\n",
              "      <td>10</td>\n",
              "    </tr>\n",
              "    <tr>\n",
              "      <th>2</th>\n",
              "      <td>Добавить блоки рекомендаций товаров на сайт интернет магазина, чтобы повысить конверсию и средний чек заказа</td>\n",
              "      <td>8</td>\n",
              "      <td>3</td>\n",
              "      <td>7</td>\n",
              "      <td>3</td>\n",
              "    </tr>\n",
              "    <tr>\n",
              "      <th>3</th>\n",
              "      <td>Изменить структура категорий, что увеличит конверсию, т.к. пользователи быстрее найдут нужный товар</td>\n",
              "      <td>8</td>\n",
              "      <td>3</td>\n",
              "      <td>3</td>\n",
              "      <td>8</td>\n",
              "    </tr>\n",
              "    <tr>\n",
              "      <th>4</th>\n",
              "      <td>Изменить цвет фона главной страницы, чтобы увеличить вовлеченность пользователей</td>\n",
              "      <td>3</td>\n",
              "      <td>1</td>\n",
              "      <td>1</td>\n",
              "      <td>1</td>\n",
              "    </tr>\n",
              "    <tr>\n",
              "      <th>5</th>\n",
              "      <td>Добавить страницу отзывов клиентов о магазине, что позволит увеличить количество заказов</td>\n",
              "      <td>3</td>\n",
              "      <td>2</td>\n",
              "      <td>2</td>\n",
              "      <td>3</td>\n",
              "    </tr>\n",
              "    <tr>\n",
              "      <th>6</th>\n",
              "      <td>Показать на главной странице баннеры с актуальными акциями и распродажами, чтобы увеличить конверсию</td>\n",
              "      <td>5</td>\n",
              "      <td>3</td>\n",
              "      <td>8</td>\n",
              "      <td>3</td>\n",
              "    </tr>\n",
              "    <tr>\n",
              "      <th>7</th>\n",
              "      <td>Добавить форму подписки на все основные страницы, чтобы собрать базу клиентов для email-рассылок</td>\n",
              "      <td>10</td>\n",
              "      <td>7</td>\n",
              "      <td>8</td>\n",
              "      <td>5</td>\n",
              "    </tr>\n",
              "    <tr>\n",
              "      <th>8</th>\n",
              "      <td>Запустить акцию, дающую скидку на товар в день рождения</td>\n",
              "      <td>1</td>\n",
              "      <td>9</td>\n",
              "      <td>9</td>\n",
              "      <td>5</td>\n",
              "    </tr>\n",
              "  </tbody>\n",
              "</table>\n",
              "</div>"
            ],
            "text/plain": [
              "                                                                                                     hypothesis  \\\n",
              "0            Добавить два новых канала привлечения трафика, что позволит привлекать на 30% больше пользователей   \n",
              "1                                     Запустить собственную службу доставки, что сократит срок доставки заказов   \n",
              "2  Добавить блоки рекомендаций товаров на сайт интернет магазина, чтобы повысить конверсию и средний чек заказа   \n",
              "3           Изменить структура категорий, что увеличит конверсию, т.к. пользователи быстрее найдут нужный товар   \n",
              "4                              Изменить цвет фона главной страницы, чтобы увеличить вовлеченность пользователей   \n",
              "5                      Добавить страницу отзывов клиентов о магазине, что позволит увеличить количество заказов   \n",
              "6          Показать на главной странице баннеры с актуальными акциями и распродажами, чтобы увеличить конверсию   \n",
              "7              Добавить форму подписки на все основные страницы, чтобы собрать базу клиентов для email-рассылок   \n",
              "8                                                       Запустить акцию, дающую скидку на товар в день рождения   \n",
              "\n",
              "   reach  impact  confidence  efforts  \n",
              "0      3      10           8        6  \n",
              "1      2       5           4       10  \n",
              "2      8       3           7        3  \n",
              "3      8       3           3        8  \n",
              "4      3       1           1        1  \n",
              "5      3       2           2        3  \n",
              "6      5       3           8        3  \n",
              "7     10       7           8        5  \n",
              "8      1       9           9        5  "
            ]
          },
          "execution_count": 2,
          "metadata": {},
          "output_type": "execute_result"
        }
      ],
      "source": [
        "df"
      ]
    },
    {
      "cell_type": "markdown",
      "metadata": {
        "id": "lTmLpItCH53n"
      },
      "source": [
        "Каждой гипотезе эксперты дали оценку по 4 критериям:\n",
        "\n",
        "- reach- охват пользователей;\n",
        "\n",
        "- impact -сила влияния изменений на пользователей;\n",
        "\n",
        "- confidence- уверенность в правильной оценке других параметров;\n",
        "\n",
        "- efforts- насколько дорого будет тестировать данную гипотезу.\n",
        "\n",
        "ICE и RICE одни из популярных способов приоритизации задач. Модификация RICE в отличии от ICE использует для оценки все четыре критерия, в ICE не учитывается охват пользователей."
      ]
    },
    {
      "cell_type": "code",
      "execution_count": null,
      "metadata": {
        "id": "t8SuMNcVH53n",
        "outputId": "1de01c9a-e0da-475f-9a44-7e30ab8ec682"
      },
      "outputs": [
        {
          "name": "stdout",
          "output_type": "stream",
          "text": [
            "                                                    hypothesis    ICE\n",
            "8      Запустить акцию, дающую скидку на товар в день рождения  16.20\n",
            "0  Добавить два новых канала привлечения трафика, что позво...  13.33\n",
            "7  Добавить форму подписки на все основные страницы, чтобы ...  11.20\n",
            "6  Показать на главной странице баннеры с актуальными акция...   8.00\n",
            "2  Добавить блоки рекомендаций товаров на сайт интернет маг...   7.00\n",
            "1  Запустить собственную службу доставки, что сократит срок...   2.00\n",
            "5  Добавить страницу отзывов клиентов о магазине, что позво...   1.33\n",
            "3  Изменить структура категорий, что увеличит конверсию, т....   1.12\n",
            "4  Изменить цвет фона главной страницы, чтобы увеличить вов...   1.00\n"
          ]
        }
      ],
      "source": [
        "#считаем ICE\n",
        "df['ICE']=df['impact']*df['confidence']/df['efforts']\n",
        "df['ICE']=round(df['ICE'],2)\n",
        "pd.options.display.max_colwidth=60\n",
        "print (df[['hypothesis','ICE']].sort_values(by='ICE',ascending=False))\n"
      ]
    },
    {
      "cell_type": "markdown",
      "metadata": {
        "id": "Mv7IEx-eH53o"
      },
      "source": [
        "Мы оценили все гипотезы и выбрали наиболее приоритетные, согласно методу ICE.Следующие гипотезы нуждаются в проверке в первую очередь:\n",
        "- запустить акцию, дающую скидку на товар в день рождения,\n",
        "- добавить два новых канала привлечения трафика, что позволит привлекать на 30% больше пользователей,\n",
        "- добавить форму подписки на все основные страницы, чтобы собрать базу клиентов для email-рассылок."
      ]
    },
    {
      "cell_type": "code",
      "execution_count": null,
      "metadata": {
        "id": "ImYfCkTNH53q",
        "outputId": "a0973438-1c6e-45e3-d4d9-4e35d5c9cd41"
      },
      "outputs": [
        {
          "name": "stdout",
          "output_type": "stream",
          "text": [
            "                                                    hypothesis   RICE\n",
            "7  Добавить форму подписки на все основные страницы, чтобы ...  112.0\n",
            "2  Добавить блоки рекомендаций товаров на сайт интернет маг...   56.0\n",
            "0  Добавить два новых канала привлечения трафика, что позво...   40.0\n",
            "6  Показать на главной странице баннеры с актуальными акция...   40.0\n",
            "8      Запустить акцию, дающую скидку на товар в день рождения   16.2\n",
            "3  Изменить структура категорий, что увеличит конверсию, т....    9.0\n",
            "1  Запустить собственную службу доставки, что сократит срок...    4.0\n",
            "5  Добавить страницу отзывов клиентов о магазине, что позво...    4.0\n",
            "4  Изменить цвет фона главной страницы, чтобы увеличить вов...    3.0\n"
          ]
        }
      ],
      "source": [
        "#считаем RICE\n",
        "df['RICE']=df['reach']*df['impact']*df['confidence']/df['efforts']\n",
        "df['RICE']=round(df['RICE'],2)\n",
        "pd.options.display.max_colwidth=60\n",
        "print(df[['hypothesis','RICE']].sort_values(by='RICE',ascending=False))\n"
      ]
    },
    {
      "cell_type": "markdown",
      "metadata": {
        "id": "y4NhGl4nH53q"
      },
      "source": [
        "**Вывод**:\n",
        "\n",
        "Так как методика RICE учитывает еще и охват пользователей, то вместо гипотезы о акции, которая дает скидку в день рождения, в тройку лидеров вошла гипотеза \"добавить блоки рекомендаций товаров на сайт интернет-магазина, чтобы повысить конверсию и средний чек\", у которой охват пользователей больше, так как касается всех пользователей, а не только тех, у которых день рождение в момент заказа."
      ]
    },
    {
      "cell_type": "markdown",
      "metadata": {
        "id": "MGB9TCRxH53s"
      },
      "source": [
        "## Анализ А/В теста"
      ]
    },
    {
      "cell_type": "markdown",
      "metadata": {
        "id": "Bt_pMtXrH53s"
      },
      "source": [
        "Изучим и преобразуем имеющиеся данные. Скачаем необходимые библиотеки."
      ]
    },
    {
      "cell_type": "code",
      "execution_count": null,
      "metadata": {
        "id": "Fw9VSlWxH53s"
      },
      "outputs": [],
      "source": [
        "import datetime as dt\n",
        "import numpy as np\n",
        "import matplotlib.pyplot as plt\n",
        "from pandas.plotting import register_matplotlib_converters\n",
        "import warnings\n",
        "register_matplotlib_converters()\n",
        "import scipy.stats as stats\n",
        "from matplotlib.pyplot import figure"
      ]
    },
    {
      "cell_type": "code",
      "execution_count": null,
      "metadata": {
        "id": "WLGilgO-H53t",
        "outputId": "c7e58417-843a-45b3-d20b-44c5cb17c984"
      },
      "outputs": [
        {
          "data": {
            "text/html": [
              "<div>\n",
              "<style scoped>\n",
              "    .dataframe tbody tr th:only-of-type {\n",
              "        vertical-align: middle;\n",
              "    }\n",
              "\n",
              "    .dataframe tbody tr th {\n",
              "        vertical-align: top;\n",
              "    }\n",
              "\n",
              "    .dataframe thead th {\n",
              "        text-align: right;\n",
              "    }\n",
              "</style>\n",
              "<table border=\"1\" class=\"dataframe\">\n",
              "  <thead>\n",
              "    <tr style=\"text-align: right;\">\n",
              "      <th></th>\n",
              "      <th>transactionId</th>\n",
              "      <th>visitorId</th>\n",
              "      <th>date</th>\n",
              "      <th>revenue</th>\n",
              "      <th>group</th>\n",
              "    </tr>\n",
              "  </thead>\n",
              "  <tbody>\n",
              "    <tr>\n",
              "      <th>0</th>\n",
              "      <td>3667963787</td>\n",
              "      <td>3312258926</td>\n",
              "      <td>2019-08-15</td>\n",
              "      <td>1650</td>\n",
              "      <td>B</td>\n",
              "    </tr>\n",
              "    <tr>\n",
              "      <th>1</th>\n",
              "      <td>2804400009</td>\n",
              "      <td>3642806036</td>\n",
              "      <td>2019-08-15</td>\n",
              "      <td>730</td>\n",
              "      <td>B</td>\n",
              "    </tr>\n",
              "    <tr>\n",
              "      <th>2</th>\n",
              "      <td>2961555356</td>\n",
              "      <td>4069496402</td>\n",
              "      <td>2019-08-15</td>\n",
              "      <td>400</td>\n",
              "      <td>A</td>\n",
              "    </tr>\n",
              "    <tr>\n",
              "      <th>3</th>\n",
              "      <td>3797467345</td>\n",
              "      <td>1196621759</td>\n",
              "      <td>2019-08-15</td>\n",
              "      <td>9759</td>\n",
              "      <td>B</td>\n",
              "    </tr>\n",
              "    <tr>\n",
              "      <th>4</th>\n",
              "      <td>2282983706</td>\n",
              "      <td>2322279887</td>\n",
              "      <td>2019-08-15</td>\n",
              "      <td>2308</td>\n",
              "      <td>B</td>\n",
              "    </tr>\n",
              "  </tbody>\n",
              "</table>\n",
              "</div>"
            ],
            "text/plain": [
              "   transactionId   visitorId        date  revenue group\n",
              "0     3667963787  3312258926  2019-08-15     1650     B\n",
              "1     2804400009  3642806036  2019-08-15      730     B\n",
              "2     2961555356  4069496402  2019-08-15      400     A\n",
              "3     3797467345  1196621759  2019-08-15     9759     B\n",
              "4     2282983706  2322279887  2019-08-15     2308     B"
            ]
          },
          "execution_count": 6,
          "metadata": {},
          "output_type": "execute_result"
        }
      ],
      "source": [
        "orders=pd.read_csv('/datasets/orders.csv')\n",
        "orders.head()"
      ]
    },
    {
      "cell_type": "code",
      "execution_count": null,
      "metadata": {
        "id": "W3evPKZAH53t",
        "outputId": "67bac375-b849-4ecd-be23-c35b6561c411"
      },
      "outputs": [
        {
          "name": "stdout",
          "output_type": "stream",
          "text": [
            "<class 'pandas.core.frame.DataFrame'>\n",
            "RangeIndex: 1197 entries, 0 to 1196\n",
            "Data columns (total 5 columns):\n",
            " #   Column         Non-Null Count  Dtype \n",
            "---  ------         --------------  ----- \n",
            " 0   transactionId  1197 non-null   int64 \n",
            " 1   visitorId      1197 non-null   int64 \n",
            " 2   date           1197 non-null   object\n",
            " 3   revenue        1197 non-null   int64 \n",
            " 4   group          1197 non-null   object\n",
            "dtypes: int64(3), object(2)\n",
            "memory usage: 46.9+ KB\n"
          ]
        }
      ],
      "source": [
        "orders.info()"
      ]
    },
    {
      "cell_type": "code",
      "execution_count": null,
      "metadata": {
        "id": "F25pegw9H53u",
        "outputId": "67493cac-acc3-4b7c-aa17-0443bd296888"
      },
      "outputs": [
        {
          "data": {
            "text/plain": [
              "'2019-08-01'"
            ]
          },
          "execution_count": 8,
          "metadata": {},
          "output_type": "execute_result"
        }
      ],
      "source": [
        "orders['date'].min()"
      ]
    },
    {
      "cell_type": "code",
      "execution_count": null,
      "metadata": {
        "id": "ueqhgPn-H53u",
        "outputId": "c7d41ca2-4886-42aa-ca9a-8516ebbdf2e3"
      },
      "outputs": [
        {
          "data": {
            "text/plain": [
              "'2019-08-31'"
            ]
          },
          "execution_count": 9,
          "metadata": {},
          "output_type": "execute_result"
        }
      ],
      "source": [
        "orders['date'].max()"
      ]
    },
    {
      "cell_type": "code",
      "execution_count": null,
      "metadata": {
        "id": "kt4Zthk4H53v",
        "outputId": "fe62d87d-3750-45a9-ce54-630ed5bc15d0"
      },
      "outputs": [
        {
          "data": {
            "text/html": [
              "<div>\n",
              "<style scoped>\n",
              "    .dataframe tbody tr th:only-of-type {\n",
              "        vertical-align: middle;\n",
              "    }\n",
              "\n",
              "    .dataframe tbody tr th {\n",
              "        vertical-align: top;\n",
              "    }\n",
              "\n",
              "    .dataframe thead th {\n",
              "        text-align: right;\n",
              "    }\n",
              "</style>\n",
              "<table border=\"1\" class=\"dataframe\">\n",
              "  <thead>\n",
              "    <tr style=\"text-align: right;\">\n",
              "      <th></th>\n",
              "      <th>date</th>\n",
              "      <th>group</th>\n",
              "      <th>visitors</th>\n",
              "    </tr>\n",
              "  </thead>\n",
              "  <tbody>\n",
              "    <tr>\n",
              "      <th>0</th>\n",
              "      <td>2019-08-01</td>\n",
              "      <td>A</td>\n",
              "      <td>719</td>\n",
              "    </tr>\n",
              "    <tr>\n",
              "      <th>1</th>\n",
              "      <td>2019-08-02</td>\n",
              "      <td>A</td>\n",
              "      <td>619</td>\n",
              "    </tr>\n",
              "    <tr>\n",
              "      <th>2</th>\n",
              "      <td>2019-08-03</td>\n",
              "      <td>A</td>\n",
              "      <td>507</td>\n",
              "    </tr>\n",
              "    <tr>\n",
              "      <th>3</th>\n",
              "      <td>2019-08-04</td>\n",
              "      <td>A</td>\n",
              "      <td>717</td>\n",
              "    </tr>\n",
              "    <tr>\n",
              "      <th>4</th>\n",
              "      <td>2019-08-05</td>\n",
              "      <td>A</td>\n",
              "      <td>756</td>\n",
              "    </tr>\n",
              "  </tbody>\n",
              "</table>\n",
              "</div>"
            ],
            "text/plain": [
              "         date group  visitors\n",
              "0  2019-08-01     A       719\n",
              "1  2019-08-02     A       619\n",
              "2  2019-08-03     A       507\n",
              "3  2019-08-04     A       717\n",
              "4  2019-08-05     A       756"
            ]
          },
          "execution_count": 10,
          "metadata": {},
          "output_type": "execute_result"
        }
      ],
      "source": [
        "visitors=pd.read_csv('/datasets/visitors.csv')\n",
        "visitors.head()"
      ]
    },
    {
      "cell_type": "code",
      "execution_count": null,
      "metadata": {
        "id": "Yc3jY0ogH53v",
        "outputId": "99bfc39a-e448-42de-9f9f-9a6687d08d05"
      },
      "outputs": [
        {
          "name": "stdout",
          "output_type": "stream",
          "text": [
            "<class 'pandas.core.frame.DataFrame'>\n",
            "RangeIndex: 62 entries, 0 to 61\n",
            "Data columns (total 3 columns):\n",
            " #   Column    Non-Null Count  Dtype \n",
            "---  ------    --------------  ----- \n",
            " 0   date      62 non-null     object\n",
            " 1   group     62 non-null     object\n",
            " 2   visitors  62 non-null     int64 \n",
            "dtypes: int64(1), object(2)\n",
            "memory usage: 1.6+ KB\n"
          ]
        }
      ],
      "source": [
        "visitors.info()"
      ]
    },
    {
      "cell_type": "code",
      "execution_count": null,
      "metadata": {
        "id": "iy9nZySgH53w",
        "outputId": "af60c272-85b1-4458-eacc-6882054680b4"
      },
      "outputs": [
        {
          "data": {
            "text/plain": [
              "'2019-08-01'"
            ]
          },
          "execution_count": 12,
          "metadata": {},
          "output_type": "execute_result"
        }
      ],
      "source": [
        "visitors['date'].min()"
      ]
    },
    {
      "cell_type": "code",
      "execution_count": null,
      "metadata": {
        "id": "m3sFfYvQH53w",
        "outputId": "8c491af7-e810-44e4-a5b6-fa0a4e5d72f5"
      },
      "outputs": [
        {
          "data": {
            "text/plain": [
              "'2019-08-31'"
            ]
          },
          "execution_count": 13,
          "metadata": {},
          "output_type": "execute_result"
        }
      ],
      "source": [
        "visitors['date'].max()"
      ]
    },
    {
      "cell_type": "code",
      "execution_count": null,
      "metadata": {
        "id": "JVk8ZkzOH53x"
      },
      "outputs": [],
      "source": [
        "orders['date'] = orders['date'].map(\n",
        "    lambda x: dt.datetime.strptime(x, '%Y-%m-%d')\n",
        ")\n",
        "\n",
        "visitors['date'] = visitors['date'].map(\n",
        "    lambda x: dt.datetime.strptime(x, '%Y-%m-%d')\n",
        ")"
      ]
    },
    {
      "cell_type": "code",
      "execution_count": null,
      "metadata": {
        "id": "2mwgzPufH53y",
        "outputId": "b0a2830b-908e-40b9-b6a1-d8ed872b7026"
      },
      "outputs": [
        {
          "data": {
            "text/plain": [
              "0"
            ]
          },
          "execution_count": 15,
          "metadata": {},
          "output_type": "execute_result"
        }
      ],
      "source": [
        "orders.duplicated().sum() "
      ]
    },
    {
      "cell_type": "code",
      "execution_count": null,
      "metadata": {
        "id": "EcY8QGilH53y",
        "outputId": "0356ab23-0568-478a-b795-91bf8038b33d"
      },
      "outputs": [
        {
          "data": {
            "text/plain": [
              "0"
            ]
          },
          "execution_count": 16,
          "metadata": {},
          "output_type": "execute_result"
        }
      ],
      "source": [
        "visitors.duplicated().sum() "
      ]
    },
    {
      "cell_type": "markdown",
      "metadata": {
        "id": "WfxWecDCH53z"
      },
      "source": [
        "Для проведения А/В теста и проверки гипотезы все пользователи интернет-магазина были разделены на две группы: А и В. Тест проходил в течение августа 2019 г. Есть данные о заказах, сделанных в этот период, а также о количестве покупателей каждый день, относящихся к группе А или группе В. Пропусков и дубликатов в данных нет."
      ]
    },
    {
      "cell_type": "markdown",
      "metadata": {
        "id": "moTQpk92H53z"
      },
      "source": [
        "Проверим, есть ли пользователи, которые входят сразу в две группы."
      ]
    },
    {
      "cell_type": "code",
      "execution_count": null,
      "metadata": {
        "id": "ABdICUziH530",
        "outputId": "398c8757-524b-4349-b84a-c231c1759bf7"
      },
      "outputs": [
        {
          "data": {
            "text/plain": [
              "2       4069496402\n",
              "7         78758296\n",
              "8        295230930\n",
              "10       879864040\n",
              "12      3213223594\n",
              "           ...    \n",
              "1187     132143192\n",
              "1188    1022829655\n",
              "1193     370388673\n",
              "1194     573423106\n",
              "1195    1614305549\n",
              "Name: visitorId, Length: 557, dtype: int64"
            ]
          },
          "execution_count": 17,
          "metadata": {},
          "output_type": "execute_result"
        }
      ],
      "source": [
        "dfA=orders.query('group == \"A\"')['visitorId']\n",
        "dfA"
      ]
    },
    {
      "cell_type": "code",
      "execution_count": null,
      "metadata": {
        "id": "0cEA0s73H530",
        "outputId": "fb28fb3f-91e7-4fea-b08a-5d93464da545"
      },
      "outputs": [
        {
          "data": {
            "text/plain": [
              "0       3312258926\n",
              "1       3642806036\n",
              "3       1196621759\n",
              "4       2322279887\n",
              "5        935554773\n",
              "           ...    \n",
              "1189     393266494\n",
              "1190    1197745035\n",
              "1191     608641596\n",
              "1192    3733762160\n",
              "1196    2108080724\n",
              "Name: visitorId, Length: 640, dtype: int64"
            ]
          },
          "execution_count": 18,
          "metadata": {},
          "output_type": "execute_result"
        }
      ],
      "source": [
        "dfB=orders.query('group == \"B\"')['visitorId']\n",
        "dfB\n"
      ]
    },
    {
      "cell_type": "code",
      "execution_count": null,
      "metadata": {
        "id": "XCZuVCSLH531",
        "outputId": "58914f24-76b9-4ade-cbfd-af112c994b50"
      },
      "outputs": [
        {
          "name": "stdout",
          "output_type": "stream",
          "text": [
            "[   8300375  199603092  232979603  237748145  276558944  351125977\n",
            "  393266494  457167155  471551937  477780734  818047933  963407295\n",
            " 1230306981 1294878855 1316129916 1333886533 1404934699 1602967004\n",
            " 1614305549 1648269707 1668030113 1738359350 1801183820 1959144690\n",
            " 2038680547 2044997962 2378935119 2458001652 2579882178 2587333274\n",
            " 2600415354 2654030115 2686716486 2712142231 2716752286 2780786433\n",
            " 2927087541 2949041841 2954449915 3062433592 3202540741 3234906277\n",
            " 3656415546 3717692402 3766097110 3803269165 3891541246 3941795274\n",
            " 3951559397 3957174400 3963646447 3972127743 3984495233 4069496402\n",
            " 4120364173 4186807279 4256040402 4266935830]\n",
            "Количество пользователей, находящихся сразу в обеих группах: 58\n"
          ]
        }
      ],
      "source": [
        "dfAB=np.intersect1d(dfA,dfB)\n",
        "print(dfAB)\n",
        "print('Количество пользователей, находящихся сразу в обеих группах:',len(dfAB))"
      ]
    },
    {
      "cell_type": "code",
      "execution_count": null,
      "metadata": {
        "id": "11P9rGNcH531",
        "outputId": "f979b537-b8c1-40d5-f00e-ba3d5a7c2337"
      },
      "outputs": [
        {
          "name": "stdout",
          "output_type": "stream",
          "text": [
            "Количество пользователей, участвовавших в эксперименте: 1031\n"
          ]
        }
      ],
      "source": [
        "print('Количество пользователей, участвовавших в эксперименте:',len(orders['visitorId'].unique()))"
      ]
    },
    {
      "cell_type": "markdown",
      "metadata": {
        "id": "mfv7KpiYH532"
      },
      "source": [
        "Так как доля пользователей, которые одновременно попали в обе группы теста, небольшая, мы их можем оставить без изменения."
      ]
    },
    {
      "cell_type": "markdown",
      "metadata": {
        "id": "wVvqffdFH532"
      },
      "source": [
        "### График кумулятивной выручки по группам."
      ]
    },
    {
      "cell_type": "code",
      "execution_count": null,
      "metadata": {
        "id": "djeJovJzH533",
        "outputId": "43ec2c5d-295a-4b4f-b025-2a360e78121e"
      },
      "outputs": [
        {
          "data": {
            "image/png": "[encoded data removed]",
            "text/plain": [
              "<Figure size 864x432 with 1 Axes>"
            ]
          },
          "metadata": {
            "needs_background": "light"
          },
          "output_type": "display_data"
        }
      ],
      "source": [
        "datesGroups = orders[['date', 'group']].drop_duplicates()\n",
        "\n",
        "ordersAggregated = datesGroups.apply(\n",
        "    lambda x: orders[\n",
        "        np.logical_and(\n",
        "            orders['date'] <= x['date'], orders['group'] == x['group']\n",
        "        )\n",
        "    ].agg(\n",
        "        {\n",
        "            'date': 'max',\n",
        "            'group': 'max',\n",
        "            'transactionId': 'nunique',\n",
        "            'visitorId': 'nunique',\n",
        "            'revenue': 'sum',\n",
        "        }\n",
        "    ),\n",
        "    axis=1,\n",
        ").sort_values(by=['date', 'group'])\n",
        "\n",
        "visitorsAggregated = datesGroups.apply(\n",
        "    lambda x: visitors[\n",
        "        np.logical_and(\n",
        "            visitors['date'] <= x['date'], visitors['group'] == x['group']\n",
        "        )\n",
        "    ].agg({'date': 'max', 'group': 'max', 'visitors': 'sum'}),\n",
        "    axis=1,\n",
        ").sort_values(by=['date', 'group'])\n",
        "\n",
        "cumulativeData = ordersAggregated.merge(\n",
        "    visitorsAggregated, left_on=['date', 'group'], right_on=['date', 'group']\n",
        ")\n",
        "cumulativeData.columns = [\n",
        "    'date',\n",
        "    'group',\n",
        "    'orders',\n",
        "    'buyers',\n",
        "    'revenue',\n",
        "    'visitors',\n",
        "]\n",
        "# датафрейм с кумулятивным количеством заказов и кумулятивной выручкой по дням в группе А\n",
        "cumulativeRevenueA = cumulativeData[cumulativeData['group']=='A'][['date','revenue', 'orders']]\n",
        "\n",
        "# датафрейм с кумулятивным количеством заказов и кумулятивной выручкой по дням в группе B\n",
        "cumulativeRevenueB = cumulativeData[cumulativeData['group']=='B'][['date','revenue', 'orders']]\n",
        "\n",
        "fig = plt.figure(figsize=(12,6))\n",
        "ax = fig.add_subplot(111)\n",
        "ax.set_title('График кумулятивной выручки по группам')\n",
        "ax.set_xlabel('Даты')\n",
        "ax.set_ylabel('Накопленная выручка')\n",
        "\n",
        "# Строим график выручки группы А\n",
        "plt.plot(cumulativeRevenueA['date'], cumulativeRevenueA['revenue'], label='A')\n",
        "\n",
        "# Строим график выручки группы B\n",
        "plt.plot(cumulativeRevenueB['date'], cumulativeRevenueB['revenue'], label='B')\n",
        "\n",
        "\n",
        "\n",
        "None"
      ]
    },
    {
      "cell_type": "markdown",
      "metadata": {
        "id": "WdU30-psH536"
      },
      "source": [
        "**Вывод**:\n",
        "\n",
        "Сначала графики кумулятивной выручки групп были примерно одинаковы, но потом накопленная выручка группы В была стабильно выше группы А. Около 18 августа мы видим большой всплеск выручки группы В. Возможно, это произошло из-за большого количества заказов или одного заказа по высокой цене. Несмотря на очевидный выброс, выручка группы В стабильно выше группы А."
      ]
    },
    {
      "cell_type": "markdown",
      "metadata": {
        "id": "HkGAl0DLH536"
      },
      "source": [
        "### График кумулятивного среднего чека по группам."
      ]
    },
    {
      "cell_type": "code",
      "execution_count": null,
      "metadata": {
        "id": "3filtBJzH537",
        "outputId": "40cc7fc3-1820-4e22-860f-2dc42d00fcd1"
      },
      "outputs": [
        {
          "data": {
            "image/png": "[encoded data removed]",
            "text/plain": [
              "<Figure size 864x432 with 1 Axes>"
            ]
          },
          "metadata": {
            "needs_background": "light"
          },
          "output_type": "display_data"
        }
      ],
      "source": [
        "fig = plt.figure(figsize=(12,6))\n",
        "ax = fig.add_subplot(111)\n",
        "ax.set_title('График кумулятивной выручки по группам')\n",
        "ax.set_xlabel('Даты')\n",
        "ax.set_ylabel('Кумулятивный средний чек')\n",
        "\n",
        "plt.plot(cumulativeRevenueA['date'], cumulativeRevenueA['revenue']/cumulativeRevenueA['orders'], label='A')\n",
        "plt.plot(cumulativeRevenueB['date'], cumulativeRevenueB['revenue']/cumulativeRevenueB['orders'], label='B')\n",
        "plt.legend() \n",
        "None"
      ]
    },
    {
      "cell_type": "markdown",
      "metadata": {
        "id": "8pAfOAzwH537"
      },
      "source": [
        "**Вывод**:\n",
        "\n",
        "накопленная сумма средних чеков группы В, в основном, выше чем у группы А. Но выброс около 18 августа сильно искажает картину. Без него выводы ,возможно, были бы другими."
      ]
    },
    {
      "cell_type": "markdown",
      "metadata": {
        "id": "KQwPm4cKH538"
      },
      "source": [
        "### График относительного изменения кумулятивного среднего чека группы В к группе А."
      ]
    },
    {
      "cell_type": "code",
      "execution_count": null,
      "metadata": {
        "id": "K_TzPMndH538",
        "outputId": "13fbb638-ebcf-4923-9b25-faaaf9cfab4d"
      },
      "outputs": [
        {
          "data": {
            "image/png": "[encoded data removed]",
            "text/plain": [
              "<Figure size 864x432 with 1 Axes>"
            ]
          },
          "metadata": {
            "needs_background": "light"
          },
          "output_type": "display_data"
        }
      ],
      "source": [
        "fig = plt.figure(figsize=(12,6))\n",
        "ax = fig.add_subplot(111)\n",
        "ax.set_title('Относительное изменение кумулятивного среднего чека группы В к группе А')\n",
        "ax.set_xlabel('Даты')\n",
        "ax.set_ylabel('Относительное изменение')\n",
        "\n",
        "# собираем данные в одном датафрейме\n",
        "mergedCumulativeRevenue = cumulativeRevenueA.merge(cumulativeRevenueB, left_on='date', right_on='date', how='left', suffixes=['A', 'B'])\n",
        "\n",
        "# cтроим отношение средних чеков\n",
        "plt.plot(mergedCumulativeRevenue['date'], (mergedCumulativeRevenue['revenueB']/mergedCumulativeRevenue['ordersB'])/(mergedCumulativeRevenue['revenueA']/mergedCumulativeRevenue['ordersA'])-1)\n",
        "\n",
        "# добавляем ось X\n",
        "plt.axhline(y=0, color='black', linestyle='--') \n",
        "None"
      ]
    },
    {
      "cell_type": "markdown",
      "metadata": {
        "id": "KiDVXJU6H539"
      },
      "source": [
        "**Вывод**:\n",
        "    \n",
        "результаты теста за период проведения несколько раз менялись. Можно сделать предварительный вывод о том, что средний чек группы В\n",
        "выше чем группы А. Но для более достоверных результатов необходимо или проводить тест дальше, или исключить аномальные значения."
      ]
    },
    {
      "cell_type": "markdown",
      "metadata": {
        "id": "q1N2R9qOH53-"
      },
      "source": [
        "### График кумулятивной конверсии по группам."
      ]
    },
    {
      "cell_type": "code",
      "execution_count": null,
      "metadata": {
        "id": "3eQ4sgWmH53-",
        "outputId": "8a9b8c07-b7a8-4b5d-a38a-29a16e7f0792"
      },
      "outputs": [
        {
          "data": {
            "image/png": "[encoded data removed]",
            "text/plain": [
              "<Figure size 864x432 with 1 Axes>"
            ]
          },
          "metadata": {
            "needs_background": "light"
          },
          "output_type": "display_data"
        }
      ],
      "source": [
        "cumulativeData['conversion'] = cumulativeData['orders']/cumulativeData['visitors']\n",
        "# отделяем данные по группе A\n",
        "cumulativeDataA = cumulativeData[cumulativeData['group']=='A']\n",
        "\n",
        "fig = plt.figure(figsize=(12,6))\n",
        "ax = fig.add_subplot(111)\n",
        "ax.set_title('График кумулятивной конверсии по группам')\n",
        "ax.set_xlabel('Даты')\n",
        "ax.set_ylabel('Кумулятивная конверсия')\n",
        "\n",
        "# отделяем данные по группе B\n",
        "cumulativeDataB = cumulativeData[cumulativeData['group']=='B']\n",
        "plt.plot(cumulativeDataA['date'], cumulativeDataA['conversion'], label='A')\n",
        "plt.plot(cumulativeDataB['date'], cumulativeDataB['conversion'], label='B')\n",
        "plt.legend()\n",
        "\n",
        "# задаем масштаб осей\n",
        "plt.axis([dt.datetime(2019, 8, 1), dt.datetime(2019, 9, 1), 0, 0.05])\n",
        "None"
      ]
    },
    {
      "cell_type": "markdown",
      "metadata": {
        "id": "YVjuhlGuH53-"
      },
      "source": [
        "**Вывод**:\n",
        "\n",
        "конверсия группы В стабильно превышает конверсию группы А. Обе конверсии зафиксировались на определенном уровне."
      ]
    },
    {
      "cell_type": "markdown",
      "metadata": {
        "id": "tsblHAoNH53_"
      },
      "source": [
        "### График относительного изменения кумулятивной конверсии группы В к группе А."
      ]
    },
    {
      "cell_type": "code",
      "execution_count": null,
      "metadata": {
        "id": "bTm4_vdzH53_",
        "outputId": "980180d2-5055-4efc-aee6-e35f9bbbb50f"
      },
      "outputs": [
        {
          "data": {
            "image/png": "[encoded data removed]",
            "text/plain": [
              "<Figure size 864x432 with 1 Axes>"
            ]
          },
          "metadata": {
            "needs_background": "light"
          },
          "output_type": "display_data"
        }
      ],
      "source": [
        "mergedCumulativeConversions = cumulativeDataA[['date','conversion']].merge(cumulativeDataB[['date','conversion']], left_on='date', right_on='date', how='left', suffixes=['A', 'B'])\n",
        "fig = plt.figure(figsize=(12,6))\n",
        "ax = fig.add_subplot(111)\n",
        "ax.set_title('График относительного изменения кумулятивной конверсии группы В к группе А')\n",
        "ax.set_xlabel('Даты')\n",
        "ax.set_ylabel('Относительное изменение')\n",
        "plt.plot(mergedCumulativeConversions['date'], mergedCumulativeConversions['conversionB']/mergedCumulativeConversions['conversionA']-1, label=\"Относительный прирост конверсии группы B относительно группы A\")\n",
        "plt.legend()\n",
        "\n",
        "plt.axhline(y=0, color='black', linestyle='--')\n",
        "plt.axhline(y=0.2, color='grey', linestyle='--')\n",
        "plt.axis([\"2019-08-1\", '2019-09-1', -0.5, 0.5]) \n",
        "None"
      ]
    },
    {
      "cell_type": "markdown",
      "metadata": {
        "id": "OOtBpsuGH54A"
      },
      "source": [
        "**Вывод**:\n",
        "\n",
        "в самом начале график относительный прирост конверсии группы В к группе А снижался и был даже отом отрицательным. Но потом произошел рост и конверсия группы В стала стабильно выше конверсии группы А."
      ]
    },
    {
      "cell_type": "markdown",
      "metadata": {
        "id": "qb8u84TXH54B"
      },
      "source": [
        "### График количества заказов по пользователям."
      ]
    },
    {
      "cell_type": "code",
      "execution_count": null,
      "metadata": {
        "id": "6RoD7X4TH54B",
        "outputId": "6d3d2703-04aa-42a3-94a8-fa93d60b13e9"
      },
      "outputs": [
        {
          "name": "stdout",
          "output_type": "stream",
          "text": [
            "       visitorId  orders\n",
            "1023  4256040402      11\n",
            "591   2458001652      11\n",
            "569   2378935119       9\n",
            "487   2038680547       8\n",
            "44     199603092       5\n",
            "744   3062433592       5\n",
            "55     237748145       5\n",
            "917   3803269165       5\n",
            "299   1230306981       5\n",
            "897   3717692402       5\n"
          ]
        },
        {
          "data": {
            "image/png": "[encoded data removed]",
            "text/plain": [
              "<Figure size 576x432 with 1 Axes>"
            ]
          },
          "metadata": {
            "needs_background": "light"
          },
          "output_type": "display_data"
        }
      ],
      "source": [
        "ordersByUsers = (\n",
        "    orders.groupby('visitorId', as_index=False)\n",
        "    .agg({'transactionId': 'nunique'})\n",
        ")\n",
        "ordersByUsers.columns = ['visitorId', 'orders']\n",
        "\n",
        "print(ordersByUsers.sort_values(by='orders', ascending=False).head(10))\n",
        "\n",
        "# серия из чисел от 0 до количества наблюдений в ordersByUsers\n",
        "x_values = pd.Series(range(0, len(ordersByUsers)))\n",
        "\n",
        "x_values = pd.Series(range(0,len(ordersByUsers)))\n",
        "fig = plt.figure(figsize=(8,6))\n",
        "ax = fig.add_subplot(111)\n",
        "ax.set_title('Количество заказов по пользователям')\n",
        "ax.set_xlabel('Пользователи')\n",
        "ax.set_ylabel('Заказы')\n",
        "\n",
        "plt.scatter(x_values, ordersByUsers['orders']) \n",
        "None"
      ]
    },
    {
      "cell_type": "markdown",
      "metadata": {
        "id": "fxEDdBFXH54C"
      },
      "source": [
        "**Вывод:**\n",
        "\n",
        "большинство пользователей делали 1 заказ за время проведения теста. Небольшая часть пользователей делали 2 и 3 заказа. И совсем редкие пользователи заказывали товар более 3 раз."
      ]
    },
    {
      "cell_type": "markdown",
      "metadata": {
        "id": "7obwixi1H54C"
      },
      "source": [
        "### 95-й и 99-й перцентили количества заказов на пользователя."
      ]
    },
    {
      "cell_type": "code",
      "execution_count": null,
      "metadata": {
        "id": "LA-LFkc6H54D",
        "outputId": "e132225f-0829-4ab4-cb7b-a00122334dfa"
      },
      "outputs": [
        {
          "name": "stdout",
          "output_type": "stream",
          "text": [
            "       visitorId  orders\n",
            "1023  4256040402      11\n",
            "591   2458001652      11\n",
            "569   2378935119       9\n",
            "487   2038680547       8\n",
            "44     199603092       5\n",
            "744   3062433592       5\n",
            "55     237748145       5\n",
            "917   3803269165       5\n",
            "299   1230306981       5\n",
            "897   3717692402       5\n",
            "[2. 4.]\n"
          ]
        }
      ],
      "source": [
        "\n",
        "print(ordersByUsers.sort_values(by='orders', ascending=False).head(10))\n",
        "\n",
        "print(np.percentile(ordersByUsers['orders'], [ 95, 99])) \n"
      ]
    },
    {
      "cell_type": "markdown",
      "metadata": {
        "id": "al-l0n0jH54D"
      },
      "source": [
        "**Вывод:**\n",
        "\n",
        "не более 5% пользователей оформляли более 2 заказов и не более 1%-4 заказа и более. Граница в определении аномальных заказов-3 заказа и более."
      ]
    },
    {
      "cell_type": "markdown",
      "metadata": {
        "id": "xq6SD65CH54E"
      },
      "source": [
        "### Точечный график стоимости заказов."
      ]
    },
    {
      "cell_type": "code",
      "execution_count": null,
      "metadata": {
        "id": "6-tcVymdH54E",
        "outputId": "b7a3ce20-c544-4981-9e44-26d5ebf5a920"
      },
      "outputs": [
        {
          "name": "stdout",
          "output_type": "stream",
          "text": [
            "      transactionId   visitorId       date  revenue group\n",
            "425       590470918  1920142716 2019-08-19  1294500     B\n",
            "1196     3936777065  2108080724 2019-08-15   202740     B\n",
            "858       192721366  1316129916 2019-08-27    93940     A\n",
            "1136      666610489  1307669133 2019-08-13    92550     A\n",
            "744      3668308183   888512513 2019-08-27    86620     B\n",
            "682      1216533772  4266935830 2019-08-29    78990     B\n",
            "662      1811671147  4266935830 2019-08-29    78990     A\n",
            "743      3603576309  4133034833 2019-08-09    67990     A\n",
            "1103     1348774318  1164614297 2019-08-12    66350     A\n",
            "1099      316924019   148427295 2019-08-12    65710     A\n"
          ]
        },
        {
          "data": {
            "image/png": "[encoded data removed]",
            "text/plain": [
              "<Figure size 576x432 with 1 Axes>"
            ]
          },
          "metadata": {
            "needs_background": "light"
          },
          "output_type": "display_data"
        }
      ],
      "source": [
        "print(orders.sort_values(by='revenue', ascending=False).head(10))\n",
        "x_values = pd.Series(range(0, len(orders['revenue'])))\n",
        "fig = plt.figure(figsize=(8,6))\n",
        "ax = fig.add_subplot(111)\n",
        "ax.set_title('График стоимости заказов')\n",
        "ax.set_xlabel('Пользователи')\n",
        "ax.set_ylabel('Стоимость заказов')\n",
        "plt.scatter(x_values, orders['revenue']) \n",
        "None"
      ]
    },
    {
      "cell_type": "markdown",
      "metadata": {
        "id": "lHuBDis2H54E"
      },
      "source": [
        "**Вывод**:\n",
        "основная масса заказов до 100.000 рублей. Но встречаются аномально большие заказы стоимостью более чем 1 млн.рублей."
      ]
    },
    {
      "cell_type": "markdown",
      "metadata": {
        "id": "KShcgV51H54F"
      },
      "source": [
        "### 95-й и 99-й перцентили стоимости заказов. "
      ]
    },
    {
      "cell_type": "code",
      "execution_count": null,
      "metadata": {
        "id": "kF70hH1FH54F",
        "outputId": "afc5ab9a-7116-4875-9d60-8318bf99c11a"
      },
      "outputs": [
        {
          "name": "stdout",
          "output_type": "stream",
          "text": [
            "   transactionId   visitorId       date  revenue group\n",
            "0     3667963787  3312258926 2019-08-15     1650     B\n",
            "1     2804400009  3642806036 2019-08-15      730     B\n",
            "2     2961555356  4069496402 2019-08-15      400     A\n",
            "3     3797467345  1196621759 2019-08-15     9759     B\n",
            "4     2282983706  2322279887 2019-08-15     2308     B\n",
            "5      182168103   935554773 2019-08-15     2210     B\n",
            "6      398296753  2900797465 2019-08-15     1860     B\n",
            "7     2626614568    78758296 2019-08-15     1044     A\n",
            "8     1576988021   295230930 2019-08-15    13710     A\n",
            "9     1506739906  1882260405 2019-08-15     1855     B\n"
          ]
        },
        {
          "data": {
            "text/plain": [
              "array([28000. , 58233.2])"
            ]
          },
          "execution_count": 29,
          "metadata": {},
          "output_type": "execute_result"
        }
      ],
      "source": [
        "print(orders.head(10))\n",
        "np.percentile(orders['revenue'], [ 95, 99])"
      ]
    },
    {
      "cell_type": "markdown",
      "metadata": {
        "id": "RnK0-RD3H54G"
      },
      "source": [
        "**Вывод:**\n",
        "не более 5% заказов были со стоимостью более 28000 рублей. И не более 1%- со стоимостью более 58000 рублей. В качестве границы аномальной стоимости возьмем сумму в 28000 рублей."
      ]
    },
    {
      "cell_type": "markdown",
      "metadata": {
        "id": "FB4215ssH54G"
      },
      "source": [
        "### Статистическая значимость различий в среднем количестве заказов между группами по «сырым» данным. "
      ]
    },
    {
      "cell_type": "markdown",
      "metadata": {
        "id": "2qKCf4KvH54H"
      },
      "source": [
        "Сформулируем две гипотезы.\n",
        "Нулевая гипотеза-различий в среднем количестве заказов между группами А и В по \"сырым\" данным нет.\n",
        "Первая-различия между группами есть.\n"
      ]
    },
    {
      "cell_type": "code",
      "execution_count": null,
      "metadata": {
        "id": "iefl90MNH54H",
        "outputId": "91cb84df-7948-4290-b8e7-8fbd3ee0499f"
      },
      "outputs": [
        {
          "name": "stdout",
          "output_type": "stream",
          "text": [
            "        date  ordersPerDateA  revenuePerDateA  ordersPerDateB  \\\n",
            "0 2019-08-01              24           148579              21   \n",
            "1 2019-08-02              20            93822              24   \n",
            "2 2019-08-03              24           112473              16   \n",
            "3 2019-08-04              16            70825              17   \n",
            "4 2019-08-05              25           124218              23   \n",
            "\n",
            "   revenuePerDateB  ordersCummulativeA  revenueCummulativeA  \\\n",
            "0           101217                  24               148579   \n",
            "1           165531                  44               242401   \n",
            "2           114248                  68               354874   \n",
            "3           108571                  84               425699   \n",
            "4            92428                 109               549917   \n",
            "\n",
            "   ordersCummulativeB  revenueCummulativeB  visitorsPerDateA  \\\n",
            "0                  21               101217               719   \n",
            "1                  45               266748               619   \n",
            "2                  61               380996               507   \n",
            "3                  78               489567               717   \n",
            "4                 101               581995               756   \n",
            "\n",
            "   visitorsPerDateB  visitorsCummulativeA  visitorsCummulativeB  \n",
            "0               713                   719                   713  \n",
            "1               581                  1338                  1294  \n",
            "2               509                  1845                  1803  \n",
            "3               770                  2562                  2573  \n",
            "4               707                  3318                  3280  \n",
            "p-value: 0.017\n",
            "Относительное различие между группами 0.138\n"
          ]
        }
      ],
      "source": [
        "visitorsADaily = visitors[visitors['group'] == 'A'][['date', 'visitors']]\n",
        "visitorsADaily.columns = ['date', 'visitorsPerDateA']\n",
        "\n",
        "visitorsACummulative = visitorsADaily.apply(\n",
        "    lambda x: visitorsADaily[visitorsADaily['date'] <= x['date']].agg(\n",
        "        {'date': 'max', 'visitorsPerDateA': 'sum'}\n",
        "    ),\n",
        "    axis=1,\n",
        ")\n",
        "visitorsACummulative.columns = ['date', 'visitorsCummulativeA']\n",
        "\n",
        "visitorsBDaily = visitors[visitors['group'] == 'B'][['date', 'visitors']]\n",
        "visitorsBDaily.columns = ['date', 'visitorsPerDateB']\n",
        "\n",
        "visitorsBCummulative = visitorsBDaily.apply(\n",
        "    lambda x: visitorsBDaily[visitorsBDaily['date'] <= x['date']].agg(\n",
        "        {'date': 'max', 'visitorsPerDateB': 'sum'}\n",
        "    ),\n",
        "    axis=1,\n",
        ")\n",
        "visitorsBCummulative.columns = ['date', 'visitorsCummulativeB']\n",
        "\n",
        "ordersADaily = (\n",
        "    orders[orders['group'] == 'A'][['date', 'transactionId', 'visitorId', 'revenue']]\n",
        "    .groupby('date', as_index=False)\n",
        "    .agg({'transactionId': pd.Series.nunique, 'revenue': 'sum'})\n",
        ")\n",
        "ordersADaily.columns = ['date', 'ordersPerDateA', 'revenuePerDateA']\n",
        "\n",
        "ordersACummulative = ordersADaily.apply(\n",
        "    lambda x: ordersADaily[ordersADaily['date'] <= x['date']].agg(\n",
        "        {'date': 'max', 'ordersPerDateA': 'sum', 'revenuePerDateA': 'sum'}\n",
        "    ),\n",
        "    axis=1,\n",
        ").sort_values(by=['date'])\n",
        "ordersACummulative.columns = [\n",
        "    'date',\n",
        "    'ordersCummulativeA',\n",
        "    'revenueCummulativeA',\n",
        "]\n",
        "\n",
        "ordersBDaily = (\n",
        "    orders[orders['group'] == 'B'][['date', 'transactionId', 'visitorId', 'revenue']]\n",
        "    .groupby('date', as_index=False)\n",
        "    .agg({'transactionId': pd.Series.nunique, 'revenue': 'sum'})\n",
        ")\n",
        "ordersBDaily.columns = ['date', 'ordersPerDateB', 'revenuePerDateB']\n",
        "\n",
        "ordersBCummulative = ordersBDaily.apply(\n",
        "    lambda x: ordersBDaily[ordersBDaily['date'] <= x['date']].agg(\n",
        "        {'date': 'max', 'ordersPerDateB': 'sum', 'revenuePerDateB': 'sum'}\n",
        "    ),\n",
        "    axis=1,\n",
        ").sort_values(by=['date'])\n",
        "ordersBCummulative.columns = [\n",
        "    'date',\n",
        "    'ordersCummulativeB',\n",
        "    'revenueCummulativeB',\n",
        "]\n",
        "\n",
        "data = (\n",
        "    ordersADaily.merge(\n",
        "        ordersBDaily, left_on='date', right_on='date', how='left'\n",
        "    )\n",
        "    .merge(ordersACummulative, left_on='date', right_on='date', how='left')\n",
        "    .merge(ordersBCummulative, left_on='date', right_on='date', how='left')\n",
        "    .merge(visitorsADaily, left_on='date', right_on='date', how='left')\n",
        "    .merge(visitorsBDaily, left_on='date', right_on='date', how='left')\n",
        "    .merge(visitorsACummulative, left_on='date', right_on='date', how='left')\n",
        "    .merge(visitorsBCummulative, left_on='date', right_on='date', how='left')\n",
        ")\n",
        "\n",
        "print(data.head(5))\n",
        "\n",
        "ordersByUsersA = (\n",
        "    orders[orders['group'] == 'A']\n",
        "    .groupby('visitorId', as_index=False)\n",
        "    .agg({'transactionId': pd.Series.nunique})\n",
        ")\n",
        "ordersByUsersA.columns = ['visitorId', 'orders']\n",
        "\n",
        "ordersByUsersB = (\n",
        "    orders[orders['group'] == 'B']\n",
        "    .groupby('visitorId', as_index=False)\n",
        "    .agg({'transactionId': pd.Series.nunique})\n",
        ")\n",
        "ordersByUsersB.columns = ['visitorId', 'orders']\n",
        "\n",
        "sampleA = pd.concat([ordersByUsersA['orders'],pd.Series(0, index=np.arange(data['visitorsPerDateA'].sum() - len(ordersByUsersA['orders'])), name='orders')],axis=0)\n",
        "\n",
        "sampleB = pd.concat([ordersByUsersB['orders'],pd.Series(0, index=np.arange(data['visitorsPerDateB'].sum() - len(ordersByUsersB['orders'])), name='orders')],axis=0)\n",
        "\n",
        "ordersByUsersA = (\n",
        "    orders[orders['group'] == 'A']\n",
        "    .groupby('visitorId', as_index=False)\n",
        "    .agg({'transactionId': pd.Series.nunique})\n",
        ")\n",
        "ordersByUsersA.columns = ['visitorId', 'orders']\n",
        "\n",
        "ordersByUsersB = (\n",
        "    orders[orders['group'] == 'B']\n",
        "    .groupby('visitorId', as_index=False)\n",
        "    .agg({'transactionId': pd.Series.nunique})\n",
        ")\n",
        "ordersByUsersB.columns = ['visitorId', 'orders']\n",
        "\n",
        "sampleA = pd.concat(\n",
        "    [\n",
        "        ordersByUsersA['orders'],\n",
        "        pd.Series(\n",
        "            0,\n",
        "            index=np.arange(\n",
        "                data['visitorsPerDateA'].sum() - len(ordersByUsersA['orders'])\n",
        "            ),\n",
        "            name='orders',\n",
        "        ),\n",
        "    ],\n",
        "    axis=0,\n",
        ")\n",
        "\n",
        "sampleB = pd.concat(\n",
        "    [\n",
        "        ordersByUsersB['orders'],\n",
        "        pd.Series(\n",
        "            0,\n",
        "            index=np.arange(\n",
        "                data['visitorsPerDateB'].sum() - len(ordersByUsersB['orders'])\n",
        "            ),\n",
        "            name='orders',\n",
        "        ),\n",
        "    ],\n",
        "    axis=0,\n",
        ")\n",
        "\n",
        "print('p-value:',\"{0:.3f}\".format(stats.mannwhitneyu(sampleA, sampleB)[1]))\n",
        "\n",
        "print('Относительное различие между группами',\"{0:.3f}\".format(sampleB.mean() / sampleA.mean() - 1))\n"
      ]
    },
    {
      "cell_type": "markdown",
      "metadata": {
        "id": "BwPH3E1PH54J"
      },
      "source": [
        "**Вывод**:\n",
        "\n",
        "p-value равно 0.017, а значит меньше чем 0.05. Значит нулевую гипотезу о том, что различий в среднем числе заказов между группами нет, мы отвергаем. Относительное различие в среднем между группами-около 14%.\n",
        "\n"
      ]
    },
    {
      "cell_type": "markdown",
      "metadata": {
        "id": "dQGm_4ZoH54K"
      },
      "source": [
        "### Статистическая значимость различий в среднем чеке заказа между группами по «сырым» данным."
      ]
    },
    {
      "cell_type": "markdown",
      "metadata": {
        "id": "nbKKx310H54K"
      },
      "source": [
        "Сформулируем две гипотезы.\n",
        "Нулевая гипотеза-различий в среднем чеке между группами А и В по \"сырым\" данным нет.\n",
        "Первая-различия между группами есть."
      ]
    },
    {
      "cell_type": "code",
      "execution_count": null,
      "metadata": {
        "id": "ENBe6mP3H54L",
        "outputId": "f27a87af-8240-42f4-cfc1-9312b59ec1a8"
      },
      "outputs": [
        {
          "name": "stdout",
          "output_type": "stream",
          "text": [
            "p-value: 0.729\n",
            "Относительное различие между группами 0.259\n"
          ]
        }
      ],
      "source": [
        "\n",
        "print('p-value:','{0:.3f}'.format(stats.mannwhitneyu(orders[orders['group']=='A']['revenue'], orders[orders['group']=='B']['revenue'])[1]))\n",
        "print('Относительное различие между группами','{0:.3f}'.format(orders[orders['group']=='B']['revenue'].mean()/orders[orders['group']=='A']['revenue'].mean()-1))\n"
      ]
    },
    {
      "cell_type": "markdown",
      "metadata": {
        "id": "GyLEB5C3H54L"
      },
      "source": [
        "**Вывод:**\n",
        " P-value больше чем 0.05, значит статистически значимых различий в среднем чеке между группами нет. Нулевую гипотезу не можем отвергнуть.\n",
        "Относительное различие в среднем чеке между группами достаточно большое -26%, но оно не статистически значимо. Необходимо проанализировать этот показатель по данным, очищенным от аномалий."
      ]
    },
    {
      "cell_type": "markdown",
      "metadata": {
        "id": "gsldAf3uH54M"
      },
      "source": [
        "### Статистическая значимость различий в среднем количестве заказов между группами по «очищенным» данным. "
      ]
    },
    {
      "cell_type": "markdown",
      "metadata": {
        "id": "QeGFfISVH54M"
      },
      "source": [
        "Уберем из данных выбросы. В данных о заказах оставим только те, где количество заказов не превышает двух и стоимость которых не превышает 28.000 рублей.\n",
        "Также как и по \"сырым\" данным, сформулируем две гипотезы:\n",
        "Сформулируем две гипотезы.\n",
        "Нулевая гипотеза-различий в среднем количестве заказов между группами А и В по \"очищенным\" данным нет.\n",
        "Первая-различия между группами есть."
      ]
    },
    {
      "cell_type": "code",
      "execution_count": null,
      "metadata": {
        "id": "g_z2OZMtH54N",
        "outputId": "d2465c07-dbac-4551-b3f4-c1a6947cb82c"
      },
      "outputs": [
        {
          "name": "stdout",
          "output_type": "stream",
          "text": [
            "p-value: 0.013\n",
            "Относительное различие между группами 0.173\n"
          ]
        }
      ],
      "source": [
        "\n",
        "\n",
        "usersWithManyOrders = pd.concat(\n",
        "    [\n",
        "        ordersByUsersA[ordersByUsersA['orders'] > 2]['visitorId'],\n",
        "        ordersByUsersB[ordersByUsersB['orders'] > 2]['visitorId'],\n",
        "    ],\n",
        "    axis=0,\n",
        ")\n",
        "usersWithExpensiveOrders = orders[orders['revenue'] > 28000]['visitorId']\n",
        "abnormalUsers = (\n",
        "    pd.concat([usersWithManyOrders, usersWithExpensiveOrders], axis=0)\n",
        "    .drop_duplicates()\n",
        "    .sort_values()\n",
        ")\n",
        "sampleAFiltered = pd.concat(\n",
        "    [\n",
        "        ordersByUsersA[\n",
        "            np.logical_not(ordersByUsersA['visitorId'].isin(abnormalUsers))\n",
        "        ]['orders'],\n",
        "        pd.Series(\n",
        "            0,\n",
        "            index=np.arange(\n",
        "                data['visitorsPerDateA'].sum() - len(ordersByUsersA['orders'])\n",
        "            ),\n",
        "            name='orders',\n",
        "        ),\n",
        "    ],\n",
        "    axis=0,\n",
        ")\n",
        "\n",
        "sampleBFiltered = pd.concat(\n",
        "    [\n",
        "        ordersByUsersB[\n",
        "            np.logical_not(ordersByUsersB['visitorId'].isin(abnormalUsers))\n",
        "        ]['orders'],\n",
        "        pd.Series(\n",
        "            0,\n",
        "            index=np.arange(\n",
        "                data['visitorsPerDateB'].sum() - len(ordersByUsersB['orders'])\n",
        "            ),\n",
        "            name='orders',\n",
        "        ),\n",
        "    ],\n",
        "    axis=0,\n",
        ")\n",
        "\n",
        "print('p-value:','{0:.3f}'.format(stats.mannwhitneyu(sampleAFiltered, sampleBFiltered)[1]))\n",
        "print('Относительное различие между группами','{0:.3f}'.format(sampleBFiltered.mean()/sampleAFiltered.mean()-1)) "
      ]
    },
    {
      "cell_type": "markdown",
      "metadata": {
        "id": "wv7FtKpPH54O"
      },
      "source": [
        "**Вывод**:\n",
        "p-value больше 0.05. Значит, нулевую гипотезу мы отвергаем. Относительное различие в количестве заказов-17%"
      ]
    },
    {
      "cell_type": "markdown",
      "metadata": {
        "id": "PrwUZzhLH54P"
      },
      "source": [
        "### Статистическая значимость различий в среднем чеке заказа между группами по «очищенным» данным. "
      ]
    },
    {
      "cell_type": "markdown",
      "metadata": {
        "id": "qYZxg1ZsH54P"
      },
      "source": [
        "Сформулируем две гипотезы.\n",
        "Нулевая гипотеза-различий в среднем чеке между группами А и В по \"очищенным\" данным нет.\n",
        "Первая-различия между группами есть."
      ]
    },
    {
      "cell_type": "code",
      "execution_count": null,
      "metadata": {
        "id": "0HzvVg2tH54Q",
        "outputId": "f1853b29-9b38-4eff-d45d-7ea4a57bd042"
      },
      "outputs": [
        {
          "name": "stdout",
          "output_type": "stream",
          "text": [
            "p-value 0.738\n",
            "Относительное различие между группами -0.020\n"
          ]
        }
      ],
      "source": [
        "print('p-value',\n",
        "    '{0:.3f}'.format(\n",
        "        stats.mannwhitneyu(\n",
        "            orders[\n",
        "                np.logical_and(\n",
        "                    orders['group'] == 'A',\n",
        "                    np.logical_not(orders['visitorId'].isin(abnormalUsers)),\n",
        "                )\n",
        "            ]['revenue'],\n",
        "            orders[\n",
        "                np.logical_and(\n",
        "                    orders['group'] == 'B',\n",
        "                    np.logical_not(orders['visitorId'].isin(abnormalUsers)),\n",
        "                )\n",
        "            ]['revenue'],\n",
        "        )[1]\n",
        "    )\n",
        ")\n",
        "\n",
        "print('Относительное различие между группами',\n",
        "    \"{0:.3f}\".format(\n",
        "        orders[\n",
        "            np.logical_and(\n",
        "                orders['group'] == 'B',\n",
        "                np.logical_not(orders['visitorId'].isin(abnormalUsers)),\n",
        "            )\n",
        "        ]['revenue'].mean()\n",
        "        / orders[\n",
        "            np.logical_and(\n",
        "                orders['group'] == 'A',\n",
        "                np.logical_not(orders['visitorId'].isin(abnormalUsers)),\n",
        "            )\n",
        "        ]['revenue'].mean()\n",
        "        - 1\n",
        "    )\n",
        ") "
      ]
    },
    {
      "cell_type": "markdown",
      "metadata": {
        "id": "nG1A0-yWH54Q"
      },
      "source": [
        "**Вывод:**\n",
        "Также как и по \"сырым\" данным, нулевую гипотезу отвергнуть мы не можем (p-value больше 0.05). Значит статистически значимых различий в среднем чеке между группами нет, а также по очищенным данным отсутствует и относительная разница между средними чеками."
      ]
    },
    {
      "cell_type": "markdown",
      "metadata": {
        "id": "20jXpngpH54R"
      },
      "source": [
        "### Общий вывод"
      ]
    },
    {
      "cell_type": "markdown",
      "metadata": {
        "id": "0brmp5UyH54R"
      },
      "source": [
        "Согласно полученным графикам и информации о статистической значимости, мы видим, что по всем показателям группа В превосходит группу А. Тест можно заканчивать и считать, что изменения, проводимые в группе В благоприятно влияют на компанию: количество заказов становится больше.\n",
        "В середине месяца был аномально большой заказ, который внес изменения в графики, но и без него мы фиксируем более положительную динамику у группы В."
      ]
    }
  ],
  "metadata": {
    "ExecuteTimeLog": [
      {
        "duration": 422,
        "start_time": "2022-10-24T13:50:38.973Z"
      },
      {
        "duration": 13,
        "start_time": "2022-10-24T13:50:50.940Z"
      },
      {
        "duration": 29,
        "start_time": "2022-10-24T14:24:48.942Z"
      },
      {
        "duration": 10,
        "start_time": "2022-10-24T14:24:49.878Z"
      },
      {
        "duration": 14,
        "start_time": "2022-10-24T14:24:51.769Z"
      },
      {
        "duration": 9,
        "start_time": "2022-10-24T14:25:45.837Z"
      },
      {
        "duration": 89,
        "start_time": "2022-10-24T14:28:01.022Z"
      },
      {
        "duration": 74,
        "start_time": "2022-10-24T14:29:11.717Z"
      },
      {
        "duration": 474,
        "start_time": "2022-10-26T19:40:46.280Z"
      },
      {
        "duration": 13,
        "start_time": "2022-10-26T19:40:46.755Z"
      },
      {
        "duration": 18,
        "start_time": "2022-10-26T19:40:46.769Z"
      },
      {
        "duration": 7,
        "start_time": "2022-10-26T19:40:46.789Z"
      },
      {
        "duration": 84,
        "start_time": "2022-10-26T19:40:46.797Z"
      },
      {
        "duration": 60,
        "start_time": "2022-10-26T19:40:46.883Z"
      },
      {
        "duration": 1326,
        "start_time": "2022-10-26T19:40:46.945Z"
      },
      {
        "duration": 652,
        "start_time": "2022-10-26T19:42:09.945Z"
      },
      {
        "duration": 587,
        "start_time": "2022-10-26T19:43:48.296Z"
      },
      {
        "duration": 664,
        "start_time": "2022-10-26T19:44:58.017Z"
      },
      {
        "duration": 368,
        "start_time": "2022-10-26T19:45:26.977Z"
      },
      {
        "duration": 602,
        "start_time": "2022-10-26T19:47:00.467Z"
      },
      {
        "duration": 580,
        "start_time": "2022-10-26T19:53:13.106Z"
      },
      {
        "duration": 72,
        "start_time": "2022-10-26T20:13:43.436Z"
      },
      {
        "duration": 71,
        "start_time": "2022-10-26T20:16:16.273Z"
      },
      {
        "duration": 89,
        "start_time": "2022-10-26T20:20:11.385Z"
      },
      {
        "duration": 170,
        "start_time": "2022-10-26T20:20:36.531Z"
      },
      {
        "duration": 73,
        "start_time": "2022-10-26T20:21:49.377Z"
      },
      {
        "duration": 189,
        "start_time": "2022-10-26T20:22:39.644Z"
      },
      {
        "duration": 66,
        "start_time": "2022-10-26T20:23:40.835Z"
      },
      {
        "duration": 1246,
        "start_time": "2022-10-26T20:26:20.377Z"
      },
      {
        "duration": 328,
        "start_time": "2022-10-26T20:27:27.832Z"
      },
      {
        "duration": 603,
        "start_time": "2022-10-26T20:28:50.275Z"
      },
      {
        "duration": 502,
        "start_time": "2022-10-26T20:29:12.681Z"
      },
      {
        "duration": 487,
        "start_time": "2022-10-29T10:45:55.548Z"
      },
      {
        "duration": 15,
        "start_time": "2022-10-29T10:45:56.228Z"
      },
      {
        "duration": 11,
        "start_time": "2022-10-29T10:45:56.995Z"
      },
      {
        "duration": 11,
        "start_time": "2022-10-29T10:45:58.098Z"
      },
      {
        "duration": 94,
        "start_time": "2022-10-29T10:46:01.667Z"
      },
      {
        "duration": 76,
        "start_time": "2022-10-29T10:46:02.884Z"
      },
      {
        "duration": 441,
        "start_time": "2022-10-29T10:46:04.395Z"
      },
      {
        "duration": 370,
        "start_time": "2022-10-29T10:46:25.516Z"
      },
      {
        "duration": 362,
        "start_time": "2022-10-29T10:47:34.840Z"
      },
      {
        "duration": 14,
        "start_time": "2022-10-29T10:49:22.970Z"
      },
      {
        "duration": 571,
        "start_time": "2022-10-29T10:50:50.980Z"
      },
      {
        "duration": 30,
        "start_time": "2022-10-29T10:52:24.884Z"
      },
      {
        "duration": 28,
        "start_time": "2022-10-29T10:52:28.496Z"
      },
      {
        "duration": 8,
        "start_time": "2022-10-29T10:52:28.526Z"
      },
      {
        "duration": 10,
        "start_time": "2022-10-29T10:52:28.535Z"
      },
      {
        "duration": 8,
        "start_time": "2022-10-29T10:52:28.547Z"
      },
      {
        "duration": 50,
        "start_time": "2022-10-29T10:52:28.557Z"
      },
      {
        "duration": 20,
        "start_time": "2022-10-29T10:52:28.608Z"
      },
      {
        "duration": 3,
        "start_time": "2022-10-29T10:52:28.630Z"
      },
      {
        "duration": 14,
        "start_time": "2022-10-29T10:52:28.635Z"
      },
      {
        "duration": 482,
        "start_time": "2022-10-29T10:52:28.651Z"
      },
      {
        "duration": 903,
        "start_time": "2022-10-29T10:52:29.135Z"
      },
      {
        "duration": 849,
        "start_time": "2022-10-29T10:52:30.040Z"
      },
      {
        "duration": 83,
        "start_time": "2022-10-29T10:52:30.891Z"
      },
      {
        "duration": 232,
        "start_time": "2022-10-29T10:52:30.976Z"
      },
      {
        "duration": 71,
        "start_time": "2022-10-29T10:52:31.210Z"
      },
      {
        "duration": 229,
        "start_time": "2022-10-29T10:52:31.283Z"
      },
      {
        "duration": 61,
        "start_time": "2022-10-29T10:52:31.513Z"
      },
      {
        "duration": 1548,
        "start_time": "2022-10-29T10:52:31.576Z"
      },
      {
        "duration": 400,
        "start_time": "2022-10-29T10:52:33.126Z"
      },
      {
        "duration": 723,
        "start_time": "2022-10-29T10:52:33.528Z"
      },
      {
        "duration": 585,
        "start_time": "2022-10-29T10:52:34.253Z"
      },
      {
        "duration": 186,
        "start_time": "2022-10-29T11:40:37.456Z"
      },
      {
        "duration": 28,
        "start_time": "2022-10-29T11:42:08.564Z"
      },
      {
        "duration": 8,
        "start_time": "2022-10-29T11:42:09.147Z"
      },
      {
        "duration": 9,
        "start_time": "2022-10-29T11:42:09.775Z"
      },
      {
        "duration": 10,
        "start_time": "2022-10-29T11:42:10.494Z"
      },
      {
        "duration": 63,
        "start_time": "2022-10-29T11:42:11.888Z"
      },
      {
        "duration": 39,
        "start_time": "2022-10-29T11:42:14.504Z"
      },
      {
        "duration": 56,
        "start_time": "2022-10-29T11:42:55.546Z"
      },
      {
        "duration": 32,
        "start_time": "2022-10-29T11:42:56.940Z"
      },
      {
        "duration": 4,
        "start_time": "2022-10-29T11:43:00.204Z"
      },
      {
        "duration": 16,
        "start_time": "2022-10-29T11:43:01.344Z"
      },
      {
        "duration": 522,
        "start_time": "2022-10-29T11:43:03.672Z"
      },
      {
        "duration": 236,
        "start_time": "2022-10-29T11:43:12.113Z"
      },
      {
        "duration": 350,
        "start_time": "2022-10-29T11:45:45.018Z"
      },
      {
        "duration": 44,
        "start_time": "2022-10-29T11:51:59.142Z"
      },
      {
        "duration": 108,
        "start_time": "2022-10-29T11:52:20.347Z"
      },
      {
        "duration": 1165,
        "start_time": "2022-10-29T11:52:58.471Z"
      },
      {
        "duration": 175,
        "start_time": "2022-10-29T11:53:36.404Z"
      },
      {
        "duration": 175,
        "start_time": "2022-10-29T11:54:27.085Z"
      },
      {
        "duration": 284,
        "start_time": "2022-10-29T12:03:04.533Z"
      },
      {
        "duration": 316,
        "start_time": "2022-10-29T12:03:27.999Z"
      },
      {
        "duration": 13,
        "start_time": "2022-10-29T12:05:14.496Z"
      },
      {
        "duration": 13,
        "start_time": "2022-10-29T12:05:35.525Z"
      },
      {
        "duration": 12,
        "start_time": "2022-10-29T12:06:08.213Z"
      },
      {
        "duration": 297,
        "start_time": "2022-10-29T12:09:19.787Z"
      },
      {
        "duration": 126,
        "start_time": "2022-10-29T12:10:39.475Z"
      },
      {
        "duration": 7,
        "start_time": "2022-10-29T12:17:52.755Z"
      },
      {
        "duration": 1303,
        "start_time": "2022-10-29T12:19:39.425Z"
      },
      {
        "duration": 154,
        "start_time": "2022-10-29T12:20:06.897Z"
      },
      {
        "duration": 8,
        "start_time": "2022-10-29T12:21:39.935Z"
      },
      {
        "duration": 10,
        "start_time": "2022-10-29T12:22:13.654Z"
      },
      {
        "duration": 1025,
        "start_time": "2022-10-29T12:23:23.173Z"
      },
      {
        "duration": 904,
        "start_time": "2022-10-29T12:23:38.951Z"
      },
      {
        "duration": 843,
        "start_time": "2022-10-29T12:24:57.753Z"
      },
      {
        "duration": 17,
        "start_time": "2022-10-29T12:34:26.463Z"
      },
      {
        "duration": 904,
        "start_time": "2022-10-29T12:35:08.389Z"
      },
      {
        "duration": 678,
        "start_time": "2022-10-29T12:38:07.490Z"
      },
      {
        "duration": 591,
        "start_time": "2022-10-29T12:41:02.034Z"
      },
      {
        "duration": 451,
        "start_time": "2022-10-29T12:49:16.385Z"
      },
      {
        "duration": 15,
        "start_time": "2022-10-29T12:49:16.839Z"
      },
      {
        "duration": 10,
        "start_time": "2022-10-29T12:49:16.856Z"
      },
      {
        "duration": 9,
        "start_time": "2022-10-29T12:49:16.867Z"
      },
      {
        "duration": 66,
        "start_time": "2022-10-29T12:49:16.879Z"
      },
      {
        "duration": 20,
        "start_time": "2022-10-29T12:49:16.947Z"
      },
      {
        "duration": 257,
        "start_time": "2022-10-29T12:49:16.969Z"
      },
      {
        "duration": 14,
        "start_time": "2022-10-29T12:49:17.228Z"
      },
      {
        "duration": 576,
        "start_time": "2022-10-29T12:49:17.244Z"
      },
      {
        "duration": 202,
        "start_time": "2022-10-29T12:49:17.824Z"
      },
      {
        "duration": 303,
        "start_time": "2022-10-29T12:49:18.028Z"
      },
      {
        "duration": 256,
        "start_time": "2022-10-29T12:49:18.333Z"
      },
      {
        "duration": 318,
        "start_time": "2022-10-29T12:49:18.590Z"
      },
      {
        "duration": 140,
        "start_time": "2022-10-29T12:49:18.911Z"
      },
      {
        "duration": 7,
        "start_time": "2022-10-29T12:49:19.053Z"
      },
      {
        "duration": 170,
        "start_time": "2022-10-29T12:49:19.062Z"
      },
      {
        "duration": 9,
        "start_time": "2022-10-29T12:49:19.234Z"
      },
      {
        "duration": 214,
        "start_time": "2022-10-29T12:49:19.245Z"
      },
      {
        "duration": 0,
        "start_time": "2022-10-29T12:49:19.461Z"
      },
      {
        "duration": 0,
        "start_time": "2022-10-29T12:49:19.462Z"
      },
      {
        "duration": 0,
        "start_time": "2022-10-29T12:49:19.463Z"
      },
      {
        "duration": 173,
        "start_time": "2022-10-29T12:51:19.537Z"
      },
      {
        "duration": 168,
        "start_time": "2022-10-29T12:52:04.637Z"
      },
      {
        "duration": 173,
        "start_time": "2022-10-29T12:53:28.519Z"
      },
      {
        "duration": 180,
        "start_time": "2022-10-29T12:54:07.378Z"
      },
      {
        "duration": 523,
        "start_time": "2022-10-29T12:56:56.955Z"
      },
      {
        "duration": 590,
        "start_time": "2022-10-29T12:57:48.278Z"
      },
      {
        "duration": 532,
        "start_time": "2022-10-29T12:57:57.651Z"
      },
      {
        "duration": 57,
        "start_time": "2022-10-29T14:47:32.092Z"
      },
      {
        "duration": 473,
        "start_time": "2022-10-29T14:48:06.402Z"
      },
      {
        "duration": 13,
        "start_time": "2022-10-29T14:48:06.877Z"
      },
      {
        "duration": 9,
        "start_time": "2022-10-29T14:48:06.891Z"
      },
      {
        "duration": 9,
        "start_time": "2022-10-29T14:48:06.902Z"
      },
      {
        "duration": 96,
        "start_time": "2022-10-29T14:48:06.912Z"
      },
      {
        "duration": 61,
        "start_time": "2022-10-29T14:48:07.010Z"
      },
      {
        "duration": 813,
        "start_time": "2022-10-29T14:48:07.073Z"
      },
      {
        "duration": 12,
        "start_time": "2022-10-29T14:48:07.888Z"
      },
      {
        "duration": 494,
        "start_time": "2022-10-29T14:48:07.902Z"
      },
      {
        "duration": 160,
        "start_time": "2022-10-29T14:48:08.398Z"
      },
      {
        "duration": 295,
        "start_time": "2022-10-29T14:48:08.560Z"
      },
      {
        "duration": 152,
        "start_time": "2022-10-29T14:48:08.856Z"
      },
      {
        "duration": 286,
        "start_time": "2022-10-29T14:48:09.010Z"
      },
      {
        "duration": 115,
        "start_time": "2022-10-29T14:48:09.297Z"
      },
      {
        "duration": 6,
        "start_time": "2022-10-29T14:48:09.421Z"
      },
      {
        "duration": 142,
        "start_time": "2022-10-29T14:48:09.429Z"
      },
      {
        "duration": 7,
        "start_time": "2022-10-29T14:48:09.572Z"
      },
      {
        "duration": 599,
        "start_time": "2022-10-29T14:48:09.581Z"
      },
      {
        "duration": 11,
        "start_time": "2022-10-29T14:48:10.182Z"
      },
      {
        "duration": 103,
        "start_time": "2022-10-29T14:48:10.195Z"
      },
      {
        "duration": 0,
        "start_time": "2022-10-29T14:48:10.299Z"
      },
      {
        "duration": 1158,
        "start_time": "2022-10-29T14:53:21.205Z"
      },
      {
        "duration": 29,
        "start_time": "2022-10-29T14:54:41.474Z"
      },
      {
        "duration": 1151,
        "start_time": "2022-10-29T14:56:28.848Z"
      },
      {
        "duration": 8,
        "start_time": "2022-10-29T14:56:52.816Z"
      },
      {
        "duration": 1171,
        "start_time": "2022-10-29T14:57:29.827Z"
      },
      {
        "duration": 1107,
        "start_time": "2022-10-29T14:57:50.584Z"
      },
      {
        "duration": 17,
        "start_time": "2022-10-29T14:58:14.000Z"
      },
      {
        "duration": 27,
        "start_time": "2022-10-29T15:21:52.558Z"
      },
      {
        "duration": 7,
        "start_time": "2022-10-29T15:21:52.586Z"
      },
      {
        "duration": 9,
        "start_time": "2022-10-29T15:21:52.595Z"
      },
      {
        "duration": 8,
        "start_time": "2022-10-29T15:21:52.626Z"
      },
      {
        "duration": 42,
        "start_time": "2022-10-29T15:21:52.710Z"
      },
      {
        "duration": 19,
        "start_time": "2022-10-29T15:21:52.753Z"
      },
      {
        "duration": 3,
        "start_time": "2022-10-29T15:21:52.773Z"
      },
      {
        "duration": 14,
        "start_time": "2022-10-29T15:21:52.778Z"
      },
      {
        "duration": 68,
        "start_time": "2022-10-29T15:21:52.793Z"
      },
      {
        "duration": 0,
        "start_time": "2022-10-29T15:21:52.863Z"
      },
      {
        "duration": 0,
        "start_time": "2022-10-29T15:21:52.864Z"
      },
      {
        "duration": 0,
        "start_time": "2022-10-29T15:21:52.865Z"
      },
      {
        "duration": 0,
        "start_time": "2022-10-29T15:21:52.866Z"
      },
      {
        "duration": 0,
        "start_time": "2022-10-29T15:21:52.867Z"
      },
      {
        "duration": 0,
        "start_time": "2022-10-29T15:21:52.868Z"
      },
      {
        "duration": 0,
        "start_time": "2022-10-29T15:21:52.869Z"
      },
      {
        "duration": 0,
        "start_time": "2022-10-29T15:21:52.870Z"
      },
      {
        "duration": 0,
        "start_time": "2022-10-29T15:21:52.871Z"
      },
      {
        "duration": 0,
        "start_time": "2022-10-29T15:21:52.872Z"
      },
      {
        "duration": 0,
        "start_time": "2022-10-29T15:21:52.873Z"
      },
      {
        "duration": 0,
        "start_time": "2022-10-29T15:21:52.873Z"
      },
      {
        "duration": 0,
        "start_time": "2022-10-29T15:21:52.874Z"
      },
      {
        "duration": 0,
        "start_time": "2022-10-29T15:21:52.875Z"
      },
      {
        "duration": 401,
        "start_time": "2022-10-29T15:22:12.615Z"
      },
      {
        "duration": 27,
        "start_time": "2022-10-29T15:22:42.669Z"
      },
      {
        "duration": 7,
        "start_time": "2022-10-29T15:22:42.698Z"
      },
      {
        "duration": 8,
        "start_time": "2022-10-29T15:22:42.706Z"
      },
      {
        "duration": 12,
        "start_time": "2022-10-29T15:22:42.716Z"
      },
      {
        "duration": 45,
        "start_time": "2022-10-29T15:22:42.730Z"
      },
      {
        "duration": 20,
        "start_time": "2022-10-29T15:22:42.776Z"
      },
      {
        "duration": 3,
        "start_time": "2022-10-29T15:22:42.797Z"
      },
      {
        "duration": 15,
        "start_time": "2022-10-29T15:22:42.801Z"
      },
      {
        "duration": 421,
        "start_time": "2022-10-29T15:22:42.817Z"
      },
      {
        "duration": 161,
        "start_time": "2022-10-29T15:22:43.240Z"
      },
      {
        "duration": 287,
        "start_time": "2022-10-29T15:22:43.403Z"
      },
      {
        "duration": 7,
        "start_time": "2022-10-29T15:22:43.692Z"
      },
      {
        "duration": 0,
        "start_time": "2022-10-29T15:22:43.701Z"
      },
      {
        "duration": 0,
        "start_time": "2022-10-29T15:22:43.702Z"
      },
      {
        "duration": 0,
        "start_time": "2022-10-29T15:22:43.703Z"
      },
      {
        "duration": 0,
        "start_time": "2022-10-29T15:22:43.722Z"
      },
      {
        "duration": 0,
        "start_time": "2022-10-29T15:22:43.723Z"
      },
      {
        "duration": 0,
        "start_time": "2022-10-29T15:22:43.724Z"
      },
      {
        "duration": 0,
        "start_time": "2022-10-29T15:22:43.725Z"
      },
      {
        "duration": 0,
        "start_time": "2022-10-29T15:22:43.726Z"
      },
      {
        "duration": 0,
        "start_time": "2022-10-29T15:22:43.727Z"
      },
      {
        "duration": 0,
        "start_time": "2022-10-29T15:22:43.728Z"
      },
      {
        "duration": 54,
        "start_time": "2022-10-29T18:53:36.528Z"
      },
      {
        "duration": 447,
        "start_time": "2022-10-29T18:56:53.939Z"
      },
      {
        "duration": 14,
        "start_time": "2022-10-29T18:56:54.388Z"
      },
      {
        "duration": 15,
        "start_time": "2022-10-29T18:56:54.404Z"
      },
      {
        "duration": 8,
        "start_time": "2022-10-29T18:56:54.421Z"
      },
      {
        "duration": 148,
        "start_time": "2022-10-29T18:56:54.432Z"
      },
      {
        "duration": 60,
        "start_time": "2022-10-29T18:56:54.581Z"
      },
      {
        "duration": 851,
        "start_time": "2022-10-29T18:56:54.643Z"
      },
      {
        "duration": 19,
        "start_time": "2022-10-29T18:56:55.496Z"
      },
      {
        "duration": 534,
        "start_time": "2022-10-29T18:56:55.516Z"
      },
      {
        "duration": 167,
        "start_time": "2022-10-29T18:56:56.051Z"
      },
      {
        "duration": 293,
        "start_time": "2022-10-29T18:56:56.220Z"
      },
      {
        "duration": 168,
        "start_time": "2022-10-29T18:56:56.515Z"
      },
      {
        "duration": 300,
        "start_time": "2022-10-29T18:56:56.685Z"
      },
      {
        "duration": 125,
        "start_time": "2022-10-29T18:56:56.987Z"
      },
      {
        "duration": 8,
        "start_time": "2022-10-29T18:56:57.113Z"
      },
      {
        "duration": 168,
        "start_time": "2022-10-29T18:56:57.122Z"
      },
      {
        "duration": 8,
        "start_time": "2022-10-29T18:56:57.292Z"
      },
      {
        "duration": 580,
        "start_time": "2022-10-29T18:56:57.309Z"
      },
      {
        "duration": 24,
        "start_time": "2022-10-29T18:56:57.890Z"
      },
      {
        "duration": 30,
        "start_time": "2022-10-29T18:56:57.915Z"
      },
      {
        "duration": 12,
        "start_time": "2022-10-29T18:56:57.948Z"
      },
      {
        "duration": 37,
        "start_time": "2022-10-29T19:07:31.337Z"
      },
      {
        "duration": 8,
        "start_time": "2022-10-29T19:07:32.118Z"
      },
      {
        "duration": 26,
        "start_time": "2022-10-29T19:19:08.631Z"
      },
      {
        "duration": 26,
        "start_time": "2022-10-29T19:19:13.899Z"
      },
      {
        "duration": 8,
        "start_time": "2022-10-29T19:19:15.119Z"
      },
      {
        "duration": 33,
        "start_time": "2022-10-29T19:19:22.741Z"
      },
      {
        "duration": 8,
        "start_time": "2022-10-29T19:19:23.690Z"
      },
      {
        "duration": 26,
        "start_time": "2022-10-29T19:19:29.649Z"
      },
      {
        "duration": 10,
        "start_time": "2022-10-29T19:19:30.441Z"
      },
      {
        "duration": 9,
        "start_time": "2022-10-29T19:23:00.537Z"
      },
      {
        "duration": 8,
        "start_time": "2022-10-29T19:27:37.823Z"
      },
      {
        "duration": 8,
        "start_time": "2022-10-29T19:28:08.566Z"
      },
      {
        "duration": 9,
        "start_time": "2022-10-29T19:28:14.708Z"
      },
      {
        "duration": 10,
        "start_time": "2022-10-29T19:28:21.771Z"
      },
      {
        "duration": 10,
        "start_time": "2022-10-29T19:28:28.115Z"
      },
      {
        "duration": 10,
        "start_time": "2022-10-29T19:28:45.775Z"
      },
      {
        "duration": 9,
        "start_time": "2022-10-29T19:28:56.370Z"
      },
      {
        "duration": 472,
        "start_time": "2022-10-29T19:39:49.900Z"
      },
      {
        "duration": 469,
        "start_time": "2022-10-29T19:44:40.166Z"
      },
      {
        "duration": 483,
        "start_time": "2022-10-29T19:46:16.282Z"
      },
      {
        "duration": 518,
        "start_time": "2022-10-29T19:46:36.327Z"
      },
      {
        "duration": 563,
        "start_time": "2022-10-29T19:46:43.491Z"
      },
      {
        "duration": 413,
        "start_time": "2022-10-29T19:46:55.351Z"
      },
      {
        "duration": 453,
        "start_time": "2022-10-29T19:47:58.503Z"
      },
      {
        "duration": 462,
        "start_time": "2022-10-29T19:48:14.408Z"
      },
      {
        "duration": 218,
        "start_time": "2022-10-29T19:53:36.654Z"
      },
      {
        "duration": 77,
        "start_time": "2022-10-30T10:08:19.403Z"
      },
      {
        "duration": 564,
        "start_time": "2022-10-30T10:08:23.547Z"
      },
      {
        "duration": 20,
        "start_time": "2022-10-30T10:08:24.114Z"
      },
      {
        "duration": 19,
        "start_time": "2022-10-30T10:08:24.136Z"
      },
      {
        "duration": 39,
        "start_time": "2022-10-30T10:08:24.157Z"
      },
      {
        "duration": 152,
        "start_time": "2022-10-30T10:08:24.198Z"
      },
      {
        "duration": 12,
        "start_time": "2022-10-30T10:08:24.352Z"
      },
      {
        "duration": 65,
        "start_time": "2022-10-30T10:08:24.366Z"
      },
      {
        "duration": 922,
        "start_time": "2022-10-30T10:08:24.432Z"
      },
      {
        "duration": 22,
        "start_time": "2022-10-30T10:08:25.355Z"
      },
      {
        "duration": 587,
        "start_time": "2022-10-30T10:08:25.380Z"
      },
      {
        "duration": 197,
        "start_time": "2022-10-30T10:08:25.969Z"
      },
      {
        "duration": 388,
        "start_time": "2022-10-30T10:08:26.168Z"
      },
      {
        "duration": 277,
        "start_time": "2022-10-30T10:08:26.558Z"
      },
      {
        "duration": 314,
        "start_time": "2022-10-30T10:08:26.837Z"
      },
      {
        "duration": 164,
        "start_time": "2022-10-30T10:08:27.153Z"
      },
      {
        "duration": 9,
        "start_time": "2022-10-30T10:08:27.320Z"
      },
      {
        "duration": 150,
        "start_time": "2022-10-30T10:08:27.331Z"
      },
      {
        "duration": 9,
        "start_time": "2022-10-30T10:08:27.482Z"
      },
      {
        "duration": 568,
        "start_time": "2022-10-30T10:08:27.509Z"
      },
      {
        "duration": 30,
        "start_time": "2022-10-30T10:08:28.079Z"
      },
      {
        "duration": 37,
        "start_time": "2022-10-30T10:08:28.111Z"
      },
      {
        "duration": 16,
        "start_time": "2022-10-30T10:08:28.150Z"
      },
      {
        "duration": 18,
        "start_time": "2022-10-30T10:11:49.950Z"
      },
      {
        "duration": 4,
        "start_time": "2022-10-30T10:12:51.371Z"
      },
      {
        "duration": 5,
        "start_time": "2022-10-30T10:13:16.966Z"
      },
      {
        "duration": 5,
        "start_time": "2022-10-30T10:13:45.449Z"
      },
      {
        "duration": 6,
        "start_time": "2022-10-30T10:14:00.807Z"
      },
      {
        "duration": 304,
        "start_time": "2022-10-30T10:35:08.912Z"
      },
      {
        "duration": 103,
        "start_time": "2022-10-30T11:04:33.248Z"
      },
      {
        "duration": 8,
        "start_time": "2022-10-30T11:11:42.089Z"
      },
      {
        "duration": 125,
        "start_time": "2022-10-30T11:39:04.433Z"
      },
      {
        "duration": 85,
        "start_time": "2022-10-30T11:42:26.288Z"
      },
      {
        "duration": 157,
        "start_time": "2022-10-30T11:42:53.797Z"
      },
      {
        "duration": 10,
        "start_time": "2022-10-30T11:46:03.438Z"
      },
      {
        "duration": 51,
        "start_time": "2022-10-30T11:54:50.331Z"
      },
      {
        "duration": 18,
        "start_time": "2022-10-30T11:54:53.315Z"
      },
      {
        "duration": 527,
        "start_time": "2022-10-30T12:03:09.369Z"
      },
      {
        "duration": 14,
        "start_time": "2022-10-30T12:24:21.185Z"
      },
      {
        "duration": 826,
        "start_time": "2022-10-30T12:43:21.885Z"
      },
      {
        "duration": 27,
        "start_time": "2022-10-30T12:43:27.022Z"
      },
      {
        "duration": 7,
        "start_time": "2022-10-30T12:43:27.051Z"
      },
      {
        "duration": 10,
        "start_time": "2022-10-30T12:43:27.059Z"
      },
      {
        "duration": 13,
        "start_time": "2022-10-30T12:43:27.070Z"
      },
      {
        "duration": 50,
        "start_time": "2022-10-30T12:43:27.085Z"
      },
      {
        "duration": 10,
        "start_time": "2022-10-30T12:43:27.137Z"
      },
      {
        "duration": 7,
        "start_time": "2022-10-30T12:43:27.148Z"
      },
      {
        "duration": 7,
        "start_time": "2022-10-30T12:43:27.156Z"
      },
      {
        "duration": 23,
        "start_time": "2022-10-30T12:43:27.164Z"
      },
      {
        "duration": 4,
        "start_time": "2022-10-30T12:43:27.189Z"
      },
      {
        "duration": 8,
        "start_time": "2022-10-30T12:43:27.194Z"
      },
      {
        "duration": 17,
        "start_time": "2022-10-30T12:43:27.204Z"
      },
      {
        "duration": 21,
        "start_time": "2022-10-30T12:43:27.222Z"
      },
      {
        "duration": 448,
        "start_time": "2022-10-30T12:43:27.247Z"
      },
      {
        "duration": 198,
        "start_time": "2022-10-30T12:43:27.697Z"
      },
      {
        "duration": 277,
        "start_time": "2022-10-30T12:43:27.897Z"
      },
      {
        "duration": 165,
        "start_time": "2022-10-30T12:43:28.176Z"
      },
      {
        "duration": 260,
        "start_time": "2022-10-30T12:43:28.342Z"
      },
      {
        "duration": 112,
        "start_time": "2022-10-30T12:43:28.609Z"
      },
      {
        "duration": 6,
        "start_time": "2022-10-30T12:43:28.723Z"
      },
      {
        "duration": 135,
        "start_time": "2022-10-30T12:43:28.731Z"
      },
      {
        "duration": 8,
        "start_time": "2022-10-30T12:43:28.867Z"
      },
      {
        "duration": 570,
        "start_time": "2022-10-30T12:43:28.876Z"
      },
      {
        "duration": 42,
        "start_time": "2022-10-30T12:43:29.447Z"
      },
      {
        "duration": 0,
        "start_time": "2022-10-30T12:43:29.491Z"
      },
      {
        "duration": 0,
        "start_time": "2022-10-30T12:43:29.492Z"
      },
      {
        "duration": 0,
        "start_time": "2022-10-30T12:43:29.493Z"
      },
      {
        "duration": 651,
        "start_time": "2022-10-30T12:44:30.692Z"
      },
      {
        "duration": 427,
        "start_time": "2022-10-30T12:45:06.660Z"
      },
      {
        "duration": 15,
        "start_time": "2022-10-30T12:45:07.089Z"
      },
      {
        "duration": 36,
        "start_time": "2022-10-30T12:45:07.106Z"
      },
      {
        "duration": 27,
        "start_time": "2022-10-30T12:45:07.143Z"
      },
      {
        "duration": 77,
        "start_time": "2022-10-30T12:45:07.172Z"
      },
      {
        "duration": 9,
        "start_time": "2022-10-30T12:45:07.251Z"
      },
      {
        "duration": 23,
        "start_time": "2022-10-30T12:45:07.262Z"
      },
      {
        "duration": 21,
        "start_time": "2022-10-30T12:45:07.286Z"
      },
      {
        "duration": 41,
        "start_time": "2022-10-30T12:45:07.308Z"
      },
      {
        "duration": 3,
        "start_time": "2022-10-30T12:45:07.350Z"
      },
      {
        "duration": 24,
        "start_time": "2022-10-30T12:45:07.355Z"
      },
      {
        "duration": 710,
        "start_time": "2022-10-30T12:45:07.380Z"
      },
      {
        "duration": 18,
        "start_time": "2022-10-30T12:45:08.092Z"
      },
      {
        "duration": 563,
        "start_time": "2022-10-30T12:45:08.113Z"
      },
      {
        "duration": 184,
        "start_time": "2022-10-30T12:45:08.677Z"
      },
      {
        "duration": 267,
        "start_time": "2022-10-30T12:45:08.863Z"
      },
      {
        "duration": 173,
        "start_time": "2022-10-30T12:45:09.131Z"
      },
      {
        "duration": 278,
        "start_time": "2022-10-30T12:45:09.308Z"
      },
      {
        "duration": 114,
        "start_time": "2022-10-30T12:45:09.588Z"
      },
      {
        "duration": 6,
        "start_time": "2022-10-30T12:45:09.708Z"
      },
      {
        "duration": 128,
        "start_time": "2022-10-30T12:45:09.716Z"
      },
      {
        "duration": 8,
        "start_time": "2022-10-30T12:45:09.845Z"
      },
      {
        "duration": 529,
        "start_time": "2022-10-30T12:45:09.855Z"
      },
      {
        "duration": 46,
        "start_time": "2022-10-30T12:45:10.385Z"
      },
      {
        "duration": 0,
        "start_time": "2022-10-30T12:45:10.433Z"
      },
      {
        "duration": 0,
        "start_time": "2022-10-30T12:45:10.434Z"
      },
      {
        "duration": 0,
        "start_time": "2022-10-30T12:45:10.435Z"
      },
      {
        "duration": 27,
        "start_time": "2022-10-30T12:50:49.366Z"
      },
      {
        "duration": 8,
        "start_time": "2022-10-30T12:50:55.946Z"
      },
      {
        "duration": 866,
        "start_time": "2022-10-30T12:51:10.265Z"
      },
      {
        "duration": 7,
        "start_time": "2022-10-30T12:51:49.379Z"
      },
      {
        "duration": 7,
        "start_time": "2022-10-30T12:52:03.295Z"
      },
      {
        "duration": 8,
        "start_time": "2022-10-30T12:52:39.635Z"
      },
      {
        "duration": 8,
        "start_time": "2022-10-30T12:53:16.085Z"
      },
      {
        "duration": 29,
        "start_time": "2022-10-30T13:09:28.901Z"
      },
      {
        "duration": 8,
        "start_time": "2022-10-30T13:09:29.753Z"
      },
      {
        "duration": 10,
        "start_time": "2022-10-30T13:09:33.893Z"
      },
      {
        "duration": 9,
        "start_time": "2022-10-30T13:11:06.815Z"
      },
      {
        "duration": 11,
        "start_time": "2022-10-30T13:11:45.244Z"
      },
      {
        "duration": 8,
        "start_time": "2022-10-30T13:11:58.364Z"
      },
      {
        "duration": 54,
        "start_time": "2022-10-30T13:16:33.976Z"
      },
      {
        "duration": 9,
        "start_time": "2022-10-30T13:16:37.072Z"
      },
      {
        "duration": 4,
        "start_time": "2022-10-30T13:16:48.757Z"
      },
      {
        "duration": 4,
        "start_time": "2022-10-30T13:16:49.604Z"
      },
      {
        "duration": 31,
        "start_time": "2022-10-30T13:16:50.420Z"
      },
      {
        "duration": 5,
        "start_time": "2022-10-30T13:16:58.931Z"
      },
      {
        "duration": 5,
        "start_time": "2022-10-30T13:16:59.675Z"
      },
      {
        "duration": 3,
        "start_time": "2022-10-30T13:17:07.239Z"
      },
      {
        "duration": 13,
        "start_time": "2022-10-30T13:17:07.901Z"
      },
      {
        "duration": 10,
        "start_time": "2022-10-30T13:18:40.895Z"
      },
      {
        "duration": 14,
        "start_time": "2022-10-30T13:37:54.467Z"
      },
      {
        "duration": 50,
        "start_time": "2022-10-30T13:37:58.054Z"
      },
      {
        "duration": 12,
        "start_time": "2022-10-30T13:38:01.502Z"
      },
      {
        "duration": 462,
        "start_time": "2022-10-30T13:40:03.820Z"
      },
      {
        "duration": 13,
        "start_time": "2022-10-30T13:40:04.284Z"
      },
      {
        "duration": 15,
        "start_time": "2022-10-30T13:40:04.299Z"
      },
      {
        "duration": 24,
        "start_time": "2022-10-30T13:40:04.316Z"
      },
      {
        "duration": 53,
        "start_time": "2022-10-30T13:40:04.342Z"
      },
      {
        "duration": 10,
        "start_time": "2022-10-30T13:40:04.396Z"
      },
      {
        "duration": 27,
        "start_time": "2022-10-30T13:40:04.408Z"
      },
      {
        "duration": 26,
        "start_time": "2022-10-30T13:40:04.436Z"
      },
      {
        "duration": 39,
        "start_time": "2022-10-30T13:40:04.464Z"
      },
      {
        "duration": 9,
        "start_time": "2022-10-30T13:40:04.505Z"
      },
      {
        "duration": 18,
        "start_time": "2022-10-30T13:40:04.516Z"
      },
      {
        "duration": 35,
        "start_time": "2022-10-30T13:40:04.535Z"
      },
      {
        "duration": 668,
        "start_time": "2022-10-30T13:40:04.572Z"
      },
      {
        "duration": 14,
        "start_time": "2022-10-30T13:40:05.243Z"
      },
      {
        "duration": 524,
        "start_time": "2022-10-30T13:40:05.259Z"
      },
      {
        "duration": 186,
        "start_time": "2022-10-30T13:40:05.785Z"
      },
      {
        "duration": 301,
        "start_time": "2022-10-30T13:40:05.973Z"
      },
      {
        "duration": 171,
        "start_time": "2022-10-30T13:40:06.275Z"
      },
      {
        "duration": 280,
        "start_time": "2022-10-30T13:40:06.447Z"
      },
      {
        "duration": 125,
        "start_time": "2022-10-30T13:40:06.728Z"
      },
      {
        "duration": 7,
        "start_time": "2022-10-30T13:40:06.855Z"
      },
      {
        "duration": 134,
        "start_time": "2022-10-30T13:40:06.864Z"
      },
      {
        "duration": 16,
        "start_time": "2022-10-30T13:40:06.999Z"
      },
      {
        "duration": 510,
        "start_time": "2022-10-30T13:40:07.017Z"
      },
      {
        "duration": 10,
        "start_time": "2022-10-30T13:40:07.528Z"
      },
      {
        "duration": 29,
        "start_time": "2022-10-30T13:40:07.540Z"
      },
      {
        "duration": 12,
        "start_time": "2022-10-30T13:40:07.571Z"
      },
      {
        "duration": 43,
        "start_time": "2022-10-30T18:06:12.228Z"
      },
      {
        "duration": 445,
        "start_time": "2022-10-30T18:06:23.727Z"
      },
      {
        "duration": 15,
        "start_time": "2022-10-30T18:06:26.255Z"
      },
      {
        "duration": 28,
        "start_time": "2022-10-30T18:06:29.020Z"
      },
      {
        "duration": 8,
        "start_time": "2022-10-30T18:07:20.137Z"
      },
      {
        "duration": 8,
        "start_time": "2022-10-30T18:07:34.458Z"
      },
      {
        "duration": 7,
        "start_time": "2022-10-30T18:07:54.287Z"
      },
      {
        "duration": 8,
        "start_time": "2022-10-30T18:08:01.977Z"
      },
      {
        "duration": 7,
        "start_time": "2022-10-30T18:08:07.917Z"
      },
      {
        "duration": 7,
        "start_time": "2022-10-30T18:08:14.857Z"
      },
      {
        "duration": 8,
        "start_time": "2022-10-30T18:08:21.786Z"
      },
      {
        "duration": 44,
        "start_time": "2022-10-31T08:20:38.158Z"
      },
      {
        "duration": 426,
        "start_time": "2022-10-31T08:20:44.418Z"
      },
      {
        "duration": 13,
        "start_time": "2022-10-31T08:20:44.846Z"
      },
      {
        "duration": 9,
        "start_time": "2022-10-31T08:20:44.860Z"
      },
      {
        "duration": 8,
        "start_time": "2022-10-31T08:20:44.871Z"
      },
      {
        "duration": 85,
        "start_time": "2022-10-31T08:20:44.882Z"
      },
      {
        "duration": 14,
        "start_time": "2022-10-31T08:20:44.969Z"
      },
      {
        "duration": 6,
        "start_time": "2022-10-31T08:20:44.985Z"
      },
      {
        "duration": 6,
        "start_time": "2022-10-31T08:20:44.993Z"
      },
      {
        "duration": 75,
        "start_time": "2022-10-31T08:20:45.001Z"
      },
      {
        "duration": 9,
        "start_time": "2022-10-31T08:20:45.078Z"
      },
      {
        "duration": 5,
        "start_time": "2022-10-31T08:20:45.089Z"
      },
      {
        "duration": 6,
        "start_time": "2022-10-31T08:20:45.095Z"
      },
      {
        "duration": 801,
        "start_time": "2022-10-31T08:20:45.103Z"
      },
      {
        "duration": 13,
        "start_time": "2022-10-31T08:20:45.907Z"
      },
      {
        "duration": 515,
        "start_time": "2022-10-31T08:20:45.922Z"
      },
      {
        "duration": 192,
        "start_time": "2022-10-31T08:20:46.438Z"
      },
      {
        "duration": 344,
        "start_time": "2022-10-31T08:20:46.632Z"
      },
      {
        "duration": 177,
        "start_time": "2022-10-31T08:20:46.978Z"
      },
      {
        "duration": 292,
        "start_time": "2022-10-31T08:20:47.157Z"
      },
      {
        "duration": 119,
        "start_time": "2022-10-31T08:20:47.451Z"
      },
      {
        "duration": 7,
        "start_time": "2022-10-31T08:20:47.576Z"
      },
      {
        "duration": 154,
        "start_time": "2022-10-31T08:20:47.584Z"
      },
      {
        "duration": 10,
        "start_time": "2022-10-31T08:20:47.740Z"
      },
      {
        "duration": 553,
        "start_time": "2022-10-31T08:20:47.751Z"
      },
      {
        "duration": 9,
        "start_time": "2022-10-31T08:20:48.306Z"
      },
      {
        "duration": 27,
        "start_time": "2022-10-31T08:20:48.316Z"
      },
      {
        "duration": 37,
        "start_time": "2022-10-31T08:20:48.344Z"
      },
      {
        "duration": 7,
        "start_time": "2022-10-31T09:02:55.311Z"
      },
      {
        "duration": 7,
        "start_time": "2022-10-31T09:03:17.688Z"
      },
      {
        "duration": 1538,
        "start_time": "2022-10-31T09:07:37.046Z"
      },
      {
        "duration": 7,
        "start_time": "2022-10-31T09:07:52.584Z"
      },
      {
        "duration": 14,
        "start_time": "2022-10-31T09:09:31.242Z"
      },
      {
        "duration": 10,
        "start_time": "2022-10-31T09:10:28.734Z"
      },
      {
        "duration": 11,
        "start_time": "2022-10-31T09:10:37.675Z"
      },
      {
        "duration": 41,
        "start_time": "2022-10-31T09:11:18.507Z"
      },
      {
        "duration": 6,
        "start_time": "2022-10-31T09:11:37.124Z"
      },
      {
        "duration": 9,
        "start_time": "2022-10-31T09:12:00.779Z"
      },
      {
        "duration": 7,
        "start_time": "2022-10-31T09:15:39.803Z"
      },
      {
        "duration": 167,
        "start_time": "2022-10-31T09:16:33.236Z"
      },
      {
        "duration": 164,
        "start_time": "2022-10-31T09:16:49.870Z"
      },
      {
        "duration": 5,
        "start_time": "2022-10-31T09:18:16.533Z"
      },
      {
        "duration": 7,
        "start_time": "2022-10-31T09:18:21.732Z"
      },
      {
        "duration": 7,
        "start_time": "2022-10-31T09:18:40.538Z"
      },
      {
        "duration": 4,
        "start_time": "2022-10-31T09:18:43.518Z"
      },
      {
        "duration": 5,
        "start_time": "2022-10-31T09:18:51.896Z"
      },
      {
        "duration": 7,
        "start_time": "2022-10-31T09:19:14.020Z"
      },
      {
        "duration": 5,
        "start_time": "2022-10-31T09:21:14.586Z"
      },
      {
        "duration": 8,
        "start_time": "2022-10-31T09:21:21.148Z"
      },
      {
        "duration": 7,
        "start_time": "2022-10-31T09:22:52.841Z"
      },
      {
        "duration": 1241,
        "start_time": "2022-10-31T09:26:18.808Z"
      },
      {
        "duration": 6,
        "start_time": "2022-10-31T09:26:34.525Z"
      },
      {
        "duration": 6,
        "start_time": "2022-10-31T09:26:43.132Z"
      },
      {
        "duration": 4,
        "start_time": "2022-10-31T09:27:28.780Z"
      },
      {
        "duration": 4,
        "start_time": "2022-10-31T09:28:19.388Z"
      },
      {
        "duration": 5,
        "start_time": "2022-10-31T09:32:47.863Z"
      },
      {
        "duration": 416,
        "start_time": "2022-10-31T09:39:31.124Z"
      },
      {
        "duration": 12,
        "start_time": "2022-10-31T09:40:46.440Z"
      },
      {
        "duration": 32,
        "start_time": "2022-10-31T09:41:17.000Z"
      },
      {
        "duration": 13,
        "start_time": "2022-10-31T09:42:05.015Z"
      },
      {
        "duration": 28,
        "start_time": "2022-10-31T09:52:51.326Z"
      },
      {
        "duration": 8,
        "start_time": "2022-10-31T09:52:51.355Z"
      },
      {
        "duration": 11,
        "start_time": "2022-10-31T09:52:51.364Z"
      },
      {
        "duration": 16,
        "start_time": "2022-10-31T09:52:51.377Z"
      },
      {
        "duration": 48,
        "start_time": "2022-10-31T09:52:51.395Z"
      },
      {
        "duration": 10,
        "start_time": "2022-10-31T09:52:51.444Z"
      },
      {
        "duration": 7,
        "start_time": "2022-10-31T09:52:51.455Z"
      },
      {
        "duration": 10,
        "start_time": "2022-10-31T09:52:51.463Z"
      },
      {
        "duration": 23,
        "start_time": "2022-10-31T09:52:51.474Z"
      },
      {
        "duration": 8,
        "start_time": "2022-10-31T09:52:51.499Z"
      },
      {
        "duration": 11,
        "start_time": "2022-10-31T09:52:51.508Z"
      },
      {
        "duration": 16,
        "start_time": "2022-10-31T09:52:51.520Z"
      },
      {
        "duration": 13,
        "start_time": "2022-10-31T09:52:51.538Z"
      },
      {
        "duration": 24,
        "start_time": "2022-10-31T09:52:51.553Z"
      },
      {
        "duration": 9,
        "start_time": "2022-10-31T09:52:51.578Z"
      },
      {
        "duration": 6,
        "start_time": "2022-10-31T09:52:51.588Z"
      },
      {
        "duration": 9,
        "start_time": "2022-10-31T09:52:51.595Z"
      },
      {
        "duration": 14,
        "start_time": "2022-10-31T09:52:51.607Z"
      },
      {
        "duration": 12,
        "start_time": "2022-10-31T09:52:51.623Z"
      },
      {
        "duration": 18,
        "start_time": "2022-10-31T09:52:51.637Z"
      },
      {
        "duration": 434,
        "start_time": "2022-10-31T09:52:51.657Z"
      },
      {
        "duration": 180,
        "start_time": "2022-10-31T09:52:52.093Z"
      },
      {
        "duration": 284,
        "start_time": "2022-10-31T09:52:52.277Z"
      },
      {
        "duration": 180,
        "start_time": "2022-10-31T09:52:52.562Z"
      },
      {
        "duration": 305,
        "start_time": "2022-10-31T09:52:52.744Z"
      },
      {
        "duration": 110,
        "start_time": "2022-10-31T09:52:53.051Z"
      },
      {
        "duration": 15,
        "start_time": "2022-10-31T09:52:53.163Z"
      },
      {
        "duration": 124,
        "start_time": "2022-10-31T09:52:53.180Z"
      },
      {
        "duration": 7,
        "start_time": "2022-10-31T09:52:53.306Z"
      },
      {
        "duration": 450,
        "start_time": "2022-10-31T09:52:53.315Z"
      },
      {
        "duration": 16,
        "start_time": "2022-10-31T09:52:53.767Z"
      },
      {
        "duration": 28,
        "start_time": "2022-10-31T09:52:53.786Z"
      },
      {
        "duration": 15,
        "start_time": "2022-10-31T09:52:53.815Z"
      },
      {
        "duration": 434,
        "start_time": "2022-10-31T09:55:09.045Z"
      },
      {
        "duration": 264,
        "start_time": "2022-10-31T09:55:44.043Z"
      },
      {
        "duration": 326,
        "start_time": "2022-10-31T09:55:49.620Z"
      },
      {
        "duration": 410,
        "start_time": "2022-10-31T09:56:20.896Z"
      },
      {
        "duration": 419,
        "start_time": "2022-10-31T10:25:57.299Z"
      },
      {
        "duration": 269,
        "start_time": "2022-10-31T10:27:29.236Z"
      },
      {
        "duration": 342,
        "start_time": "2022-10-31T10:27:52.238Z"
      },
      {
        "duration": 433,
        "start_time": "2022-10-31T10:38:52.508Z"
      },
      {
        "duration": 405,
        "start_time": "2022-10-31T10:42:16.608Z"
      },
      {
        "duration": 375,
        "start_time": "2022-10-31T10:43:08.325Z"
      },
      {
        "duration": 418,
        "start_time": "2022-10-31T10:43:25.607Z"
      },
      {
        "duration": 397,
        "start_time": "2022-10-31T10:43:56.048Z"
      },
      {
        "duration": 530,
        "start_time": "2022-10-31T10:44:40.306Z"
      },
      {
        "duration": 433,
        "start_time": "2022-10-31T10:44:55.255Z"
      },
      {
        "duration": 571,
        "start_time": "2022-10-31T10:45:07.403Z"
      },
      {
        "duration": 320,
        "start_time": "2022-10-31T10:46:38.240Z"
      },
      {
        "duration": 449,
        "start_time": "2022-10-31T10:47:21.001Z"
      },
      {
        "duration": 518,
        "start_time": "2022-10-31T10:47:43.319Z"
      },
      {
        "duration": 204,
        "start_time": "2022-10-31T10:49:25.967Z"
      },
      {
        "duration": 471,
        "start_time": "2022-10-31T10:50:26.796Z"
      },
      {
        "duration": 593,
        "start_time": "2022-10-31T10:50:41.535Z"
      },
      {
        "duration": 217,
        "start_time": "2022-10-31T10:52:11.185Z"
      },
      {
        "duration": 291,
        "start_time": "2022-10-31T10:53:28.619Z"
      },
      {
        "duration": 204,
        "start_time": "2022-10-31T10:54:22.348Z"
      },
      {
        "duration": 302,
        "start_time": "2022-10-31T10:55:13.726Z"
      },
      {
        "duration": 409,
        "start_time": "2022-10-31T10:55:52.472Z"
      },
      {
        "duration": 247,
        "start_time": "2022-10-31T10:57:54.892Z"
      },
      {
        "duration": 225,
        "start_time": "2022-10-31T10:58:42.681Z"
      },
      {
        "duration": 130,
        "start_time": "2022-10-31T10:58:55.687Z"
      },
      {
        "duration": 172,
        "start_time": "2022-10-31T10:59:14.267Z"
      },
      {
        "duration": 429,
        "start_time": "2022-10-31T11:01:10.826Z"
      },
      {
        "duration": 16,
        "start_time": "2022-10-31T11:01:11.257Z"
      },
      {
        "duration": 16,
        "start_time": "2022-10-31T11:01:11.275Z"
      },
      {
        "duration": 11,
        "start_time": "2022-10-31T11:01:11.292Z"
      },
      {
        "duration": 770,
        "start_time": "2022-10-31T11:01:11.306Z"
      },
      {
        "duration": 41,
        "start_time": "2022-10-31T11:01:12.077Z"
      },
      {
        "duration": 16,
        "start_time": "2022-10-31T11:01:12.120Z"
      },
      {
        "duration": 7,
        "start_time": "2022-10-31T11:01:12.138Z"
      },
      {
        "duration": 6,
        "start_time": "2022-10-31T11:01:12.147Z"
      },
      {
        "duration": 25,
        "start_time": "2022-10-31T11:01:12.155Z"
      },
      {
        "duration": 15,
        "start_time": "2022-10-31T11:01:12.182Z"
      },
      {
        "duration": 9,
        "start_time": "2022-10-31T11:01:12.199Z"
      },
      {
        "duration": 6,
        "start_time": "2022-10-31T11:01:12.210Z"
      },
      {
        "duration": 14,
        "start_time": "2022-10-31T11:01:12.219Z"
      },
      {
        "duration": 10,
        "start_time": "2022-10-31T11:01:12.234Z"
      },
      {
        "duration": 38,
        "start_time": "2022-10-31T11:01:12.245Z"
      },
      {
        "duration": 15,
        "start_time": "2022-10-31T11:01:12.285Z"
      },
      {
        "duration": 15,
        "start_time": "2022-10-31T11:01:12.303Z"
      },
      {
        "duration": 5,
        "start_time": "2022-10-31T11:01:12.320Z"
      },
      {
        "duration": 9,
        "start_time": "2022-10-31T11:01:12.328Z"
      },
      {
        "duration": 600,
        "start_time": "2022-10-31T11:01:12.339Z"
      },
      {
        "duration": 209,
        "start_time": "2022-10-31T11:01:12.941Z"
      },
      {
        "duration": 378,
        "start_time": "2022-10-31T11:01:13.152Z"
      },
      {
        "duration": 244,
        "start_time": "2022-10-31T11:01:13.533Z"
      },
      {
        "duration": 330,
        "start_time": "2022-10-31T11:01:13.779Z"
      },
      {
        "duration": 163,
        "start_time": "2022-10-31T11:01:14.111Z"
      },
      {
        "duration": 10,
        "start_time": "2022-10-31T11:01:14.282Z"
      },
      {
        "duration": 237,
        "start_time": "2022-10-31T11:01:14.294Z"
      },
      {
        "duration": 8,
        "start_time": "2022-10-31T11:01:14.533Z"
      },
      {
        "duration": 592,
        "start_time": "2022-10-31T11:01:14.542Z"
      },
      {
        "duration": 16,
        "start_time": "2022-10-31T11:01:15.137Z"
      },
      {
        "duration": 60,
        "start_time": "2022-10-31T11:01:15.155Z"
      },
      {
        "duration": 15,
        "start_time": "2022-10-31T11:01:15.217Z"
      }
    ],
    "kernelspec": {
      "display_name": "Python 3 (ipykernel)",
      "language": "python",
      "name": "python3"
    },
    "language_info": {
      "codemirror_mode": {
        "name": "ipython",
        "version": 3
      },
      "file_extension": ".py",
      "mimetype": "text/x-python",
      "name": "python",
      "nbconvert_exporter": "python",
      "pygments_lexer": "ipython3",
      "version": "3.9.5"
    },
    "toc": {
      "base_numbering": 1,
      "nav_menu": {},
      "number_sections": true,
      "sideBar": true,
      "skip_h1_title": true,
      "title_cell": "Table of Contents",
      "title_sidebar": "Contents",
      "toc_cell": false,
      "toc_position": {},
      "toc_section_display": true,
      "toc_window_display": false
    },
    "colab": {
      "provenance": []
    }
  },
  "nbformat": 4,
  "nbformat_minor": 0
}