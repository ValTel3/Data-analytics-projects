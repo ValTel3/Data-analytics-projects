{
  "cells": [
    {
      "cell_type": "markdown",
      "metadata": {
        "deletable": false,
        "editable": false,
        "id": "E0vqbgi9ay0H"
      },
      "source": [
        "# Яндекс Музыка"
      ]
    },
    {
      "cell_type": "markdown",
      "metadata": {
        "deletable": false,
        "editable": false,
        "id": "VUC88oWjTJw2"
      },
      "source": [
        "В данном проекте мы сравним музыкальные предпочтения и поведение пользователей двух городов: Москвы и Санкт-Петербурга. \n",
        "\n",
        "Для этого мы проверим три гипотезы:\n",
        "1. Активность пользователей зависит от дня недели. Причём в Москве и Петербурге это проявляется по-разному.\n",
        "2. В понедельник утром в Москве преобладают одни жанры, а в Петербурге — другие. Так же и вечером пятницы преобладают разные жанры — в зависимости от города. \n",
        "3. Москва и Петербург предпочитают разные жанры музыки. В Москве чаще слушают поп-музыку, в Петербурге — русский рэп.\n",
        "\n",
        "Этапы проекта:\n",
        "1. Обзор данных.\n",
        "2. Предобработка данных.\n",
        "3. Проверка гипотез.\n",
        "\n",
        "\n",
        "\n"
      ]
    },
    {
      "cell_type": "markdown",
      "metadata": {
        "deletable": false,
        "editable": false,
        "id": "Ml1hmfXC_Zcs"
      },
      "source": [
        "## Обзор данных.\n",
        "\n",
        "Изучим данные для дальнейшего исследования.\n",
        "\n",
        "\n"
      ]
    },
    {
      "cell_type": "code",
      "execution_count": 2,
      "metadata": {
        "deletable": false,
        "id": "AXN7PHPN_Zcs"
      },
      "outputs": [],
      "source": [
        "import pandas as pd"
      ]
    },
    {
      "cell_type": "code",
      "execution_count": 3,
      "metadata": {
        "deletable": false,
        "id": "fFVu7vqh_Zct"
      },
      "outputs": [],
      "source": [
        "df=pd.read_csv('yandex_music_project.csv')\n",
        "# чтение файла с данными и сохранение в df"
      ]
    },
    {
      "cell_type": "code",
      "execution_count": 4,
      "metadata": {
        "deletable": false,
        "id": "oWTVX3gW_Zct",
        "colab": {
          "base_uri": "https://localhost:8080/",
          "height": 206
        },
        "outputId": "a97dda53-77ca-485e-ed30-931a6a52f3a4"
      },
      "outputs": [
        {
          "output_type": "execute_result",
          "data": {
            "text/plain": [
              "     userID                        Track            artist  genre  \\\n",
              "0  FFB692EC            Kamigata To Boots  The Mass Missile   rock   \n",
              "1  55204538  Delayed Because of Accident  Andreas Rönnberg   rock   \n",
              "2    20EC38            Funiculì funiculà       Mario Lanza    pop   \n",
              "3  A3DD03C9        Dragons in the Sunset        Fire + Ice   folk   \n",
              "4  E2DC1FAE                  Soul People        Space Echo  dance   \n",
              "\n",
              "             City        time        Day  \n",
              "0  Saint-Petersburg  20:28:33  Wednesday  \n",
              "1            Moscow  14:07:09     Friday  \n",
              "2  Saint-Petersburg  20:58:07  Wednesday  \n",
              "3  Saint-Petersburg  08:37:09     Monday  \n",
              "4            Moscow  08:34:34     Monday  "
            ],
            "text/html": [
              "\n",
              "  <div id=\"df-5bbfde89-7322-4a76-b41e-7320e079335f\">\n",
              "    <div class=\"colab-df-container\">\n",
              "      <div>\n",
              "<style scoped>\n",
              "    .dataframe tbody tr th:only-of-type {\n",
              "        vertical-align: middle;\n",
              "    }\n",
              "\n",
              "    .dataframe tbody tr th {\n",
              "        vertical-align: top;\n",
              "    }\n",
              "\n",
              "    .dataframe thead th {\n",
              "        text-align: right;\n",
              "    }\n",
              "</style>\n",
              "<table border=\"1\" class=\"dataframe\">\n",
              "  <thead>\n",
              "    <tr style=\"text-align: right;\">\n",
              "      <th></th>\n",
              "      <th>userID</th>\n",
              "      <th>Track</th>\n",
              "      <th>artist</th>\n",
              "      <th>genre</th>\n",
              "      <th>City</th>\n",
              "      <th>time</th>\n",
              "      <th>Day</th>\n",
              "    </tr>\n",
              "  </thead>\n",
              "  <tbody>\n",
              "    <tr>\n",
              "      <th>0</th>\n",
              "      <td>FFB692EC</td>\n",
              "      <td>Kamigata To Boots</td>\n",
              "      <td>The Mass Missile</td>\n",
              "      <td>rock</td>\n",
              "      <td>Saint-Petersburg</td>\n",
              "      <td>20:28:33</td>\n",
              "      <td>Wednesday</td>\n",
              "    </tr>\n",
              "    <tr>\n",
              "      <th>1</th>\n",
              "      <td>55204538</td>\n",
              "      <td>Delayed Because of Accident</td>\n",
              "      <td>Andreas Rönnberg</td>\n",
              "      <td>rock</td>\n",
              "      <td>Moscow</td>\n",
              "      <td>14:07:09</td>\n",
              "      <td>Friday</td>\n",
              "    </tr>\n",
              "    <tr>\n",
              "      <th>2</th>\n",
              "      <td>20EC38</td>\n",
              "      <td>Funiculì funiculà</td>\n",
              "      <td>Mario Lanza</td>\n",
              "      <td>pop</td>\n",
              "      <td>Saint-Petersburg</td>\n",
              "      <td>20:58:07</td>\n",
              "      <td>Wednesday</td>\n",
              "    </tr>\n",
              "    <tr>\n",
              "      <th>3</th>\n",
              "      <td>A3DD03C9</td>\n",
              "      <td>Dragons in the Sunset</td>\n",
              "      <td>Fire + Ice</td>\n",
              "      <td>folk</td>\n",
              "      <td>Saint-Petersburg</td>\n",
              "      <td>08:37:09</td>\n",
              "      <td>Monday</td>\n",
              "    </tr>\n",
              "    <tr>\n",
              "      <th>4</th>\n",
              "      <td>E2DC1FAE</td>\n",
              "      <td>Soul People</td>\n",
              "      <td>Space Echo</td>\n",
              "      <td>dance</td>\n",
              "      <td>Moscow</td>\n",
              "      <td>08:34:34</td>\n",
              "      <td>Monday</td>\n",
              "    </tr>\n",
              "  </tbody>\n",
              "</table>\n",
              "</div>\n",
              "      <button class=\"colab-df-convert\" onclick=\"convertToInteractive('df-5bbfde89-7322-4a76-b41e-7320e079335f')\"\n",
              "              title=\"Convert this dataframe to an interactive table.\"\n",
              "              style=\"display:none;\">\n",
              "        \n",
              "  <svg xmlns=\"http://www.w3.org/2000/svg\" height=\"24px\"viewBox=\"0 0 24 24\"\n",
              "       width=\"24px\">\n",
              "    <path d=\"M0 0h24v24H0V0z\" fill=\"none\"/>\n",
              "    <path d=\"M18.56 5.44l.94 2.06.94-2.06 2.06-.94-2.06-.94-.94-2.06-.94 2.06-2.06.94zm-11 1L8.5 8.5l.94-2.06 2.06-.94-2.06-.94L8.5 2.5l-.94 2.06-2.06.94zm10 10l.94 2.06.94-2.06 2.06-.94-2.06-.94-.94-2.06-.94 2.06-2.06.94z\"/><path d=\"M17.41 7.96l-1.37-1.37c-.4-.4-.92-.59-1.43-.59-.52 0-1.04.2-1.43.59L10.3 9.45l-7.72 7.72c-.78.78-.78 2.05 0 2.83L4 21.41c.39.39.9.59 1.41.59.51 0 1.02-.2 1.41-.59l7.78-7.78 2.81-2.81c.8-.78.8-2.07 0-2.86zM5.41 20L4 18.59l7.72-7.72 1.47 1.35L5.41 20z\"/>\n",
              "  </svg>\n",
              "      </button>\n",
              "      \n",
              "  <style>\n",
              "    .colab-df-container {\n",
              "      display:flex;\n",
              "      flex-wrap:wrap;\n",
              "      gap: 12px;\n",
              "    }\n",
              "\n",
              "    .colab-df-convert {\n",
              "      background-color: #E8F0FE;\n",
              "      border: none;\n",
              "      border-radius: 50%;\n",
              "      cursor: pointer;\n",
              "      display: none;\n",
              "      fill: #1967D2;\n",
              "      height: 32px;\n",
              "      padding: 0 0 0 0;\n",
              "      width: 32px;\n",
              "    }\n",
              "\n",
              "    .colab-df-convert:hover {\n",
              "      background-color: #E2EBFA;\n",
              "      box-shadow: 0px 1px 2px rgba(60, 64, 67, 0.3), 0px 1px 3px 1px rgba(60, 64, 67, 0.15);\n",
              "      fill: #174EA6;\n",
              "    }\n",
              "\n",
              "    [theme=dark] .colab-df-convert {\n",
              "      background-color: #3B4455;\n",
              "      fill: #D2E3FC;\n",
              "    }\n",
              "\n",
              "    [theme=dark] .colab-df-convert:hover {\n",
              "      background-color: #434B5C;\n",
              "      box-shadow: 0px 1px 3px 1px rgba(0, 0, 0, 0.15);\n",
              "      filter: drop-shadow(0px 1px 2px rgba(0, 0, 0, 0.3));\n",
              "      fill: #FFFFFF;\n",
              "    }\n",
              "  </style>\n",
              "\n",
              "      <script>\n",
              "        const buttonEl =\n",
              "          document.querySelector('#df-5bbfde89-7322-4a76-b41e-7320e079335f button.colab-df-convert');\n",
              "        buttonEl.style.display =\n",
              "          google.colab.kernel.accessAllowed ? 'block' : 'none';\n",
              "\n",
              "        async function convertToInteractive(key) {\n",
              "          const element = document.querySelector('#df-5bbfde89-7322-4a76-b41e-7320e079335f');\n",
              "          const dataTable =\n",
              "            await google.colab.kernel.invokeFunction('convertToInteractive',\n",
              "                                                     [key], {});\n",
              "          if (!dataTable) return;\n",
              "\n",
              "          const docLinkHtml = 'Like what you see? Visit the ' +\n",
              "            '<a target=\"_blank\" href=https://colab.research.google.com/notebooks/data_table.ipynb>data table notebook</a>'\n",
              "            + ' to learn more about interactive tables.';\n",
              "          element.innerHTML = '';\n",
              "          dataTable['output_type'] = 'display_data';\n",
              "          await google.colab.output.renderOutput(dataTable, element);\n",
              "          const docLink = document.createElement('div');\n",
              "          docLink.innerHTML = docLinkHtml;\n",
              "          element.appendChild(docLink);\n",
              "        }\n",
              "      </script>\n",
              "    </div>\n",
              "  </div>\n",
              "  "
            ]
          },
          "metadata": {},
          "execution_count": 4
        }
      ],
      "source": [
        "df.head()\n",
        "# получение первых 5 строк таблицы df"
      ]
    },
    {
      "cell_type": "code",
      "execution_count": 5,
      "metadata": {
        "deletable": false,
        "id": "DSf2kIb-_Zct",
        "outputId": "3bcc81bc-392f-4734-94bd-311d6f12d5e2",
        "colab": {
          "base_uri": "https://localhost:8080/"
        }
      },
      "outputs": [
        {
          "output_type": "stream",
          "name": "stdout",
          "text": [
            "<class 'pandas.core.frame.DataFrame'>\n",
            "RangeIndex: 65079 entries, 0 to 65078\n",
            "Data columns (total 7 columns):\n",
            " #   Column    Non-Null Count  Dtype \n",
            "---  ------    --------------  ----- \n",
            " 0     userID  65079 non-null  object\n",
            " 1   Track     63848 non-null  object\n",
            " 2   artist    57876 non-null  object\n",
            " 3   genre     63881 non-null  object\n",
            " 4     City    65079 non-null  object\n",
            " 5   time      65079 non-null  object\n",
            " 6   Day       65079 non-null  object\n",
            "dtypes: object(7)\n",
            "memory usage: 3.5+ MB\n"
          ]
        }
      ],
      "source": [
        "df.info()\n",
        "# получение общей информации о данных в таблице df"
      ]
    },
    {
      "cell_type": "markdown",
      "metadata": {
        "deletable": false,
        "editable": false,
        "id": "MCB6-dXG_Zct"
      },
      "source": [
        "**Выводы**\n",
        "\n",
        "У нас есть датасет с информацией об около 65000 прослушиваний. О каждом прослушивании есть информация о названии композиции, исполнителе, жанре, а также городе, дне и времени прослушивания.\n",
        "\n",
        "\n"
      ]
    },
    {
      "cell_type": "markdown",
      "metadata": {
        "deletable": false,
        "editable": false,
        "id": "SjYF6Ub9_Zct"
      },
      "source": [
        "## Предобработка данных\n"
      ]
    },
    {
      "cell_type": "markdown",
      "source": [
        "В данных есть пропуски, названия колонок не соответствуют принятому стилю, а также есть дубликаты. В данном разделе подготовим данные для дальнейшего анализа."
      ],
      "metadata": {
        "id": "oWtijj36yThn"
      }
    },
    {
      "cell_type": "code",
      "execution_count": 6,
      "metadata": {
        "deletable": false,
        "id": "oKOTdF_Q_Zct",
        "outputId": "f6c85303-a1fb-41e1-b18d-1652e32af34c",
        "colab": {
          "base_uri": "https://localhost:8080/"
        }
      },
      "outputs": [
        {
          "output_type": "execute_result",
          "data": {
            "text/plain": [
              "Index(['  userID', 'Track', 'artist', 'genre', '  City  ', 'time', 'Day'], dtype='object')"
            ]
          },
          "metadata": {},
          "execution_count": 6
        }
      ],
      "source": [
        "df.columns"
      ]
    },
    {
      "cell_type": "code",
      "execution_count": 7,
      "metadata": {
        "deletable": false,
        "id": "ISlFqs5y_Zct"
      },
      "outputs": [],
      "source": [
        "df=df.rename(columns={'  userID':'user_id','Track':'track','  City  ':'city','Day':'day'})\n",
        "#исправим названия столбцов"
      ]
    },
    {
      "cell_type": "code",
      "execution_count": 8,
      "metadata": {
        "deletable": false,
        "id": "RskX29qr_Zct",
        "outputId": "4d28baed-5e4d-4db3-b27e-7ee9ad8d70d3",
        "colab": {
          "base_uri": "https://localhost:8080/"
        }
      },
      "outputs": [
        {
          "output_type": "execute_result",
          "data": {
            "text/plain": [
              "user_id       0\n",
              "track      1231\n",
              "artist     7203\n",
              "genre      1198\n",
              "city          0\n",
              "time          0\n",
              "day           0\n",
              "dtype: int64"
            ]
          },
          "metadata": {},
          "execution_count": 8
        }
      ],
      "source": [
        "df.isna().sum()\n",
        "# подсчёт пропусков"
      ]
    },
    {
      "cell_type": "markdown",
      "metadata": {
        "deletable": false,
        "editable": false,
        "id": "qubhgnlO_Zct"
      },
      "source": [
        "Мы переименовали столбцы и обнаружили пропуски в столбцах с названием композиции, исполнителем и жанром.\n",
        "\n",
        "Не все пропущенные значения влияют на исследование. Так в `track` и `artist` пропуски не важны для исследования. Достаточно заменить их явными обозначениями.\n",
        "\n",
        "Но пропуски в `genre` могут помешать сравнению музыкальных вкусов в Москве и Санкт-Петербурге. На практике было бы правильно установить причину пропусков и восстановить данные. Такой возможности нет в учебном проекте. Придётся:\n",
        "* заполнить и эти пропуски явными обозначениями;\n",
        "* оценить, насколько они повредят расчётам. "
      ]
    },
    {
      "cell_type": "code",
      "execution_count": 9,
      "metadata": {
        "deletable": false,
        "id": "KplB5qWs_Zct"
      },
      "outputs": [],
      "source": [
        "columns_to_replace=['track','artist','genre']\n",
        "for item in columns_to_replace:\n",
        "    df[item]=df[item].fillna('unknown')\n",
        "# перебор названий столбцов в цикле и замена пропущенных значений на 'unknown'"
      ]
    },
    {
      "cell_type": "code",
      "execution_count": 10,
      "metadata": {
        "deletable": false,
        "id": "36eES_S0_Zct",
        "outputId": "bc495deb-1df3-43ab-f129-2ce5b3f51cfa",
        "colab": {
          "base_uri": "https://localhost:8080/"
        }
      },
      "outputs": [
        {
          "output_type": "execute_result",
          "data": {
            "text/plain": [
              "3826"
            ]
          },
          "metadata": {},
          "execution_count": 10
        }
      ],
      "source": [
        "df.duplicated().sum()# подсчёт явных дубликатов"
      ]
    },
    {
      "cell_type": "code",
      "execution_count": 11,
      "metadata": {
        "deletable": false,
        "id": "exFHq6tt_Zct"
      },
      "outputs": [],
      "source": [
        "df=df.drop_duplicates().reset_index(drop=True)# удаление явных дубликатов"
      ]
    },
    {
      "cell_type": "markdown",
      "metadata": {
        "deletable": false,
        "editable": false,
        "id": "QlFBsxAr_Zct"
      },
      "source": [
        "Мы удалили явные дубликаты в датасете. Далее удалим неявные дубликаты."
      ]
    },
    {
      "cell_type": "code",
      "execution_count": 12,
      "metadata": {
        "deletable": false,
        "id": "JIUcqzZN_Zct",
        "outputId": "8b11248b-ba06-45d8-82f6-f5fe5fc5c78c",
        "colab": {
          "base_uri": "https://localhost:8080/"
        }
      },
      "outputs": [
        {
          "output_type": "execute_result",
          "data": {
            "text/plain": [
              "array(['acid', 'acoustic', 'action', 'adult', 'africa', 'afrikaans',\n",
              "       'alternative', 'alternativepunk', 'ambient', 'americana',\n",
              "       'animated', 'anime', 'arabesk', 'arabic', 'arena',\n",
              "       'argentinetango', 'art', 'audiobook', 'author', 'avantgarde',\n",
              "       'axé', 'baile', 'balkan', 'beats', 'bigroom', 'black', 'bluegrass',\n",
              "       'blues', 'bollywood', 'bossa', 'brazilian', 'breakbeat', 'breaks',\n",
              "       'broadway', 'cantautori', 'cantopop', 'canzone', 'caribbean',\n",
              "       'caucasian', 'celtic', 'chamber', 'chanson', 'children', 'chill',\n",
              "       'chinese', 'choral', 'christian', 'christmas', 'classical',\n",
              "       'classicmetal', 'club', 'colombian', 'comedy', 'conjazz',\n",
              "       'contemporary', 'country', 'cuban', 'dance', 'dancehall',\n",
              "       'dancepop', 'dark', 'death', 'deep', 'deutschrock', 'deutschspr',\n",
              "       'dirty', 'disco', 'dnb', 'documentary', 'downbeat', 'downtempo',\n",
              "       'drum', 'dub', 'dubstep', 'eastern', 'easy', 'electronic',\n",
              "       'electropop', 'emo', 'entehno', 'epicmetal', 'estrada', 'ethnic',\n",
              "       'eurofolk', 'european', 'experimental', 'extrememetal', 'fado',\n",
              "       'fairytail', 'film', 'fitness', 'flamenco', 'folk', 'folklore',\n",
              "       'folkmetal', 'folkrock', 'folktronica', 'forró', 'frankreich',\n",
              "       'französisch', 'french', 'funk', 'future', 'gangsta', 'garage',\n",
              "       'german', 'ghazal', 'gitarre', 'glitch', 'gospel', 'gothic',\n",
              "       'grime', 'grunge', 'gypsy', 'handsup', \"hard'n'heavy\", 'hardcore',\n",
              "       'hardstyle', 'hardtechno', 'hip', 'hip-hop', 'hiphop',\n",
              "       'historisch', 'holiday', 'hop', 'horror', 'house', 'hymn', 'idm',\n",
              "       'independent', 'indian', 'indie', 'indipop', 'industrial',\n",
              "       'inspirational', 'instrumental', 'international', 'irish', 'jam',\n",
              "       'japanese', 'jazz', 'jewish', 'jpop', 'jungle', 'k-pop',\n",
              "       'karadeniz', 'karaoke', 'kayokyoku', 'korean', 'laiko', 'latin',\n",
              "       'latino', 'leftfield', 'local', 'lounge', 'loungeelectronic',\n",
              "       'lovers', 'malaysian', 'mandopop', 'marschmusik', 'meditative',\n",
              "       'mediterranean', 'melodic', 'metal', 'metalcore', 'mexican',\n",
              "       'middle', 'minimal', 'miscellaneous', 'modern', 'mood', 'mpb',\n",
              "       'muslim', 'native', 'neoklassik', 'neue', 'new', 'newage',\n",
              "       'newwave', 'nu', 'nujazz', 'numetal', 'oceania', 'old', 'opera',\n",
              "       'orchestral', 'other', 'piano', 'podcasts', 'pop', 'popdance',\n",
              "       'popelectronic', 'popeurodance', 'poprussian', 'post',\n",
              "       'posthardcore', 'postrock', 'power', 'progmetal', 'progressive',\n",
              "       'psychedelic', 'punjabi', 'punk', 'quebecois', 'ragga', 'ram',\n",
              "       'rancheras', 'rap', 'rave', 'reggae', 'reggaeton', 'regional',\n",
              "       'relax', 'religious', 'retro', 'rhythm', 'rnb', 'rnr', 'rock',\n",
              "       'rockabilly', 'rockalternative', 'rockindie', 'rockother',\n",
              "       'romance', 'roots', 'ruspop', 'rusrap', 'rusrock', 'russian',\n",
              "       'salsa', 'samba', 'scenic', 'schlager', 'self', 'sertanejo',\n",
              "       'shanson', 'shoegazing', 'showtunes', 'singer', 'ska', 'skarock',\n",
              "       'slow', 'smooth', 'soft', 'soul', 'soulful', 'sound', 'soundtrack',\n",
              "       'southern', 'specialty', 'speech', 'spiritual', 'sport',\n",
              "       'stonerrock', 'surf', 'swing', 'synthpop', 'synthrock',\n",
              "       'sängerportrait', 'tango', 'tanzorchester', 'taraftar', 'tatar',\n",
              "       'tech', 'techno', 'teen', 'thrash', 'top', 'traditional',\n",
              "       'tradjazz', 'trance', 'tribal', 'trip', 'triphop', 'tropical',\n",
              "       'türk', 'türkçe', 'ukrrock', 'unknown', 'urban', 'uzbek',\n",
              "       'variété', 'vi', 'videogame', 'vocal', 'western', 'world',\n",
              "       'worldbeat', 'ïîï', 'электроника'], dtype=object)"
            ]
          },
          "metadata": {},
          "execution_count": 12
        }
      ],
      "source": [
        "df['genre'].sort_values().unique()\n",
        "# Просмотр уникальных названий жанров"
      ]
    },
    {
      "cell_type": "code",
      "execution_count": 13,
      "metadata": {
        "deletable": false,
        "id": "ErNDkmns_Zct"
      },
      "outputs": [],
      "source": [
        "spisok_duplicates=['hip','hop','hip-hop']\n",
        "df=df.replace(spisok_duplicates,'hiphop')\n",
        "# Устранение неявных дубликатов"
      ]
    },
    {
      "cell_type": "markdown",
      "source": [
        "В данном разделе мы исправили названия столбцов, пропущенне значения заменили на 'unknown', удалили явные и неявные дубликаты."
      ],
      "metadata": {
        "id": "k2tWfmHnz8qR"
      }
    },
    {
      "cell_type": "markdown",
      "metadata": {
        "deletable": false,
        "editable": false,
        "id": "WttZHXH0SqKk"
      },
      "source": [
        "## Проверка гипотез"
      ]
    },
    {
      "cell_type": "markdown",
      "metadata": {
        "deletable": false,
        "editable": false,
        "id": "Im936VVi_Zcu"
      },
      "source": [
        "### Сравнение поведения пользователей двух столиц"
      ]
    },
    {
      "cell_type": "markdown",
      "metadata": {
        "deletable": false,
        "editable": false,
        "id": "nwt_MuaL_Zcu"
      },
      "source": [
        "Первая гипотеза утверждает, что пользователи по-разному слушают музыку в Москве и Санкт-Петербурге. Проверим это предположение по данным о трёх днях недели — понедельнике, среде и пятнице (в данных есть информация только об этих днях). Для этого:\n",
        "\n",
        "* Разделим пользователей Москвы и Санкт-Петербурга.\n",
        "* Сравним, сколько треков послушала каждая группа пользователей в понедельник, среду и пятницу.\n"
      ]
    },
    {
      "cell_type": "code",
      "execution_count": 14,
      "metadata": {
        "deletable": false,
        "id": "0_Qs96oh_Zcu",
        "outputId": "b81b8cb1-fbd7-487b-e68b-9cbbcb6ef445",
        "colab": {
          "base_uri": "https://localhost:8080/"
        }
      },
      "outputs": [
        {
          "output_type": "execute_result",
          "data": {
            "text/plain": [
              "city\n",
              "Moscow              42741\n",
              "Saint-Petersburg    18512\n",
              "Name: user_id, dtype: int64"
            ]
          },
          "metadata": {},
          "execution_count": 14
        }
      ],
      "source": [
        "grouped=df.groupby('city').count()\n",
        "grouped['user_id']\n",
        "# Подсчёт прослушиваний в каждом городе"
      ]
    },
    {
      "cell_type": "code",
      "execution_count": 15,
      "metadata": {
        "deletable": false,
        "id": "uZMKjiJz_Zcu",
        "outputId": "a9796578-db15-40ab-847a-cfce1feb124a",
        "colab": {
          "base_uri": "https://localhost:8080/"
        }
      },
      "outputs": [
        {
          "output_type": "execute_result",
          "data": {
            "text/plain": [
              "day\n",
              "Friday       21840\n",
              "Monday       21354\n",
              "Wednesday    18059\n",
              "Name: user_id, dtype: int64"
            ]
          },
          "metadata": {},
          "execution_count": 15
        }
      ],
      "source": [
        "grouped=df.groupby('day').count()\n",
        "grouped['user_id']\n",
        "# Подсчёт прослушиваний в каждый из трёх дней"
      ]
    },
    {
      "cell_type": "markdown",
      "metadata": {
        "deletable": false,
        "editable": false,
        "id": "cC2tNrlL_Zcu"
      },
      "source": [
        "В среднем пользователи из двух городов менее активны по средам. Рассмотрим каждый город в отдельности."
      ]
    },
    {
      "cell_type": "markdown",
      "source": [
        "Создадим функцию для посчета прослушиваний в разных городах и в разные дни недели."
      ],
      "metadata": {
        "id": "8Ch23Fna24mp"
      }
    },
    {
      "cell_type": "code",
      "execution_count": 16,
      "metadata": {
        "deletable": false,
        "id": "Nz3GdQB1_Zcu"
      },
      "outputs": [],
      "source": [
        "# <создание функции number_tracks()>\n",
        "def number_tracks(day,city):\n",
        "    df1=df[df['day']==day]\n",
        "    track_list=df1[df1['city']==city]\n",
        "    track_list_count=track_list.count()['user_id']\n",
        "    return track_list_count\n",
        "    \n",
        "\n",
        "# Функция для подсчёта прослушиваний для конкретного города и дня.\n"
      ]
    },
    {
      "cell_type": "code",
      "execution_count": 17,
      "metadata": {
        "deletable": false,
        "id": "rJcRATNQ_Zcu",
        "scrolled": true,
        "outputId": "6b833b14-1bfa-45fe-9dd2-885e1c53b9df",
        "colab": {
          "base_uri": "https://localhost:8080/"
        }
      },
      "outputs": [
        {
          "output_type": "execute_result",
          "data": {
            "text/plain": [
              "15740"
            ]
          },
          "metadata": {},
          "execution_count": 17
        }
      ],
      "source": [
        "number_tracks('Monday','Moscow')\n",
        "\n",
        "# количество прослушиваний в Москве по понедельникам"
      ]
    },
    {
      "cell_type": "code",
      "execution_count": 18,
      "metadata": {
        "deletable": false,
        "id": "hq_ncZ5T_Zcu",
        "outputId": "8079d185-1155-4bf1-bea5-de7920e0d032",
        "colab": {
          "base_uri": "https://localhost:8080/"
        }
      },
      "outputs": [
        {
          "output_type": "execute_result",
          "data": {
            "text/plain": [
              "5614"
            ]
          },
          "metadata": {},
          "execution_count": 18
        }
      ],
      "source": [
        "number_tracks('Monday','Saint-Petersburg')\n",
        "\n",
        "# количество прослушиваний в Москве по понедельникам"
      ]
    },
    {
      "cell_type": "code",
      "execution_count": 19,
      "metadata": {
        "deletable": false,
        "id": "_NTy2VPU_Zcu",
        "outputId": "7d4083d9-d3de-463f-83e8-d20f2e309f9a",
        "colab": {
          "base_uri": "https://localhost:8080/"
        }
      },
      "outputs": [
        {
          "output_type": "execute_result",
          "data": {
            "text/plain": [
              "11056"
            ]
          },
          "metadata": {},
          "execution_count": 19
        }
      ],
      "source": [
        "number_tracks('Wednesday','Moscow')\n",
        "\n",
        "# количество прослушиваний в Москве по понедельникам"
      ]
    },
    {
      "cell_type": "code",
      "execution_count": 20,
      "metadata": {
        "deletable": false,
        "id": "j2y3TAwo_Zcu",
        "scrolled": true,
        "outputId": "6003f77c-f677-4d59-fb88-3c6462f9d7ed",
        "colab": {
          "base_uri": "https://localhost:8080/"
        }
      },
      "outputs": [
        {
          "output_type": "execute_result",
          "data": {
            "text/plain": [
              "7003"
            ]
          },
          "metadata": {},
          "execution_count": 20
        }
      ],
      "source": [
        "number_tracks('Wednesday','Saint-Petersburg')\n",
        "\n",
        "# количество прослушиваний в Москве по понедельникам"
      ]
    },
    {
      "cell_type": "code",
      "execution_count": 21,
      "metadata": {
        "deletable": false,
        "id": "vYDw5u_K_Zcu",
        "outputId": "16fa659c-ce9f-4365-d7ca-ee09e483c9ac",
        "colab": {
          "base_uri": "https://localhost:8080/"
        }
      },
      "outputs": [
        {
          "output_type": "execute_result",
          "data": {
            "text/plain": [
              "15945"
            ]
          },
          "metadata": {},
          "execution_count": 21
        }
      ],
      "source": [
        "number_tracks('Friday','Moscow')\n",
        "\n",
        "# количество прослушиваний в Москве по понедельникам"
      ]
    },
    {
      "cell_type": "code",
      "execution_count": 22,
      "metadata": {
        "deletable": false,
        "id": "8_yzFtW3_Zcu",
        "scrolled": true,
        "outputId": "231e2108-56a7-48c1-9f3e-eb5e6002710b",
        "colab": {
          "base_uri": "https://localhost:8080/"
        }
      },
      "outputs": [
        {
          "output_type": "execute_result",
          "data": {
            "text/plain": [
              "5895"
            ]
          },
          "metadata": {},
          "execution_count": 22
        }
      ],
      "source": [
        "number_tracks('Friday','Saint-Petersburg')\n",
        "\n",
        "# количество прослушиваний в Москве по понедельникам"
      ]
    },
    {
      "cell_type": "code",
      "execution_count": 23,
      "metadata": {
        "deletable": false,
        "id": "APAcLpOr_Zcu",
        "outputId": "46a6f30e-a725-478a-a194-6eb7f5fd08f9",
        "colab": {
          "base_uri": "https://localhost:8080/",
          "height": 112
        }
      },
      "outputs": [
        {
          "output_type": "execute_result",
          "data": {
            "text/plain": [
              "              city  monday  wednesday  friday\n",
              "0           Moscow   15740      11056   15945\n",
              "1  Saint-Petrsburg    5614       7003    5895"
            ],
            "text/html": [
              "\n",
              "  <div id=\"df-b6cf3474-8373-4301-8294-f82b215a991a\">\n",
              "    <div class=\"colab-df-container\">\n",
              "      <div>\n",
              "<style scoped>\n",
              "    .dataframe tbody tr th:only-of-type {\n",
              "        vertical-align: middle;\n",
              "    }\n",
              "\n",
              "    .dataframe tbody tr th {\n",
              "        vertical-align: top;\n",
              "    }\n",
              "\n",
              "    .dataframe thead th {\n",
              "        text-align: right;\n",
              "    }\n",
              "</style>\n",
              "<table border=\"1\" class=\"dataframe\">\n",
              "  <thead>\n",
              "    <tr style=\"text-align: right;\">\n",
              "      <th></th>\n",
              "      <th>city</th>\n",
              "      <th>monday</th>\n",
              "      <th>wednesday</th>\n",
              "      <th>friday</th>\n",
              "    </tr>\n",
              "  </thead>\n",
              "  <tbody>\n",
              "    <tr>\n",
              "      <th>0</th>\n",
              "      <td>Moscow</td>\n",
              "      <td>15740</td>\n",
              "      <td>11056</td>\n",
              "      <td>15945</td>\n",
              "    </tr>\n",
              "    <tr>\n",
              "      <th>1</th>\n",
              "      <td>Saint-Petrsburg</td>\n",
              "      <td>5614</td>\n",
              "      <td>7003</td>\n",
              "      <td>5895</td>\n",
              "    </tr>\n",
              "  </tbody>\n",
              "</table>\n",
              "</div>\n",
              "      <button class=\"colab-df-convert\" onclick=\"convertToInteractive('df-b6cf3474-8373-4301-8294-f82b215a991a')\"\n",
              "              title=\"Convert this dataframe to an interactive table.\"\n",
              "              style=\"display:none;\">\n",
              "        \n",
              "  <svg xmlns=\"http://www.w3.org/2000/svg\" height=\"24px\"viewBox=\"0 0 24 24\"\n",
              "       width=\"24px\">\n",
              "    <path d=\"M0 0h24v24H0V0z\" fill=\"none\"/>\n",
              "    <path d=\"M18.56 5.44l.94 2.06.94-2.06 2.06-.94-2.06-.94-.94-2.06-.94 2.06-2.06.94zm-11 1L8.5 8.5l.94-2.06 2.06-.94-2.06-.94L8.5 2.5l-.94 2.06-2.06.94zm10 10l.94 2.06.94-2.06 2.06-.94-2.06-.94-.94-2.06-.94 2.06-2.06.94z\"/><path d=\"M17.41 7.96l-1.37-1.37c-.4-.4-.92-.59-1.43-.59-.52 0-1.04.2-1.43.59L10.3 9.45l-7.72 7.72c-.78.78-.78 2.05 0 2.83L4 21.41c.39.39.9.59 1.41.59.51 0 1.02-.2 1.41-.59l7.78-7.78 2.81-2.81c.8-.78.8-2.07 0-2.86zM5.41 20L4 18.59l7.72-7.72 1.47 1.35L5.41 20z\"/>\n",
              "  </svg>\n",
              "      </button>\n",
              "      \n",
              "  <style>\n",
              "    .colab-df-container {\n",
              "      display:flex;\n",
              "      flex-wrap:wrap;\n",
              "      gap: 12px;\n",
              "    }\n",
              "\n",
              "    .colab-df-convert {\n",
              "      background-color: #E8F0FE;\n",
              "      border: none;\n",
              "      border-radius: 50%;\n",
              "      cursor: pointer;\n",
              "      display: none;\n",
              "      fill: #1967D2;\n",
              "      height: 32px;\n",
              "      padding: 0 0 0 0;\n",
              "      width: 32px;\n",
              "    }\n",
              "\n",
              "    .colab-df-convert:hover {\n",
              "      background-color: #E2EBFA;\n",
              "      box-shadow: 0px 1px 2px rgba(60, 64, 67, 0.3), 0px 1px 3px 1px rgba(60, 64, 67, 0.15);\n",
              "      fill: #174EA6;\n",
              "    }\n",
              "\n",
              "    [theme=dark] .colab-df-convert {\n",
              "      background-color: #3B4455;\n",
              "      fill: #D2E3FC;\n",
              "    }\n",
              "\n",
              "    [theme=dark] .colab-df-convert:hover {\n",
              "      background-color: #434B5C;\n",
              "      box-shadow: 0px 1px 3px 1px rgba(0, 0, 0, 0.15);\n",
              "      filter: drop-shadow(0px 1px 2px rgba(0, 0, 0, 0.3));\n",
              "      fill: #FFFFFF;\n",
              "    }\n",
              "  </style>\n",
              "\n",
              "      <script>\n",
              "        const buttonEl =\n",
              "          document.querySelector('#df-b6cf3474-8373-4301-8294-f82b215a991a button.colab-df-convert');\n",
              "        buttonEl.style.display =\n",
              "          google.colab.kernel.accessAllowed ? 'block' : 'none';\n",
              "\n",
              "        async function convertToInteractive(key) {\n",
              "          const element = document.querySelector('#df-b6cf3474-8373-4301-8294-f82b215a991a');\n",
              "          const dataTable =\n",
              "            await google.colab.kernel.invokeFunction('convertToInteractive',\n",
              "                                                     [key], {});\n",
              "          if (!dataTable) return;\n",
              "\n",
              "          const docLinkHtml = 'Like what you see? Visit the ' +\n",
              "            '<a target=\"_blank\" href=https://colab.research.google.com/notebooks/data_table.ipynb>data table notebook</a>'\n",
              "            + ' to learn more about interactive tables.';\n",
              "          element.innerHTML = '';\n",
              "          dataTable['output_type'] = 'display_data';\n",
              "          await google.colab.output.renderOutput(dataTable, element);\n",
              "          const docLink = document.createElement('div');\n",
              "          docLink.innerHTML = docLinkHtml;\n",
              "          element.appendChild(docLink);\n",
              "        }\n",
              "      </script>\n",
              "    </div>\n",
              "  </div>\n",
              "  "
            ]
          },
          "metadata": {},
          "execution_count": 23
        }
      ],
      "source": [
        "columns=['city', 'monday', 'wednesday', 'friday']\n",
        "\n",
        "data = pd.DataFrame(data=[['Moscow',15740,11056,15945], ['Saint-Petrsburg',5614,7003,5895]], columns=columns)\n",
        "data\n",
        "# Таблица с результатами"
      ]
    },
    {
      "cell_type": "markdown",
      "metadata": {
        "deletable": false,
        "editable": false,
        "id": "-EgPIHYu_Zcu"
      },
      "source": [
        "**Выводы**\n",
        "\n",
        "Данные показывают разницу поведения пользователей:\n",
        "\n",
        "- В Москве пик прослушиваний приходится на понедельник и пятницу, а в среду заметен спад.\n",
        "- В Петербурге, наоборот, больше слушают музыку по средам. Активность в понедельник и пятницу здесь почти в равной мере уступает среде.\n",
        "\n",
        "Значит, данные говорят в пользу первой гипотезы."
      ]
    },
    {
      "cell_type": "markdown",
      "metadata": {
        "deletable": false,
        "editable": false,
        "id": "atZAxtq4_Zcu"
      },
      "source": [
        "### Музыка в начале и в конце недели"
      ]
    },
    {
      "cell_type": "markdown",
      "metadata": {
        "deletable": false,
        "editable": false,
        "id": "eXrQqXFH_Zcu"
      },
      "source": [
        "Согласно второй гипотезе, утром в понедельник в Москве преобладают одни жанры, а в Петербурге — другие. Так же и вечером пятницы преобладают разные жанры — в зависимости от города.\n"
      ]
    },
    {
      "cell_type": "markdown",
      "source": [
        "Сохраним таблицы с данными в две переменные:\n",
        "* по Москве — в `moscow_general`;\n",
        "* по Санкт-Петербургу — в `spb_general`."
      ],
      "metadata": {
        "id": "ismAuuXR3ZwA"
      }
    },
    {
      "cell_type": "code",
      "execution_count": 24,
      "metadata": {
        "deletable": false,
        "id": "qeaFfM_P_Zcu"
      },
      "outputs": [],
      "source": [
        "moscow_general=df[df['city']=='Moscow']\n",
        "# получение таблицы moscow_general из тех строк таблицы df, \n",
        "# для которых значение в столбце 'city' равно 'Moscow'\n"
      ]
    },
    {
      "cell_type": "code",
      "execution_count": 25,
      "metadata": {
        "deletable": false,
        "id": "ORaVRKto_Zcu"
      },
      "outputs": [],
      "source": [
        "spb_general=df[df['city']=='Saint-Petersburg']\n",
        "# получение таблицы spb_general из тех строк таблицы df,\n",
        "# для которых значение в столбце 'city' равно 'Saint-Petersburg'\n"
      ]
    },
    {
      "cell_type": "markdown",
      "metadata": {
        "deletable": false,
        "id": "MEJV-CX2_Zcu",
        "tags": [
          "start_task"
        ]
      },
      "source": [
        "\n",
        "\n",
        "Создадим функцию `genre_weekday()` с четырьмя параметрами:\n",
        "* таблица (датафрейм) с данными,\n",
        "* день недели,\n",
        "* начальная временная метка в формате 'hh:mm', \n",
        "* последняя временная метка в формате 'hh:mm'.\n",
        "\n",
        "Функция вернет информацию о топ-10 жанров тех треков, которые прослушивали в указанный день, в промежутке между двумя отметками времени."
      ]
    },
    {
      "cell_type": "code",
      "execution_count": 26,
      "metadata": {
        "deletable": false,
        "id": "laJT9BYl_Zcu"
      },
      "outputs": [],
      "source": [
        "def genre_weekday(table,day,time1,time2):\n",
        "    genre_df=table[table['day']==day]\n",
        "    genre_df=genre_df[genre_df['time']>time1]\n",
        "    genre_df=genre_df[genre_df['time']<time2]\n",
        "    genre_df_count=genre_df.groupby('genre')['genre'].count()\n",
        "    genre_df_sorted=genre_df_count.sort_values(ascending=False)\n",
        "    return genre_df_sorted[:10]\n",
        "\n",
        "\n"
      ]
    },
    {
      "cell_type": "markdown",
      "metadata": {
        "deletable": false,
        "editable": false,
        "id": "la2s2_PF_Zcu",
        "tags": [
          "start_task"
        ]
      },
      "source": [
        "\n",
        "\n",
        "\n",
        "Cравним результаты функции `genre_weekday()` для Москвы и Санкт-Петербурга в понедельник утром (с 7:00 до 11:00) и в пятницу вечером (с 17:00 до 23:00):"
      ]
    },
    {
      "cell_type": "code",
      "execution_count": 27,
      "metadata": {
        "deletable": false,
        "id": "yz7itPUQ_Zcu",
        "outputId": "58a4f445-1fce-4917-8151-0248cac81aa9",
        "colab": {
          "base_uri": "https://localhost:8080/"
        }
      },
      "outputs": [
        {
          "output_type": "execute_result",
          "data": {
            "text/plain": [
              "genre\n",
              "pop            781\n",
              "dance          549\n",
              "electronic     480\n",
              "rock           474\n",
              "hiphop         286\n",
              "ruspop         186\n",
              "world          181\n",
              "rusrap         175\n",
              "alternative    164\n",
              "unknown        161\n",
              "Name: genre, dtype: int64"
            ]
          },
          "metadata": {},
          "execution_count": 27
        }
      ],
      "source": [
        "genre_weekday(moscow_general,'Monday','07:00','11:00')\n",
        "# вызов функции для утра понедельника в Москве (вместо df — таблица spb_general)"
      ]
    },
    {
      "cell_type": "code",
      "execution_count": 28,
      "metadata": {
        "deletable": false,
        "id": "kwUcHPdy_Zcu",
        "outputId": "1004e0f2-39b5-4332-ef32-47952e321624",
        "colab": {
          "base_uri": "https://localhost:8080/"
        }
      },
      "outputs": [
        {
          "output_type": "execute_result",
          "data": {
            "text/plain": [
              "genre\n",
              "pop            218\n",
              "dance          182\n",
              "rock           162\n",
              "electronic     147\n",
              "hiphop          80\n",
              "ruspop          64\n",
              "alternative     58\n",
              "rusrap          55\n",
              "jazz            44\n",
              "classical       40\n",
              "Name: genre, dtype: int64"
            ]
          },
          "metadata": {},
          "execution_count": 28
        }
      ],
      "source": [
        "genre_weekday(spb_general,'Monday','07:00','11:00')\n",
        "\n",
        "# вызов функции для утра понедельника в Петербурге (вместо df — таблица spb_general)"
      ]
    },
    {
      "cell_type": "code",
      "execution_count": 29,
      "metadata": {
        "deletable": false,
        "id": "EzXVRE1o_Zcu",
        "outputId": "b7625bb8-e995-418a-94fb-26e6ce12d8dc",
        "colab": {
          "base_uri": "https://localhost:8080/"
        }
      },
      "outputs": [
        {
          "output_type": "execute_result",
          "data": {
            "text/plain": [
              "genre\n",
              "pop            713\n",
              "rock           517\n",
              "dance          495\n",
              "electronic     482\n",
              "hiphop         273\n",
              "world          208\n",
              "ruspop         170\n",
              "alternative    163\n",
              "classical      163\n",
              "rusrap         142\n",
              "Name: genre, dtype: int64"
            ]
          },
          "metadata": {},
          "execution_count": 29
        }
      ],
      "source": [
        "genre_weekday(moscow_general,'Friday','17:00','23:00')\n",
        "\n",
        "# вызов функции для вечера пятницы в Москве"
      ]
    },
    {
      "cell_type": "code",
      "execution_count": 30,
      "metadata": {
        "deletable": false,
        "id": "JZaEKu5v_Zcu",
        "outputId": "84312e35-34b6-48d9-8621-5b2870fa2054",
        "colab": {
          "base_uri": "https://localhost:8080/"
        }
      },
      "outputs": [
        {
          "output_type": "execute_result",
          "data": {
            "text/plain": [
              "genre\n",
              "pop            256\n",
              "electronic     216\n",
              "rock           216\n",
              "dance          210\n",
              "hiphop          97\n",
              "alternative     63\n",
              "jazz            61\n",
              "classical       60\n",
              "rusrap          59\n",
              "world           54\n",
              "Name: genre, dtype: int64"
            ]
          },
          "metadata": {},
          "execution_count": 30
        }
      ],
      "source": [
        "genre_weekday(spb_general,'Friday','17:00','23:00')\n",
        "# вызов функции для вечера пятницы в Петербурге"
      ]
    },
    {
      "cell_type": "markdown",
      "metadata": {
        "deletable": false,
        "editable": false,
        "id": "wrCe4MNX_Zcu"
      },
      "source": [
        "**Выводы**\n",
        "\n",
        "Если сравнить топ-10 жанров в понедельник утром, можно сделать такие выводы:\n",
        "\n",
        "1. В Москве и Петербурге слушают похожую музыку. Единственное отличие — в московский рейтинг вошёл жанр “world”, а в петербургский — джаз и классика.\n",
        "\n",
        "2. В Москве пропущенных значений оказалось так много, что значение `'unknown'` заняло десятое место среди самых популярных жанров. Значит, пропущенные значения занимают существенную долю в данных и угрожают достоверности исследования.\n",
        "\n",
        "Вечер пятницы не меняет эту картину. Некоторые жанры поднимаются немного выше, другие спускаются, но в целом топ-10 остаётся тем же самым.\n",
        "\n",
        "Таким образом, вторая гипотеза подтвердилась лишь частично:\n",
        "* Пользователи слушают похожую музыку в начале недели и в конце.\n",
        "* Разница между Москвой и Петербургом не слишком выражена. В Москве чаще слушают русскую популярную музыку, в Петербурге — джаз.\n",
        "\n",
        "Однако пропуски в данных ставят под сомнение этот результат. В Москве их так много, что рейтинг топ-10 мог бы выглядеть иначе, если бы не утерянные  данные о жанрах."
      ]
    },
    {
      "cell_type": "markdown",
      "metadata": {
        "deletable": false,
        "editable": false,
        "id": "JolODAqr_Zcu"
      },
      "source": [
        "### Жанровые предпочтения в Москве и Петербурге\n",
        "\n",
        "Гипотеза: Москва и Петербург предпочитают разные жанры музыки. В Москве чаще слушают поп-музыку, в Петербурге — русский рэп."
      ]
    },
    {
      "cell_type": "markdown",
      "metadata": {
        "deletable": false,
        "editable": false,
        "id": "DlegSvaT_Zcu",
        "tags": [
          "start_task"
        ]
      },
      "source": [
        "Сгруппируем таблицу `moscow_general` по жанру и посчитайте прослушивания треков каждого жанра методом `count()`. Затем отсортируем результат в порядке убывания и сохраним его в таблице `moscow_genres`."
      ]
    },
    {
      "cell_type": "code",
      "execution_count": 31,
      "metadata": {
        "deletable": false,
        "id": "r19lIPke_Zcu"
      },
      "outputs": [],
      "source": [
        "moscow_genres=moscow_general.groupby('genre')['genre'].count().sort_values(ascending=False)\n"
      ]
    },
    {
      "cell_type": "code",
      "execution_count": 32,
      "metadata": {
        "deletable": false,
        "id": "WhCSooF8_Zcv",
        "outputId": "0c319897-0fd5-40a2-d794-6ba156f7e595",
        "colab": {
          "base_uri": "https://localhost:8080/"
        }
      },
      "outputs": [
        {
          "output_type": "execute_result",
          "data": {
            "text/plain": [
              "genre\n",
              "pop            5892\n",
              "dance          4435\n",
              "rock           3965\n",
              "electronic     3786\n",
              "hiphop         2096\n",
              "classical      1616\n",
              "world          1432\n",
              "alternative    1379\n",
              "ruspop         1372\n",
              "rusrap         1161\n",
              "Name: genre, dtype: int64"
            ]
          },
          "metadata": {},
          "execution_count": 32
        }
      ],
      "source": [
        "moscow_genres.head(10)# просмотр первых 10 строк moscow_genres"
      ]
    },
    {
      "cell_type": "markdown",
      "metadata": {
        "deletable": false,
        "editable": false,
        "id": "cnPG2vnN_Zcv",
        "tags": [
          "start_task"
        ]
      },
      "source": [
        "Повторим то же и для Петербурга.\n"
      ]
    },
    {
      "cell_type": "code",
      "execution_count": 33,
      "metadata": {
        "deletable": false,
        "id": "gluLIpE7_Zcv"
      },
      "outputs": [],
      "source": [
        "spb_genres=spb_general.groupby('genre')['genre'].count().sort_values(ascending=False)\n"
      ]
    },
    {
      "cell_type": "code",
      "execution_count": 34,
      "metadata": {
        "deletable": false,
        "id": "uaGJHjVU_Zcv",
        "outputId": "a6fc6f98-2b9c-44a0-93c6-c77dea57f4a8",
        "colab": {
          "base_uri": "https://localhost:8080/"
        }
      },
      "outputs": [
        {
          "output_type": "execute_result",
          "data": {
            "text/plain": [
              "genre\n",
              "pop            2431\n",
              "dance          1932\n",
              "rock           1879\n",
              "electronic     1736\n",
              "hiphop          960\n",
              "alternative     649\n",
              "classical       646\n",
              "rusrap          564\n",
              "ruspop          538\n",
              "world           515\n",
              "Name: genre, dtype: int64"
            ]
          },
          "metadata": {},
          "execution_count": 34
        }
      ],
      "source": [
        "spb_genres.head(10)# просмотр первых 10 строк spb_genres"
      ]
    },
    {
      "cell_type": "markdown",
      "metadata": {
        "deletable": false,
        "editable": false,
        "id": "RY51YJYu_Zcv"
      },
      "source": [
        "**Выводы**"
      ]
    },
    {
      "cell_type": "markdown",
      "metadata": {
        "deletable": false,
        "editable": false,
        "id": "nVhnJEm__Zcv"
      },
      "source": [
        "Гипотеза частично подтвердилась:\n",
        "* Поп-музыка — самый популярный жанр в Москве, как и предполагала гипотеза. Более того, в топ-10 жанров встречается близкий жанр — русская популярная музыка.\n",
        "* Вопреки ожиданиям, рэп одинаково популярен в Москве и Петербурге. \n"
      ]
    },
    {
      "cell_type": "markdown",
      "metadata": {
        "deletable": false,
        "editable": false,
        "id": "ykKQ0N65_Zcv"
      },
      "source": [
        "## Итоги исследования"
      ]
    },
    {
      "cell_type": "markdown",
      "metadata": {
        "deletable": false,
        "editable": false,
        "id": "tjUwbHb3_Zcv"
      },
      "source": [
        "Мы проверили три гипотезы и установили:\n",
        "\n",
        "1. День недели по-разному влияет на активность пользователей в Москве и Петербурге. \n",
        "\n",
        "Первая гипотеза полностью подтвердилась.\n",
        "\n",
        "2. Музыкальные предпочтения не сильно меняются в течение недели — будь то Москва или Петербург. Небольшие различия заметны в начале недели, по понедельникам:\n",
        "* в Москве слушают музыку жанра “world”,\n",
        "* в Петербурге — джаз и классику.\n",
        "\n",
        "Таким образом, вторая гипотеза подтвердилась лишь отчасти. Этот результат мог оказаться иным, если бы не пропуски в данных.\n",
        "\n",
        "3. Во вкусах пользователей Москвы и Петербурга больше общего чем различий. Вопреки ожиданиям, предпочтения жанров в Петербурге напоминают московские.\n",
        "\n",
        "Третья гипотеза не подтвердилась. Если различия в предпочтениях и существуют, на основной массе пользователей они незаметны.\n",
        "\n",
        "Это был учебный проект, поэтому мы не проводили проверок **статистических гипотез**. Из данных одного сервиса не всегда можно сделать вывод о всех жителях города.\n",
        "Проверки статистических гипотез покажут, насколько они достоверны, исходя из имеющихся данных. \n"
      ]
    }
  ],
  "metadata": {
    "ExecuteTimeLog": [
      {
        "duration": 3,
        "start_time": "2022-07-05T06:04:35.923Z"
      },
      {
        "duration": 4,
        "start_time": "2022-07-05T06:04:37.560Z"
      },
      {
        "duration": 4,
        "start_time": "2022-07-05T06:04:39.451Z"
      },
      {
        "duration": 79,
        "start_time": "2022-07-05T06:05:07.459Z"
      },
      {
        "duration": 535,
        "start_time": "2022-07-05T06:15:16.529Z"
      },
      {
        "duration": 65,
        "start_time": "2022-07-05T06:16:42.067Z"
      },
      {
        "duration": 88,
        "start_time": "2022-07-05T06:17:18.301Z"
      },
      {
        "duration": 451,
        "start_time": "2022-07-05T06:21:18.358Z"
      },
      {
        "duration": 29,
        "start_time": "2022-07-05T06:22:06.862Z"
      },
      {
        "duration": 29,
        "start_time": "2022-07-05T06:23:09.428Z"
      },
      {
        "duration": 7,
        "start_time": "2022-07-05T06:28:31.476Z"
      },
      {
        "duration": 6,
        "start_time": "2022-07-05T06:28:46.337Z"
      },
      {
        "duration": 8,
        "start_time": "2022-07-05T06:29:23.556Z"
      },
      {
        "duration": 4,
        "start_time": "2022-07-05T06:30:13.628Z"
      },
      {
        "duration": 6,
        "start_time": "2022-07-05T06:36:52.034Z"
      },
      {
        "duration": 11,
        "start_time": "2022-07-05T06:37:07.687Z"
      },
      {
        "duration": 13,
        "start_time": "2022-07-05T06:40:22.651Z"
      },
      {
        "duration": 12,
        "start_time": "2022-07-05T06:41:47.615Z"
      },
      {
        "duration": 4,
        "start_time": "2022-07-05T06:42:09.711Z"
      },
      {
        "duration": 14,
        "start_time": "2022-07-05T06:42:42.683Z"
      },
      {
        "duration": 9,
        "start_time": "2022-07-05T06:44:20.609Z"
      },
      {
        "duration": 109,
        "start_time": "2022-07-05T06:47:41.367Z"
      },
      {
        "duration": 111,
        "start_time": "2022-07-05T06:47:51.606Z"
      },
      {
        "duration": 8,
        "start_time": "2022-07-05T06:48:06.034Z"
      },
      {
        "duration": 24,
        "start_time": "2022-07-05T06:50:35.655Z"
      },
      {
        "duration": 1612,
        "start_time": "2022-07-05T06:54:39.036Z"
      },
      {
        "duration": 20,
        "start_time": "2022-07-05T06:55:58.405Z"
      },
      {
        "duration": 29,
        "start_time": "2022-07-05T07:00:38.663Z"
      },
      {
        "duration": 78,
        "start_time": "2022-07-05T07:02:00.493Z"
      },
      {
        "duration": 71,
        "start_time": "2022-07-05T07:02:14.844Z"
      },
      {
        "duration": 83,
        "start_time": "2022-07-05T07:04:12.362Z"
      },
      {
        "duration": 61,
        "start_time": "2022-07-05T07:05:21.025Z"
      },
      {
        "duration": 39,
        "start_time": "2022-07-05T07:07:59.010Z"
      },
      {
        "duration": 10,
        "start_time": "2022-07-05T07:08:26.440Z"
      },
      {
        "duration": 39,
        "start_time": "2022-07-05T07:08:48.502Z"
      },
      {
        "duration": 110,
        "start_time": "2022-07-05T07:13:52.492Z"
      },
      {
        "duration": 77,
        "start_time": "2022-07-05T07:14:03.111Z"
      },
      {
        "duration": 39,
        "start_time": "2022-07-05T07:15:13.186Z"
      },
      {
        "duration": 2,
        "start_time": "2022-07-05T07:20:29.144Z"
      },
      {
        "duration": 28,
        "start_time": "2022-07-05T07:21:08.332Z"
      },
      {
        "duration": 27,
        "start_time": "2022-07-05T07:21:23.190Z"
      },
      {
        "duration": 33,
        "start_time": "2022-07-05T07:21:39.184Z"
      },
      {
        "duration": 36,
        "start_time": "2022-07-05T07:22:06.917Z"
      },
      {
        "duration": 33,
        "start_time": "2022-07-05T07:22:24.013Z"
      },
      {
        "duration": 31,
        "start_time": "2022-07-05T07:23:07.132Z"
      },
      {
        "duration": 30,
        "start_time": "2022-07-05T07:24:05.612Z"
      },
      {
        "duration": 8,
        "start_time": "2022-07-05T08:01:52.202Z"
      },
      {
        "duration": 33,
        "start_time": "2022-07-05T08:03:17.316Z"
      },
      {
        "duration": 13,
        "start_time": "2022-07-05T08:03:26.078Z"
      },
      {
        "duration": 13,
        "start_time": "2022-07-05T08:03:30.066Z"
      },
      {
        "duration": 14,
        "start_time": "2022-07-05T08:03:44.123Z"
      },
      {
        "duration": 4,
        "start_time": "2022-07-05T08:04:06.610Z"
      },
      {
        "duration": 26,
        "start_time": "2022-07-05T08:04:11.156Z"
      },
      {
        "duration": 2,
        "start_time": "2022-07-05T08:04:13.116Z"
      },
      {
        "duration": 4,
        "start_time": "2022-07-05T08:04:21.206Z"
      },
      {
        "duration": 24,
        "start_time": "2022-07-05T08:04:26.984Z"
      },
      {
        "duration": 23,
        "start_time": "2022-07-05T08:04:30.875Z"
      },
      {
        "duration": 4,
        "start_time": "2022-07-05T08:05:52.554Z"
      },
      {
        "duration": 5,
        "start_time": "2022-07-05T08:13:38.422Z"
      },
      {
        "duration": 26,
        "start_time": "2022-07-05T08:14:37.276Z"
      },
      {
        "duration": 101,
        "start_time": "2022-07-05T08:16:24.178Z"
      },
      {
        "duration": 93,
        "start_time": "2022-07-05T08:16:38.528Z"
      },
      {
        "duration": 80,
        "start_time": "2022-07-05T08:16:40.116Z"
      },
      {
        "duration": 98,
        "start_time": "2022-07-05T08:16:43.756Z"
      },
      {
        "duration": 88,
        "start_time": "2022-07-05T08:16:46.960Z"
      },
      {
        "duration": 120,
        "start_time": "2022-07-05T08:16:48.030Z"
      },
      {
        "duration": 100,
        "start_time": "2022-07-05T08:17:13.839Z"
      },
      {
        "duration": 15,
        "start_time": "2022-07-05T08:18:09.559Z"
      },
      {
        "duration": 124,
        "start_time": "2022-07-05T08:18:15.697Z"
      },
      {
        "duration": 21,
        "start_time": "2022-07-05T08:18:51.126Z"
      },
      {
        "duration": 13,
        "start_time": "2022-07-05T08:19:21.337Z"
      },
      {
        "duration": 29,
        "start_time": "2022-07-05T08:20:17.244Z"
      },
      {
        "duration": 17,
        "start_time": "2022-07-05T08:36:43.020Z"
      },
      {
        "duration": 19,
        "start_time": "2022-07-05T08:37:31.276Z"
      },
      {
        "duration": 36,
        "start_time": "2022-07-05T08:37:35.290Z"
      },
      {
        "duration": 18,
        "start_time": "2022-07-05T08:37:42.154Z"
      },
      {
        "duration": 11,
        "start_time": "2022-07-05T08:43:11.664Z"
      },
      {
        "duration": 97,
        "start_time": "2022-07-05T08:45:37.674Z"
      },
      {
        "duration": 11,
        "start_time": "2022-07-05T08:46:02.655Z"
      },
      {
        "duration": 2,
        "start_time": "2022-07-05T08:46:05.175Z"
      },
      {
        "duration": 18,
        "start_time": "2022-07-05T08:46:42.881Z"
      },
      {
        "duration": 96,
        "start_time": "2022-07-05T08:47:29.465Z"
      },
      {
        "duration": 9,
        "start_time": "2022-07-05T08:47:41.554Z"
      },
      {
        "duration": 87,
        "start_time": "2022-07-05T08:59:01.848Z"
      },
      {
        "duration": 5,
        "start_time": "2022-07-05T08:59:14.442Z"
      },
      {
        "duration": 19,
        "start_time": "2022-07-05T09:01:53.325Z"
      },
      {
        "duration": 22,
        "start_time": "2022-07-05T09:02:09.846Z"
      },
      {
        "duration": 62,
        "start_time": "2022-07-05T09:04:31.976Z"
      },
      {
        "duration": 26,
        "start_time": "2022-07-05T09:05:47.626Z"
      },
      {
        "duration": 18,
        "start_time": "2022-07-05T09:06:02.686Z"
      },
      {
        "duration": 15,
        "start_time": "2022-07-05T09:06:29.626Z"
      },
      {
        "duration": 18,
        "start_time": "2022-07-05T09:07:03.742Z"
      },
      {
        "duration": 5,
        "start_time": "2022-07-05T09:39:30.222Z"
      },
      {
        "duration": 23,
        "start_time": "2022-07-05T09:39:35.432Z"
      },
      {
        "duration": 42,
        "start_time": "2022-07-05T09:45:23.388Z"
      },
      {
        "duration": 8,
        "start_time": "2022-07-05T09:46:44.787Z"
      },
      {
        "duration": 6,
        "start_time": "2022-07-05T09:47:28.779Z"
      },
      {
        "duration": 14,
        "start_time": "2022-07-05T09:48:24.597Z"
      },
      {
        "duration": 13,
        "start_time": "2022-07-05T09:48:54.802Z"
      },
      {
        "duration": 7,
        "start_time": "2022-07-05T09:49:15.565Z"
      },
      {
        "duration": 6,
        "start_time": "2022-07-05T09:49:25.952Z"
      }
    ],
    "colab": {
      "provenance": []
    },
    "kernelspec": {
      "display_name": "Python 3 (ipykernel)",
      "language": "python",
      "name": "python3"
    },
    "language_info": {
      "codemirror_mode": {
        "name": "ipython",
        "version": 3
      },
      "file_extension": ".py",
      "mimetype": "text/x-python",
      "name": "python",
      "nbconvert_exporter": "python",
      "pygments_lexer": "ipython3",
      "version": "3.9.5"
    },
    "toc": {
      "base_numbering": 1,
      "nav_menu": {
        "height": "215px",
        "width": "403px"
      },
      "number_sections": true,
      "sideBar": true,
      "skip_h1_title": true,
      "title_cell": "Table of Contents",
      "title_sidebar": "Contents",
      "toc_cell": false,
      "toc_position": {
        "height": "calc(100% - 180px)",
        "left": "10px",
        "top": "150px",
        "width": "285.825px"
      },
      "toc_section_display": true,
      "toc_window_display": false
    }
  },
  "nbformat": 4,
  "nbformat_minor": 0
}