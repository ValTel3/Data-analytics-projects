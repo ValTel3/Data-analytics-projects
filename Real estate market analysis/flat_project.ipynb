{
  "cells": [
    {
      "cell_type": "markdown",
      "source": [
        "# Исследование объявлений о продаже квартир\n",
        "\n",
        "Цель данного исследования - провести анализ данных сервиса Яндекс.Недвижимость (архива объявлений о продаже квартир в Санкт-Петербурге и соседних населённых пунктов за несколько лет) и найти интересные особенности и зависимости, которые существуют на рынке недвижимости. Исследование будет состоять из обзора данных, их предобработки и самого анализа данных."
      ],
      "metadata": {
        "id": "7ObvBYnJR1pt"
      }
    },
    {
      "cell_type": "markdown",
      "metadata": {
        "id": "jHpJcZa7ehKz"
      },
      "source": [
        "### Обзор данных."
      ]
    },
    {
      "cell_type": "code",
      "execution_count": 1,
      "metadata": {
        "scrolled": true,
        "id": "rEmFJ6SkehK0"
      },
      "outputs": [],
      "source": [
        "#загружаем данные из файла в датафрейм\n",
        "import pandas as pd\n",
        "import matplotlib.pyplot as plt\n",
        "\n"
      ]
    },
    {
      "cell_type": "code",
      "execution_count": 2,
      "metadata": {
        "id": "EuNFn4DPehK3"
      },
      "outputs": [],
      "source": [
        "df=pd.read_csv('real_estate_data.csv',sep='\\t')"
      ]
    },
    {
      "cell_type": "code",
      "execution_count": 3,
      "metadata": {
        "id": "24ejm4eNehK6",
        "outputId": "ff9c0ac4-2f2e-4417-8819-64b133c72ca3",
        "colab": {
          "base_uri": "https://localhost:8080/"
        }
      },
      "outputs": [
        {
          "output_type": "stream",
          "name": "stdout",
          "text": [
            "<class 'pandas.core.frame.DataFrame'>\n",
            "RangeIndex: 23699 entries, 0 to 23698\n",
            "Data columns (total 22 columns):\n",
            " #   Column                Non-Null Count  Dtype  \n",
            "---  ------                --------------  -----  \n",
            " 0   total_images          23699 non-null  int64  \n",
            " 1   last_price            23699 non-null  float64\n",
            " 2   total_area            23699 non-null  float64\n",
            " 3   first_day_exposition  23699 non-null  object \n",
            " 4   rooms                 23699 non-null  int64  \n",
            " 5   ceiling_height        14504 non-null  float64\n",
            " 6   floors_total          23613 non-null  float64\n",
            " 7   living_area           21796 non-null  float64\n",
            " 8   floor                 23699 non-null  int64  \n",
            " 9   is_apartment          2775 non-null   object \n",
            " 10  studio                23699 non-null  bool   \n",
            " 11  open_plan             23699 non-null  bool   \n",
            " 12  kitchen_area          21421 non-null  float64\n",
            " 13  balcony               12180 non-null  float64\n",
            " 14  locality_name         23650 non-null  object \n",
            " 15  airports_nearest      18157 non-null  float64\n",
            " 16  cityCenters_nearest   18180 non-null  float64\n",
            " 17  parks_around3000      18181 non-null  float64\n",
            " 18  parks_nearest         8079 non-null   float64\n",
            " 19  ponds_around3000      18181 non-null  float64\n",
            " 20  ponds_nearest         9110 non-null   float64\n",
            " 21  days_exposition       20518 non-null  float64\n",
            "dtypes: bool(2), float64(14), int64(3), object(3)\n",
            "memory usage: 3.7+ MB\n"
          ]
        }
      ],
      "source": [
        "#смотрим общую информацию по файлу\n",
        "df.info()"
      ]
    },
    {
      "cell_type": "code",
      "execution_count": 4,
      "metadata": {
        "scrolled": true,
        "id": "eKdAOEUBehK8",
        "outputId": "85314d2d-dcf0-4b02-dd16-b84fd95b94f8",
        "colab": {
          "base_uri": "https://localhost:8080/",
          "height": 357
        }
      },
      "outputs": [
        {
          "output_type": "execute_result",
          "data": {
            "text/plain": [
              "   total_images  last_price  total_area first_day_exposition  rooms  \\\n",
              "0            20  13000000.0       108.0  2019-03-07T00:00:00      3   \n",
              "1             7   3350000.0        40.4  2018-12-04T00:00:00      1   \n",
              "2            10   5196000.0        56.0  2015-08-20T00:00:00      2   \n",
              "3             0  64900000.0       159.0  2015-07-24T00:00:00      3   \n",
              "4             2  10000000.0       100.0  2018-06-19T00:00:00      2   \n",
              "\n",
              "   ceiling_height  floors_total  living_area  floor is_apartment  studio  \\\n",
              "0            2.70          16.0         51.0      8          NaN   False   \n",
              "1             NaN          11.0         18.6      1          NaN   False   \n",
              "2             NaN           5.0         34.3      4          NaN   False   \n",
              "3             NaN          14.0          NaN      9          NaN   False   \n",
              "4            3.03          14.0         32.0     13          NaN   False   \n",
              "\n",
              "   open_plan  kitchen_area  balcony    locality_name  airports_nearest  \\\n",
              "0      False          25.0      NaN  Санкт-Петербург           18863.0   \n",
              "1      False          11.0      2.0   посёлок Шушары           12817.0   \n",
              "2      False           8.3      0.0  Санкт-Петербург           21741.0   \n",
              "3      False           NaN      0.0  Санкт-Петербург           28098.0   \n",
              "4      False          41.0      NaN  Санкт-Петербург           31856.0   \n",
              "\n",
              "   cityCenters_nearest  parks_around3000  parks_nearest  ponds_around3000  \\\n",
              "0              16028.0               1.0          482.0               2.0   \n",
              "1              18603.0               0.0            NaN               0.0   \n",
              "2              13933.0               1.0           90.0               2.0   \n",
              "3               6800.0               2.0           84.0               3.0   \n",
              "4               8098.0               2.0          112.0               1.0   \n",
              "\n",
              "   ponds_nearest  days_exposition  \n",
              "0          755.0              NaN  \n",
              "1            NaN             81.0  \n",
              "2          574.0            558.0  \n",
              "3          234.0            424.0  \n",
              "4           48.0            121.0  "
            ],
            "text/html": [
              "\n",
              "  <div id=\"df-32b244c0-c129-4644-b018-38a4d4b77460\">\n",
              "    <div class=\"colab-df-container\">\n",
              "      <div>\n",
              "<style scoped>\n",
              "    .dataframe tbody tr th:only-of-type {\n",
              "        vertical-align: middle;\n",
              "    }\n",
              "\n",
              "    .dataframe tbody tr th {\n",
              "        vertical-align: top;\n",
              "    }\n",
              "\n",
              "    .dataframe thead th {\n",
              "        text-align: right;\n",
              "    }\n",
              "</style>\n",
              "<table border=\"1\" class=\"dataframe\">\n",
              "  <thead>\n",
              "    <tr style=\"text-align: right;\">\n",
              "      <th></th>\n",
              "      <th>total_images</th>\n",
              "      <th>last_price</th>\n",
              "      <th>total_area</th>\n",
              "      <th>first_day_exposition</th>\n",
              "      <th>rooms</th>\n",
              "      <th>ceiling_height</th>\n",
              "      <th>floors_total</th>\n",
              "      <th>living_area</th>\n",
              "      <th>floor</th>\n",
              "      <th>is_apartment</th>\n",
              "      <th>studio</th>\n",
              "      <th>open_plan</th>\n",
              "      <th>kitchen_area</th>\n",
              "      <th>balcony</th>\n",
              "      <th>locality_name</th>\n",
              "      <th>airports_nearest</th>\n",
              "      <th>cityCenters_nearest</th>\n",
              "      <th>parks_around3000</th>\n",
              "      <th>parks_nearest</th>\n",
              "      <th>ponds_around3000</th>\n",
              "      <th>ponds_nearest</th>\n",
              "      <th>days_exposition</th>\n",
              "    </tr>\n",
              "  </thead>\n",
              "  <tbody>\n",
              "    <tr>\n",
              "      <th>0</th>\n",
              "      <td>20</td>\n",
              "      <td>13000000.0</td>\n",
              "      <td>108.0</td>\n",
              "      <td>2019-03-07T00:00:00</td>\n",
              "      <td>3</td>\n",
              "      <td>2.70</td>\n",
              "      <td>16.0</td>\n",
              "      <td>51.0</td>\n",
              "      <td>8</td>\n",
              "      <td>NaN</td>\n",
              "      <td>False</td>\n",
              "      <td>False</td>\n",
              "      <td>25.0</td>\n",
              "      <td>NaN</td>\n",
              "      <td>Санкт-Петербург</td>\n",
              "      <td>18863.0</td>\n",
              "      <td>16028.0</td>\n",
              "      <td>1.0</td>\n",
              "      <td>482.0</td>\n",
              "      <td>2.0</td>\n",
              "      <td>755.0</td>\n",
              "      <td>NaN</td>\n",
              "    </tr>\n",
              "    <tr>\n",
              "      <th>1</th>\n",
              "      <td>7</td>\n",
              "      <td>3350000.0</td>\n",
              "      <td>40.4</td>\n",
              "      <td>2018-12-04T00:00:00</td>\n",
              "      <td>1</td>\n",
              "      <td>NaN</td>\n",
              "      <td>11.0</td>\n",
              "      <td>18.6</td>\n",
              "      <td>1</td>\n",
              "      <td>NaN</td>\n",
              "      <td>False</td>\n",
              "      <td>False</td>\n",
              "      <td>11.0</td>\n",
              "      <td>2.0</td>\n",
              "      <td>посёлок Шушары</td>\n",
              "      <td>12817.0</td>\n",
              "      <td>18603.0</td>\n",
              "      <td>0.0</td>\n",
              "      <td>NaN</td>\n",
              "      <td>0.0</td>\n",
              "      <td>NaN</td>\n",
              "      <td>81.0</td>\n",
              "    </tr>\n",
              "    <tr>\n",
              "      <th>2</th>\n",
              "      <td>10</td>\n",
              "      <td>5196000.0</td>\n",
              "      <td>56.0</td>\n",
              "      <td>2015-08-20T00:00:00</td>\n",
              "      <td>2</td>\n",
              "      <td>NaN</td>\n",
              "      <td>5.0</td>\n",
              "      <td>34.3</td>\n",
              "      <td>4</td>\n",
              "      <td>NaN</td>\n",
              "      <td>False</td>\n",
              "      <td>False</td>\n",
              "      <td>8.3</td>\n",
              "      <td>0.0</td>\n",
              "      <td>Санкт-Петербург</td>\n",
              "      <td>21741.0</td>\n",
              "      <td>13933.0</td>\n",
              "      <td>1.0</td>\n",
              "      <td>90.0</td>\n",
              "      <td>2.0</td>\n",
              "      <td>574.0</td>\n",
              "      <td>558.0</td>\n",
              "    </tr>\n",
              "    <tr>\n",
              "      <th>3</th>\n",
              "      <td>0</td>\n",
              "      <td>64900000.0</td>\n",
              "      <td>159.0</td>\n",
              "      <td>2015-07-24T00:00:00</td>\n",
              "      <td>3</td>\n",
              "      <td>NaN</td>\n",
              "      <td>14.0</td>\n",
              "      <td>NaN</td>\n",
              "      <td>9</td>\n",
              "      <td>NaN</td>\n",
              "      <td>False</td>\n",
              "      <td>False</td>\n",
              "      <td>NaN</td>\n",
              "      <td>0.0</td>\n",
              "      <td>Санкт-Петербург</td>\n",
              "      <td>28098.0</td>\n",
              "      <td>6800.0</td>\n",
              "      <td>2.0</td>\n",
              "      <td>84.0</td>\n",
              "      <td>3.0</td>\n",
              "      <td>234.0</td>\n",
              "      <td>424.0</td>\n",
              "    </tr>\n",
              "    <tr>\n",
              "      <th>4</th>\n",
              "      <td>2</td>\n",
              "      <td>10000000.0</td>\n",
              "      <td>100.0</td>\n",
              "      <td>2018-06-19T00:00:00</td>\n",
              "      <td>2</td>\n",
              "      <td>3.03</td>\n",
              "      <td>14.0</td>\n",
              "      <td>32.0</td>\n",
              "      <td>13</td>\n",
              "      <td>NaN</td>\n",
              "      <td>False</td>\n",
              "      <td>False</td>\n",
              "      <td>41.0</td>\n",
              "      <td>NaN</td>\n",
              "      <td>Санкт-Петербург</td>\n",
              "      <td>31856.0</td>\n",
              "      <td>8098.0</td>\n",
              "      <td>2.0</td>\n",
              "      <td>112.0</td>\n",
              "      <td>1.0</td>\n",
              "      <td>48.0</td>\n",
              "      <td>121.0</td>\n",
              "    </tr>\n",
              "  </tbody>\n",
              "</table>\n",
              "</div>\n",
              "      <button class=\"colab-df-convert\" onclick=\"convertToInteractive('df-32b244c0-c129-4644-b018-38a4d4b77460')\"\n",
              "              title=\"Convert this dataframe to an interactive table.\"\n",
              "              style=\"display:none;\">\n",
              "        \n",
              "  <svg xmlns=\"http://www.w3.org/2000/svg\" height=\"24px\"viewBox=\"0 0 24 24\"\n",
              "       width=\"24px\">\n",
              "    <path d=\"M0 0h24v24H0V0z\" fill=\"none\"/>\n",
              "    <path d=\"M18.56 5.44l.94 2.06.94-2.06 2.06-.94-2.06-.94-.94-2.06-.94 2.06-2.06.94zm-11 1L8.5 8.5l.94-2.06 2.06-.94-2.06-.94L8.5 2.5l-.94 2.06-2.06.94zm10 10l.94 2.06.94-2.06 2.06-.94-2.06-.94-.94-2.06-.94 2.06-2.06.94z\"/><path d=\"M17.41 7.96l-1.37-1.37c-.4-.4-.92-.59-1.43-.59-.52 0-1.04.2-1.43.59L10.3 9.45l-7.72 7.72c-.78.78-.78 2.05 0 2.83L4 21.41c.39.39.9.59 1.41.59.51 0 1.02-.2 1.41-.59l7.78-7.78 2.81-2.81c.8-.78.8-2.07 0-2.86zM5.41 20L4 18.59l7.72-7.72 1.47 1.35L5.41 20z\"/>\n",
              "  </svg>\n",
              "      </button>\n",
              "      \n",
              "  <style>\n",
              "    .colab-df-container {\n",
              "      display:flex;\n",
              "      flex-wrap:wrap;\n",
              "      gap: 12px;\n",
              "    }\n",
              "\n",
              "    .colab-df-convert {\n",
              "      background-color: #E8F0FE;\n",
              "      border: none;\n",
              "      border-radius: 50%;\n",
              "      cursor: pointer;\n",
              "      display: none;\n",
              "      fill: #1967D2;\n",
              "      height: 32px;\n",
              "      padding: 0 0 0 0;\n",
              "      width: 32px;\n",
              "    }\n",
              "\n",
              "    .colab-df-convert:hover {\n",
              "      background-color: #E2EBFA;\n",
              "      box-shadow: 0px 1px 2px rgba(60, 64, 67, 0.3), 0px 1px 3px 1px rgba(60, 64, 67, 0.15);\n",
              "      fill: #174EA6;\n",
              "    }\n",
              "\n",
              "    [theme=dark] .colab-df-convert {\n",
              "      background-color: #3B4455;\n",
              "      fill: #D2E3FC;\n",
              "    }\n",
              "\n",
              "    [theme=dark] .colab-df-convert:hover {\n",
              "      background-color: #434B5C;\n",
              "      box-shadow: 0px 1px 3px 1px rgba(0, 0, 0, 0.15);\n",
              "      filter: drop-shadow(0px 1px 2px rgba(0, 0, 0, 0.3));\n",
              "      fill: #FFFFFF;\n",
              "    }\n",
              "  </style>\n",
              "\n",
              "      <script>\n",
              "        const buttonEl =\n",
              "          document.querySelector('#df-32b244c0-c129-4644-b018-38a4d4b77460 button.colab-df-convert');\n",
              "        buttonEl.style.display =\n",
              "          google.colab.kernel.accessAllowed ? 'block' : 'none';\n",
              "\n",
              "        async function convertToInteractive(key) {\n",
              "          const element = document.querySelector('#df-32b244c0-c129-4644-b018-38a4d4b77460');\n",
              "          const dataTable =\n",
              "            await google.colab.kernel.invokeFunction('convertToInteractive',\n",
              "                                                     [key], {});\n",
              "          if (!dataTable) return;\n",
              "\n",
              "          const docLinkHtml = 'Like what you see? Visit the ' +\n",
              "            '<a target=\"_blank\" href=https://colab.research.google.com/notebooks/data_table.ipynb>data table notebook</a>'\n",
              "            + ' to learn more about interactive tables.';\n",
              "          element.innerHTML = '';\n",
              "          dataTable['output_type'] = 'display_data';\n",
              "          await google.colab.output.renderOutput(dataTable, element);\n",
              "          const docLink = document.createElement('div');\n",
              "          docLink.innerHTML = docLinkHtml;\n",
              "          element.appendChild(docLink);\n",
              "        }\n",
              "      </script>\n",
              "    </div>\n",
              "  </div>\n",
              "  "
            ]
          },
          "metadata": {},
          "execution_count": 4
        }
      ],
      "source": [
        "\n",
        "pd.set_option('display.max_columns', 50)\n",
        "df.head()\n"
      ]
    },
    {
      "cell_type": "markdown",
      "metadata": {
        "id": "CjeOstb3ehK_"
      },
      "source": [
        "Данный файл содержит в себе информацию об объявлениях о продаже квартир в Санкт-Петербурге и соседних населенных пунктах с сайта Яндекс Недвижимость.\n",
        "\n",
        "Таблица состоит из 22 столбцов, которые содержат данные о параметрах квартир, такие как: общая площадь, жилая площадь, площадь кухни, этаж, расположение и др. Количество объектов - 23699 шт.\n",
        "\n",
        "Данные представлены с 2014 г. по 2019 г."
      ]
    },
    {
      "cell_type": "markdown",
      "metadata": {
        "id": "XgKv7O15ehLA"
      },
      "source": [
        "### Предобработка данных"
      ]
    },
    {
      "cell_type": "code",
      "execution_count": 5,
      "metadata": {
        "scrolled": true,
        "id": "oHxkLBMAehLA",
        "outputId": "db3286c2-8925-42b6-bf54-499d0392d2a8",
        "colab": {
          "base_uri": "https://localhost:8080/"
        }
      },
      "outputs": [
        {
          "output_type": "execute_result",
          "data": {
            "text/plain": [
              "total_images                0\n",
              "last_price                  0\n",
              "total_area                  0\n",
              "first_day_exposition        0\n",
              "rooms                       0\n",
              "ceiling_height           9195\n",
              "floors_total               86\n",
              "living_area              1903\n",
              "floor                       0\n",
              "is_apartment            20924\n",
              "studio                      0\n",
              "open_plan                   0\n",
              "kitchen_area             2278\n",
              "balcony                 11519\n",
              "locality_name              49\n",
              "airports_nearest         5542\n",
              "cityCenters_nearest      5519\n",
              "parks_around3000         5518\n",
              "parks_nearest           15620\n",
              "ponds_around3000         5518\n",
              "ponds_nearest           14589\n",
              "days_exposition          3181\n",
              "dtype: int64"
            ]
          },
          "metadata": {},
          "execution_count": 5
        }
      ],
      "source": [
        "#определяем количество пропусков в каждом столбце\n",
        "df.isna().sum()"
      ]
    },
    {
      "cell_type": "code",
      "execution_count": 6,
      "metadata": {
        "id": "n7xPqZViehLB"
      },
      "outputs": [],
      "source": [
        "#заменяем пропуски в общей этажности-медианным значением\n",
        "df['floors_total'].unique()\n",
        "median_floors_total = df['floors_total'].median()\n",
        "df['floors_total']=df['floors_total'].fillna(median_floors_total)\n",
        "\n"
      ]
    },
    {
      "cell_type": "code",
      "execution_count": 7,
      "metadata": {
        "id": "Gu00WBvCehLB"
      },
      "outputs": [],
      "source": [
        "#формируем группы по разной этажности и заменяем пропуски с данными о высоте потолков средним значением каждой группы\n",
        "for i in df['floors_total'].unique():\n",
        "    df.loc[(df['floors_total']==i)&(df['ceiling_height'].isna()), 'ceiling_height']\\\n",
        "    =df.loc[(df['floors_total']==i),'ceiling_height'].mean()\n",
        "#удаляем один оставшийся пропуск\n",
        "df=df.dropna(subset=['ceiling_height'])"
      ]
    },
    {
      "cell_type": "code",
      "execution_count": 8,
      "metadata": {
        "id": "3tHKk2X9ehLC",
        "colab": {
          "base_uri": "https://localhost:8080/"
        },
        "outputId": "162dde23-05db-4a8d-bb41-37361d06efe2"
      },
      "outputs": [
        {
          "output_type": "stream",
          "name": "stderr",
          "text": [
            "<ipython-input-8-b23754e90477>:2: SettingWithCopyWarning: \n",
            "A value is trying to be set on a copy of a slice from a DataFrame.\n",
            "Try using .loc[row_indexer,col_indexer] = value instead\n",
            "\n",
            "See the caveats in the documentation: https://pandas.pydata.org/pandas-docs/stable/user_guide/indexing.html#returning-a-view-versus-a-copy\n",
            "  df['balcony'] = df['balcony'].fillna('0')\n"
          ]
        }
      ],
      "source": [
        "#заменяем пропуски в группе \"балконы\" на 0\n",
        "df['balcony'] = df['balcony'].fillna('0') "
      ]
    },
    {
      "cell_type": "code",
      "execution_count": 9,
      "metadata": {
        "id": "ea-g2EHvehLC",
        "outputId": "03634e37-2094-4c1e-f9eb-3ca98eaf3e5f",
        "colab": {
          "base_uri": "https://localhost:8080/"
        }
      },
      "outputs": [
        {
          "output_type": "stream",
          "name": "stdout",
          "text": [
            "[nan False True]\n"
          ]
        },
        {
          "output_type": "stream",
          "name": "stderr",
          "text": [
            "<ipython-input-9-f8408ac4485b>:3: SettingWithCopyWarning: \n",
            "A value is trying to be set on a copy of a slice from a DataFrame.\n",
            "Try using .loc[row_indexer,col_indexer] = value instead\n",
            "\n",
            "See the caveats in the documentation: https://pandas.pydata.org/pandas-docs/stable/user_guide/indexing.html#returning-a-view-versus-a-copy\n",
            "  df['is_apartment']=df['is_apartment'].fillna(False)\n"
          ]
        }
      ],
      "source": [
        "#заменяем пропуски в группе \"is_apartment\" на False\n",
        "print(df['is_apartment'].unique())\n",
        "df['is_apartment']=df['is_apartment'].fillna(False)"
      ]
    },
    {
      "cell_type": "code",
      "execution_count": 10,
      "metadata": {
        "id": "dSZQIdVpehLD"
      },
      "outputs": [],
      "source": [
        "#заменяем пропуски в жилой площади и площади кухни, исходя из среднего коэффициента отношения жилой площади и площади всей квартиры\n",
        "coefficient_living_area=(df['living_area']/df['total_area']).mean()\n",
        "df.loc[(df['living_area']).isna(),'living_area']=df.loc[(df['living_area'].isna()),'total_area']*coefficient_living_area\n",
        "coefficient_kitchen_area=(df['kitchen_area']/df['total_area']).mean()\n",
        "df.loc[(df['kitchen_area']).isna(),'kitchen_area']=df.loc[(df['kitchen_area'].isna()),'total_area']*coefficient_kitchen_area                   "
      ]
    },
    {
      "cell_type": "code",
      "execution_count": 11,
      "metadata": {
        "id": "2OWYOc8KehLD"
      },
      "outputs": [],
      "source": [
        "#заменяем пропуски в других количественных переменных медианным значением.\n",
        "#airports_nearest\n",
        "median_airports_nearest = df['airports_nearest'].median()\n",
        "df['airports_nearest']=df['airports_nearest'].fillna(median_airports_nearest)\n",
        "#cityCenters_nearest\n",
        "median_cityCenters_nearest = df['cityCenters_nearest'].median()\n",
        "df['cityCenters_nearest']=df['cityCenters_nearest'].fillna(median_cityCenters_nearest)\n",
        "#parks_around3000\n",
        "df['parks_around3000']=df['parks_around3000'].fillna(0)\n",
        "#ponds_around3000         \n",
        "df['ponds_around3000']=df['ponds_around3000'].fillna(0)\n",
        "\n",
        "\n"
      ]
    },
    {
      "cell_type": "code",
      "execution_count": 12,
      "metadata": {
        "id": "1WMHqlp_ehLF",
        "outputId": "a2aedab9-b015-4a1d-9151-536c999cf390",
        "colab": {
          "base_uri": "https://localhost:8080/"
        }
      },
      "outputs": [
        {
          "output_type": "execute_result",
          "data": {
            "text/plain": [
              "total_images                0\n",
              "last_price                  0\n",
              "total_area                  0\n",
              "first_day_exposition        0\n",
              "rooms                       0\n",
              "ceiling_height              0\n",
              "floors_total                0\n",
              "living_area                 0\n",
              "floor                       0\n",
              "is_apartment                0\n",
              "studio                      0\n",
              "open_plan                   0\n",
              "kitchen_area                0\n",
              "balcony                     0\n",
              "locality_name              49\n",
              "airports_nearest            0\n",
              "cityCenters_nearest         0\n",
              "parks_around3000            0\n",
              "parks_nearest           15619\n",
              "ponds_around3000            0\n",
              "ponds_nearest           14589\n",
              "days_exposition          3181\n",
              "dtype: int64"
            ]
          },
          "metadata": {},
          "execution_count": 12
        }
      ],
      "source": [
        "#проверяем, остались ли еще пропуски\n",
        "df.isna().sum()"
      ]
    },
    {
      "cell_type": "markdown",
      "metadata": {
        "id": "YtnTOsdeehLF"
      },
      "source": [
        "В данном фатафрейме представлены как количественные, так и качественные переменные. \n",
        "Количественные переменные в некоторых случаях мы можем заменить средним и медианным значением. Что мы и сделали с следующих столбцах:\n",
        "- в столбце \"всего этажей в доме\" пропуски заменили медианным значением,\n",
        "- в столбце \"высота потолков\" заменили средним значением высоты потолков в домах разной этажности,\n",
        "- в столбцах \"жилая площадь\" и \"площадь кухни\" мы заменили пропуски с помощью коэффициэнта отношения общей площади к жилой и площади кухни.\n",
        "\n",
        "Большое количество пропусков в столбце \"балконы\" связано вероятно с тем, что при отсутствии в доме балкона размещающий обьявление не оставлял информацию в нужном окне. Поэтому данные пропуски мы заменили на 0. \n",
        "Похожая ситуация с пропусками в столбце \"is_apartment\". Скорее всего заполняющий просто не стал указывать, что квартира не является аппартаментами, поэтому все пропуски мы заменили на False.\n",
        "\n",
        "Пропуски в расстояниях до ближайшего аэропорта и центра города мы заменили медианным значением по каждой группе.  Пропуски в столбцах \"число водоемов в радиусе 3 км\" и \"число парков в радиусе 3 км\" заменили на 0. Информацию о расстоянии до ближайшего водоема и парка оставили без изменений.\n",
        "\n",
        "Пропуски в названии населенного пункта являются пропусками качественных переменных. Их нельзя заменить, не теряя смысла данных. Они занимают небольшую часть- 0,2% всех данных. При необходимости в дальнейшем их можно удалить.\n",
        "Пропуски в столбце \"количество дней экспозиции\" связано, видимо, с тем, что на момент получения данных, эти объявления были актуальными.Их количество-13%. Заменить их, не потеряв смысла, не видится возможным. Если они будут искажать анализ в дальнейшем, их также нужно будет удалить."
      ]
    },
    {
      "cell_type": "code",
      "execution_count": 13,
      "metadata": {
        "id": "FByAprphehLG"
      },
      "outputs": [],
      "source": [
        "df['first_day_exposition'] = pd.to_datetime(df['first_day_exposition'], format='%Y-%m-%dT%H:%M:%S')\n",
        "df['first_day_exposition'] = df['first_day_exposition'].dt.floor('1D')\n",
        "df['balcony']=df['balcony'].astype('int')\n",
        "df['floors_total']=df['floors_total'].astype('int')\n",
        "df['parks_around3000']=df['parks_around3000'].astype('int')\n",
        "df['ponds_around3000']=df['ponds_around3000'].astype('int')"
      ]
    },
    {
      "cell_type": "markdown",
      "metadata": {
        "id": "fnJ974ZZehLH"
      },
      "source": [
        "В столбце \"день размещения объявления\" переведем данные в специальный datetime-формат, чтобы в дальнейшем можно было преобразовывать данные под задачи анализа. Округлим данные до дня, так как время размещения объявления в рамках данного анализа не важно.\n",
        "\n",
        "Изменим вещественный тип данных на целочисленный в столбцах \"балконы\",\"количество этажей в здании\", \"парки рядом\" и \"водоемы рядом\". Так как эти данные - целые значения."
      ]
    },
    {
      "cell_type": "code",
      "execution_count": 14,
      "metadata": {
        "scrolled": false,
        "id": "-SCWIDuSehLI",
        "outputId": "33d8d36b-5749-48dc-c311-001adb2ca527",
        "colab": {
          "base_uri": "https://localhost:8080/"
        }
      },
      "outputs": [
        {
          "output_type": "execute_result",
          "data": {
            "text/plain": [
              "array(['Бокситогорск', 'Волосово', 'Волхов', 'Всеволожск', 'Выборг',\n",
              "       'Высоцк', 'Гатчина', 'Зеленогорск', 'Ивангород', 'Каменногорск',\n",
              "       'Кингисепп', 'Кириши', 'Кировск', 'Колпино', 'Коммунар',\n",
              "       'Красное Село', 'Кронштадт', 'Кудрово', 'Лодейное Поле',\n",
              "       'Ломоносов', 'Луга', 'Любань', 'Мурино', 'Никольское',\n",
              "       'Новая Ладога', 'Отрадное', 'Павловск', 'Петергоф', 'Пикалёво',\n",
              "       'Подпорожье', 'Приморск', 'Приозерск', 'Пушкин', 'Санкт-Петербург',\n",
              "       'Светогорск', 'Сертолово', 'Сестрорецк', 'Сланцы', 'Сосновый Бор',\n",
              "       'Сясьстрой', 'Тихвин', 'Тосно', 'Шлиссельбург',\n",
              "       'городской поселок Большая Ижора', 'городской поселок Янино-1',\n",
              "       'городской посёлок Будогощь', 'городской посёлок Виллози',\n",
              "       'городской посёлок Лесогорский', 'городской посёлок Мга',\n",
              "       'городской посёлок Назия', 'городской посёлок Новоселье',\n",
              "       'городской посёлок Павлово', 'городской посёлок Рощино',\n",
              "       'городской посёлок Свирьстрой', 'городской посёлок Советский',\n",
              "       'городской посёлок Фёдоровское', 'городской посёлок Янино-1',\n",
              "       'деревня Агалатово', 'деревня Аро', 'деревня Батово',\n",
              "       'деревня Бегуницы', 'деревня Белогорка', 'деревня Большая Вруда',\n",
              "       'деревня Большая Пустомержа', 'деревня Большие Колпаны',\n",
              "       'деревня Большое Рейзино', 'деревня Большой Сабск', 'деревня Бор',\n",
              "       'деревня Борисова Грива', 'деревня Ваганово', 'деревня Вартемяги',\n",
              "       'деревня Вахнова Кара', 'деревня Выскатка', 'деревня Гарболово',\n",
              "       'деревня Глинка', 'деревня Горбунки', 'деревня Гостилицы',\n",
              "       'деревня Заклинье', 'деревня Заневка', 'деревня Зимитицы',\n",
              "       'деревня Извара', 'деревня Иссад', 'деревня Калитино',\n",
              "       'деревня Кальтино', 'деревня Камышовка', 'деревня Каськово',\n",
              "       'деревня Келози', 'деревня Кипень', 'деревня Кисельня',\n",
              "       'деревня Колтуши', 'деревня Коркино', 'деревня Котлы',\n",
              "       'деревня Кривко', 'деревня Кудрово', 'деревня Кузьмолово',\n",
              "       'деревня Курковицы', 'деревня Куровицы', 'деревня Куттузи',\n",
              "       'деревня Лаврики', 'деревня Лаголово', 'деревня Лампово',\n",
              "       'деревня Лесколово', 'деревня Лопухинка', 'деревня Лупполово',\n",
              "       'деревня Малая Романовка', 'деревня Малое Верево',\n",
              "       'деревня Малое Карлино', 'деревня Малые Колпаны',\n",
              "       'деревня Мануйлово', 'деревня Меньково', 'деревня Мины',\n",
              "       'деревня Мистолово', 'деревня Ненимяки', 'деревня Нижние Осельки',\n",
              "       'деревня Нижняя', 'деревня Низино', 'деревня Новое Девяткино',\n",
              "       'деревня Новолисино', 'деревня Нурма', 'деревня Оржицы',\n",
              "       'деревня Парицы', 'деревня Пельгора', 'деревня Пеники',\n",
              "       'деревня Пижма', 'деревня Пикколово', 'деревня Пудомяги',\n",
              "       'деревня Пустынка', 'деревня Пчева', 'деревня Рабитицы',\n",
              "       'деревня Разбегаево', 'деревня Раздолье', 'деревня Разметелево',\n",
              "       'деревня Рапполово', 'деревня Реброво', 'деревня Русско',\n",
              "       'деревня Сижно', 'деревня Снегирёвка', 'деревня Старая',\n",
              "       'деревня Старая Пустошь', 'деревня Старое Хинколово',\n",
              "       'деревня Старополье', 'деревня Старосиверская',\n",
              "       'деревня Старые Бегуницы', 'деревня Суоранда',\n",
              "       'деревня Сяськелево', 'деревня Тарасово', 'деревня Терпилицы',\n",
              "       'деревня Тихковицы', 'деревня Тойворово', 'деревня Торосово',\n",
              "       'деревня Торошковичи', 'деревня Трубников Бор',\n",
              "       'деревня Фалилеево', 'деревня Фёдоровское', 'деревня Хапо-Ое',\n",
              "       'деревня Хязельки', 'деревня Чудской Бор', 'деревня Шпаньково',\n",
              "       'деревня Щеглово', 'деревня Юкки', 'деревня Ялгино',\n",
              "       'деревня Яльгелево', 'деревня Ям-Тесово',\n",
              "       'коттеджный поселок Кивеннапа Север', 'коттеджный поселок Счастье',\n",
              "       'коттеджный посёлок Лесное', 'поселок Аннино', 'поселок Барышево',\n",
              "       'поселок Бугры', 'поселок Возрождение', 'поселок Войсковицы',\n",
              "       'поселок Володарское', 'поселок Гаврилово', 'поселок Гарболово',\n",
              "       'поселок Гладкое', 'поселок Глажево', 'поселок Глебычево',\n",
              "       'поселок Гончарово', 'поселок Громово', 'поселок Дружноселье',\n",
              "       'поселок Елизаветино', 'поселок Жилгородок', 'поселок Жилпосёлок',\n",
              "       'поселок Житково', 'поселок Заводской', 'поселок Запорожское',\n",
              "       'поселок Зимитицы', 'поселок Ильичёво', 'поселок Калитино',\n",
              "       'поселок Каложицы', 'поселок Кингисеппский', 'поселок Кирпичное',\n",
              "       'поселок Кобралово', 'поселок Кобринское', 'поселок Коммунары',\n",
              "       'поселок Коробицыно', 'поселок Котельский',\n",
              "       'поселок Красная Долина', 'поселок Красносельское',\n",
              "       'поселок Лесное', 'поселок Лисий Нос', 'поселок Лукаши',\n",
              "       'поселок Любань', 'поселок Мельниково', 'поселок Мичуринское',\n",
              "       'поселок Молодцово', 'поселок Мурино', 'поселок Новый Свет',\n",
              "       'поселок Новый Учхоз', 'поселок Оредеж',\n",
              "       'поселок Пансионат Зелёный Бор', 'поселок Первомайское',\n",
              "       'поселок Перово', 'поселок Петровское', 'поселок Победа',\n",
              "       'поселок Поляны', 'поселок Почап', 'поселок Починок',\n",
              "       'поселок Пушное', 'поселок Пчевжа', 'поселок Рабитицы',\n",
              "       'поселок Романовка', 'поселок Ромашки', 'поселок Рябово',\n",
              "       'поселок Севастьяново', 'поселок Селезнёво', 'поселок Сельцо',\n",
              "       'поселок Семиозерье', 'поселок Семрино', 'поселок Серебрянский',\n",
              "       'поселок Совхозный', 'поселок Старая Малукса',\n",
              "       'поселок Стеклянный', 'поселок Сумино', 'поселок Суходолье',\n",
              "       'поселок Тельмана', 'поселок Терволово', 'поселок Торковичи',\n",
              "       'поселок Тёсово-4', 'поселок Углово', 'поселок Усть-Луга',\n",
              "       'поселок Ушаки', 'поселок Цвелодубово', 'поселок Цвылёво',\n",
              "       'поселок городского типа Большая Ижора',\n",
              "       'поселок городского типа Вырица',\n",
              "       'поселок городского типа Дружная Горка',\n",
              "       'поселок городского типа Дубровка',\n",
              "       'поселок городского типа Ефимовский',\n",
              "       'поселок городского типа Кондратьево',\n",
              "       'поселок городского типа Красный Бор',\n",
              "       'поселок городского типа Кузьмоловский',\n",
              "       'поселок городского типа Лебяжье',\n",
              "       'поселок городского типа Лесогорский',\n",
              "       'поселок городского типа Назия',\n",
              "       'поселок городского типа Никольский',\n",
              "       'поселок городского типа Приладожский',\n",
              "       'поселок городского типа Рахья', 'поселок городского типа Рощино',\n",
              "       'поселок городского типа Рябово',\n",
              "       'поселок городского типа Синявино',\n",
              "       'поселок городского типа Советский',\n",
              "       'поселок городского типа Токсово',\n",
              "       'поселок городского типа Форносово',\n",
              "       'поселок городского типа имени Свердлова',\n",
              "       'поселок станции Вещево', 'поселок станции Корнево',\n",
              "       'поселок станции Лужайка', 'поселок станции Приветнинское',\n",
              "       'посёлок Александровская', 'посёлок Алексеевка', 'посёлок Аннино',\n",
              "       'посёлок Белоостров', 'посёлок Бугры', 'посёлок Возрождение',\n",
              "       'посёлок Войскорово', 'посёлок Высокоключевой',\n",
              "       'посёлок Гаврилово', 'посёлок Дзержинского', 'посёлок Жилгородок',\n",
              "       'посёлок Ильичёво', 'посёлок Кикерино', 'посёлок Кобралово',\n",
              "       'посёлок Коробицыно', 'посёлок Левашово', 'посёлок Ленинское',\n",
              "       'посёлок Лисий Нос', 'посёлок Мельниково', 'посёлок Металлострой',\n",
              "       'посёлок Мичуринское', 'посёлок Молодёжное', 'посёлок Мурино',\n",
              "       'посёлок Мыза-Ивановка', 'посёлок Новогорелово',\n",
              "       'посёлок Новый Свет', 'посёлок Пансионат Зелёный Бор',\n",
              "       'посёлок Парголово', 'посёлок Перово', 'посёлок Песочный',\n",
              "       'посёлок Петро-Славянка', 'посёлок Петровское',\n",
              "       'посёлок Платформа 69-й километр', 'посёлок Плодовое',\n",
              "       'посёлок Плоское', 'посёлок Победа', 'посёлок Поляны',\n",
              "       'посёлок Понтонный', 'посёлок Пригородный', 'посёлок Пудость',\n",
              "       'посёлок Репино', 'посёлок Ропша', 'посёлок Сапёрное',\n",
              "       'посёлок Сапёрный', 'посёлок Сосново', 'посёлок Старая Малукса',\n",
              "       'посёлок Стеклянный', 'посёлок Стрельна', 'посёлок Суйда',\n",
              "       'посёлок Сумино', 'посёлок Тельмана', 'посёлок Терволово',\n",
              "       'посёлок Торфяное', 'посёлок Усть-Ижора', 'посёлок Усть-Луга',\n",
              "       'посёлок Форт Красная Горка', 'посёлок Шугозеро', 'посёлок Шушары',\n",
              "       'посёлок Щеглово', 'посёлок городского типа Важины',\n",
              "       'посёлок городского типа Вознесенье',\n",
              "       'посёлок городского типа Вырица',\n",
              "       'посёлок городского типа Красный Бор',\n",
              "       'посёлок городского типа Кузнечное',\n",
              "       'посёлок городского типа Кузьмоловский',\n",
              "       'посёлок городского типа Лебяжье', 'посёлок городского типа Мга',\n",
              "       'посёлок городского типа Павлово',\n",
              "       'посёлок городского типа Рощино', 'посёлок городского типа Рябово',\n",
              "       'посёлок городского типа Сиверский',\n",
              "       'посёлок городского типа Тайцы', 'посёлок городского типа Токсово',\n",
              "       'посёлок городского типа Ульяновка',\n",
              "       'посёлок городского типа Форносово',\n",
              "       'посёлок городского типа имени Морозова',\n",
              "       'посёлок городского типа имени Свердлова',\n",
              "       'посёлок при железнодорожной станции Вещево',\n",
              "       'посёлок при железнодорожной станции Приветнинское',\n",
              "       'посёлок станции Громово', 'посёлок станции Свирь',\n",
              "       'садоводческое некоммерческое товарищество Лесная Поляна',\n",
              "       'садовое товарищество Новая Ропша',\n",
              "       'садовое товарищество Приладожский', 'садовое товарищество Рахья',\n",
              "       'садовое товарищество Садко', 'село Копорье', 'село Никольское',\n",
              "       'село Павлово', 'село Паша', 'село Путилово', 'село Рождествено',\n",
              "       'село Русско-Высоцкое', 'село Старая Ладога', 'село Шум', nan],\n",
              "      dtype=object)"
            ]
          },
          "metadata": {},
          "execution_count": 14
        }
      ],
      "source": [
        "#изучаем уникальные значения в столбце 'названия населенных пунктов'\n",
        "df['locality_name'].sort_values().unique()"
      ]
    },
    {
      "cell_type": "code",
      "execution_count": 15,
      "metadata": {
        "id": "OKnfwRsdehLI"
      },
      "outputs": [],
      "source": [
        "#заменяем неявные дубликаты\n",
        "df['locality_name']=df['locality_name'].replace('городской посёлок','посёлок',regex=True)\n",
        "df['locality_name']=df['locality_name'].replace('посёлок городского типа','посёлок',regex=True)\n",
        "df['locality_name']=df['locality_name'].replace('поселок городского типа','посёлок',regex=True)\n",
        "df['locality_name']=df['locality_name'].replace('поселок','посёлок',regex=True)\n"
      ]
    },
    {
      "cell_type": "code",
      "execution_count": 16,
      "metadata": {
        "id": "DKOtn6e1ehLL",
        "outputId": "282f8809-2109-4177-dc26-215a9bf82e24",
        "colab": {
          "base_uri": "https://localhost:8080/"
        }
      },
      "outputs": [
        {
          "output_type": "execute_result",
          "data": {
            "text/plain": [
              "Index(['total_images', 'last_price', 'total_area', 'first_day_exposition',\n",
              "       'rooms', 'ceiling_height', 'floors_total', 'living_area', 'floor',\n",
              "       'is_apartment', 'studio', 'open_plan', 'kitchen_area', 'balcony',\n",
              "       'locality_name', 'airports_nearest', 'cityCenters_nearest',\n",
              "       'parks_around3000', 'parks_nearest', 'ponds_around3000',\n",
              "       'ponds_nearest', 'days_exposition'],\n",
              "      dtype='object')"
            ]
          },
          "metadata": {},
          "execution_count": 16
        }
      ],
      "source": [
        "df.columns"
      ]
    },
    {
      "cell_type": "code",
      "execution_count": 17,
      "metadata": {
        "id": "LGt4NkQbehLM",
        "outputId": "3a9b6e17-b217-4758-8538-c6a924984162",
        "colab": {
          "base_uri": "https://localhost:8080/"
        }
      },
      "outputs": [
        {
          "output_type": "stream",
          "name": "stdout",
          "text": [
            "total_images  :  [ 0  1  2  3  4  5  6  7  8  9 10 11 12 13 14 15 16 17 18 19 20 21 22 23\n",
            " 24 25 26 27 28 29 30 31 32 35 37 39 42 50]\n",
            "last_price  :  [1.219e+04 4.300e+05 4.400e+05 ... 4.013e+08 4.200e+08 7.630e+08]\n",
            "total_area  :  [ 12.   13.   13.2 ... 631.  631.2 900. ]\n",
            "first_day_exposition  :  ['2014-11-27T00:00:00.000000000' '2014-11-29T00:00:00.000000000'\n",
            " '2014-12-04T00:00:00.000000000' ... '2019-05-01T00:00:00.000000000'\n",
            " '2019-05-02T00:00:00.000000000' '2019-05-03T00:00:00.000000000']\n",
            "rooms  :  [ 0  1  2  3  4  5  6  7  8  9 10 11 12 14 15 16 19]\n",
            "ceiling_height  :  [  1.           1.2          1.75         2.           2.2\n",
            "   2.25         2.3          2.34         2.4          2.45\n",
            "   2.46         2.47         2.48         2.49         2.5\n",
            "   2.51         2.52         2.53         2.54         2.55\n",
            "   2.56         2.57         2.58         2.59         2.59444444\n",
            "   2.59971941   2.6          2.61         2.62         2.63\n",
            "   2.64         2.64025791   2.65         2.66         2.67\n",
            "   2.67555556   2.68         2.6852       2.69         2.7\n",
            "   2.70458182   2.70925926   2.71         2.71169231   2.71484444\n",
            "   2.71547009   2.72         2.73         2.73154519   2.73156028\n",
            "   2.74         2.74         2.74750289   2.74914513   2.75\n",
            "   2.75377551   2.75685897   2.76         2.77         2.77659656\n",
            "   2.77873134   2.78         2.78238532   2.79         2.79319149\n",
            "   2.8          2.81         2.82         2.83         2.84\n",
            "   2.85         2.85156682   2.85681818   2.86         2.87\n",
            "   2.88         2.89         2.9          2.91         2.92\n",
            "   2.93         2.94         2.9469598    2.95         2.96\n",
            "   2.96947368   2.97         2.98         2.98683143   2.99\n",
            "   3.           3.0067907    3.01         3.02         3.03\n",
            "   3.04         3.05         3.06         3.07         3.08\n",
            "   3.09         3.1          3.11         3.12         3.12074313\n",
            "   3.13         3.14         3.15         3.16         3.17\n",
            "   3.18         3.2          3.21         3.22         3.23\n",
            "   3.24         3.25         3.26         3.27         3.28\n",
            "   3.29         3.3          3.31         3.32         3.33\n",
            "   3.34         3.35         3.36         3.37         3.38\n",
            "   3.39         3.4          3.42         3.43         3.44\n",
            "   3.45         3.46         3.47         3.48         3.49\n",
            "   3.5          3.51         3.52         3.53         3.54\n",
            "   3.55         3.56         3.57         3.58         3.59\n",
            "   3.6          3.62         3.63         3.65         3.66\n",
            "   3.67         3.68         3.69         3.7          3.75\n",
            "   3.76         3.78         3.8          3.82         3.83\n",
            "   3.84         3.85         3.86         3.87         3.88\n",
            "   3.9          3.93         3.95         3.98         4.\n",
            "   4.06         4.1          4.14         4.15         4.19\n",
            "   4.2          4.25         4.3          4.37         4.4\n",
            "   4.45         4.5          4.65         4.7          4.8\n",
            "   4.9          5.           5.2          5.3          5.5\n",
            "   5.6          5.8          6.           8.           8.3\n",
            "  10.3         14.          14.85        20.          22.6\n",
            "  24.          25.          26.          27.          27.5\n",
            "  32.         100.        ]\n",
            "floors_total  :  [ 1  2  3  4  5  6  7  8  9 10 11 12 13 14 15 16 17 18 19 20 21 22 23 24\n",
            " 25 26 27 28 29 34 35 36 37 52 60]\n",
            "living_area  :  [  2.           3.           5.         ... 356.36820263 409.\n",
            " 409.7       ]\n",
            "floor  :  [ 1  2  3  4  5  6  7  8  9 10 11 12 13 14 15 16 17 18 19 20 21 22 23 24\n",
            " 25 26 27 28 29 30 31 33]\n",
            "is_apartment  :  [False  True]\n",
            "studio  :  [False  True]\n",
            "open_plan  :  [False  True]\n",
            "kitchen_area  :  [  1.3          2.           2.24824534 ... 100.7        107.\n",
            " 112.        ]\n",
            "balcony  :  [0 1 2 3 4 5]\n",
            "locality_name  :  ['Бокситогорск' 'Волосово' 'Волхов' 'Всеволожск' 'Выборг' 'Высоцк'\n",
            " 'Гатчина' 'Зеленогорск' 'Ивангород' 'Каменногорск' 'Кингисепп' 'Кириши'\n",
            " 'Кировск' 'Колпино' 'Коммунар' 'Красное Село' 'Кронштадт' 'Кудрово'\n",
            " 'Лодейное Поле' 'Ломоносов' 'Луга' 'Любань' 'Мурино' 'Никольское'\n",
            " 'Новая Ладога' 'Отрадное' 'Павловск' 'Петергоф' 'Пикалёво' 'Подпорожье'\n",
            " 'Приморск' 'Приозерск' 'Пушкин' 'Санкт-Петербург' 'Светогорск'\n",
            " 'Сертолово' 'Сестрорецк' 'Сланцы' 'Сосновый Бор' 'Сясьстрой' 'Тихвин'\n",
            " 'Тосно' 'Шлиссельбург' 'городской посёлок Большая Ижора'\n",
            " 'городской посёлок Янино-1' 'деревня Агалатово' 'деревня Аро'\n",
            " 'деревня Батово' 'деревня Бегуницы' 'деревня Белогорка'\n",
            " 'деревня Большая Вруда' 'деревня Большая Пустомержа'\n",
            " 'деревня Большие Колпаны' 'деревня Большое Рейзино'\n",
            " 'деревня Большой Сабск' 'деревня Бор' 'деревня Борисова Грива'\n",
            " 'деревня Ваганово' 'деревня Вартемяги' 'деревня Вахнова Кара'\n",
            " 'деревня Выскатка' 'деревня Гарболово' 'деревня Глинка'\n",
            " 'деревня Горбунки' 'деревня Гостилицы' 'деревня Заклинье'\n",
            " 'деревня Заневка' 'деревня Зимитицы' 'деревня Извара' 'деревня Иссад'\n",
            " 'деревня Калитино' 'деревня Кальтино' 'деревня Камышовка'\n",
            " 'деревня Каськово' 'деревня Келози' 'деревня Кипень' 'деревня Кисельня'\n",
            " 'деревня Колтуши' 'деревня Коркино' 'деревня Котлы' 'деревня Кривко'\n",
            " 'деревня Кудрово' 'деревня Кузьмолово' 'деревня Курковицы'\n",
            " 'деревня Куровицы' 'деревня Куттузи' 'деревня Лаврики' 'деревня Лаголово'\n",
            " 'деревня Лампово' 'деревня Лесколово' 'деревня Лопухинка'\n",
            " 'деревня Лупполово' 'деревня Малая Романовка' 'деревня Малое Верево'\n",
            " 'деревня Малое Карлино' 'деревня Малые Колпаны' 'деревня Мануйлово'\n",
            " 'деревня Меньково' 'деревня Мины' 'деревня Мистолово' 'деревня Ненимяки'\n",
            " 'деревня Нижние Осельки' 'деревня Нижняя' 'деревня Низино'\n",
            " 'деревня Новое Девяткино' 'деревня Новолисино' 'деревня Нурма'\n",
            " 'деревня Оржицы' 'деревня Парицы' 'деревня Пельгора' 'деревня Пеники'\n",
            " 'деревня Пижма' 'деревня Пикколово' 'деревня Пудомяги' 'деревня Пустынка'\n",
            " 'деревня Пчева' 'деревня Рабитицы' 'деревня Разбегаево'\n",
            " 'деревня Раздолье' 'деревня Разметелево' 'деревня Рапполово'\n",
            " 'деревня Реброво' 'деревня Русско' 'деревня Сижно' 'деревня Снегирёвка'\n",
            " 'деревня Старая' 'деревня Старая Пустошь' 'деревня Старое Хинколово'\n",
            " 'деревня Старополье' 'деревня Старосиверская' 'деревня Старые Бегуницы'\n",
            " 'деревня Суоранда' 'деревня Сяськелево' 'деревня Тарасово'\n",
            " 'деревня Терпилицы' 'деревня Тихковицы' 'деревня Тойворово'\n",
            " 'деревня Торосово' 'деревня Торошковичи' 'деревня Трубников Бор'\n",
            " 'деревня Фалилеево' 'деревня Фёдоровское' 'деревня Хапо-Ое'\n",
            " 'деревня Хязельки' 'деревня Чудской Бор' 'деревня Шпаньково'\n",
            " 'деревня Щеглово' 'деревня Юкки' 'деревня Ялгино' 'деревня Яльгелево'\n",
            " 'деревня Ям-Тесово' 'коттеджный посёлок Кивеннапа Север'\n",
            " 'коттеджный посёлок Лесное' 'коттеджный посёлок Счастье'\n",
            " 'посёлок Александровская' 'посёлок Алексеевка' 'посёлок Аннино'\n",
            " 'посёлок Барышево' 'посёлок Белоостров' 'посёлок Большая Ижора'\n",
            " 'посёлок Бугры' 'посёлок Будогощь' 'посёлок Важины' 'посёлок Виллози'\n",
            " 'посёлок Вознесенье' 'посёлок Возрождение' 'посёлок Войсковицы'\n",
            " 'посёлок Войскорово' 'посёлок Володарское' 'посёлок Вырица'\n",
            " 'посёлок Высокоключевой' 'посёлок Гаврилово' 'посёлок Гарболово'\n",
            " 'посёлок Гладкое' 'посёлок Глажево' 'посёлок Глебычево'\n",
            " 'посёлок Гончарово' 'посёлок Громово' 'посёлок Дзержинского'\n",
            " 'посёлок Дружная Горка' 'посёлок Дружноселье' 'посёлок Дубровка'\n",
            " 'посёлок Елизаветино' 'посёлок Ефимовский' 'посёлок Жилгородок'\n",
            " 'посёлок Жилпосёлок' 'посёлок Житково' 'посёлок Заводской'\n",
            " 'посёлок Запорожское' 'посёлок Зимитицы' 'посёлок Ильичёво'\n",
            " 'посёлок Калитино' 'посёлок Каложицы' 'посёлок Кикерино'\n",
            " 'посёлок Кингисеппский' 'посёлок Кирпичное' 'посёлок Кобралово'\n",
            " 'посёлок Кобринское' 'посёлок Коммунары' 'посёлок Кондратьево'\n",
            " 'посёлок Коробицыно' 'посёлок Котельский' 'посёлок Красная Долина'\n",
            " 'посёлок Красносельское' 'посёлок Красный Бор' 'посёлок Кузнечное'\n",
            " 'посёлок Кузьмоловский' 'посёлок Лебяжье' 'посёлок Левашово'\n",
            " 'посёлок Ленинское' 'посёлок Лесное' 'посёлок Лесогорский'\n",
            " 'посёлок Лисий Нос' 'посёлок Лукаши' 'посёлок Любань' 'посёлок Мга'\n",
            " 'посёлок Мельниково' 'посёлок Металлострой' 'посёлок Мичуринское'\n",
            " 'посёлок Молодцово' 'посёлок Молодёжное' 'посёлок Мурино'\n",
            " 'посёлок Мыза-Ивановка' 'посёлок Назия' 'посёлок Никольский'\n",
            " 'посёлок Новогорелово' 'посёлок Новоселье' 'посёлок Новый Свет'\n",
            " 'посёлок Новый Учхоз' 'посёлок Оредеж' 'посёлок Павлово'\n",
            " 'посёлок Пансионат Зелёный Бор' 'посёлок Парголово'\n",
            " 'посёлок Первомайское' 'посёлок Перово' 'посёлок Песочный'\n",
            " 'посёлок Петро-Славянка' 'посёлок Петровское'\n",
            " 'посёлок Платформа 69-й километр' 'посёлок Плодовое' 'посёлок Плоское'\n",
            " 'посёлок Победа' 'посёлок Поляны' 'посёлок Понтонный' 'посёлок Почап'\n",
            " 'посёлок Починок' 'посёлок Пригородный' 'посёлок Приладожский'\n",
            " 'посёлок Пудость' 'посёлок Пушное' 'посёлок Пчевжа' 'посёлок Рабитицы'\n",
            " 'посёлок Рахья' 'посёлок Репино' 'посёлок Романовка' 'посёлок Ромашки'\n",
            " 'посёлок Ропша' 'посёлок Рощино' 'посёлок Рябово' 'посёлок Сапёрное'\n",
            " 'посёлок Сапёрный' 'посёлок Свирьстрой' 'посёлок Севастьяново'\n",
            " 'посёлок Селезнёво' 'посёлок Сельцо' 'посёлок Семиозерье'\n",
            " 'посёлок Семрино' 'посёлок Серебрянский' 'посёлок Сиверский'\n",
            " 'посёлок Синявино' 'посёлок Советский' 'посёлок Совхозный'\n",
            " 'посёлок Сосново' 'посёлок Старая Малукса' 'посёлок Стеклянный'\n",
            " 'посёлок Стрельна' 'посёлок Суйда' 'посёлок Сумино' 'посёлок Суходолье'\n",
            " 'посёлок Тайцы' 'посёлок Тельмана' 'посёлок Терволово' 'посёлок Токсово'\n",
            " 'посёлок Торковичи' 'посёлок Торфяное' 'посёлок Тёсово-4'\n",
            " 'посёлок Углово' 'посёлок Ульяновка' 'посёлок Усть-Ижора'\n",
            " 'посёлок Усть-Луга' 'посёлок Ушаки' 'посёлок Форносово'\n",
            " 'посёлок Форт Красная Горка' 'посёлок Фёдоровское' 'посёлок Цвелодубово'\n",
            " 'посёлок Цвылёво' 'посёлок Шугозеро' 'посёлок Шушары' 'посёлок Щеглово'\n",
            " 'посёлок Янино-1' 'посёлок имени Морозова' 'посёлок имени Свердлова'\n",
            " 'посёлок при железнодорожной станции Вещево'\n",
            " 'посёлок при железнодорожной станции Приветнинское'\n",
            " 'посёлок станции Вещево' 'посёлок станции Громово'\n",
            " 'посёлок станции Корнево' 'посёлок станции Лужайка'\n",
            " 'посёлок станции Приветнинское' 'посёлок станции Свирь'\n",
            " 'садоводческое некоммерческое товарищество Лесная Поляна'\n",
            " 'садовое товарищество Новая Ропша' 'садовое товарищество Приладожский'\n",
            " 'садовое товарищество Рахья' 'садовое товарищество Садко' 'село Копорье'\n",
            " 'село Никольское' 'село Павлово' 'село Паша' 'село Путилово'\n",
            " 'село Рождествено' 'село Русско-Высоцкое' 'село Старая Ладога' 'село Шум'\n",
            " nan]\n",
            "airports_nearest  :  [    0.  6450.  6914. ... 84665. 84853. 84869.]\n",
            "cityCenters_nearest  :  [  181.   208.   215. ... 65764. 65952. 65968.]\n",
            "parks_around3000  :  [0 1 2 3]\n",
            "parks_nearest  :  [1.000e+00 3.000e+00 4.000e+00 7.000e+00 9.000e+00 1.000e+01 1.100e+01\n",
            " 1.200e+01 1.300e+01 1.400e+01 1.500e+01 1.600e+01 1.700e+01 1.800e+01\n",
            " 1.900e+01 2.000e+01 2.100e+01 2.200e+01 2.300e+01 2.400e+01 2.700e+01\n",
            " 2.800e+01 3.000e+01 3.200e+01 3.300e+01 3.400e+01 3.500e+01 3.600e+01\n",
            " 3.700e+01 3.800e+01 3.900e+01 4.000e+01 4.100e+01 4.200e+01 4.300e+01\n",
            " 4.400e+01 4.500e+01 4.600e+01 4.700e+01 4.800e+01 4.900e+01 5.000e+01\n",
            " 5.100e+01 5.200e+01 5.300e+01 5.400e+01 5.500e+01 5.600e+01 5.700e+01\n",
            " 5.800e+01 5.900e+01 6.000e+01 6.100e+01 6.200e+01 6.300e+01 6.400e+01\n",
            " 6.500e+01 6.600e+01 6.700e+01 6.800e+01 6.900e+01 7.100e+01 7.200e+01\n",
            " 7.300e+01 7.400e+01 7.500e+01 7.600e+01 7.700e+01 7.800e+01 8.000e+01\n",
            " 8.100e+01 8.200e+01 8.300e+01 8.400e+01 8.500e+01 8.600e+01 8.700e+01\n",
            " 8.800e+01 9.000e+01 9.100e+01 9.200e+01 9.300e+01 9.400e+01 9.500e+01\n",
            " 9.600e+01 9.700e+01 9.800e+01 9.900e+01 1.000e+02 1.010e+02 1.020e+02\n",
            " 1.030e+02 1.040e+02 1.050e+02 1.060e+02 1.070e+02 1.080e+02 1.090e+02\n",
            " 1.100e+02 1.120e+02 1.130e+02 1.140e+02 1.150e+02 1.160e+02 1.170e+02\n",
            " 1.180e+02 1.190e+02 1.200e+02 1.210e+02 1.220e+02 1.230e+02 1.240e+02\n",
            " 1.250e+02 1.260e+02 1.270e+02 1.280e+02 1.290e+02 1.300e+02 1.310e+02\n",
            " 1.320e+02 1.330e+02 1.340e+02 1.350e+02 1.360e+02 1.370e+02 1.380e+02\n",
            " 1.390e+02 1.400e+02 1.410e+02 1.420e+02 1.440e+02 1.450e+02 1.460e+02\n",
            " 1.470e+02 1.480e+02 1.490e+02 1.500e+02 1.510e+02 1.520e+02 1.530e+02\n",
            " 1.540e+02 1.550e+02 1.560e+02 1.570e+02 1.580e+02 1.590e+02 1.600e+02\n",
            " 1.610e+02 1.620e+02 1.630e+02 1.640e+02 1.650e+02 1.660e+02 1.670e+02\n",
            " 1.680e+02 1.690e+02 1.700e+02 1.710e+02 1.720e+02 1.730e+02 1.740e+02\n",
            " 1.750e+02 1.760e+02 1.770e+02 1.780e+02 1.790e+02 1.800e+02 1.810e+02\n",
            " 1.820e+02 1.830e+02 1.840e+02 1.850e+02 1.860e+02 1.870e+02 1.880e+02\n",
            " 1.890e+02 1.900e+02 1.910e+02 1.920e+02 1.930e+02 1.940e+02 1.950e+02\n",
            " 1.960e+02 1.970e+02 1.980e+02 1.990e+02 2.000e+02 2.010e+02 2.020e+02\n",
            " 2.030e+02 2.040e+02 2.050e+02 2.060e+02 2.070e+02 2.080e+02 2.090e+02\n",
            " 2.100e+02 2.110e+02 2.120e+02 2.130e+02 2.150e+02 2.160e+02 2.170e+02\n",
            " 2.180e+02 2.190e+02 2.200e+02 2.210e+02 2.220e+02 2.230e+02 2.240e+02\n",
            " 2.250e+02 2.260e+02 2.270e+02 2.280e+02 2.290e+02 2.300e+02 2.310e+02\n",
            " 2.320e+02 2.330e+02 2.340e+02 2.350e+02 2.360e+02 2.370e+02 2.380e+02\n",
            " 2.390e+02 2.400e+02 2.410e+02 2.420e+02 2.430e+02 2.440e+02 2.450e+02\n",
            " 2.460e+02 2.470e+02 2.480e+02 2.490e+02 2.500e+02 2.510e+02 2.520e+02\n",
            " 2.530e+02 2.540e+02 2.550e+02 2.560e+02 2.570e+02 2.580e+02 2.590e+02\n",
            " 2.600e+02 2.610e+02 2.620e+02 2.630e+02 2.640e+02 2.650e+02 2.660e+02\n",
            " 2.670e+02 2.680e+02 2.690e+02 2.700e+02 2.710e+02 2.720e+02 2.730e+02\n",
            " 2.740e+02 2.750e+02 2.760e+02 2.770e+02 2.780e+02 2.790e+02 2.800e+02\n",
            " 2.810e+02 2.820e+02 2.830e+02 2.840e+02 2.850e+02 2.860e+02 2.870e+02\n",
            " 2.880e+02 2.890e+02 2.900e+02 2.910e+02 2.920e+02 2.930e+02 2.940e+02\n",
            " 2.950e+02 2.960e+02 2.970e+02 2.980e+02 2.990e+02 3.000e+02 3.010e+02\n",
            " 3.020e+02 3.030e+02 3.040e+02 3.050e+02 3.060e+02 3.070e+02 3.080e+02\n",
            " 3.090e+02 3.100e+02 3.110e+02 3.120e+02 3.130e+02 3.140e+02 3.150e+02\n",
            " 3.160e+02 3.170e+02 3.180e+02 3.190e+02 3.200e+02 3.210e+02 3.220e+02\n",
            " 3.230e+02 3.240e+02 3.250e+02 3.260e+02 3.270e+02 3.280e+02 3.290e+02\n",
            " 3.300e+02 3.310e+02 3.320e+02 3.330e+02 3.340e+02 3.350e+02 3.360e+02\n",
            " 3.370e+02 3.380e+02 3.390e+02 3.400e+02 3.410e+02 3.420e+02 3.430e+02\n",
            " 3.440e+02 3.450e+02 3.460e+02 3.470e+02 3.480e+02 3.490e+02 3.500e+02\n",
            " 3.510e+02 3.520e+02 3.530e+02 3.540e+02 3.550e+02 3.560e+02 3.570e+02\n",
            " 3.580e+02 3.590e+02 3.600e+02 3.610e+02 3.620e+02 3.630e+02 3.640e+02\n",
            " 3.650e+02 3.660e+02 3.670e+02 3.680e+02 3.690e+02 3.700e+02 3.710e+02\n",
            " 3.720e+02 3.730e+02 3.740e+02 3.750e+02 3.760e+02 3.770e+02 3.780e+02\n",
            " 3.790e+02 3.800e+02 3.810e+02 3.820e+02 3.830e+02 3.840e+02 3.850e+02\n",
            " 3.860e+02 3.870e+02 3.880e+02 3.890e+02 3.900e+02 3.910e+02 3.920e+02\n",
            " 3.930e+02 3.940e+02 3.950e+02 3.960e+02 3.970e+02 3.980e+02 3.990e+02\n",
            " 4.000e+02 4.010e+02 4.020e+02 4.030e+02 4.040e+02 4.050e+02 4.060e+02\n",
            " 4.070e+02 4.080e+02 4.090e+02 4.100e+02 4.110e+02 4.120e+02 4.130e+02\n",
            " 4.140e+02 4.150e+02 4.160e+02 4.170e+02 4.180e+02 4.190e+02 4.200e+02\n",
            " 4.210e+02 4.220e+02 4.230e+02 4.240e+02 4.250e+02 4.260e+02 4.270e+02\n",
            " 4.280e+02 4.290e+02 4.300e+02 4.310e+02 4.320e+02 4.330e+02 4.340e+02\n",
            " 4.350e+02 4.360e+02 4.370e+02 4.380e+02 4.390e+02 4.400e+02 4.410e+02\n",
            " 4.420e+02 4.430e+02 4.440e+02 4.450e+02 4.460e+02 4.470e+02 4.480e+02\n",
            " 4.490e+02 4.500e+02 4.510e+02 4.520e+02 4.530e+02 4.540e+02 4.550e+02\n",
            " 4.560e+02 4.570e+02 4.580e+02 4.590e+02 4.600e+02 4.610e+02 4.620e+02\n",
            " 4.630e+02 4.640e+02 4.650e+02 4.660e+02 4.670e+02 4.680e+02 4.690e+02\n",
            " 4.700e+02 4.710e+02 4.720e+02 4.730e+02 4.740e+02 4.750e+02 4.760e+02\n",
            " 4.770e+02 4.780e+02 4.790e+02 4.800e+02 4.810e+02 4.820e+02 4.830e+02\n",
            " 4.840e+02 4.850e+02 4.860e+02 4.870e+02 4.880e+02 4.890e+02 4.900e+02\n",
            " 4.910e+02 4.920e+02 4.930e+02 4.940e+02 4.950e+02 4.960e+02 4.970e+02\n",
            " 4.980e+02 4.990e+02 5.000e+02 5.010e+02 5.020e+02 5.030e+02 5.040e+02\n",
            " 5.050e+02 5.060e+02 5.070e+02 5.080e+02 5.090e+02 5.100e+02 5.110e+02\n",
            " 5.120e+02 5.130e+02 5.140e+02 5.150e+02 5.160e+02 5.170e+02 5.180e+02\n",
            " 5.190e+02 5.200e+02 5.210e+02 5.220e+02 5.230e+02 5.240e+02 5.250e+02\n",
            " 5.260e+02 5.270e+02 5.280e+02 5.290e+02 5.300e+02 5.310e+02 5.320e+02\n",
            " 5.330e+02 5.340e+02 5.350e+02 5.360e+02 5.370e+02 5.380e+02 5.390e+02\n",
            " 5.400e+02 5.410e+02 5.420e+02 5.430e+02 5.440e+02 5.450e+02 5.460e+02\n",
            " 5.470e+02 5.480e+02 5.490e+02 5.500e+02 5.510e+02 5.520e+02 5.530e+02\n",
            " 5.540e+02 5.550e+02 5.560e+02 5.570e+02 5.580e+02 5.590e+02 5.600e+02\n",
            " 5.610e+02 5.620e+02 5.630e+02 5.640e+02 5.650e+02 5.660e+02 5.670e+02\n",
            " 5.680e+02 5.690e+02 5.700e+02 5.710e+02 5.720e+02 5.730e+02 5.740e+02\n",
            " 5.750e+02 5.760e+02 5.770e+02 5.780e+02 5.790e+02 5.800e+02 5.810e+02\n",
            " 5.820e+02 5.830e+02 5.840e+02 5.850e+02 5.860e+02 5.870e+02 5.880e+02\n",
            " 5.890e+02 5.900e+02 5.910e+02 5.920e+02 5.930e+02 5.940e+02 5.950e+02\n",
            " 5.960e+02 5.970e+02 5.980e+02 5.990e+02 6.000e+02 6.010e+02 6.020e+02\n",
            " 6.030e+02 6.040e+02 6.050e+02 6.060e+02 6.070e+02 6.080e+02 6.090e+02\n",
            " 6.100e+02 6.110e+02 6.120e+02 6.130e+02 6.140e+02 6.150e+02 6.160e+02\n",
            " 6.170e+02 6.180e+02 6.190e+02 6.200e+02 6.210e+02 6.220e+02 6.230e+02\n",
            " 6.240e+02 6.250e+02 6.260e+02 6.270e+02 6.280e+02 6.290e+02 6.300e+02\n",
            " 6.310e+02 6.320e+02 6.330e+02 6.340e+02 6.350e+02 6.360e+02 6.370e+02\n",
            " 6.380e+02 6.390e+02 6.400e+02 6.410e+02 6.420e+02 6.430e+02 6.440e+02\n",
            " 6.450e+02 6.460e+02 6.470e+02 6.480e+02 6.490e+02 6.500e+02 6.510e+02\n",
            " 6.520e+02 6.530e+02 6.540e+02 6.550e+02 6.560e+02 6.570e+02 6.580e+02\n",
            " 6.590e+02 6.600e+02 6.610e+02 6.620e+02 6.630e+02 6.640e+02 6.650e+02\n",
            " 6.660e+02 6.670e+02 6.680e+02 6.690e+02 6.700e+02 6.710e+02 6.720e+02\n",
            " 6.730e+02 6.740e+02 6.750e+02 6.760e+02 6.770e+02 6.780e+02 6.790e+02\n",
            " 6.800e+02 6.810e+02 6.820e+02 6.830e+02 6.840e+02 6.850e+02 6.860e+02\n",
            " 6.870e+02 6.880e+02 6.890e+02 6.900e+02 6.910e+02 6.920e+02 6.930e+02\n",
            " 6.940e+02 6.950e+02 6.960e+02 6.970e+02 6.980e+02 6.990e+02 7.000e+02\n",
            " 7.010e+02 7.020e+02 7.030e+02 7.040e+02 7.050e+02 7.060e+02 7.070e+02\n",
            " 7.080e+02 7.090e+02 7.100e+02 7.110e+02 7.120e+02 7.130e+02 7.140e+02\n",
            " 7.150e+02 7.160e+02 7.170e+02 7.180e+02 7.190e+02 7.210e+02 7.220e+02\n",
            " 7.230e+02 7.240e+02 7.250e+02 7.260e+02 7.270e+02 7.280e+02 7.290e+02\n",
            " 7.300e+02 7.310e+02 7.320e+02 7.330e+02 7.350e+02 7.360e+02 7.370e+02\n",
            " 7.380e+02 7.390e+02 7.400e+02 7.410e+02 7.420e+02 7.440e+02 7.450e+02\n",
            " 7.460e+02 7.480e+02 7.490e+02 7.510e+02 7.530e+02 7.540e+02 7.550e+02\n",
            " 7.560e+02 7.570e+02 7.580e+02 7.590e+02 7.600e+02 7.610e+02 7.620e+02\n",
            " 7.630e+02 7.640e+02 7.650e+02 7.660e+02 7.670e+02 7.680e+02 7.690e+02\n",
            " 7.700e+02 7.710e+02 7.750e+02 7.780e+02 7.790e+02 7.800e+02 7.820e+02\n",
            " 7.830e+02 7.840e+02 7.860e+02 7.870e+02 7.880e+02 7.890e+02 7.900e+02\n",
            " 7.910e+02 7.920e+02 7.930e+02 7.940e+02 7.960e+02 7.970e+02 7.980e+02\n",
            " 7.990e+02 8.000e+02 8.010e+02 8.020e+02 8.030e+02 8.040e+02 8.050e+02\n",
            " 8.060e+02 8.080e+02 8.090e+02 8.110e+02 8.120e+02 8.140e+02 8.160e+02\n",
            " 8.170e+02 8.200e+02 8.220e+02 8.230e+02 8.260e+02 8.270e+02 8.280e+02\n",
            " 8.290e+02 8.300e+02 8.310e+02 8.320e+02 8.340e+02 8.350e+02 8.390e+02\n",
            " 8.410e+02 8.420e+02 8.430e+02 8.450e+02 8.460e+02 8.470e+02 8.480e+02\n",
            " 8.500e+02 8.520e+02 8.530e+02 8.560e+02 8.580e+02 8.590e+02 8.600e+02\n",
            " 8.610e+02 8.620e+02 8.630e+02 8.660e+02 8.670e+02 8.680e+02 8.690e+02\n",
            " 8.700e+02 8.730e+02 8.750e+02 8.790e+02 8.850e+02 8.860e+02 8.870e+02\n",
            " 8.880e+02 8.890e+02 8.900e+02 8.930e+02 8.980e+02 9.030e+02 9.040e+02\n",
            " 9.060e+02 9.090e+02 9.130e+02 9.150e+02 9.160e+02 9.170e+02 9.190e+02\n",
            " 9.200e+02 9.210e+02 9.270e+02 9.290e+02 9.320e+02 9.330e+02 9.340e+02\n",
            " 9.360e+02 9.370e+02 9.380e+02 9.410e+02 9.420e+02 9.430e+02 9.450e+02\n",
            " 9.510e+02 9.520e+02 9.560e+02 9.610e+02 9.630e+02 9.650e+02 9.660e+02\n",
            " 9.670e+02 9.680e+02 9.690e+02 9.730e+02 9.740e+02 9.790e+02 9.800e+02\n",
            " 9.810e+02 9.850e+02 9.930e+02 9.970e+02 1.007e+03 1.008e+03 1.011e+03\n",
            " 1.021e+03 1.022e+03 1.028e+03 1.040e+03 1.041e+03 1.049e+03 1.053e+03\n",
            " 1.057e+03 1.061e+03 1.064e+03 1.065e+03 1.069e+03 1.073e+03 1.074e+03\n",
            " 1.077e+03 1.079e+03 1.086e+03 1.094e+03 1.097e+03 1.098e+03 1.103e+03\n",
            " 1.114e+03 1.120e+03 1.133e+03 1.145e+03 1.148e+03 1.150e+03 1.167e+03\n",
            " 1.181e+03 1.186e+03 1.188e+03 1.190e+03 1.191e+03 1.199e+03 1.200e+03\n",
            " 1.205e+03 1.211e+03 1.213e+03 1.215e+03 1.228e+03 1.248e+03 1.256e+03\n",
            " 1.262e+03 1.264e+03 1.270e+03 1.272e+03 1.299e+03 1.304e+03 1.312e+03\n",
            " 1.326e+03 1.329e+03 1.342e+03 1.354e+03 1.361e+03 1.362e+03 1.364e+03\n",
            " 1.400e+03 1.416e+03 1.423e+03 1.424e+03 1.443e+03 1.477e+03 1.481e+03\n",
            " 1.496e+03 1.499e+03 1.501e+03 1.510e+03 1.514e+03 1.562e+03 1.564e+03\n",
            " 1.568e+03 1.586e+03 1.596e+03 1.620e+03 1.648e+03 1.657e+03 1.722e+03\n",
            " 1.731e+03 1.756e+03 1.767e+03 1.790e+03 1.798e+03 1.802e+03 1.809e+03\n",
            " 1.887e+03 1.909e+03 1.942e+03 1.951e+03 2.009e+03 2.026e+03 2.066e+03\n",
            " 2.102e+03 2.131e+03 2.137e+03 2.209e+03 2.218e+03 2.245e+03 2.276e+03\n",
            " 2.295e+03 2.348e+03 2.409e+03 2.416e+03 2.427e+03 2.467e+03 2.489e+03\n",
            " 2.532e+03 2.555e+03 2.633e+03 2.665e+03 2.711e+03 2.747e+03 2.768e+03\n",
            " 2.847e+03 2.880e+03 2.888e+03 2.905e+03 2.984e+03 3.013e+03 3.064e+03\n",
            " 3.190e+03       nan]\n",
            "ponds_around3000  :  [0 1 2 3]\n",
            "ponds_nearest  :  [  13.   16.   19. ... 1341. 1344.   nan]\n",
            "days_exposition  :  [1.000e+00 2.000e+00 3.000e+00 ... 1.572e+03 1.580e+03       nan]\n"
          ]
        }
      ],
      "source": [
        "#изучим уникальные значения в каждом столбце и определим аномальные значения\n",
        "for i in df.columns:\n",
        "    print(i, ' : ', df[i].sort_values().unique())\n"
      ]
    },
    {
      "cell_type": "code",
      "execution_count": 18,
      "metadata": {
        "id": "-zdNP2E5ehLN",
        "outputId": "2b256add-215c-4181-d1e2-8ea2a57cfff3",
        "colab": {
          "base_uri": "https://localhost:8080/"
        }
      },
      "outputs": [
        {
          "output_type": "stream",
          "name": "stdout",
          "text": [
            "23698\n",
            "23658\n",
            "23697\n"
          ]
        }
      ],
      "source": [
        "print(df['total_images'].count())\n",
        "print(df['total_images'].loc[(df['ceiling_height']>2)&(df['ceiling_height']<10)].count())\n",
        "print(df['total_images'].loc[(df['last_price']>100000)].count())"
      ]
    },
    {
      "cell_type": "markdown",
      "metadata": {
        "id": "QfnWOnwKehLN"
      },
      "source": [
        "Данные о квартирах с высотой потолков ниже 2 м. и выще 10 м. кажутся неправдоподобными. \n",
        "Также как и квартиры с ценой ниже 100.000 рублей. Их процент от всех данных составляет 0,17% и 0,004% \n",
        "соответственно. Поэтому мы можем их удалить. \n",
        "\n",
        "Остальные значения являются правдоподобными, но содержат в себе редкие значения. В дальнейшем, если будет необходимо для анализа, редкие значения мы удалим."
      ]
    },
    {
      "cell_type": "code",
      "source": [
        "#удалим неправдоподобные значения из данных\n",
        "df=df.loc[(df['ceiling_height']>2)&(df['ceiling_height']<10)]\n",
        "df=df.loc[(df['last_price']>100000)]"
      ],
      "metadata": {
        "id": "cE-wt4UUO9YC"
      },
      "execution_count": 19,
      "outputs": []
    },
    {
      "cell_type": "markdown",
      "metadata": {
        "id": "HgS0oUNhehLP"
      },
      "source": [
        "### Анализ данных"
      ]
    },
    {
      "cell_type": "code",
      "execution_count": 20,
      "metadata": {
        "id": "IXEd3l53ehLP"
      },
      "outputs": [],
      "source": [
        "#добавим в таблицу следующие столбцы\n",
        "#цена одного квадратного метра\n",
        "df['price_for_metre']=df['last_price']/df['total_area']\n",
        "#день публикации объявления (0 - понедельник, 1 - вторник и т.д.)\n",
        "df['weekday']=df['first_day_exposition'].dt.weekday\n",
        "# месяц публикации объявления\n",
        "df['month']=pd.DatetimeIndex(df['first_day_exposition']).month\n",
        "#год публикации объявления\n",
        "df['year']=pd.DatetimeIndex(df['first_day_exposition']).year\n",
        "#тип этажа квартиры (значения — «первый», «последний», «другой»)\n",
        "def floor_type(row):\n",
        "    if row['floor'] ==1:\n",
        "        return 'Первый'\n",
        "    if row['floor']==row['floors_total']:\n",
        "        return 'Последний'\n",
        "    else:\n",
        "        return 'Другой'\n",
        "df['floor_type']=df.apply(floor_type,axis=1)\n",
        "#расстояние в км до центра города\n",
        "df['cityCenters_km']=round(df['cityCenters_nearest']/1000,0)\n",
        "\n"
      ]
    },
    {
      "cell_type": "code",
      "execution_count": 21,
      "metadata": {
        "id": "iwqcxU6tehLQ",
        "outputId": "d7621063-aa0e-4c99-ae59-1e7ce5920fd1",
        "colab": {
          "base_uri": "https://localhost:8080/",
          "height": 357
        }
      },
      "outputs": [
        {
          "output_type": "execute_result",
          "data": {
            "text/plain": [
              "   total_images  last_price  total_area first_day_exposition  rooms  \\\n",
              "0            20  13000000.0       108.0           2019-03-07      3   \n",
              "1             7   3350000.0        40.4           2018-12-04      1   \n",
              "2            10   5196000.0        56.0           2015-08-20      2   \n",
              "3             0  64900000.0       159.0           2015-07-24      3   \n",
              "4             2  10000000.0       100.0           2018-06-19      2   \n",
              "\n",
              "   ceiling_height  floors_total  living_area  floor  is_apartment  studio  \\\n",
              "0        2.700000            16     51.00000      8         False   False   \n",
              "1        2.782385            11     18.60000      1         False   False   \n",
              "2        2.793191             5     34.30000      4         False   False   \n",
              "3        2.731545            14     89.79801      9         False   False   \n",
              "4        3.030000            14     32.00000     13         False   False   \n",
              "\n",
              "   open_plan  kitchen_area  balcony    locality_name  airports_nearest  \\\n",
              "0      False     25.000000        0  Санкт-Петербург           18863.0   \n",
              "1      False     11.000000        2   посёлок Шушары           12817.0   \n",
              "2      False      8.300000        0  Санкт-Петербург           21741.0   \n",
              "3      False     29.789251        0  Санкт-Петербург           28098.0   \n",
              "4      False     41.000000        0  Санкт-Петербург           31856.0   \n",
              "\n",
              "   cityCenters_nearest  parks_around3000  parks_nearest  ponds_around3000  \\\n",
              "0              16028.0                 1          482.0                 2   \n",
              "1              18603.0                 0            NaN                 0   \n",
              "2              13933.0                 1           90.0                 2   \n",
              "3               6800.0                 2           84.0                 3   \n",
              "4               8098.0                 2          112.0                 1   \n",
              "\n",
              "   ponds_nearest  days_exposition  price_for_metre  weekday  month  year  \\\n",
              "0          755.0              NaN    120370.370370        3      3  2019   \n",
              "1            NaN             81.0     82920.792079        1     12  2018   \n",
              "2          574.0            558.0     92785.714286        3      8  2015   \n",
              "3          234.0            424.0    408176.100629        4      7  2015   \n",
              "4           48.0            121.0    100000.000000        1      6  2018   \n",
              "\n",
              "  floor_type  cityCenters_km  \n",
              "0     Другой            16.0  \n",
              "1     Первый            19.0  \n",
              "2     Другой            14.0  \n",
              "3     Другой             7.0  \n",
              "4     Другой             8.0  "
            ],
            "text/html": [
              "\n",
              "  <div id=\"df-8a0e17bf-37f1-4e28-a92a-642589a52087\">\n",
              "    <div class=\"colab-df-container\">\n",
              "      <div>\n",
              "<style scoped>\n",
              "    .dataframe tbody tr th:only-of-type {\n",
              "        vertical-align: middle;\n",
              "    }\n",
              "\n",
              "    .dataframe tbody tr th {\n",
              "        vertical-align: top;\n",
              "    }\n",
              "\n",
              "    .dataframe thead th {\n",
              "        text-align: right;\n",
              "    }\n",
              "</style>\n",
              "<table border=\"1\" class=\"dataframe\">\n",
              "  <thead>\n",
              "    <tr style=\"text-align: right;\">\n",
              "      <th></th>\n",
              "      <th>total_images</th>\n",
              "      <th>last_price</th>\n",
              "      <th>total_area</th>\n",
              "      <th>first_day_exposition</th>\n",
              "      <th>rooms</th>\n",
              "      <th>ceiling_height</th>\n",
              "      <th>floors_total</th>\n",
              "      <th>living_area</th>\n",
              "      <th>floor</th>\n",
              "      <th>is_apartment</th>\n",
              "      <th>studio</th>\n",
              "      <th>open_plan</th>\n",
              "      <th>kitchen_area</th>\n",
              "      <th>balcony</th>\n",
              "      <th>locality_name</th>\n",
              "      <th>airports_nearest</th>\n",
              "      <th>cityCenters_nearest</th>\n",
              "      <th>parks_around3000</th>\n",
              "      <th>parks_nearest</th>\n",
              "      <th>ponds_around3000</th>\n",
              "      <th>ponds_nearest</th>\n",
              "      <th>days_exposition</th>\n",
              "      <th>price_for_metre</th>\n",
              "      <th>weekday</th>\n",
              "      <th>month</th>\n",
              "      <th>year</th>\n",
              "      <th>floor_type</th>\n",
              "      <th>cityCenters_km</th>\n",
              "    </tr>\n",
              "  </thead>\n",
              "  <tbody>\n",
              "    <tr>\n",
              "      <th>0</th>\n",
              "      <td>20</td>\n",
              "      <td>13000000.0</td>\n",
              "      <td>108.0</td>\n",
              "      <td>2019-03-07</td>\n",
              "      <td>3</td>\n",
              "      <td>2.700000</td>\n",
              "      <td>16</td>\n",
              "      <td>51.00000</td>\n",
              "      <td>8</td>\n",
              "      <td>False</td>\n",
              "      <td>False</td>\n",
              "      <td>False</td>\n",
              "      <td>25.000000</td>\n",
              "      <td>0</td>\n",
              "      <td>Санкт-Петербург</td>\n",
              "      <td>18863.0</td>\n",
              "      <td>16028.0</td>\n",
              "      <td>1</td>\n",
              "      <td>482.0</td>\n",
              "      <td>2</td>\n",
              "      <td>755.0</td>\n",
              "      <td>NaN</td>\n",
              "      <td>120370.370370</td>\n",
              "      <td>3</td>\n",
              "      <td>3</td>\n",
              "      <td>2019</td>\n",
              "      <td>Другой</td>\n",
              "      <td>16.0</td>\n",
              "    </tr>\n",
              "    <tr>\n",
              "      <th>1</th>\n",
              "      <td>7</td>\n",
              "      <td>3350000.0</td>\n",
              "      <td>40.4</td>\n",
              "      <td>2018-12-04</td>\n",
              "      <td>1</td>\n",
              "      <td>2.782385</td>\n",
              "      <td>11</td>\n",
              "      <td>18.60000</td>\n",
              "      <td>1</td>\n",
              "      <td>False</td>\n",
              "      <td>False</td>\n",
              "      <td>False</td>\n",
              "      <td>11.000000</td>\n",
              "      <td>2</td>\n",
              "      <td>посёлок Шушары</td>\n",
              "      <td>12817.0</td>\n",
              "      <td>18603.0</td>\n",
              "      <td>0</td>\n",
              "      <td>NaN</td>\n",
              "      <td>0</td>\n",
              "      <td>NaN</td>\n",
              "      <td>81.0</td>\n",
              "      <td>82920.792079</td>\n",
              "      <td>1</td>\n",
              "      <td>12</td>\n",
              "      <td>2018</td>\n",
              "      <td>Первый</td>\n",
              "      <td>19.0</td>\n",
              "    </tr>\n",
              "    <tr>\n",
              "      <th>2</th>\n",
              "      <td>10</td>\n",
              "      <td>5196000.0</td>\n",
              "      <td>56.0</td>\n",
              "      <td>2015-08-20</td>\n",
              "      <td>2</td>\n",
              "      <td>2.793191</td>\n",
              "      <td>5</td>\n",
              "      <td>34.30000</td>\n",
              "      <td>4</td>\n",
              "      <td>False</td>\n",
              "      <td>False</td>\n",
              "      <td>False</td>\n",
              "      <td>8.300000</td>\n",
              "      <td>0</td>\n",
              "      <td>Санкт-Петербург</td>\n",
              "      <td>21741.0</td>\n",
              "      <td>13933.0</td>\n",
              "      <td>1</td>\n",
              "      <td>90.0</td>\n",
              "      <td>2</td>\n",
              "      <td>574.0</td>\n",
              "      <td>558.0</td>\n",
              "      <td>92785.714286</td>\n",
              "      <td>3</td>\n",
              "      <td>8</td>\n",
              "      <td>2015</td>\n",
              "      <td>Другой</td>\n",
              "      <td>14.0</td>\n",
              "    </tr>\n",
              "    <tr>\n",
              "      <th>3</th>\n",
              "      <td>0</td>\n",
              "      <td>64900000.0</td>\n",
              "      <td>159.0</td>\n",
              "      <td>2015-07-24</td>\n",
              "      <td>3</td>\n",
              "      <td>2.731545</td>\n",
              "      <td>14</td>\n",
              "      <td>89.79801</td>\n",
              "      <td>9</td>\n",
              "      <td>False</td>\n",
              "      <td>False</td>\n",
              "      <td>False</td>\n",
              "      <td>29.789251</td>\n",
              "      <td>0</td>\n",
              "      <td>Санкт-Петербург</td>\n",
              "      <td>28098.0</td>\n",
              "      <td>6800.0</td>\n",
              "      <td>2</td>\n",
              "      <td>84.0</td>\n",
              "      <td>3</td>\n",
              "      <td>234.0</td>\n",
              "      <td>424.0</td>\n",
              "      <td>408176.100629</td>\n",
              "      <td>4</td>\n",
              "      <td>7</td>\n",
              "      <td>2015</td>\n",
              "      <td>Другой</td>\n",
              "      <td>7.0</td>\n",
              "    </tr>\n",
              "    <tr>\n",
              "      <th>4</th>\n",
              "      <td>2</td>\n",
              "      <td>10000000.0</td>\n",
              "      <td>100.0</td>\n",
              "      <td>2018-06-19</td>\n",
              "      <td>2</td>\n",
              "      <td>3.030000</td>\n",
              "      <td>14</td>\n",
              "      <td>32.00000</td>\n",
              "      <td>13</td>\n",
              "      <td>False</td>\n",
              "      <td>False</td>\n",
              "      <td>False</td>\n",
              "      <td>41.000000</td>\n",
              "      <td>0</td>\n",
              "      <td>Санкт-Петербург</td>\n",
              "      <td>31856.0</td>\n",
              "      <td>8098.0</td>\n",
              "      <td>2</td>\n",
              "      <td>112.0</td>\n",
              "      <td>1</td>\n",
              "      <td>48.0</td>\n",
              "      <td>121.0</td>\n",
              "      <td>100000.000000</td>\n",
              "      <td>1</td>\n",
              "      <td>6</td>\n",
              "      <td>2018</td>\n",
              "      <td>Другой</td>\n",
              "      <td>8.0</td>\n",
              "    </tr>\n",
              "  </tbody>\n",
              "</table>\n",
              "</div>\n",
              "      <button class=\"colab-df-convert\" onclick=\"convertToInteractive('df-8a0e17bf-37f1-4e28-a92a-642589a52087')\"\n",
              "              title=\"Convert this dataframe to an interactive table.\"\n",
              "              style=\"display:none;\">\n",
              "        \n",
              "  <svg xmlns=\"http://www.w3.org/2000/svg\" height=\"24px\"viewBox=\"0 0 24 24\"\n",
              "       width=\"24px\">\n",
              "    <path d=\"M0 0h24v24H0V0z\" fill=\"none\"/>\n",
              "    <path d=\"M18.56 5.44l.94 2.06.94-2.06 2.06-.94-2.06-.94-.94-2.06-.94 2.06-2.06.94zm-11 1L8.5 8.5l.94-2.06 2.06-.94-2.06-.94L8.5 2.5l-.94 2.06-2.06.94zm10 10l.94 2.06.94-2.06 2.06-.94-2.06-.94-.94-2.06-.94 2.06-2.06.94z\"/><path d=\"M17.41 7.96l-1.37-1.37c-.4-.4-.92-.59-1.43-.59-.52 0-1.04.2-1.43.59L10.3 9.45l-7.72 7.72c-.78.78-.78 2.05 0 2.83L4 21.41c.39.39.9.59 1.41.59.51 0 1.02-.2 1.41-.59l7.78-7.78 2.81-2.81c.8-.78.8-2.07 0-2.86zM5.41 20L4 18.59l7.72-7.72 1.47 1.35L5.41 20z\"/>\n",
              "  </svg>\n",
              "      </button>\n",
              "      \n",
              "  <style>\n",
              "    .colab-df-container {\n",
              "      display:flex;\n",
              "      flex-wrap:wrap;\n",
              "      gap: 12px;\n",
              "    }\n",
              "\n",
              "    .colab-df-convert {\n",
              "      background-color: #E8F0FE;\n",
              "      border: none;\n",
              "      border-radius: 50%;\n",
              "      cursor: pointer;\n",
              "      display: none;\n",
              "      fill: #1967D2;\n",
              "      height: 32px;\n",
              "      padding: 0 0 0 0;\n",
              "      width: 32px;\n",
              "    }\n",
              "\n",
              "    .colab-df-convert:hover {\n",
              "      background-color: #E2EBFA;\n",
              "      box-shadow: 0px 1px 2px rgba(60, 64, 67, 0.3), 0px 1px 3px 1px rgba(60, 64, 67, 0.15);\n",
              "      fill: #174EA6;\n",
              "    }\n",
              "\n",
              "    [theme=dark] .colab-df-convert {\n",
              "      background-color: #3B4455;\n",
              "      fill: #D2E3FC;\n",
              "    }\n",
              "\n",
              "    [theme=dark] .colab-df-convert:hover {\n",
              "      background-color: #434B5C;\n",
              "      box-shadow: 0px 1px 3px 1px rgba(0, 0, 0, 0.15);\n",
              "      filter: drop-shadow(0px 1px 2px rgba(0, 0, 0, 0.3));\n",
              "      fill: #FFFFFF;\n",
              "    }\n",
              "  </style>\n",
              "\n",
              "      <script>\n",
              "        const buttonEl =\n",
              "          document.querySelector('#df-8a0e17bf-37f1-4e28-a92a-642589a52087 button.colab-df-convert');\n",
              "        buttonEl.style.display =\n",
              "          google.colab.kernel.accessAllowed ? 'block' : 'none';\n",
              "\n",
              "        async function convertToInteractive(key) {\n",
              "          const element = document.querySelector('#df-8a0e17bf-37f1-4e28-a92a-642589a52087');\n",
              "          const dataTable =\n",
              "            await google.colab.kernel.invokeFunction('convertToInteractive',\n",
              "                                                     [key], {});\n",
              "          if (!dataTable) return;\n",
              "\n",
              "          const docLinkHtml = 'Like what you see? Visit the ' +\n",
              "            '<a target=\"_blank\" href=https://colab.research.google.com/notebooks/data_table.ipynb>data table notebook</a>'\n",
              "            + ' to learn more about interactive tables.';\n",
              "          element.innerHTML = '';\n",
              "          dataTable['output_type'] = 'display_data';\n",
              "          await google.colab.output.renderOutput(dataTable, element);\n",
              "          const docLink = document.createElement('div');\n",
              "          docLink.innerHTML = docLinkHtml;\n",
              "          element.appendChild(docLink);\n",
              "        }\n",
              "      </script>\n",
              "    </div>\n",
              "  </div>\n",
              "  "
            ]
          },
          "metadata": {},
          "execution_count": 21
        }
      ],
      "source": [
        "df.head()"
      ]
    },
    {
      "cell_type": "code",
      "execution_count": 22,
      "metadata": {
        "id": "rZowPXgWehLQ",
        "outputId": "9ea4f652-061f-4e14-b9de-df8279813461",
        "colab": {
          "base_uri": "https://localhost:8080/",
          "height": 1000
        }
      },
      "outputs": [
        {
          "output_type": "display_data",
          "data": {
            "text/plain": [
              "<Figure size 432x288 with 1 Axes>"
            ],
            "image/png": "[encoded data removed]"
          },
          "metadata": {
            "needs_background": "light"
          }
        },
        {
          "output_type": "display_data",
          "data": {
            "text/plain": [
              "<Figure size 432x288 with 1 Axes>"
            ],
            "image/png": "[encoded data removed]"
          },
          "metadata": {
            "needs_background": "light"
          }
        },
        {
          "output_type": "display_data",
          "data": {
            "text/plain": [
              "<Figure size 432x288 with 1 Axes>"
            ],
            "image/png": "[encoded data removed]"
          },
          "metadata": {
            "needs_background": "light"
          }
        },
        {
          "output_type": "display_data",
          "data": {
            "text/plain": [
              "<Figure size 432x288 with 1 Axes>"
            ],
            "image/png": "[encoded data removed]"
          },
          "metadata": {
            "needs_background": "light"
          }
        },
        {
          "output_type": "display_data",
          "data": {
            "text/plain": [
              "<Figure size 432x288 with 1 Axes>"
            ],
            "image/png": "[encoded data removed]"
          },
          "metadata": {
            "needs_background": "light"
          }
        },
        {
          "output_type": "display_data",
          "data": {
            "text/plain": [
              "<Figure size 432x288 with 1 Axes>"
            ],
            "image/png": "[encoded data removed]"
          },
          "metadata": {
            "needs_background": "light"
          }
        },
        {
          "output_type": "display_data",
          "data": {
            "text/plain": [
              "<Figure size 432x288 with 1 Axes>"
            ],
            "image/png": "[encoded data removed]"
          },
          "metadata": {
            "needs_background": "light"
          }
        },
        {
          "output_type": "display_data",
          "data": {
            "text/plain": [
              "<Figure size 432x288 with 1 Axes>"
            ],
            "image/png": "[encoded data removed]"
          },
          "metadata": {
            "needs_background": "light"
          }
        },
        {
          "output_type": "display_data",
          "data": {
            "text/plain": [
              "<Figure size 432x288 with 1 Axes>"
            ],
            "image/png": "[encoded data removed]"
          },
          "metadata": {
            "needs_background": "light"
          }
        },
        {
          "output_type": "display_data",
          "data": {
            "text/plain": [
              "<Figure size 432x288 with 1 Axes>"
            ],
            "image/png": "[encoded data removed]"
          },
          "metadata": {
            "needs_background": "light"
          }
        },
        {
          "output_type": "display_data",
          "data": {
            "text/plain": [
              "<Figure size 432x288 with 1 Axes>"
            ],
            "image/png": "[encoded data removed]"
          },
          "metadata": {
            "needs_background": "light"
          }
        },
        {
          "output_type": "display_data",
          "data": {
            "text/plain": [
              "<Figure size 432x288 with 1 Axes>"
            ],
            "image/png": "[encoded data removed]"
          },
          "metadata": {
            "needs_background": "light"
          }
        },
        {
          "output_type": "display_data",
          "data": {
            "text/plain": [
              "<Figure size 432x288 with 1 Axes>"
            ],
            "image/png": "[encoded data removed]"
          },
          "metadata": {
            "needs_background": "light"
          }
        },
        {
          "output_type": "display_data",
          "data": {
            "text/plain": [
              "<Figure size 432x288 with 1 Axes>"
            ],
            "image/png": "[encoded data removed]"
          },
          "metadata": {
            "needs_background": "light"
          }
        }
      ],
      "source": [
        "#построим гистограммы для дальнейшего изучения данных\n",
        "df['total_area'].hist(range=(0,350),legend=True)\n",
        "plt.show()\n",
        "df['living_area'].hist(range=(0,200),legend=True)\n",
        "plt.show()\n",
        "df['kitchen_area'].hist(range=(0,60),legend=True)\n",
        "plt.show()\n",
        "df['last_price'].hist(range=(0,50000000),legend=True)\n",
        "plt.show()\n",
        "df['rooms'].hist(range=(0,10),legend=True)\n",
        "plt.show()\n",
        "df['ceiling_height'].hist(range=(2,5),legend=True)\n",
        "plt.show()\n",
        "df['floor'].hist(range=(0,30),bins=30,legend=True)\n",
        "plt.show()\n",
        "df['floor_type'].hist(legend=True)\n",
        "plt.show()\n",
        "df['floors_total'].hist(range=(0,35),bins=35,legend=True)\n",
        "plt.show()\n",
        "df['cityCenters_nearest'].hist(legend=True)\n",
        "plt.show()\n",
        "df['airports_nearest' ].hist(legend=True)\n",
        "plt.show()\n",
        "df['parks_nearest' ].hist(legend=True)\n",
        "plt.show()\n",
        "df['weekday'].hist(legend=True,range=(0,6),bins=7)\n",
        "plt.show()\n",
        "df['month'].hist(legend=True,range=(1,12),bins=12)\n",
        "plt.show()\n",
        "\n"
      ]
    },
    {
      "cell_type": "markdown",
      "metadata": {
        "id": "6GdNqCp1ehLR"
      },
      "source": [
        "Из представленных графиков можно сделать следующие **выводы**.\n",
        "- Общая площадь большинства продаваемых квартир меньше 100 квадратных метров. Более половины квартир  имели площадь около 50 \n",
        "кв.м. Также встречались редкие квартиры площадью от 200 до 300 м. Жилая площадь большинства квартир от 20 до 40 кв.м. Площадь \n",
        "кухонь-от 6 до 12 кв.м. Количество квартир с площадью кухни 18 метров и более встречается намного реже. \n",
        "\n",
        "- Большинство квартир в Санкт-Петербурге и окрестностях продавлись менее чем за 10 млн.рублей. При этом примерно половина всех квартир стоила менее 5 млн.рублей. \n",
        "\n",
        "- В основном продавлись одно- и двухкомнатные квартиры. Чуть меньше было квартир с тремя комнатами. Квартиры с более 6 комнатными редко встречаются в данных. \n",
        "\n",
        "- Высота потолков большинства квартир колеблется от 2,5 до 3 метров. Некоторые редкие квартиры имели высоту потолков выше 3,2 метров. \n",
        "\n",
        "- Больше всего продаваемых квартир размещалось с 1 по 6 этаж. Чуть более 10% квартир размещалось на первом этаже и чуть более 10%- на последнем.Наиболее встречаемая высота домов-6 и 9 этажей. Но продавались квартиры и из 35-этажного дома.\n",
        "\n",
        "- Расстояние большинства домов до центра-около 10 км,до аэропорта-около 30 км, до парка-0,5 км.\n",
        "\n",
        "- В будние дни объявления размещались примерно одинаково часто (в понедельник-немного реже) и значительно реже в \n",
        "выходные дни. Наименьшее количество объявлений о продаже квартир приходится на май,декабрь и январь. Наибольшее - на февраль,март, апрель, ноябрь.\n"
      ]
    },
    {
      "cell_type": "code",
      "execution_count": 23,
      "metadata": {
        "scrolled": true,
        "id": "aWNOqUkPehLS",
        "outputId": "237d1446-655a-4561-852e-fea5deae9fd8",
        "colab": {
          "base_uri": "https://localhost:8080/",
          "height": 531
        }
      },
      "outputs": [
        {
          "output_type": "display_data",
          "data": {
            "text/plain": [
              "<Figure size 432x288 with 1 Axes>"
            ],
            "image/png": "[encoded data removed]"
          },
          "metadata": {
            "needs_background": "light"
          }
        },
        {
          "output_type": "execute_result",
          "data": {
            "text/plain": [
              "<matplotlib.axes._subplots.AxesSubplot at 0x7f9a87111760>"
            ]
          },
          "metadata": {},
          "execution_count": 23
        },
        {
          "output_type": "display_data",
          "data": {
            "text/plain": [
              "<Figure size 432x288 with 1 Axes>"
            ],
            "image/png": "[encoded data removed]"
          },
          "metadata": {
            "needs_background": "light"
          }
        }
      ],
      "source": [
        "#изучим, как быстро продавались квартиры\n",
        "df['days_exposition'].hist()\n",
        "plt.show()\n",
        "df.boxplot(column='days_exposition')"
      ]
    },
    {
      "cell_type": "code",
      "execution_count": 24,
      "metadata": {
        "id": "uaCJohJ2ehLS",
        "outputId": "7f96205d-cb54-4d43-cbb3-828d0a5df38b",
        "colab": {
          "base_uri": "https://localhost:8080/"
        }
      },
      "outputs": [
        {
          "output_type": "execute_result",
          "data": {
            "text/plain": [
              "count    20485.000000\n",
              "mean       180.985502\n",
              "std        219.826431\n",
              "min          1.000000\n",
              "25%         45.000000\n",
              "50%         95.000000\n",
              "75%        232.000000\n",
              "max       1580.000000\n",
              "Name: days_exposition, dtype: float64"
            ]
          },
          "metadata": {},
          "execution_count": 24
        }
      ],
      "source": [
        "df['days_exposition'].describe()"
      ]
    },
    {
      "cell_type": "markdown",
      "metadata": {
        "id": "jCjkL7hfehLT"
      },
      "source": [
        "В среднем продажа квартиры занимала около 180 дней. При этом половина всех представленных квартир \n",
        "была продана менее чем за 95 дней (или снята с продажи по другим обстоятельствам). \n",
        "\n",
        "Продажа квартиры менее чем за 45 дней может \n",
        "считаться быстрой, а более чем за 232 дня-долгой. Наименьший промежуток, сколько времени была представлена квартира составляет 1 день,\n",
        "наибольший-более 4 лет."
      ]
    },
    {
      "cell_type": "code",
      "execution_count": 25,
      "metadata": {
        "scrolled": true,
        "id": "gE_n7tePehLU",
        "outputId": "f391f058-704a-4a23-9065-cc08bbc8ed76",
        "colab": {
          "base_uri": "https://localhost:8080/"
        }
      },
      "outputs": [
        {
          "output_type": "stream",
          "name": "stdout",
          "text": [
            "total_area 0.6538194457103382\n",
            "living_area 0.5857840615603489\n",
            "kitchen_area 0.5169922229711071\n",
            "last_price 0.9999999999999998\n"
          ]
        }
      ],
      "source": [
        "#изучим корреляцию между ценой и площадью квартиры\n",
        "df_new=df[['total_area','living_area','kitchen_area','last_price']]\n",
        "for i in df_new.columns:\n",
        "    print(i, df[i].corr(df['last_price']))\n",
        "    \n",
        "\n",
        "    \n"
      ]
    },
    {
      "cell_type": "markdown",
      "metadata": {
        "id": "5Hm2A6bxehLV"
      },
      "source": [
        "По всем характеристикам квартиры (общая площадь, жилая площадь, площадь кухни) мы получили значения корреляции находящиеся в промежутке от 0,5 до 0,7, что означает, что существует заметная связь между ценой и данными характеристиками квартиры."
      ]
    },
    {
      "cell_type": "code",
      "execution_count": 26,
      "metadata": {
        "id": "VqbJdynPehLX",
        "outputId": "04216ee5-ed8a-431f-ef4c-d452e48d563f",
        "colab": {
          "base_uri": "https://localhost:8080/",
          "height": 839
        }
      },
      "outputs": [
        {
          "output_type": "display_data",
          "data": {
            "text/plain": [
              "<Figure size 432x288 with 1 Axes>"
            ],
            "image/png": "[encoded data removed]"
          },
          "metadata": {
            "needs_background": "light"
          }
        },
        {
          "output_type": "display_data",
          "data": {
            "text/plain": [
              "<Figure size 432x288 with 1 Axes>"
            ],
            "image/png": "[encoded data removed]"
          },
          "metadata": {
            "needs_background": "light"
          }
        },
        {
          "output_type": "display_data",
          "data": {
            "text/plain": [
              "<Figure size 432x288 with 1 Axes>"
            ],
            "image/png": "[encoded data removed]"
          },
          "metadata": {
            "needs_background": "light"
          }
        }
      ],
      "source": [
        "#'total_area'\n",
        "df_new.plot(x='total_area', y='last_price', kind='scatter', alpha=0.3)\n",
        " \n",
        "None\n",
        "#'living_area'\n",
        "df_new.plot(x='living_area', y='last_price', kind='scatter',alpha=0.3)\n",
        "None\n",
        "#'kitchen_area'\n",
        "df_new.plot(x='kitchen_area', y='last_price', kind='scatter',alpha=0.3)\n",
        "None\n"
      ]
    },
    {
      "cell_type": "markdown",
      "metadata": {
        "id": "WdBMoy6LehLY"
      },
      "source": [
        "На представленных выше графиках также видна взаимосвязь между ценой и общей площадью квартиры,\n",
        "жилой площадью и площадью кухни. Корреляция прямая(положительная):с увеличением площади-увеличивается и цена квартиры"
      ]
    },
    {
      "cell_type": "code",
      "execution_count": 27,
      "metadata": {
        "id": "1q0V93BwehLa",
        "outputId": "39111f6c-4b5a-4f9c-cf3a-d5e425fd4bdf",
        "colab": {
          "base_uri": "https://localhost:8080/",
          "height": 1000
        }
      },
      "outputs": [
        {
          "output_type": "display_data",
          "data": {
            "text/plain": [
              "<Figure size 432x288 with 1 Axes>"
            ],
            "image/png": "[encoded data removed]"
          },
          "metadata": {
            "needs_background": "light"
          }
        },
        {
          "output_type": "display_data",
          "data": {
            "text/plain": [
              "<Figure size 432x288 with 1 Axes>"
            ],
            "image/png": "[encoded data removed]"
          },
          "metadata": {
            "needs_background": "light"
          }
        },
        {
          "output_type": "display_data",
          "data": {
            "text/plain": [
              "<Figure size 432x288 with 1 Axes>"
            ],
            "image/png": "[encoded data removed]"
          },
          "metadata": {
            "needs_background": "light"
          }
        },
        {
          "output_type": "display_data",
          "data": {
            "text/plain": [
              "<Figure size 432x288 with 1 Axes>"
            ],
            "image/png": "[encoded data removed]"
          },
          "metadata": {
            "needs_background": "light"
          }
        }
      ],
      "source": [
        "#weekday\n",
        "pd.pivot_table(df,index='weekday',values='last_price',aggfunc='median').plot(kind='bar')\n",
        "None\n",
        "#month\n",
        "pd.pivot_table(df,index='month',values='last_price',aggfunc='median').plot(kind='bar')\n",
        "None\n",
        "#year\n",
        "pd.pivot_table(df,index='year',values='last_price',aggfunc='median').plot(kind='bar')\n",
        "None\n",
        "#rooms\n",
        "pd.pivot_table(df,index='rooms',values='last_price',aggfunc='median').plot(kind='bar')\n",
        "None"
      ]
    },
    {
      "cell_type": "code",
      "execution_count": 28,
      "metadata": {
        "id": "oyU_V2WjehLa",
        "outputId": "b4bdb64a-a36f-4190-f9fa-6f440105fc9f",
        "colab": {
          "base_uri": "https://localhost:8080/",
          "height": 162
        }
      },
      "outputs": [
        {
          "output_type": "execute_result",
          "data": {
            "text/plain": [
              "       total_images   last_price  total_area first_day_exposition  rooms  \\\n",
              "19540             8  420000000.0       900.0           2017-12-06     12   \n",
              "\n",
              "       ceiling_height  floors_total  living_area  floor  is_apartment  studio  \\\n",
              "19540             2.8            25        409.7     25         False   False   \n",
              "\n",
              "       open_plan  kitchen_area  balcony    locality_name  airports_nearest  \\\n",
              "19540      False         112.0        0  Санкт-Петербург           30706.0   \n",
              "\n",
              "       cityCenters_nearest  parks_around3000  parks_nearest  ponds_around3000  \\\n",
              "19540               7877.0                 0            NaN                 2   \n",
              "\n",
              "       ponds_nearest  days_exposition  price_for_metre  weekday  month  year  \\\n",
              "19540          318.0            106.0    466666.666667        2     12  2017   \n",
              "\n",
              "      floor_type  cityCenters_km  \n",
              "19540  Последний             8.0  "
            ],
            "text/html": [
              "\n",
              "  <div id=\"df-7aa44c8c-e2c3-4a55-9b71-3e12a96e553a\">\n",
              "    <div class=\"colab-df-container\">\n",
              "      <div>\n",
              "<style scoped>\n",
              "    .dataframe tbody tr th:only-of-type {\n",
              "        vertical-align: middle;\n",
              "    }\n",
              "\n",
              "    .dataframe tbody tr th {\n",
              "        vertical-align: top;\n",
              "    }\n",
              "\n",
              "    .dataframe thead th {\n",
              "        text-align: right;\n",
              "    }\n",
              "</style>\n",
              "<table border=\"1\" class=\"dataframe\">\n",
              "  <thead>\n",
              "    <tr style=\"text-align: right;\">\n",
              "      <th></th>\n",
              "      <th>total_images</th>\n",
              "      <th>last_price</th>\n",
              "      <th>total_area</th>\n",
              "      <th>first_day_exposition</th>\n",
              "      <th>rooms</th>\n",
              "      <th>ceiling_height</th>\n",
              "      <th>floors_total</th>\n",
              "      <th>living_area</th>\n",
              "      <th>floor</th>\n",
              "      <th>is_apartment</th>\n",
              "      <th>studio</th>\n",
              "      <th>open_plan</th>\n",
              "      <th>kitchen_area</th>\n",
              "      <th>balcony</th>\n",
              "      <th>locality_name</th>\n",
              "      <th>airports_nearest</th>\n",
              "      <th>cityCenters_nearest</th>\n",
              "      <th>parks_around3000</th>\n",
              "      <th>parks_nearest</th>\n",
              "      <th>ponds_around3000</th>\n",
              "      <th>ponds_nearest</th>\n",
              "      <th>days_exposition</th>\n",
              "      <th>price_for_metre</th>\n",
              "      <th>weekday</th>\n",
              "      <th>month</th>\n",
              "      <th>year</th>\n",
              "      <th>floor_type</th>\n",
              "      <th>cityCenters_km</th>\n",
              "    </tr>\n",
              "  </thead>\n",
              "  <tbody>\n",
              "    <tr>\n",
              "      <th>19540</th>\n",
              "      <td>8</td>\n",
              "      <td>420000000.0</td>\n",
              "      <td>900.0</td>\n",
              "      <td>2017-12-06</td>\n",
              "      <td>12</td>\n",
              "      <td>2.8</td>\n",
              "      <td>25</td>\n",
              "      <td>409.7</td>\n",
              "      <td>25</td>\n",
              "      <td>False</td>\n",
              "      <td>False</td>\n",
              "      <td>False</td>\n",
              "      <td>112.0</td>\n",
              "      <td>0</td>\n",
              "      <td>Санкт-Петербург</td>\n",
              "      <td>30706.0</td>\n",
              "      <td>7877.0</td>\n",
              "      <td>0</td>\n",
              "      <td>NaN</td>\n",
              "      <td>2</td>\n",
              "      <td>318.0</td>\n",
              "      <td>106.0</td>\n",
              "      <td>466666.666667</td>\n",
              "      <td>2</td>\n",
              "      <td>12</td>\n",
              "      <td>2017</td>\n",
              "      <td>Последний</td>\n",
              "      <td>8.0</td>\n",
              "    </tr>\n",
              "  </tbody>\n",
              "</table>\n",
              "</div>\n",
              "      <button class=\"colab-df-convert\" onclick=\"convertToInteractive('df-7aa44c8c-e2c3-4a55-9b71-3e12a96e553a')\"\n",
              "              title=\"Convert this dataframe to an interactive table.\"\n",
              "              style=\"display:none;\">\n",
              "        \n",
              "  <svg xmlns=\"http://www.w3.org/2000/svg\" height=\"24px\"viewBox=\"0 0 24 24\"\n",
              "       width=\"24px\">\n",
              "    <path d=\"M0 0h24v24H0V0z\" fill=\"none\"/>\n",
              "    <path d=\"M18.56 5.44l.94 2.06.94-2.06 2.06-.94-2.06-.94-.94-2.06-.94 2.06-2.06.94zm-11 1L8.5 8.5l.94-2.06 2.06-.94-2.06-.94L8.5 2.5l-.94 2.06-2.06.94zm10 10l.94 2.06.94-2.06 2.06-.94-2.06-.94-.94-2.06-.94 2.06-2.06.94z\"/><path d=\"M17.41 7.96l-1.37-1.37c-.4-.4-.92-.59-1.43-.59-.52 0-1.04.2-1.43.59L10.3 9.45l-7.72 7.72c-.78.78-.78 2.05 0 2.83L4 21.41c.39.39.9.59 1.41.59.51 0 1.02-.2 1.41-.59l7.78-7.78 2.81-2.81c.8-.78.8-2.07 0-2.86zM5.41 20L4 18.59l7.72-7.72 1.47 1.35L5.41 20z\"/>\n",
              "  </svg>\n",
              "      </button>\n",
              "      \n",
              "  <style>\n",
              "    .colab-df-container {\n",
              "      display:flex;\n",
              "      flex-wrap:wrap;\n",
              "      gap: 12px;\n",
              "    }\n",
              "\n",
              "    .colab-df-convert {\n",
              "      background-color: #E8F0FE;\n",
              "      border: none;\n",
              "      border-radius: 50%;\n",
              "      cursor: pointer;\n",
              "      display: none;\n",
              "      fill: #1967D2;\n",
              "      height: 32px;\n",
              "      padding: 0 0 0 0;\n",
              "      width: 32px;\n",
              "    }\n",
              "\n",
              "    .colab-df-convert:hover {\n",
              "      background-color: #E2EBFA;\n",
              "      box-shadow: 0px 1px 2px rgba(60, 64, 67, 0.3), 0px 1px 3px 1px rgba(60, 64, 67, 0.15);\n",
              "      fill: #174EA6;\n",
              "    }\n",
              "\n",
              "    [theme=dark] .colab-df-convert {\n",
              "      background-color: #3B4455;\n",
              "      fill: #D2E3FC;\n",
              "    }\n",
              "\n",
              "    [theme=dark] .colab-df-convert:hover {\n",
              "      background-color: #434B5C;\n",
              "      box-shadow: 0px 1px 3px 1px rgba(0, 0, 0, 0.15);\n",
              "      filter: drop-shadow(0px 1px 2px rgba(0, 0, 0, 0.3));\n",
              "      fill: #FFFFFF;\n",
              "    }\n",
              "  </style>\n",
              "\n",
              "      <script>\n",
              "        const buttonEl =\n",
              "          document.querySelector('#df-7aa44c8c-e2c3-4a55-9b71-3e12a96e553a button.colab-df-convert');\n",
              "        buttonEl.style.display =\n",
              "          google.colab.kernel.accessAllowed ? 'block' : 'none';\n",
              "\n",
              "        async function convertToInteractive(key) {\n",
              "          const element = document.querySelector('#df-7aa44c8c-e2c3-4a55-9b71-3e12a96e553a');\n",
              "          const dataTable =\n",
              "            await google.colab.kernel.invokeFunction('convertToInteractive',\n",
              "                                                     [key], {});\n",
              "          if (!dataTable) return;\n",
              "\n",
              "          const docLinkHtml = 'Like what you see? Visit the ' +\n",
              "            '<a target=\"_blank\" href=https://colab.research.google.com/notebooks/data_table.ipynb>data table notebook</a>'\n",
              "            + ' to learn more about interactive tables.';\n",
              "          element.innerHTML = '';\n",
              "          dataTable['output_type'] = 'display_data';\n",
              "          await google.colab.output.renderOutput(dataTable, element);\n",
              "          const docLink = document.createElement('div');\n",
              "          docLink.innerHTML = docLinkHtml;\n",
              "          element.appendChild(docLink);\n",
              "        }\n",
              "      </script>\n",
              "    </div>\n",
              "  </div>\n",
              "  "
            ]
          },
          "metadata": {},
          "execution_count": 28
        }
      ],
      "source": [
        "df.query('rooms==12')"
      ]
    },
    {
      "cell_type": "markdown",
      "metadata": {
        "id": "sBI0A7s6ehLb"
      },
      "source": [
        "Мы увидели пик стоимости квартир с 12 комнатами. Такая квартира в данных всего одна: площадью 900 кв.м. в Санкт-Петербурге на последнем этаже. Удалим это одно выбивающееся значение для лучшей интерпретации данных и заново построим график."
      ]
    },
    {
      "cell_type": "code",
      "execution_count": 29,
      "metadata": {
        "id": "69qDMl0AehLb"
      },
      "outputs": [],
      "source": [
        "df=df.loc[(df['rooms']!=12)]"
      ]
    },
    {
      "cell_type": "code",
      "execution_count": 30,
      "metadata": {
        "id": "c668YRKkehLb",
        "outputId": "3f3669ec-9c20-46b9-ec27-707a2aec7274",
        "colab": {
          "base_uri": "https://localhost:8080/",
          "height": 293
        }
      },
      "outputs": [
        {
          "output_type": "display_data",
          "data": {
            "text/plain": [
              "<Figure size 432x288 with 1 Axes>"
            ],
            "image/png": "[encoded data removed]"
          },
          "metadata": {
            "needs_background": "light"
          }
        }
      ],
      "source": [
        "#rooms\n",
        "pd.pivot_table(df,index='rooms',values='last_price',aggfunc='median').plot(kind='bar')\n",
        "None"
      ]
    },
    {
      "cell_type": "code",
      "execution_count": 31,
      "metadata": {
        "scrolled": true,
        "id": "4wDKUZ8OehLc",
        "outputId": "28a54f66-2f2c-4fe3-abda-b93ba4a73644",
        "colab": {
          "base_uri": "https://localhost:8080/"
        }
      },
      "outputs": [
        {
          "output_type": "execute_result",
          "data": {
            "text/plain": [
              "0.37622590463307404"
            ]
          },
          "metadata": {},
          "execution_count": 31
        }
      ],
      "source": [
        "df['total_images'].loc[(df['rooms']>=7)].count()/df['total_images'].count()*100"
      ]
    },
    {
      "cell_type": "markdown",
      "metadata": {
        "id": "8l21R_yCehLc"
      },
      "source": [
        "На представленных выше графиках мы видим:\n",
        "\n",
        "- отсутствие взаимосвязи между ценой квартиры и днем и месяцем подачи объявления;\n",
        "- что прослеживается связь между ценой и годом подачи объявления: в 2014 году медиана цен всех проданных квартир значительно выше, чем в последующих годах;\n",
        "- что существует взаимосвязь между ценой и количеством комнат. По мере увеличения комнат увеличивается и цена. "
      ]
    },
    {
      "cell_type": "code",
      "execution_count": 32,
      "metadata": {
        "scrolled": true,
        "id": "9uyj4ZpoehLc",
        "outputId": "4dbce12a-0522-4cf5-ec29-954cc3e458a5",
        "colab": {
          "base_uri": "https://localhost:8080/",
          "height": 394
        }
      },
      "outputs": [
        {
          "output_type": "execute_result",
          "data": {
            "text/plain": [
              "                   count           mean\n",
              "locality_name                          \n",
              "Санкт-Петербург    15698  114815.362308\n",
              "посёлок Мурино       554   85656.214377\n",
              "посёлок Шушары       440   78677.364217\n",
              "Всеволожск           397   68719.320400\n",
              "Пушкин               369  103125.819291\n",
              "Колпино              338   75424.579098\n",
              "посёлок Парголово    327   90175.913458\n",
              "Гатчина              306   68757.678644\n",
              "деревня Кудрово      299   92473.547576\n",
              "Выборг               235   58238.143141"
            ],
            "text/html": [
              "\n",
              "  <div id=\"df-de176ab9-1dd2-4fc5-ad6f-8685e597a5a3\">\n",
              "    <div class=\"colab-df-container\">\n",
              "      <div>\n",
              "<style scoped>\n",
              "    .dataframe tbody tr th:only-of-type {\n",
              "        vertical-align: middle;\n",
              "    }\n",
              "\n",
              "    .dataframe tbody tr th {\n",
              "        vertical-align: top;\n",
              "    }\n",
              "\n",
              "    .dataframe thead th {\n",
              "        text-align: right;\n",
              "    }\n",
              "</style>\n",
              "<table border=\"1\" class=\"dataframe\">\n",
              "  <thead>\n",
              "    <tr style=\"text-align: right;\">\n",
              "      <th></th>\n",
              "      <th>count</th>\n",
              "      <th>mean</th>\n",
              "    </tr>\n",
              "    <tr>\n",
              "      <th>locality_name</th>\n",
              "      <th></th>\n",
              "      <th></th>\n",
              "    </tr>\n",
              "  </thead>\n",
              "  <tbody>\n",
              "    <tr>\n",
              "      <th>Санкт-Петербург</th>\n",
              "      <td>15698</td>\n",
              "      <td>114815.362308</td>\n",
              "    </tr>\n",
              "    <tr>\n",
              "      <th>посёлок Мурино</th>\n",
              "      <td>554</td>\n",
              "      <td>85656.214377</td>\n",
              "    </tr>\n",
              "    <tr>\n",
              "      <th>посёлок Шушары</th>\n",
              "      <td>440</td>\n",
              "      <td>78677.364217</td>\n",
              "    </tr>\n",
              "    <tr>\n",
              "      <th>Всеволожск</th>\n",
              "      <td>397</td>\n",
              "      <td>68719.320400</td>\n",
              "    </tr>\n",
              "    <tr>\n",
              "      <th>Пушкин</th>\n",
              "      <td>369</td>\n",
              "      <td>103125.819291</td>\n",
              "    </tr>\n",
              "    <tr>\n",
              "      <th>Колпино</th>\n",
              "      <td>338</td>\n",
              "      <td>75424.579098</td>\n",
              "    </tr>\n",
              "    <tr>\n",
              "      <th>посёлок Парголово</th>\n",
              "      <td>327</td>\n",
              "      <td>90175.913458</td>\n",
              "    </tr>\n",
              "    <tr>\n",
              "      <th>Гатчина</th>\n",
              "      <td>306</td>\n",
              "      <td>68757.678644</td>\n",
              "    </tr>\n",
              "    <tr>\n",
              "      <th>деревня Кудрово</th>\n",
              "      <td>299</td>\n",
              "      <td>92473.547576</td>\n",
              "    </tr>\n",
              "    <tr>\n",
              "      <th>Выборг</th>\n",
              "      <td>235</td>\n",
              "      <td>58238.143141</td>\n",
              "    </tr>\n",
              "  </tbody>\n",
              "</table>\n",
              "</div>\n",
              "      <button class=\"colab-df-convert\" onclick=\"convertToInteractive('df-de176ab9-1dd2-4fc5-ad6f-8685e597a5a3')\"\n",
              "              title=\"Convert this dataframe to an interactive table.\"\n",
              "              style=\"display:none;\">\n",
              "        \n",
              "  <svg xmlns=\"http://www.w3.org/2000/svg\" height=\"24px\"viewBox=\"0 0 24 24\"\n",
              "       width=\"24px\">\n",
              "    <path d=\"M0 0h24v24H0V0z\" fill=\"none\"/>\n",
              "    <path d=\"M18.56 5.44l.94 2.06.94-2.06 2.06-.94-2.06-.94-.94-2.06-.94 2.06-2.06.94zm-11 1L8.5 8.5l.94-2.06 2.06-.94-2.06-.94L8.5 2.5l-.94 2.06-2.06.94zm10 10l.94 2.06.94-2.06 2.06-.94-2.06-.94-.94-2.06-.94 2.06-2.06.94z\"/><path d=\"M17.41 7.96l-1.37-1.37c-.4-.4-.92-.59-1.43-.59-.52 0-1.04.2-1.43.59L10.3 9.45l-7.72 7.72c-.78.78-.78 2.05 0 2.83L4 21.41c.39.39.9.59 1.41.59.51 0 1.02-.2 1.41-.59l7.78-7.78 2.81-2.81c.8-.78.8-2.07 0-2.86zM5.41 20L4 18.59l7.72-7.72 1.47 1.35L5.41 20z\"/>\n",
              "  </svg>\n",
              "      </button>\n",
              "      \n",
              "  <style>\n",
              "    .colab-df-container {\n",
              "      display:flex;\n",
              "      flex-wrap:wrap;\n",
              "      gap: 12px;\n",
              "    }\n",
              "\n",
              "    .colab-df-convert {\n",
              "      background-color: #E8F0FE;\n",
              "      border: none;\n",
              "      border-radius: 50%;\n",
              "      cursor: pointer;\n",
              "      display: none;\n",
              "      fill: #1967D2;\n",
              "      height: 32px;\n",
              "      padding: 0 0 0 0;\n",
              "      width: 32px;\n",
              "    }\n",
              "\n",
              "    .colab-df-convert:hover {\n",
              "      background-color: #E2EBFA;\n",
              "      box-shadow: 0px 1px 2px rgba(60, 64, 67, 0.3), 0px 1px 3px 1px rgba(60, 64, 67, 0.15);\n",
              "      fill: #174EA6;\n",
              "    }\n",
              "\n",
              "    [theme=dark] .colab-df-convert {\n",
              "      background-color: #3B4455;\n",
              "      fill: #D2E3FC;\n",
              "    }\n",
              "\n",
              "    [theme=dark] .colab-df-convert:hover {\n",
              "      background-color: #434B5C;\n",
              "      box-shadow: 0px 1px 3px 1px rgba(0, 0, 0, 0.15);\n",
              "      filter: drop-shadow(0px 1px 2px rgba(0, 0, 0, 0.3));\n",
              "      fill: #FFFFFF;\n",
              "    }\n",
              "  </style>\n",
              "\n",
              "      <script>\n",
              "        const buttonEl =\n",
              "          document.querySelector('#df-de176ab9-1dd2-4fc5-ad6f-8685e597a5a3 button.colab-df-convert');\n",
              "        buttonEl.style.display =\n",
              "          google.colab.kernel.accessAllowed ? 'block' : 'none';\n",
              "\n",
              "        async function convertToInteractive(key) {\n",
              "          const element = document.querySelector('#df-de176ab9-1dd2-4fc5-ad6f-8685e597a5a3');\n",
              "          const dataTable =\n",
              "            await google.colab.kernel.invokeFunction('convertToInteractive',\n",
              "                                                     [key], {});\n",
              "          if (!dataTable) return;\n",
              "\n",
              "          const docLinkHtml = 'Like what you see? Visit the ' +\n",
              "            '<a target=\"_blank\" href=https://colab.research.google.com/notebooks/data_table.ipynb>data table notebook</a>'\n",
              "            + ' to learn more about interactive tables.';\n",
              "          element.innerHTML = '';\n",
              "          dataTable['output_type'] = 'display_data';\n",
              "          await google.colab.output.renderOutput(dataTable, element);\n",
              "          const docLink = document.createElement('div');\n",
              "          docLink.innerHTML = docLinkHtml;\n",
              "          element.appendChild(docLink);\n",
              "        }\n",
              "      </script>\n",
              "    </div>\n",
              "  </div>\n",
              "  "
            ]
          },
          "metadata": {},
          "execution_count": 32
        }
      ],
      "source": [
        "#посчитаем среднюю цену одного квадратного метра в 10 населённых пунктах с наибольшим числом объявлений\n",
        "max_count=pd.pivot_table(df,index='locality_name',values='price_for_metre',aggfunc=['count','mean'])\n",
        "max_count.columns=['count','mean']\n",
        "max_count.sort_values(by='count',ascending=False).head(10)\n",
        "\n"
      ]
    },
    {
      "cell_type": "code",
      "execution_count": 33,
      "metadata": {
        "id": "W6Q7akTIehLd",
        "outputId": "fa343863-011f-42ce-fdc5-730a7e05df58",
        "colab": {
          "base_uri": "https://localhost:8080/",
          "height": 387
        }
      },
      "outputs": [
        {
          "output_type": "display_data",
          "data": {
            "text/plain": [
              "<Figure size 432x288 with 1 Axes>"
            ],
            "image/png": "[encoded data removed]"
          },
          "metadata": {
            "needs_background": "light"
          }
        }
      ],
      "source": [
        "max_count.sort_values(by='count',ascending=False).head(10).plot(kind='bar',y='mean',alpha=0.5,\n",
        "title='ТОП-10 населенных пунктов по количеству объявлений')\n",
        "None"
      ]
    },
    {
      "cell_type": "code",
      "execution_count": 34,
      "metadata": {
        "scrolled": true,
        "id": "srmMEb_vehLe",
        "outputId": "8d8f018c-9c79-40ba-d6d1-8d6b896217c9",
        "colab": {
          "base_uri": "https://localhost:8080/"
        }
      },
      "outputs": [
        {
          "output_type": "stream",
          "name": "stdout",
          "text": [
            "Самая высокая средняя стоимость метра в населенном пункте:                price_for_metre\n",
            "locality_name                 \n",
            "Зеленогорск      115122.799198\n",
            "Самая низкая средняя стоимость метра в населенном пункте:                     price_for_metre\n",
            "locality_name                      \n",
            "деревня Старополье     11206.221198\n"
          ]
        }
      ],
      "source": [
        "#найдем населённые пункты с самой высокой и низкой стоимостью квадратного метра.\n",
        "avg_price=pd.pivot_table(df,index='locality_name',values='price_for_metre',aggfunc='mean')\n",
        "print('Самая высокая средняя стоимость метра в населенном пункте:',avg_price.sort_values(by='price_for_metre', ascending=False).head(1))\n",
        "print('Самая низкая средняя стоимость метра в населенном пункте:',avg_price.sort_values(by='price_for_metre').head(1))"
      ]
    },
    {
      "cell_type": "code",
      "execution_count": 35,
      "metadata": {
        "scrolled": true,
        "id": "Pom_wS93ehLe",
        "outputId": "daea4c77-a624-4c2e-c54d-780a329dcdfb",
        "colab": {
          "base_uri": "https://localhost:8080/",
          "height": 308
        }
      },
      "outputs": [
        {
          "output_type": "execute_result",
          "data": {
            "text/plain": [
              "<matplotlib.axes._subplots.AxesSubplot at 0x7f9a877cfa30>"
            ]
          },
          "metadata": {},
          "execution_count": 35
        },
        {
          "output_type": "display_data",
          "data": {
            "text/plain": [
              "<Figure size 432x288 with 1 Axes>"
            ],
            "image/png": "[encoded data removed]"
          },
          "metadata": {
            "needs_background": "light"
          }
        }
      ],
      "source": [
        "#выделим квартиры в Санкт-Петербурге и вычислим среднюю цену каждого километра до центра города\n",
        "\n",
        "data_spb=df.query('locality_name == \"Санкт-Петербург\"')\n",
        "pd.pivot_table(data_spb,index='cityCenters_km',values='last_price',aggfunc='mean').plot(style='o-',grid=True)\n"
      ]
    },
    {
      "cell_type": "markdown",
      "metadata": {
        "id": "P6wk7aLYehLf"
      },
      "source": [
        "Мы видим, что цена квартиры зависит от того, насколько близко она расположена к центру города. Если недвижимость расположена\n",
        "менее,чем в 10 км. от центра города ее стоимость намного больше, чем стоимость более дальних квартир. После 10 км. влияние \n",
        "расстояния на цену значительно снижается. \n",
        "\n",
        "Отметим, что зависимость цены от расстояния в первые 10 км. не линейна: сначала \n",
        "стоимость снижается, вместе с увеличением расстояния, потом на расстоянии 6 км. от центра мы видим скачок цены, потом стоимость\n",
        "снова уменьшается."
      ]
    },
    {
      "cell_type": "markdown",
      "metadata": {
        "id": "WUXx2T8zehLf"
      },
      "source": [
        "### Общий вывод"
      ]
    },
    {
      "cell_type": "markdown",
      "metadata": {
        "id": "1ZanXUwZehLg"
      },
      "source": [
        "В ходе данного исследования мы проанализировали архив объявлений с сайта Яндекс Недвижимость, собранный с 2014 г. по 2019 г. Данный архив содержал информацию о чуть менее чем 24000 объявлений о продаже квартир, находящихся в Санкт_петербурге и его окрестностях. Объявления содержали  данные о самой квартире (ее площадь, количество комнат, наличие балкона и др.), информацию о местоположении ( наименование населенного пункта, удаленность от центра, аэропорта, парков) и данные о дате и времени размещения документов.\n",
        "\n",
        "Целью нашего исследования было осуществить предобработку данных, а также найти интересные особенности и зависимости, которые существуют на рынке недвижимости.\n",
        "\n",
        "В ходе предобработки данных мы заменили часть пропусков на медианные или логически обусловленные значения (столбцы:'ceiling_height','floors_total','living_area','is_apartment','kitchen_area', 'balcony' ,'parks_around3000', 'ponds_around3000', 'airports_nearest','cityCenters_nearest') или оставили без изменений ('locality_name', 'parks_nearest', 'ponds_nearest', 'days_exposition'). Также были изменены неявные дубликаты в наименованиях населенных пунктов и изменен тип даты для последующего анализа. Неправдоподобных значений в данных было немного (0,17%) и мы смогли их удалить.\n",
        "\n",
        "Были выявлены следующие **особенности рынка недвижимости** Санкт-Петербурга и окрестностей:\n",
        "- большинство продаваемых квартир имели жилую площадь от 20 до 40 кв.м., площадь кухни- от 6 до 12 кв.м., располагались с 1 до 6 этажа;\n",
        "- большая часть квартир в Санкт-Петербурге и окрестностях в то время стоили меньше 10 млн. рублей;\n",
        "- расстояние большинства домов до центра - около 10 км, до аэропорта-около 30 км, до парка-0,5 км;\n",
        "- оживление на рынке недвижимости происходит в феврале, марте,апреле и ноябре;\n",
        "- среднее время размещения объявления на сайте (а значит и продажи квартиры) составляло 180 дней. Но половина квартир продавалась менее чем за 95 дней;\n",
        "- наиболее высокой цена квартир была в 2014 г. Потом в 2015 г. и 2016 г. происходило снижение цен. До 2018 г. рынок был стабилен, а в 2019г. был отмечен его рост.\n",
        "\n",
        "В ходе анализа мы обнаружили **заметную связь** между ценой квартиры и общей площадью недвижимости, жилой площадью и площадью кухни. Также существует связь между ценой квартиры и количеством комнат.\n",
        "Эта связь носит *прямой* характер: увеличивается площадь и количество комнат - увеличивается и стоимость. \n",
        "\n",
        "Зависимость между ценой и датой подачи (день,месяц) объявления не прослеживается.\n",
        "\n",
        "Самая **высокая** средняя цена за квадратный метр была в Зеленогорске (115000 р.), самая **низкая** -в деревне Старополье(11000 рублей). Более половины квартир из архива продавались в Санкт-Петербурге.\n",
        "\n",
        "Данное исследование дает общее представление о рынке недвижимости в данном регионе за 2014-2019 г.г. Полученные закономерности и взаимосвязи могут в дальнейшем быть использованы для предсказания ситуации на рунке недвижимости, могут помочь заметить аномалии и провести изменения на сайте для сокращения в будущем пропусков в данных, автоматизировать процессы."
      ]
    }
  ],
  "metadata": {
    "ExecuteTimeLog": [
      {
        "duration": 54,
        "start_time": "2022-08-01T16:33:31.168Z"
      },
      {
        "duration": 727,
        "start_time": "2022-08-01T16:33:41.368Z"
      },
      {
        "duration": 87,
        "start_time": "2022-08-01T16:33:54.350Z"
      },
      {
        "duration": 79,
        "start_time": "2022-08-01T17:41:40.964Z"
      },
      {
        "duration": 12,
        "start_time": "2022-08-01T17:41:44.069Z"
      },
      {
        "duration": 13,
        "start_time": "2022-08-01T17:42:26.612Z"
      },
      {
        "duration": 94,
        "start_time": "2022-08-01T17:44:26.337Z"
      },
      {
        "duration": 21,
        "start_time": "2022-08-01T17:44:31.013Z"
      },
      {
        "duration": 22,
        "start_time": "2022-08-01T17:44:41.318Z"
      },
      {
        "duration": 54,
        "start_time": "2022-08-01T17:45:47.392Z"
      },
      {
        "duration": 2089,
        "start_time": "2022-08-01T17:45:57.483Z"
      },
      {
        "duration": 11,
        "start_time": "2022-08-01T17:54:56.223Z"
      },
      {
        "duration": 6,
        "start_time": "2022-08-01T17:56:32.061Z"
      },
      {
        "duration": 8,
        "start_time": "2022-08-01T17:56:43.324Z"
      },
      {
        "duration": 8,
        "start_time": "2022-08-01T17:56:47.016Z"
      },
      {
        "duration": 11,
        "start_time": "2022-08-01T17:57:12.872Z"
      },
      {
        "duration": 10,
        "start_time": "2022-08-01T17:57:23.484Z"
      },
      {
        "duration": 9,
        "start_time": "2022-08-01T17:57:51.109Z"
      },
      {
        "duration": 5,
        "start_time": "2022-08-01T17:58:22.390Z"
      },
      {
        "duration": 6,
        "start_time": "2022-08-01T18:00:03.043Z"
      },
      {
        "duration": 9,
        "start_time": "2022-08-01T18:00:15.762Z"
      },
      {
        "duration": 6,
        "start_time": "2022-08-01T18:00:20.853Z"
      },
      {
        "duration": 4,
        "start_time": "2022-08-01T18:05:27.976Z"
      },
      {
        "duration": 67,
        "start_time": "2022-08-01T18:05:34.385Z"
      },
      {
        "duration": 10,
        "start_time": "2022-08-01T18:06:30.520Z"
      },
      {
        "duration": 474,
        "start_time": "2022-08-01T18:07:27.254Z"
      },
      {
        "duration": 13,
        "start_time": "2022-08-01T18:07:27.730Z"
      },
      {
        "duration": 32,
        "start_time": "2022-08-01T18:07:27.744Z"
      },
      {
        "duration": 1938,
        "start_time": "2022-08-01T18:07:27.778Z"
      },
      {
        "duration": 8,
        "start_time": "2022-08-01T18:07:29.718Z"
      },
      {
        "duration": 6,
        "start_time": "2022-08-01T18:07:29.728Z"
      },
      {
        "duration": 3,
        "start_time": "2022-08-01T18:08:53.912Z"
      },
      {
        "duration": 71,
        "start_time": "2022-08-01T18:09:01.866Z"
      },
      {
        "duration": 7,
        "start_time": "2022-08-01T18:09:26.000Z"
      },
      {
        "duration": 8,
        "start_time": "2022-08-01T18:09:28.921Z"
      },
      {
        "duration": 10,
        "start_time": "2022-08-01T18:09:41.248Z"
      },
      {
        "duration": 11,
        "start_time": "2022-08-01T18:09:46.948Z"
      },
      {
        "duration": 8,
        "start_time": "2022-08-01T18:09:49.617Z"
      },
      {
        "duration": 5,
        "start_time": "2022-08-01T18:10:12.472Z"
      },
      {
        "duration": 6,
        "start_time": "2022-08-01T18:10:23.374Z"
      },
      {
        "duration": 88,
        "start_time": "2022-08-01T18:10:31.018Z"
      },
      {
        "duration": 20,
        "start_time": "2022-08-01T18:10:32.679Z"
      },
      {
        "duration": 23,
        "start_time": "2022-08-01T18:10:34.015Z"
      },
      {
        "duration": 1737,
        "start_time": "2022-08-01T18:10:35.381Z"
      },
      {
        "duration": 9,
        "start_time": "2022-08-01T18:10:38.605Z"
      },
      {
        "duration": 15,
        "start_time": "2022-08-01T18:25:52.313Z"
      },
      {
        "duration": 7,
        "start_time": "2022-08-01T18:27:19.226Z"
      },
      {
        "duration": 9,
        "start_time": "2022-08-01T18:27:53.810Z"
      },
      {
        "duration": 6,
        "start_time": "2022-08-01T18:28:15.971Z"
      },
      {
        "duration": 11,
        "start_time": "2022-08-01T18:28:36.354Z"
      },
      {
        "duration": 88,
        "start_time": "2022-08-01T18:29:03.220Z"
      },
      {
        "duration": 15,
        "start_time": "2022-08-01T18:29:04.125Z"
      },
      {
        "duration": 24,
        "start_time": "2022-08-01T18:29:11.305Z"
      },
      {
        "duration": 1805,
        "start_time": "2022-08-01T18:29:12.334Z"
      },
      {
        "duration": 10,
        "start_time": "2022-08-01T18:29:15.322Z"
      },
      {
        "duration": 19,
        "start_time": "2022-08-01T18:29:16.990Z"
      },
      {
        "duration": 9,
        "start_time": "2022-08-01T18:29:18.538Z"
      },
      {
        "duration": 11,
        "start_time": "2022-08-01T18:29:20.474Z"
      },
      {
        "duration": 25,
        "start_time": "2022-08-01T18:39:13.975Z"
      },
      {
        "duration": 13,
        "start_time": "2022-08-01T18:39:32.574Z"
      },
      {
        "duration": 23,
        "start_time": "2022-08-01T18:39:48.274Z"
      },
      {
        "duration": 42,
        "start_time": "2022-08-01T18:40:12.044Z"
      },
      {
        "duration": 32,
        "start_time": "2022-08-01T18:42:23.414Z"
      },
      {
        "duration": 6,
        "start_time": "2022-08-01T18:43:12.385Z"
      },
      {
        "duration": 6,
        "start_time": "2022-08-01T18:44:21.530Z"
      },
      {
        "duration": 10,
        "start_time": "2022-08-01T18:44:35.328Z"
      },
      {
        "duration": 1075,
        "start_time": "2022-08-01T18:51:29.981Z"
      },
      {
        "duration": 11,
        "start_time": "2022-08-01T18:51:46.769Z"
      },
      {
        "duration": 9,
        "start_time": "2022-08-01T18:52:37.647Z"
      },
      {
        "duration": 5,
        "start_time": "2022-08-01T18:52:50.556Z"
      },
      {
        "duration": 11,
        "start_time": "2022-08-01T18:53:00.121Z"
      },
      {
        "duration": 9,
        "start_time": "2022-08-01T19:08:55.935Z"
      },
      {
        "duration": 1039,
        "start_time": "2022-08-01T19:13:17.876Z"
      },
      {
        "duration": 11,
        "start_time": "2022-08-01T19:13:38.748Z"
      },
      {
        "duration": 52,
        "start_time": "2022-08-01T19:13:55.138Z"
      },
      {
        "duration": 79,
        "start_time": "2022-08-01T19:15:46.449Z"
      },
      {
        "duration": 13,
        "start_time": "2022-08-01T19:15:47.780Z"
      },
      {
        "duration": 23,
        "start_time": "2022-08-01T19:15:49.043Z"
      },
      {
        "duration": 1684,
        "start_time": "2022-08-01T19:15:50.009Z"
      },
      {
        "duration": 9,
        "start_time": "2022-08-01T19:15:52.835Z"
      },
      {
        "duration": 7,
        "start_time": "2022-08-01T19:16:12.260Z"
      },
      {
        "duration": 7,
        "start_time": "2022-08-01T19:16:14.533Z"
      },
      {
        "duration": 7,
        "start_time": "2022-08-01T19:16:16.582Z"
      },
      {
        "duration": 10,
        "start_time": "2022-08-01T19:16:39.196Z"
      },
      {
        "duration": 8,
        "start_time": "2022-08-01T19:18:18.441Z"
      },
      {
        "duration": 6,
        "start_time": "2022-08-01T19:18:37.630Z"
      },
      {
        "duration": 1848,
        "start_time": "2022-08-01T19:19:28.952Z"
      },
      {
        "duration": 5,
        "start_time": "2022-08-01T19:20:07.540Z"
      },
      {
        "duration": 5,
        "start_time": "2022-08-01T19:21:28.804Z"
      },
      {
        "duration": 11,
        "start_time": "2022-08-01T19:21:35.338Z"
      },
      {
        "duration": 66,
        "start_time": "2022-08-01T19:22:31.408Z"
      },
      {
        "duration": 81,
        "start_time": "2022-08-01T19:22:48.535Z"
      },
      {
        "duration": 14,
        "start_time": "2022-08-01T19:22:49.343Z"
      },
      {
        "duration": 25,
        "start_time": "2022-08-01T19:22:50.346Z"
      },
      {
        "duration": 1992,
        "start_time": "2022-08-01T19:22:51.181Z"
      },
      {
        "duration": 9,
        "start_time": "2022-08-01T19:22:53.175Z"
      },
      {
        "duration": 6,
        "start_time": "2022-08-01T19:22:53.847Z"
      },
      {
        "duration": 63,
        "start_time": "2022-08-01T19:22:55.896Z"
      },
      {
        "duration": 9,
        "start_time": "2022-08-01T19:23:12.945Z"
      },
      {
        "duration": 8,
        "start_time": "2022-08-01T19:23:16.588Z"
      },
      {
        "duration": 8,
        "start_time": "2022-08-01T19:23:19.376Z"
      },
      {
        "duration": 10,
        "start_time": "2022-08-01T19:23:30.882Z"
      },
      {
        "duration": 5,
        "start_time": "2022-08-01T19:23:34.107Z"
      },
      {
        "duration": 9,
        "start_time": "2022-08-01T19:23:58.402Z"
      },
      {
        "duration": 52,
        "start_time": "2022-08-01T19:24:13.778Z"
      },
      {
        "duration": 88,
        "start_time": "2022-08-01T19:25:02.452Z"
      },
      {
        "duration": 13,
        "start_time": "2022-08-01T19:25:03.212Z"
      },
      {
        "duration": 23,
        "start_time": "2022-08-01T19:25:04.174Z"
      },
      {
        "duration": 1857,
        "start_time": "2022-08-01T19:25:05.004Z"
      },
      {
        "duration": 16,
        "start_time": "2022-08-01T19:25:06.863Z"
      },
      {
        "duration": 5,
        "start_time": "2022-08-01T19:25:07.768Z"
      },
      {
        "duration": 54,
        "start_time": "2022-08-01T19:25:09.001Z"
      },
      {
        "duration": 94,
        "start_time": "2022-08-01T19:25:44.149Z"
      },
      {
        "duration": 81,
        "start_time": "2022-08-01T19:25:51.767Z"
      },
      {
        "duration": 49,
        "start_time": "2022-08-01T19:26:45.689Z"
      },
      {
        "duration": 9,
        "start_time": "2022-08-01T19:26:54.485Z"
      },
      {
        "duration": 5,
        "start_time": "2022-08-01T19:26:56.448Z"
      },
      {
        "duration": 50,
        "start_time": "2022-08-01T19:27:00.419Z"
      },
      {
        "duration": 9,
        "start_time": "2022-08-01T19:27:09.788Z"
      },
      {
        "duration": 48,
        "start_time": "2022-08-01T19:27:23.219Z"
      },
      {
        "duration": 8,
        "start_time": "2022-08-01T19:27:24.708Z"
      },
      {
        "duration": 8,
        "start_time": "2022-08-01T19:27:26.108Z"
      },
      {
        "duration": 8,
        "start_time": "2022-08-01T19:27:26.936Z"
      },
      {
        "duration": 9,
        "start_time": "2022-08-01T19:28:02.048Z"
      },
      {
        "duration": 7,
        "start_time": "2022-08-01T19:30:04.990Z"
      },
      {
        "duration": 9,
        "start_time": "2022-08-01T19:30:07.100Z"
      },
      {
        "duration": 6,
        "start_time": "2022-08-01T19:32:08.784Z"
      },
      {
        "duration": 11,
        "start_time": "2022-08-01T19:32:11.710Z"
      },
      {
        "duration": 7,
        "start_time": "2022-08-01T19:34:07.806Z"
      },
      {
        "duration": 8,
        "start_time": "2022-08-01T19:34:15.421Z"
      },
      {
        "duration": 5,
        "start_time": "2022-08-01T19:35:31.170Z"
      },
      {
        "duration": 45,
        "start_time": "2022-08-01T19:35:36.115Z"
      },
      {
        "duration": 5,
        "start_time": "2022-08-01T19:35:38.828Z"
      },
      {
        "duration": 4,
        "start_time": "2022-08-01T19:35:40.291Z"
      },
      {
        "duration": 6,
        "start_time": "2022-08-01T19:35:41.025Z"
      },
      {
        "duration": 7,
        "start_time": "2022-08-01T19:35:41.896Z"
      },
      {
        "duration": 10,
        "start_time": "2022-08-01T19:35:43.279Z"
      },
      {
        "duration": 50,
        "start_time": "2022-08-01T19:37:06.640Z"
      },
      {
        "duration": 5,
        "start_time": "2022-08-01T19:37:08.488Z"
      },
      {
        "duration": 4,
        "start_time": "2022-08-01T19:37:09.828Z"
      },
      {
        "duration": 5,
        "start_time": "2022-08-01T19:37:10.616Z"
      },
      {
        "duration": 6,
        "start_time": "2022-08-01T19:37:11.989Z"
      },
      {
        "duration": 9,
        "start_time": "2022-08-01T19:37:13.447Z"
      },
      {
        "duration": 82,
        "start_time": "2022-08-01T19:38:06.156Z"
      },
      {
        "duration": 49,
        "start_time": "2022-08-01T19:38:15.086Z"
      },
      {
        "duration": 9,
        "start_time": "2022-08-01T19:38:21.712Z"
      },
      {
        "duration": 5,
        "start_time": "2022-08-01T19:38:33.742Z"
      },
      {
        "duration": 50,
        "start_time": "2022-08-01T19:38:34.642Z"
      },
      {
        "duration": 9,
        "start_time": "2022-08-01T19:38:47.047Z"
      },
      {
        "duration": 50,
        "start_time": "2022-08-01T19:39:25.847Z"
      },
      {
        "duration": 16,
        "start_time": "2022-08-01T19:39:57.544Z"
      },
      {
        "duration": 82,
        "start_time": "2022-08-01T19:40:40.211Z"
      },
      {
        "duration": 13,
        "start_time": "2022-08-01T19:40:40.294Z"
      },
      {
        "duration": 39,
        "start_time": "2022-08-01T19:40:40.309Z"
      },
      {
        "duration": 2045,
        "start_time": "2022-08-01T19:40:40.349Z"
      },
      {
        "duration": 8,
        "start_time": "2022-08-01T19:40:42.396Z"
      },
      {
        "duration": 4,
        "start_time": "2022-08-01T19:40:42.405Z"
      },
      {
        "duration": 62,
        "start_time": "2022-08-01T19:40:42.411Z"
      },
      {
        "duration": 6,
        "start_time": "2022-08-01T19:40:42.475Z"
      },
      {
        "duration": 8,
        "start_time": "2022-08-01T19:40:42.482Z"
      },
      {
        "duration": 5,
        "start_time": "2022-08-01T19:40:42.491Z"
      },
      {
        "duration": 6,
        "start_time": "2022-08-01T19:40:42.498Z"
      },
      {
        "duration": 6,
        "start_time": "2022-08-01T19:40:42.505Z"
      },
      {
        "duration": 9,
        "start_time": "2022-08-01T19:40:42.512Z"
      },
      {
        "duration": 12,
        "start_time": "2022-08-01T19:40:42.523Z"
      },
      {
        "duration": 9,
        "start_time": "2022-08-01T19:45:27.166Z"
      },
      {
        "duration": 15,
        "start_time": "2022-08-01T19:46:15.888Z"
      },
      {
        "duration": 695,
        "start_time": "2022-08-02T14:36:04.618Z"
      },
      {
        "duration": 18,
        "start_time": "2022-08-02T14:36:05.730Z"
      },
      {
        "duration": 31,
        "start_time": "2022-08-02T14:36:06.543Z"
      },
      {
        "duration": 2514,
        "start_time": "2022-08-02T14:36:07.583Z"
      },
      {
        "duration": 5,
        "start_time": "2022-08-02T14:37:02.930Z"
      },
      {
        "duration": 8,
        "start_time": "2022-08-02T14:37:12.918Z"
      },
      {
        "duration": 64,
        "start_time": "2022-08-02T14:38:36.491Z"
      },
      {
        "duration": 60,
        "start_time": "2022-08-02T14:38:45.642Z"
      },
      {
        "duration": 57,
        "start_time": "2022-08-02T14:39:16.322Z"
      },
      {
        "duration": 8,
        "start_time": "2022-08-02T14:39:19.222Z"
      },
      {
        "duration": 58,
        "start_time": "2022-08-02T14:41:21.494Z"
      },
      {
        "duration": 10,
        "start_time": "2022-08-02T14:41:30.053Z"
      },
      {
        "duration": 9,
        "start_time": "2022-08-02T14:44:38.130Z"
      },
      {
        "duration": 13,
        "start_time": "2022-08-02T14:48:00.043Z"
      },
      {
        "duration": 9,
        "start_time": "2022-08-02T14:48:08.129Z"
      },
      {
        "duration": 8,
        "start_time": "2022-08-02T14:48:31.066Z"
      },
      {
        "duration": 8,
        "start_time": "2022-08-02T14:48:32.089Z"
      },
      {
        "duration": 10,
        "start_time": "2022-08-02T14:48:39.786Z"
      },
      {
        "duration": 9,
        "start_time": "2022-08-02T14:49:02.426Z"
      },
      {
        "duration": 17,
        "start_time": "2022-08-02T14:54:23.824Z"
      },
      {
        "duration": 3,
        "start_time": "2022-08-02T14:54:53.714Z"
      },
      {
        "duration": 17,
        "start_time": "2022-08-02T14:54:56.486Z"
      },
      {
        "duration": 15,
        "start_time": "2022-08-02T14:55:04.638Z"
      },
      {
        "duration": 7,
        "start_time": "2022-08-02T14:57:34.125Z"
      },
      {
        "duration": 6,
        "start_time": "2022-08-02T14:58:50.727Z"
      },
      {
        "duration": 16,
        "start_time": "2022-08-02T14:58:54.574Z"
      },
      {
        "duration": 26,
        "start_time": "2022-08-02T15:02:06.526Z"
      },
      {
        "duration": 16,
        "start_time": "2022-08-02T15:02:09.553Z"
      },
      {
        "duration": 45,
        "start_time": "2022-08-02T15:03:02.322Z"
      },
      {
        "duration": 17,
        "start_time": "2022-08-02T15:03:06.632Z"
      },
      {
        "duration": 80,
        "start_time": "2022-08-02T15:03:50.173Z"
      },
      {
        "duration": 27,
        "start_time": "2022-08-02T15:03:53.284Z"
      },
      {
        "duration": 102,
        "start_time": "2022-08-02T15:04:26.877Z"
      },
      {
        "duration": 16,
        "start_time": "2022-08-02T15:04:29.619Z"
      },
      {
        "duration": 85,
        "start_time": "2022-08-02T15:07:39.546Z"
      },
      {
        "duration": 11,
        "start_time": "2022-08-02T15:47:19.821Z"
      },
      {
        "duration": 25,
        "start_time": "2022-08-02T15:47:34.060Z"
      },
      {
        "duration": 50,
        "start_time": "2022-08-02T15:52:39.336Z"
      },
      {
        "duration": 5,
        "start_time": "2022-08-02T15:53:06.160Z"
      },
      {
        "duration": 7,
        "start_time": "2022-08-02T15:53:25.163Z"
      },
      {
        "duration": 7,
        "start_time": "2022-08-02T15:56:38.626Z"
      },
      {
        "duration": 31,
        "start_time": "2022-08-02T16:04:22.125Z"
      },
      {
        "duration": 24,
        "start_time": "2022-08-02T16:04:55.162Z"
      },
      {
        "duration": 22,
        "start_time": "2022-08-02T16:04:58.272Z"
      },
      {
        "duration": 86,
        "start_time": "2022-08-02T16:04:59.279Z"
      },
      {
        "duration": 6,
        "start_time": "2022-08-02T16:05:06.469Z"
      },
      {
        "duration": 29,
        "start_time": "2022-08-02T16:05:09.470Z"
      },
      {
        "duration": 74,
        "start_time": "2022-08-02T16:08:24.444Z"
      },
      {
        "duration": 5,
        "start_time": "2022-08-02T16:09:52.451Z"
      },
      {
        "duration": 832,
        "start_time": "2022-08-02T16:10:36.826Z"
      },
      {
        "duration": 790,
        "start_time": "2022-08-02T16:11:02.363Z"
      },
      {
        "duration": 6,
        "start_time": "2022-08-02T16:11:27.721Z"
      },
      {
        "duration": 29,
        "start_time": "2022-08-02T16:11:51.192Z"
      },
      {
        "duration": 40,
        "start_time": "2022-08-02T16:12:25.467Z"
      },
      {
        "duration": 55,
        "start_time": "2022-08-02T16:12:35.631Z"
      },
      {
        "duration": 41,
        "start_time": "2022-08-02T16:12:46.518Z"
      },
      {
        "duration": 44,
        "start_time": "2022-08-02T16:13:22.248Z"
      },
      {
        "duration": 11,
        "start_time": "2022-08-02T16:22:34.092Z"
      },
      {
        "duration": 40,
        "start_time": "2022-08-02T16:23:23.128Z"
      },
      {
        "duration": 37,
        "start_time": "2022-08-02T16:23:46.742Z"
      },
      {
        "duration": 4,
        "start_time": "2022-08-02T16:25:38.660Z"
      },
      {
        "duration": 38,
        "start_time": "2022-08-02T16:25:54.650Z"
      },
      {
        "duration": 78,
        "start_time": "2022-08-02T16:26:34.531Z"
      },
      {
        "duration": 31,
        "start_time": "2022-08-02T16:26:47.470Z"
      },
      {
        "duration": 6,
        "start_time": "2022-08-02T16:28:34.132Z"
      },
      {
        "duration": 5,
        "start_time": "2022-08-02T16:32:30.180Z"
      },
      {
        "duration": 24,
        "start_time": "2022-08-02T16:32:45.980Z"
      },
      {
        "duration": 12,
        "start_time": "2022-08-02T16:43:57.078Z"
      },
      {
        "duration": 14,
        "start_time": "2022-08-02T16:49:50.874Z"
      },
      {
        "duration": 23,
        "start_time": "2022-08-02T16:49:55.080Z"
      },
      {
        "duration": 411,
        "start_time": "2022-08-02T17:10:27.325Z"
      },
      {
        "duration": 24,
        "start_time": "2022-08-02T17:10:36.470Z"
      },
      {
        "duration": 8,
        "start_time": "2022-08-02T17:19:41.462Z"
      },
      {
        "duration": 9,
        "start_time": "2022-08-02T17:20:14.275Z"
      },
      {
        "duration": 7,
        "start_time": "2022-08-02T17:21:51.735Z"
      },
      {
        "duration": 6,
        "start_time": "2022-08-02T17:22:25.558Z"
      },
      {
        "duration": 105,
        "start_time": "2022-08-02T17:22:32.618Z"
      },
      {
        "duration": 304,
        "start_time": "2022-08-02T17:23:18.117Z"
      },
      {
        "duration": 122,
        "start_time": "2022-08-02T17:25:18.257Z"
      },
      {
        "duration": 120,
        "start_time": "2022-08-02T17:25:28.658Z"
      },
      {
        "duration": 129,
        "start_time": "2022-08-02T17:34:32.453Z"
      },
      {
        "duration": 84,
        "start_time": "2022-08-02T17:35:04.026Z"
      },
      {
        "duration": 1167,
        "start_time": "2022-08-02T17:35:14.218Z"
      },
      {
        "duration": 1848,
        "start_time": "2022-08-02T17:36:10.623Z"
      },
      {
        "duration": 15,
        "start_time": "2022-08-02T17:36:37.023Z"
      },
      {
        "duration": 128,
        "start_time": "2022-08-02T17:36:50.848Z"
      },
      {
        "duration": 18,
        "start_time": "2022-08-02T17:36:50.979Z"
      },
      {
        "duration": 25,
        "start_time": "2022-08-02T17:36:51.000Z"
      },
      {
        "duration": 2017,
        "start_time": "2022-08-02T17:36:51.027Z"
      },
      {
        "duration": 14,
        "start_time": "2022-08-02T17:36:53.046Z"
      },
      {
        "duration": 6,
        "start_time": "2022-08-02T17:36:53.062Z"
      },
      {
        "duration": 59,
        "start_time": "2022-08-02T17:36:53.069Z"
      },
      {
        "duration": 28,
        "start_time": "2022-08-02T17:36:53.130Z"
      },
      {
        "duration": 8,
        "start_time": "2022-08-02T17:36:53.160Z"
      },
      {
        "duration": 16,
        "start_time": "2022-08-02T17:36:53.171Z"
      },
      {
        "duration": 14,
        "start_time": "2022-08-02T17:36:53.189Z"
      },
      {
        "duration": 10,
        "start_time": "2022-08-02T17:36:53.204Z"
      },
      {
        "duration": 12,
        "start_time": "2022-08-02T17:36:53.216Z"
      },
      {
        "duration": 44,
        "start_time": "2022-08-02T17:36:53.230Z"
      },
      {
        "duration": 94,
        "start_time": "2022-08-02T17:36:53.276Z"
      },
      {
        "duration": 5,
        "start_time": "2022-08-02T17:36:53.372Z"
      },
      {
        "duration": 60,
        "start_time": "2022-08-02T17:36:53.379Z"
      },
      {
        "duration": 7,
        "start_time": "2022-08-02T17:36:53.440Z"
      },
      {
        "duration": 350,
        "start_time": "2022-08-02T17:36:53.458Z"
      },
      {
        "duration": 25,
        "start_time": "2022-08-02T17:36:53.810Z"
      },
      {
        "duration": 2077,
        "start_time": "2022-08-02T17:36:53.836Z"
      },
      {
        "duration": 145,
        "start_time": "2022-08-02T17:36:55.915Z"
      },
      {
        "duration": 2048,
        "start_time": "2022-08-02T17:41:21.421Z"
      },
      {
        "duration": 2185,
        "start_time": "2022-08-02T17:42:06.751Z"
      },
      {
        "duration": 154,
        "start_time": "2022-08-02T17:48:44.821Z"
      },
      {
        "duration": 310,
        "start_time": "2022-08-02T17:48:57.419Z"
      },
      {
        "duration": 173,
        "start_time": "2022-08-02T17:49:05.624Z"
      },
      {
        "duration": 1533,
        "start_time": "2022-08-02T17:49:11.892Z"
      },
      {
        "duration": 173,
        "start_time": "2022-08-02T17:49:21.350Z"
      },
      {
        "duration": 165,
        "start_time": "2022-08-02T17:50:12.878Z"
      },
      {
        "duration": 407,
        "start_time": "2022-08-02T17:51:29.952Z"
      },
      {
        "duration": 417,
        "start_time": "2022-08-02T17:52:53.153Z"
      },
      {
        "duration": 191,
        "start_time": "2022-08-02T17:57:32.353Z"
      },
      {
        "duration": 196,
        "start_time": "2022-08-02T17:59:14.881Z"
      },
      {
        "duration": 198,
        "start_time": "2022-08-02T17:59:49.950Z"
      },
      {
        "duration": 185,
        "start_time": "2022-08-02T18:00:08.169Z"
      },
      {
        "duration": 197,
        "start_time": "2022-08-02T18:00:18.235Z"
      },
      {
        "duration": 63,
        "start_time": "2022-08-02T18:01:48.347Z"
      },
      {
        "duration": 136,
        "start_time": "2022-08-02T18:01:58.795Z"
      },
      {
        "duration": 178,
        "start_time": "2022-08-02T18:02:29.230Z"
      },
      {
        "duration": 9,
        "start_time": "2022-08-02T18:06:43.431Z"
      },
      {
        "duration": 879,
        "start_time": "2022-08-02T18:09:24.341Z"
      },
      {
        "duration": 190,
        "start_time": "2022-08-02T18:10:05.356Z"
      },
      {
        "duration": 22,
        "start_time": "2022-08-02T18:13:15.250Z"
      },
      {
        "duration": 10,
        "start_time": "2022-08-02T18:13:35.809Z"
      },
      {
        "duration": 19,
        "start_time": "2022-08-02T18:13:41.348Z"
      },
      {
        "duration": 6948,
        "start_time": "2022-08-02T18:16:35.142Z"
      },
      {
        "duration": 5,
        "start_time": "2022-08-02T18:33:40.584Z"
      },
      {
        "duration": 1120,
        "start_time": "2022-08-02T18:33:50.842Z"
      },
      {
        "duration": 1185,
        "start_time": "2022-08-02T18:34:27.430Z"
      },
      {
        "duration": 50,
        "start_time": "2022-08-02T18:35:41.845Z"
      },
      {
        "duration": 52,
        "start_time": "2022-08-02T18:37:38.952Z"
      },
      {
        "duration": 51,
        "start_time": "2022-08-02T18:38:05.175Z"
      },
      {
        "duration": 6,
        "start_time": "2022-08-02T18:38:53.235Z"
      },
      {
        "duration": 89,
        "start_time": "2022-08-02T18:39:12.682Z"
      },
      {
        "duration": 89,
        "start_time": "2022-08-02T18:39:30.256Z"
      },
      {
        "duration": 270,
        "start_time": "2022-08-02T18:40:57.062Z"
      },
      {
        "duration": 10,
        "start_time": "2022-08-02T18:41:16.545Z"
      },
      {
        "duration": 867,
        "start_time": "2022-08-02T18:42:17.958Z"
      },
      {
        "duration": 108,
        "start_time": "2022-08-02T18:43:20.234Z"
      },
      {
        "duration": 13,
        "start_time": "2022-08-02T18:44:17.979Z"
      },
      {
        "duration": 48,
        "start_time": "2022-08-02T18:44:31.670Z"
      },
      {
        "duration": 48,
        "start_time": "2022-08-02T18:44:54.773Z"
      },
      {
        "duration": 112,
        "start_time": "2022-08-02T18:45:08.904Z"
      },
      {
        "duration": 13,
        "start_time": "2022-08-02T18:45:39.101Z"
      },
      {
        "duration": 163,
        "start_time": "2022-08-02T18:45:50.758Z"
      },
      {
        "duration": 1347,
        "start_time": "2022-08-02T18:46:10.995Z"
      },
      {
        "duration": 1336,
        "start_time": "2022-08-02T18:46:42.995Z"
      },
      {
        "duration": 906,
        "start_time": "2022-08-02T21:08:08.838Z"
      },
      {
        "duration": 83,
        "start_time": "2022-08-02T21:08:14.664Z"
      },
      {
        "duration": 90,
        "start_time": "2022-08-02T21:08:27.236Z"
      },
      {
        "duration": 24,
        "start_time": "2022-08-02T21:08:27.329Z"
      },
      {
        "duration": 48,
        "start_time": "2022-08-02T21:08:27.355Z"
      },
      {
        "duration": 1990,
        "start_time": "2022-08-02T21:08:27.405Z"
      },
      {
        "duration": 10,
        "start_time": "2022-08-02T21:08:29.396Z"
      },
      {
        "duration": 6,
        "start_time": "2022-08-02T21:08:29.407Z"
      },
      {
        "duration": 64,
        "start_time": "2022-08-02T21:08:29.415Z"
      },
      {
        "duration": 8,
        "start_time": "2022-08-02T21:08:29.481Z"
      },
      {
        "duration": 7,
        "start_time": "2022-08-02T21:08:29.491Z"
      },
      {
        "duration": 8,
        "start_time": "2022-08-02T21:08:29.501Z"
      },
      {
        "duration": 13,
        "start_time": "2022-08-02T21:08:29.511Z"
      },
      {
        "duration": 10,
        "start_time": "2022-08-02T21:08:29.551Z"
      },
      {
        "duration": 8,
        "start_time": "2022-08-02T21:08:29.562Z"
      },
      {
        "duration": 16,
        "start_time": "2022-08-02T21:08:29.572Z"
      },
      {
        "duration": 100,
        "start_time": "2022-08-02T21:08:29.590Z"
      },
      {
        "duration": 5,
        "start_time": "2022-08-02T21:08:29.691Z"
      },
      {
        "duration": 68,
        "start_time": "2022-08-02T21:08:29.698Z"
      },
      {
        "duration": 12,
        "start_time": "2022-08-02T21:08:29.769Z"
      },
      {
        "duration": 364,
        "start_time": "2022-08-02T21:08:29.784Z"
      },
      {
        "duration": 25,
        "start_time": "2022-08-02T21:08:30.150Z"
      },
      {
        "duration": 1832,
        "start_time": "2022-08-02T21:08:30.176Z"
      },
      {
        "duration": 331,
        "start_time": "2022-08-02T21:08:32.009Z"
      },
      {
        "duration": 22,
        "start_time": "2022-08-02T21:08:32.342Z"
      },
      {
        "duration": 9,
        "start_time": "2022-08-02T21:08:32.365Z"
      },
      {
        "duration": 0,
        "start_time": "2022-08-02T21:08:32.376Z"
      },
      {
        "duration": 0,
        "start_time": "2022-08-02T21:08:32.377Z"
      },
      {
        "duration": 79,
        "start_time": "2022-08-02T21:11:11.125Z"
      },
      {
        "duration": 87,
        "start_time": "2022-08-02T21:11:28.552Z"
      },
      {
        "duration": 508,
        "start_time": "2022-08-02T21:11:46.873Z"
      },
      {
        "duration": 84,
        "start_time": "2022-08-02T21:12:07.071Z"
      },
      {
        "duration": 76,
        "start_time": "2022-08-02T21:12:51.544Z"
      },
      {
        "duration": 14,
        "start_time": "2022-08-02T21:13:04.456Z"
      },
      {
        "duration": 13,
        "start_time": "2022-08-02T21:13:55.219Z"
      },
      {
        "duration": 22,
        "start_time": "2022-08-02T21:14:59.770Z"
      },
      {
        "duration": 18,
        "start_time": "2022-08-02T21:16:42.523Z"
      },
      {
        "duration": 44,
        "start_time": "2022-08-02T21:16:59.859Z"
      },
      {
        "duration": 108,
        "start_time": "2022-08-02T21:17:29.062Z"
      },
      {
        "duration": 77,
        "start_time": "2022-08-02T21:17:56.905Z"
      },
      {
        "duration": 1123,
        "start_time": "2022-08-03T12:33:04.624Z"
      },
      {
        "duration": 148,
        "start_time": "2022-08-03T12:55:37.028Z"
      },
      {
        "duration": 95,
        "start_time": "2022-08-03T12:57:35.076Z"
      },
      {
        "duration": 17,
        "start_time": "2022-08-03T12:57:36.249Z"
      },
      {
        "duration": 27,
        "start_time": "2022-08-03T12:57:41.724Z"
      },
      {
        "duration": 1929,
        "start_time": "2022-08-03T12:57:43.716Z"
      },
      {
        "duration": 9,
        "start_time": "2022-08-03T12:57:49.614Z"
      },
      {
        "duration": 5,
        "start_time": "2022-08-03T12:57:53.086Z"
      },
      {
        "duration": 58,
        "start_time": "2022-08-03T12:57:54.408Z"
      },
      {
        "duration": 9,
        "start_time": "2022-08-03T12:57:56.318Z"
      },
      {
        "duration": 8,
        "start_time": "2022-08-03T12:57:57.609Z"
      },
      {
        "duration": 9,
        "start_time": "2022-08-03T12:57:58.817Z"
      },
      {
        "duration": 14,
        "start_time": "2022-08-03T12:58:01.518Z"
      },
      {
        "duration": 10,
        "start_time": "2022-08-03T12:58:03.225Z"
      },
      {
        "duration": 248,
        "start_time": "2022-08-03T12:59:45.619Z"
      },
      {
        "duration": 8,
        "start_time": "2022-08-03T13:02:19.569Z"
      },
      {
        "duration": 6,
        "start_time": "2022-08-03T13:02:58.983Z"
      },
      {
        "duration": 136,
        "start_time": "2022-08-03T13:03:26.754Z"
      },
      {
        "duration": 785,
        "start_time": "2022-08-03T13:25:39.324Z"
      },
      {
        "duration": 16,
        "start_time": "2022-08-03T13:26:09.425Z"
      },
      {
        "duration": 33,
        "start_time": "2022-08-03T13:28:42.043Z"
      },
      {
        "duration": 4,
        "start_time": "2022-08-03T13:30:52.446Z"
      },
      {
        "duration": 28,
        "start_time": "2022-08-03T13:31:11.628Z"
      },
      {
        "duration": 71,
        "start_time": "2022-08-03T13:31:36.486Z"
      },
      {
        "duration": 77,
        "start_time": "2022-08-03T13:32:13.649Z"
      },
      {
        "duration": 12,
        "start_time": "2022-08-03T13:34:21.245Z"
      },
      {
        "duration": 25,
        "start_time": "2022-08-03T13:34:42.048Z"
      },
      {
        "duration": 385,
        "start_time": "2022-08-03T13:37:56.344Z"
      },
      {
        "duration": 103,
        "start_time": "2022-08-03T13:38:50.836Z"
      },
      {
        "duration": 1978,
        "start_time": "2022-08-03T13:44:16.772Z"
      },
      {
        "duration": 2080,
        "start_time": "2022-08-03T13:44:40.419Z"
      },
      {
        "duration": 2015,
        "start_time": "2022-08-03T13:50:10.936Z"
      },
      {
        "duration": 1995,
        "start_time": "2022-08-03T13:50:33.875Z"
      },
      {
        "duration": 2055,
        "start_time": "2022-08-03T13:55:50.567Z"
      },
      {
        "duration": 1998,
        "start_time": "2022-08-03T13:58:33.832Z"
      },
      {
        "duration": 2084,
        "start_time": "2022-08-03T13:58:57.882Z"
      },
      {
        "duration": 2008,
        "start_time": "2022-08-03T14:03:29.961Z"
      },
      {
        "duration": 1989,
        "start_time": "2022-08-03T14:05:52.044Z"
      },
      {
        "duration": 2015,
        "start_time": "2022-08-03T14:08:50.509Z"
      },
      {
        "duration": 1290,
        "start_time": "2022-08-03T14:13:00.233Z"
      },
      {
        "duration": 2191,
        "start_time": "2022-08-03T14:15:16.777Z"
      },
      {
        "duration": 2328,
        "start_time": "2022-08-03T14:17:27.681Z"
      },
      {
        "duration": 2089,
        "start_time": "2022-08-03T14:17:56.024Z"
      },
      {
        "duration": 2107,
        "start_time": "2022-08-03T14:20:14.555Z"
      },
      {
        "duration": 2113,
        "start_time": "2022-08-03T14:23:17.118Z"
      },
      {
        "duration": 2135,
        "start_time": "2022-08-03T14:24:40.685Z"
      },
      {
        "duration": 2224,
        "start_time": "2022-08-03T14:25:25.723Z"
      },
      {
        "duration": 2073,
        "start_time": "2022-08-03T14:25:49.214Z"
      },
      {
        "duration": 256,
        "start_time": "2022-08-03T14:29:49.843Z"
      },
      {
        "duration": 9,
        "start_time": "2022-08-03T14:30:06.944Z"
      },
      {
        "duration": 11,
        "start_time": "2022-08-03T14:44:39.275Z"
      },
      {
        "duration": 16,
        "start_time": "2022-08-03T14:44:54.557Z"
      },
      {
        "duration": 483,
        "start_time": "2022-08-03T14:45:14.767Z"
      },
      {
        "duration": 49,
        "start_time": "2022-08-03T16:05:34.114Z"
      },
      {
        "duration": 1034,
        "start_time": "2022-08-03T16:05:44.234Z"
      },
      {
        "duration": 15,
        "start_time": "2022-08-03T16:05:45.270Z"
      },
      {
        "duration": 27,
        "start_time": "2022-08-03T16:05:45.286Z"
      },
      {
        "duration": 2063,
        "start_time": "2022-08-03T16:05:45.315Z"
      },
      {
        "duration": 12,
        "start_time": "2022-08-03T16:05:47.381Z"
      },
      {
        "duration": 26,
        "start_time": "2022-08-03T16:05:47.395Z"
      },
      {
        "duration": 79,
        "start_time": "2022-08-03T16:05:47.423Z"
      },
      {
        "duration": 9,
        "start_time": "2022-08-03T16:05:47.504Z"
      },
      {
        "duration": 21,
        "start_time": "2022-08-03T16:05:47.515Z"
      },
      {
        "duration": 25,
        "start_time": "2022-08-03T16:05:47.538Z"
      },
      {
        "duration": 36,
        "start_time": "2022-08-03T16:05:47.565Z"
      },
      {
        "duration": 26,
        "start_time": "2022-08-03T16:05:47.602Z"
      },
      {
        "duration": 21,
        "start_time": "2022-08-03T16:05:47.630Z"
      },
      {
        "duration": 23,
        "start_time": "2022-08-03T16:05:47.654Z"
      },
      {
        "duration": 104,
        "start_time": "2022-08-03T16:05:47.678Z"
      },
      {
        "duration": 4,
        "start_time": "2022-08-03T16:05:47.783Z"
      },
      {
        "duration": 85,
        "start_time": "2022-08-03T16:05:47.789Z"
      },
      {
        "duration": 9,
        "start_time": "2022-08-03T16:05:47.876Z"
      },
      {
        "duration": 73,
        "start_time": "2022-08-03T16:05:47.886Z"
      },
      {
        "duration": 0,
        "start_time": "2022-08-03T16:05:47.961Z"
      },
      {
        "duration": 0,
        "start_time": "2022-08-03T16:05:47.962Z"
      },
      {
        "duration": 0,
        "start_time": "2022-08-03T16:05:47.963Z"
      },
      {
        "duration": 0,
        "start_time": "2022-08-03T16:05:47.965Z"
      },
      {
        "duration": 0,
        "start_time": "2022-08-03T16:05:47.966Z"
      },
      {
        "duration": 0,
        "start_time": "2022-08-03T16:05:47.968Z"
      },
      {
        "duration": 0,
        "start_time": "2022-08-03T16:05:47.970Z"
      },
      {
        "duration": 0,
        "start_time": "2022-08-03T16:05:47.971Z"
      },
      {
        "duration": 0,
        "start_time": "2022-08-03T16:05:47.973Z"
      },
      {
        "duration": 0,
        "start_time": "2022-08-03T16:05:47.975Z"
      },
      {
        "duration": 0,
        "start_time": "2022-08-03T16:05:47.977Z"
      },
      {
        "duration": 0,
        "start_time": "2022-08-03T16:05:47.978Z"
      },
      {
        "duration": 0,
        "start_time": "2022-08-03T16:05:47.980Z"
      },
      {
        "duration": 40,
        "start_time": "2022-08-03T16:06:03.743Z"
      },
      {
        "duration": 13,
        "start_time": "2022-08-03T16:06:31.345Z"
      },
      {
        "duration": 96,
        "start_time": "2022-08-03T16:07:00.202Z"
      },
      {
        "duration": 14,
        "start_time": "2022-08-03T16:07:01.133Z"
      },
      {
        "duration": 24,
        "start_time": "2022-08-03T16:07:02.208Z"
      },
      {
        "duration": 1812,
        "start_time": "2022-08-03T16:07:03.027Z"
      },
      {
        "duration": 10,
        "start_time": "2022-08-03T16:07:05.112Z"
      },
      {
        "duration": 5,
        "start_time": "2022-08-03T16:07:05.824Z"
      },
      {
        "duration": 54,
        "start_time": "2022-08-03T16:07:06.694Z"
      },
      {
        "duration": 7,
        "start_time": "2022-08-03T16:07:08.827Z"
      },
      {
        "duration": 10,
        "start_time": "2022-08-03T16:07:09.798Z"
      },
      {
        "duration": 9,
        "start_time": "2022-08-03T16:07:10.739Z"
      },
      {
        "duration": 16,
        "start_time": "2022-08-03T16:07:11.727Z"
      },
      {
        "duration": 10,
        "start_time": "2022-08-03T16:07:12.768Z"
      },
      {
        "duration": 15,
        "start_time": "2022-08-03T16:07:15.514Z"
      },
      {
        "duration": 24,
        "start_time": "2022-08-03T16:07:17.315Z"
      },
      {
        "duration": 85,
        "start_time": "2022-08-03T16:07:18.413Z"
      },
      {
        "duration": 4,
        "start_time": "2022-08-03T16:07:19.625Z"
      },
      {
        "duration": 73,
        "start_time": "2022-08-03T16:07:20.834Z"
      },
      {
        "duration": 10,
        "start_time": "2022-08-03T16:07:22.302Z"
      },
      {
        "duration": 49,
        "start_time": "2022-08-03T16:07:26.636Z"
      },
      {
        "duration": 311,
        "start_time": "2022-08-03T16:07:43.114Z"
      },
      {
        "duration": 24,
        "start_time": "2022-08-03T16:07:44.106Z"
      },
      {
        "duration": 2213,
        "start_time": "2022-08-03T16:07:45.967Z"
      },
      {
        "duration": 59,
        "start_time": "2022-08-03T16:07:48.182Z"
      },
      {
        "duration": 0,
        "start_time": "2022-08-03T16:07:48.242Z"
      },
      {
        "duration": 265,
        "start_time": "2022-08-03T16:07:56.906Z"
      },
      {
        "duration": 10,
        "start_time": "2022-08-03T16:07:58.022Z"
      },
      {
        "duration": 46,
        "start_time": "2022-08-03T16:07:59.336Z"
      },
      {
        "duration": 14,
        "start_time": "2022-08-03T16:08:16.247Z"
      },
      {
        "duration": 503,
        "start_time": "2022-08-03T16:08:17.439Z"
      },
      {
        "duration": 50,
        "start_time": "2022-08-03T16:08:19.262Z"
      },
      {
        "duration": 12,
        "start_time": "2022-08-03T16:08:34.618Z"
      },
      {
        "duration": 274,
        "start_time": "2022-08-03T16:08:48.226Z"
      },
      {
        "duration": 155,
        "start_time": "2022-08-03T16:09:12.194Z"
      },
      {
        "duration": 154,
        "start_time": "2022-08-03T16:09:39.502Z"
      },
      {
        "duration": 13,
        "start_time": "2022-08-03T16:10:09.329Z"
      },
      {
        "duration": 152,
        "start_time": "2022-08-03T16:11:58.398Z"
      },
      {
        "duration": 641,
        "start_time": "2022-08-03T16:13:18.899Z"
      },
      {
        "duration": 17,
        "start_time": "2022-08-03T16:19:27.326Z"
      },
      {
        "duration": 19,
        "start_time": "2022-08-03T16:19:50.483Z"
      },
      {
        "duration": 695,
        "start_time": "2022-08-03T16:20:44.564Z"
      },
      {
        "duration": 714,
        "start_time": "2022-08-03T16:21:56.684Z"
      },
      {
        "duration": 609,
        "start_time": "2022-08-03T16:22:12.495Z"
      },
      {
        "duration": 722,
        "start_time": "2022-08-03T16:24:16.528Z"
      },
      {
        "duration": 737,
        "start_time": "2022-08-03T16:24:46.570Z"
      },
      {
        "duration": 957,
        "start_time": "2022-08-03T16:25:11.271Z"
      },
      {
        "duration": 12,
        "start_time": "2022-08-03T16:33:27.017Z"
      },
      {
        "duration": 16,
        "start_time": "2022-08-03T16:33:39.863Z"
      },
      {
        "duration": 18,
        "start_time": "2022-08-03T16:34:29.100Z"
      },
      {
        "duration": 15,
        "start_time": "2022-08-03T16:34:43.230Z"
      },
      {
        "duration": 78,
        "start_time": "2022-08-03T16:36:32.860Z"
      },
      {
        "duration": 25,
        "start_time": "2022-08-03T16:37:49.579Z"
      },
      {
        "duration": 26,
        "start_time": "2022-08-03T16:38:25.828Z"
      },
      {
        "duration": 17,
        "start_time": "2022-08-03T16:39:08.827Z"
      },
      {
        "duration": 25,
        "start_time": "2022-08-03T16:39:11.693Z"
      },
      {
        "duration": 27,
        "start_time": "2022-08-03T16:39:26.809Z"
      },
      {
        "duration": 35,
        "start_time": "2022-08-03T16:39:57.184Z"
      },
      {
        "duration": 22,
        "start_time": "2022-08-03T16:40:29.302Z"
      },
      {
        "duration": 23,
        "start_time": "2022-08-03T16:40:39.759Z"
      },
      {
        "duration": 23,
        "start_time": "2022-08-03T16:42:14.064Z"
      },
      {
        "duration": 6,
        "start_time": "2022-08-03T16:45:29.354Z"
      },
      {
        "duration": 6,
        "start_time": "2022-08-03T16:45:37.329Z"
      },
      {
        "duration": 830,
        "start_time": "2022-08-03T16:45:53.724Z"
      },
      {
        "duration": 35,
        "start_time": "2022-08-03T16:46:12.888Z"
      },
      {
        "duration": 6,
        "start_time": "2022-08-03T16:47:05.597Z"
      },
      {
        "duration": 48,
        "start_time": "2022-08-03T16:49:49.645Z"
      },
      {
        "duration": 63,
        "start_time": "2022-08-03T16:50:33.703Z"
      },
      {
        "duration": 10,
        "start_time": "2022-08-03T16:50:57.276Z"
      },
      {
        "duration": 27,
        "start_time": "2022-08-03T16:52:32.513Z"
      },
      {
        "duration": 13,
        "start_time": "2022-08-03T16:53:18.932Z"
      },
      {
        "duration": 13,
        "start_time": "2022-08-03T16:53:45.577Z"
      },
      {
        "duration": 14,
        "start_time": "2022-08-03T16:54:43.918Z"
      },
      {
        "duration": 47,
        "start_time": "2022-08-03T16:56:04.220Z"
      },
      {
        "duration": 30,
        "start_time": "2022-08-03T16:56:33.033Z"
      },
      {
        "duration": 178,
        "start_time": "2022-08-03T16:56:58.980Z"
      },
      {
        "duration": 9,
        "start_time": "2022-08-03T16:57:13.822Z"
      },
      {
        "duration": 40,
        "start_time": "2022-08-03T16:58:02.859Z"
      },
      {
        "duration": 10,
        "start_time": "2022-08-03T16:58:46.355Z"
      },
      {
        "duration": 54,
        "start_time": "2022-08-03T16:59:10.165Z"
      },
      {
        "duration": 13,
        "start_time": "2022-08-03T17:02:21.255Z"
      },
      {
        "duration": 22,
        "start_time": "2022-08-03T17:02:30.328Z"
      },
      {
        "duration": 79,
        "start_time": "2022-08-03T17:03:10.935Z"
      },
      {
        "duration": 139,
        "start_time": "2022-08-03T17:03:24.353Z"
      },
      {
        "duration": 90,
        "start_time": "2022-08-03T17:16:02.355Z"
      },
      {
        "duration": 14,
        "start_time": "2022-08-03T17:16:02.959Z"
      },
      {
        "duration": 25,
        "start_time": "2022-08-03T17:16:03.487Z"
      },
      {
        "duration": 1929,
        "start_time": "2022-08-03T17:16:04.137Z"
      },
      {
        "duration": 9,
        "start_time": "2022-08-03T17:16:06.100Z"
      },
      {
        "duration": 7,
        "start_time": "2022-08-03T17:16:06.790Z"
      },
      {
        "duration": 70,
        "start_time": "2022-08-03T17:16:07.440Z"
      },
      {
        "duration": 8,
        "start_time": "2022-08-03T17:16:08.039Z"
      },
      {
        "duration": 7,
        "start_time": "2022-08-03T17:16:08.682Z"
      },
      {
        "duration": 11,
        "start_time": "2022-08-03T17:16:09.383Z"
      },
      {
        "duration": 18,
        "start_time": "2022-08-03T17:16:10.043Z"
      },
      {
        "duration": 14,
        "start_time": "2022-08-03T17:16:10.687Z"
      },
      {
        "duration": 16,
        "start_time": "2022-08-03T17:16:12.194Z"
      },
      {
        "duration": 19,
        "start_time": "2022-08-03T17:16:13.507Z"
      },
      {
        "duration": 82,
        "start_time": "2022-08-03T17:16:14.283Z"
      },
      {
        "duration": 5,
        "start_time": "2022-08-03T17:16:14.998Z"
      },
      {
        "duration": 70,
        "start_time": "2022-08-03T17:16:15.767Z"
      },
      {
        "duration": 9,
        "start_time": "2022-08-03T17:16:16.453Z"
      },
      {
        "duration": 447,
        "start_time": "2022-08-03T17:16:21.506Z"
      },
      {
        "duration": 2771,
        "start_time": "2022-08-03T18:43:54.928Z"
      },
      {
        "duration": 23,
        "start_time": "2022-08-03T18:46:37.632Z"
      },
      {
        "duration": 101,
        "start_time": "2022-08-03T18:46:38.587Z"
      },
      {
        "duration": 4,
        "start_time": "2022-08-03T18:46:38.980Z"
      },
      {
        "duration": 271,
        "start_time": "2022-08-03T18:46:39.691Z"
      },
      {
        "duration": 12,
        "start_time": "2022-08-03T18:46:40.434Z"
      },
      {
        "duration": 360,
        "start_time": "2022-08-03T18:46:53.281Z"
      },
      {
        "duration": 26,
        "start_time": "2022-08-03T18:46:54.060Z"
      },
      {
        "duration": 2583,
        "start_time": "2022-08-03T18:46:55.627Z"
      },
      {
        "duration": 48,
        "start_time": "2022-08-03T18:54:08.027Z"
      },
      {
        "duration": 97,
        "start_time": "2022-08-03T18:55:48.689Z"
      },
      {
        "duration": 35,
        "start_time": "2022-08-03T18:55:48.788Z"
      },
      {
        "duration": 25,
        "start_time": "2022-08-03T18:55:48.826Z"
      },
      {
        "duration": 2202,
        "start_time": "2022-08-03T18:55:48.854Z"
      },
      {
        "duration": 10,
        "start_time": "2022-08-03T18:55:51.058Z"
      },
      {
        "duration": 20,
        "start_time": "2022-08-03T18:55:51.070Z"
      },
      {
        "duration": 76,
        "start_time": "2022-08-03T18:55:51.092Z"
      },
      {
        "duration": 7,
        "start_time": "2022-08-03T18:55:51.170Z"
      },
      {
        "duration": 22,
        "start_time": "2022-08-03T18:55:51.179Z"
      },
      {
        "duration": 34,
        "start_time": "2022-08-03T18:55:51.204Z"
      },
      {
        "duration": 30,
        "start_time": "2022-08-03T18:55:51.240Z"
      },
      {
        "duration": 33,
        "start_time": "2022-08-03T18:55:51.272Z"
      },
      {
        "duration": 38,
        "start_time": "2022-08-03T18:55:51.307Z"
      },
      {
        "duration": 23,
        "start_time": "2022-08-03T18:55:51.347Z"
      },
      {
        "duration": 92,
        "start_time": "2022-08-03T18:55:51.372Z"
      },
      {
        "duration": 5,
        "start_time": "2022-08-03T18:55:51.465Z"
      },
      {
        "duration": 103,
        "start_time": "2022-08-03T18:55:51.472Z"
      },
      {
        "duration": 10,
        "start_time": "2022-08-03T18:55:51.577Z"
      },
      {
        "duration": 359,
        "start_time": "2022-08-03T18:55:51.589Z"
      },
      {
        "duration": 25,
        "start_time": "2022-08-03T18:55:51.950Z"
      },
      {
        "duration": 2452,
        "start_time": "2022-08-03T18:55:51.977Z"
      },
      {
        "duration": 294,
        "start_time": "2022-08-03T18:55:54.430Z"
      },
      {
        "duration": 9,
        "start_time": "2022-08-03T18:55:54.730Z"
      },
      {
        "duration": 37,
        "start_time": "2022-08-03T18:55:54.740Z"
      },
      {
        "duration": 556,
        "start_time": "2022-08-03T18:55:54.779Z"
      },
      {
        "duration": 847,
        "start_time": "2022-08-03T18:55:55.338Z"
      },
      {
        "duration": 48,
        "start_time": "2022-08-03T18:55:56.187Z"
      },
      {
        "duration": 17,
        "start_time": "2022-08-03T18:55:56.239Z"
      },
      {
        "duration": 174,
        "start_time": "2022-08-03T18:55:56.258Z"
      },
      {
        "duration": 1036,
        "start_time": "2022-08-03T20:19:33.575Z"
      },
      {
        "duration": 16,
        "start_time": "2022-08-03T20:19:34.613Z"
      },
      {
        "duration": 39,
        "start_time": "2022-08-03T20:19:34.631Z"
      },
      {
        "duration": 1876,
        "start_time": "2022-08-03T20:19:34.673Z"
      },
      {
        "duration": 2861,
        "start_time": "2022-08-03T20:19:36.551Z"
      },
      {
        "duration": 10,
        "start_time": "2022-08-03T20:19:39.413Z"
      },
      {
        "duration": 18,
        "start_time": "2022-08-03T20:19:39.424Z"
      },
      {
        "duration": 57,
        "start_time": "2022-08-03T20:19:39.443Z"
      },
      {
        "duration": 6,
        "start_time": "2022-08-03T20:19:39.502Z"
      },
      {
        "duration": 11,
        "start_time": "2022-08-03T20:19:39.510Z"
      },
      {
        "duration": 26,
        "start_time": "2022-08-03T20:19:39.523Z"
      },
      {
        "duration": 12,
        "start_time": "2022-08-03T20:19:39.551Z"
      },
      {
        "duration": 9,
        "start_time": "2022-08-03T20:19:39.565Z"
      },
      {
        "duration": 15,
        "start_time": "2022-08-03T20:19:39.575Z"
      },
      {
        "duration": 17,
        "start_time": "2022-08-03T20:19:39.591Z"
      },
      {
        "duration": 119,
        "start_time": "2022-08-03T20:19:39.610Z"
      },
      {
        "duration": 11,
        "start_time": "2022-08-03T20:19:39.730Z"
      },
      {
        "duration": 80,
        "start_time": "2022-08-03T20:19:39.742Z"
      },
      {
        "duration": 16,
        "start_time": "2022-08-03T20:19:39.824Z"
      },
      {
        "duration": 340,
        "start_time": "2022-08-03T20:19:39.842Z"
      },
      {
        "duration": 28,
        "start_time": "2022-08-03T20:19:40.184Z"
      },
      {
        "duration": 3665,
        "start_time": "2022-08-03T20:19:40.214Z"
      },
      {
        "duration": 467,
        "start_time": "2022-08-03T20:19:43.881Z"
      },
      {
        "duration": 9,
        "start_time": "2022-08-03T20:19:44.350Z"
      },
      {
        "duration": 14,
        "start_time": "2022-08-03T20:19:44.361Z"
      },
      {
        "duration": 686,
        "start_time": "2022-08-03T20:19:44.376Z"
      },
      {
        "duration": 958,
        "start_time": "2022-08-03T20:19:45.064Z"
      },
      {
        "duration": 29,
        "start_time": "2022-08-03T20:19:46.026Z"
      },
      {
        "duration": 14,
        "start_time": "2022-08-03T20:19:46.056Z"
      },
      {
        "duration": 235,
        "start_time": "2022-08-03T20:19:46.072Z"
      },
      {
        "duration": 65,
        "start_time": "2022-08-04T15:18:40.370Z"
      },
      {
        "duration": 1035,
        "start_time": "2022-08-04T15:19:11.466Z"
      },
      {
        "duration": 187,
        "start_time": "2022-08-04T15:19:12.503Z"
      },
      {
        "duration": 77,
        "start_time": "2022-08-04T15:19:16.838Z"
      },
      {
        "duration": 156,
        "start_time": "2022-08-04T15:20:07.723Z"
      },
      {
        "duration": 4,
        "start_time": "2022-08-04T15:20:44.958Z"
      },
      {
        "duration": 97,
        "start_time": "2022-08-04T15:20:46.522Z"
      },
      {
        "duration": 80,
        "start_time": "2022-08-04T15:20:51.728Z"
      },
      {
        "duration": 73,
        "start_time": "2022-08-04T15:21:01.104Z"
      },
      {
        "duration": 73,
        "start_time": "2022-08-04T15:21:46.829Z"
      },
      {
        "duration": 18,
        "start_time": "2022-08-04T15:22:05.494Z"
      },
      {
        "duration": 3,
        "start_time": "2022-08-04T15:22:06.429Z"
      },
      {
        "duration": 3,
        "start_time": "2022-08-04T15:22:17.504Z"
      },
      {
        "duration": 29,
        "start_time": "2022-08-04T15:22:32.133Z"
      },
      {
        "duration": 2233,
        "start_time": "2022-08-04T15:27:19.982Z"
      },
      {
        "duration": 9,
        "start_time": "2022-08-04T15:30:24.124Z"
      },
      {
        "duration": 10,
        "start_time": "2022-08-04T15:30:28.049Z"
      },
      {
        "duration": 5,
        "start_time": "2022-08-04T15:30:47.152Z"
      },
      {
        "duration": 103,
        "start_time": "2022-08-04T15:30:47.984Z"
      },
      {
        "duration": 15,
        "start_time": "2022-08-04T15:30:56.454Z"
      },
      {
        "duration": 25,
        "start_time": "2022-08-04T15:30:57.463Z"
      },
      {
        "duration": 2111,
        "start_time": "2022-08-04T15:31:02.204Z"
      },
      {
        "duration": 2134,
        "start_time": "2022-08-04T15:31:06.153Z"
      },
      {
        "duration": 11,
        "start_time": "2022-08-04T15:31:11.561Z"
      },
      {
        "duration": 6,
        "start_time": "2022-08-04T15:31:27.126Z"
      },
      {
        "duration": 62,
        "start_time": "2022-08-04T15:31:28.281Z"
      },
      {
        "duration": 9,
        "start_time": "2022-08-04T15:31:29.023Z"
      },
      {
        "duration": 11,
        "start_time": "2022-08-04T15:31:29.966Z"
      },
      {
        "duration": 9,
        "start_time": "2022-08-04T15:31:31.460Z"
      },
      {
        "duration": 8,
        "start_time": "2022-08-04T15:31:33.427Z"
      },
      {
        "duration": 11,
        "start_time": "2022-08-04T15:31:36.647Z"
      },
      {
        "duration": 78,
        "start_time": "2022-08-04T15:46:36.721Z"
      },
      {
        "duration": 21,
        "start_time": "2022-08-04T15:49:12.673Z"
      },
      {
        "duration": 70,
        "start_time": "2022-08-04T15:49:26.143Z"
      },
      {
        "duration": 12,
        "start_time": "2022-08-04T15:49:53.914Z"
      },
      {
        "duration": 81,
        "start_time": "2022-08-04T15:54:02.959Z"
      },
      {
        "duration": 5,
        "start_time": "2022-08-04T15:54:08.522Z"
      },
      {
        "duration": 22,
        "start_time": "2022-08-04T15:54:50.725Z"
      },
      {
        "duration": 24,
        "start_time": "2022-08-04T15:55:25.133Z"
      },
      {
        "duration": 9,
        "start_time": "2022-08-04T15:56:43.393Z"
      },
      {
        "duration": 12,
        "start_time": "2022-08-04T16:12:44.133Z"
      },
      {
        "duration": 86,
        "start_time": "2022-08-04T16:19:20.632Z"
      },
      {
        "duration": 575,
        "start_time": "2022-08-04T16:20:04.455Z"
      },
      {
        "duration": 597,
        "start_time": "2022-08-04T16:20:41.427Z"
      },
      {
        "duration": 622,
        "start_time": "2022-08-04T16:26:35.743Z"
      },
      {
        "duration": 567,
        "start_time": "2022-08-04T16:27:14.499Z"
      },
      {
        "duration": 89,
        "start_time": "2022-08-04T16:27:33.483Z"
      },
      {
        "duration": 619,
        "start_time": "2022-08-04T16:27:41.473Z"
      },
      {
        "duration": 656,
        "start_time": "2022-08-04T16:27:55.091Z"
      },
      {
        "duration": 535,
        "start_time": "2022-08-04T16:29:48.539Z"
      },
      {
        "duration": 559,
        "start_time": "2022-08-04T16:31:55.375Z"
      },
      {
        "duration": 564,
        "start_time": "2022-08-04T16:32:17.325Z"
      },
      {
        "duration": 594,
        "start_time": "2022-08-04T16:32:41.366Z"
      },
      {
        "duration": 17,
        "start_time": "2022-08-04T16:38:30.935Z"
      },
      {
        "duration": 16,
        "start_time": "2022-08-04T16:39:06.984Z"
      },
      {
        "duration": 18,
        "start_time": "2022-08-04T16:39:40.444Z"
      },
      {
        "duration": 148,
        "start_time": "2022-08-04T16:40:11.256Z"
      },
      {
        "duration": 230,
        "start_time": "2022-08-04T16:40:33.931Z"
      },
      {
        "duration": 216,
        "start_time": "2022-08-04T16:42:11.429Z"
      },
      {
        "duration": 176,
        "start_time": "2022-08-04T16:46:27.948Z"
      },
      {
        "duration": 187,
        "start_time": "2022-08-04T16:47:06.757Z"
      },
      {
        "duration": 173,
        "start_time": "2022-08-04T16:47:39.035Z"
      },
      {
        "duration": 151,
        "start_time": "2022-08-04T16:47:57.443Z"
      },
      {
        "duration": 14,
        "start_time": "2022-08-04T16:48:37.131Z"
      },
      {
        "duration": 14,
        "start_time": "2022-08-04T16:48:47.927Z"
      },
      {
        "duration": 14,
        "start_time": "2022-08-04T16:49:03.966Z"
      },
      {
        "duration": 2,
        "start_time": "2022-08-04T16:49:22.924Z"
      },
      {
        "duration": 103,
        "start_time": "2022-08-04T16:49:22.928Z"
      },
      {
        "duration": 15,
        "start_time": "2022-08-04T16:49:23.033Z"
      },
      {
        "duration": 40,
        "start_time": "2022-08-04T16:49:23.051Z"
      },
      {
        "duration": 2237,
        "start_time": "2022-08-04T16:49:23.094Z"
      },
      {
        "duration": 2181,
        "start_time": "2022-08-04T16:49:25.333Z"
      },
      {
        "duration": 11,
        "start_time": "2022-08-04T16:49:27.515Z"
      },
      {
        "duration": 11,
        "start_time": "2022-08-04T16:49:27.527Z"
      },
      {
        "duration": 84,
        "start_time": "2022-08-04T16:49:27.541Z"
      },
      {
        "duration": 9,
        "start_time": "2022-08-04T16:49:27.626Z"
      },
      {
        "duration": 11,
        "start_time": "2022-08-04T16:49:27.637Z"
      },
      {
        "duration": 11,
        "start_time": "2022-08-04T16:49:27.650Z"
      },
      {
        "duration": 30,
        "start_time": "2022-08-04T16:49:27.663Z"
      },
      {
        "duration": 11,
        "start_time": "2022-08-04T16:49:27.695Z"
      },
      {
        "duration": 18,
        "start_time": "2022-08-04T16:49:27.708Z"
      },
      {
        "duration": 22,
        "start_time": "2022-08-04T16:49:27.728Z"
      },
      {
        "duration": 121,
        "start_time": "2022-08-04T16:49:27.753Z"
      },
      {
        "duration": 4,
        "start_time": "2022-08-04T16:49:27.878Z"
      },
      {
        "duration": 84,
        "start_time": "2022-08-04T16:49:27.892Z"
      },
      {
        "duration": 7,
        "start_time": "2022-08-04T16:49:27.992Z"
      },
      {
        "duration": 395,
        "start_time": "2022-08-04T16:49:28.001Z"
      },
      {
        "duration": 31,
        "start_time": "2022-08-04T16:49:28.400Z"
      },
      {
        "duration": 2494,
        "start_time": "2022-08-04T16:49:28.434Z"
      },
      {
        "duration": 301,
        "start_time": "2022-08-04T16:49:30.931Z"
      },
      {
        "duration": 11,
        "start_time": "2022-08-04T16:49:31.234Z"
      },
      {
        "duration": 98,
        "start_time": "2022-08-04T16:49:31.247Z"
      },
      {
        "duration": 762,
        "start_time": "2022-08-04T16:49:31.348Z"
      },
      {
        "duration": 167,
        "start_time": "2022-08-04T16:49:32.111Z"
      },
      {
        "duration": 166,
        "start_time": "2022-08-04T16:49:32.280Z"
      },
      {
        "duration": 670,
        "start_time": "2022-08-04T16:49:32.448Z"
      },
      {
        "duration": 627,
        "start_time": "2022-08-04T16:49:33.120Z"
      },
      {
        "duration": 25,
        "start_time": "2022-08-04T16:49:33.748Z"
      },
      {
        "duration": 43,
        "start_time": "2022-08-04T16:49:33.774Z"
      },
      {
        "duration": 186,
        "start_time": "2022-08-04T16:49:33.819Z"
      },
      {
        "duration": 246,
        "start_time": "2022-08-04T16:51:26.421Z"
      },
      {
        "duration": 149,
        "start_time": "2022-08-04T16:57:17.323Z"
      },
      {
        "duration": 446,
        "start_time": "2022-08-04T16:58:12.416Z"
      },
      {
        "duration": 556,
        "start_time": "2022-08-04T16:58:36.521Z"
      },
      {
        "duration": 797,
        "start_time": "2022-08-04T16:59:03.440Z"
      },
      {
        "duration": 816,
        "start_time": "2022-08-04T16:59:44.629Z"
      },
      {
        "duration": 13,
        "start_time": "2022-08-04T17:00:50.661Z"
      },
      {
        "duration": 12,
        "start_time": "2022-08-04T17:01:14.734Z"
      },
      {
        "duration": 12,
        "start_time": "2022-08-04T17:01:24.021Z"
      },
      {
        "duration": 23,
        "start_time": "2022-08-04T17:01:33.829Z"
      },
      {
        "duration": 231,
        "start_time": "2022-08-04T17:05:37.887Z"
      },
      {
        "duration": 8,
        "start_time": "2022-08-04T17:05:46.057Z"
      },
      {
        "duration": 210,
        "start_time": "2022-08-04T17:05:47.119Z"
      },
      {
        "duration": 190,
        "start_time": "2022-08-04T17:27:13.834Z"
      },
      {
        "duration": 214,
        "start_time": "2022-08-04T17:28:07.115Z"
      },
      {
        "duration": 195,
        "start_time": "2022-08-04T17:28:33.815Z"
      },
      {
        "duration": 231,
        "start_time": "2022-08-04T17:28:51.919Z"
      },
      {
        "duration": 187,
        "start_time": "2022-08-04T17:29:27.525Z"
      },
      {
        "duration": 206,
        "start_time": "2022-08-04T17:30:40.715Z"
      },
      {
        "duration": 250,
        "start_time": "2022-08-04T17:31:05.028Z"
      },
      {
        "duration": 160,
        "start_time": "2022-08-04T17:31:24.982Z"
      },
      {
        "duration": 346,
        "start_time": "2022-08-04T17:31:32.353Z"
      },
      {
        "duration": 5,
        "start_time": "2022-08-04T18:30:39.270Z"
      },
      {
        "duration": 11,
        "start_time": "2022-08-04T18:49:02.934Z"
      },
      {
        "duration": 11,
        "start_time": "2022-08-04T18:49:16.542Z"
      },
      {
        "duration": 11,
        "start_time": "2022-08-04T18:49:23.944Z"
      },
      {
        "duration": 78,
        "start_time": "2022-08-04T18:50:11.164Z"
      },
      {
        "duration": 15,
        "start_time": "2022-08-04T18:50:25.052Z"
      },
      {
        "duration": 5,
        "start_time": "2022-08-04T18:52:54.330Z"
      },
      {
        "duration": 9,
        "start_time": "2022-08-04T18:54:09.147Z"
      },
      {
        "duration": 11,
        "start_time": "2022-08-04T18:54:28.490Z"
      },
      {
        "duration": 4,
        "start_time": "2022-08-04T18:54:45.156Z"
      },
      {
        "duration": 6,
        "start_time": "2022-08-04T18:54:55.888Z"
      },
      {
        "duration": 7,
        "start_time": "2022-08-04T18:55:06.927Z"
      },
      {
        "duration": 5,
        "start_time": "2022-08-04T18:55:10.955Z"
      },
      {
        "duration": 7,
        "start_time": "2022-08-04T18:55:23.553Z"
      },
      {
        "duration": 7,
        "start_time": "2022-08-04T18:55:33.144Z"
      },
      {
        "duration": 9,
        "start_time": "2022-08-04T18:56:44.250Z"
      },
      {
        "duration": 9,
        "start_time": "2022-08-04T18:57:46.544Z"
      },
      {
        "duration": 7,
        "start_time": "2022-08-04T18:58:16.942Z"
      },
      {
        "duration": 2,
        "start_time": "2022-08-04T19:13:20.530Z"
      },
      {
        "duration": 105,
        "start_time": "2022-08-04T19:13:21.498Z"
      },
      {
        "duration": 21,
        "start_time": "2022-08-04T19:13:26.882Z"
      },
      {
        "duration": 23,
        "start_time": "2022-08-04T19:13:28.337Z"
      },
      {
        "duration": 2079,
        "start_time": "2022-08-04T19:13:36.929Z"
      },
      {
        "duration": 2213,
        "start_time": "2022-08-04T19:13:39.626Z"
      },
      {
        "duration": 11,
        "start_time": "2022-08-04T19:14:18.828Z"
      },
      {
        "duration": 7,
        "start_time": "2022-08-04T19:14:21.981Z"
      },
      {
        "duration": 61,
        "start_time": "2022-08-04T19:14:22.877Z"
      },
      {
        "duration": 7,
        "start_time": "2022-08-04T19:14:23.862Z"
      },
      {
        "duration": 9,
        "start_time": "2022-08-04T19:14:25.304Z"
      },
      {
        "duration": 11,
        "start_time": "2022-08-04T19:14:26.863Z"
      },
      {
        "duration": 8,
        "start_time": "2022-08-04T19:14:28.162Z"
      },
      {
        "duration": 12,
        "start_time": "2022-08-04T19:14:32.782Z"
      },
      {
        "duration": 20,
        "start_time": "2022-08-04T19:14:57.146Z"
      },
      {
        "duration": 21,
        "start_time": "2022-08-04T19:15:24.032Z"
      },
      {
        "duration": 89,
        "start_time": "2022-08-04T19:15:25.387Z"
      },
      {
        "duration": 5,
        "start_time": "2022-08-04T19:15:27.445Z"
      },
      {
        "duration": 89,
        "start_time": "2022-08-04T19:15:28.804Z"
      },
      {
        "duration": 9,
        "start_time": "2022-08-04T19:15:31.844Z"
      },
      {
        "duration": 486,
        "start_time": "2022-08-04T19:15:46.091Z"
      },
      {
        "duration": 24,
        "start_time": "2022-08-04T19:15:47.663Z"
      },
      {
        "duration": 2380,
        "start_time": "2022-08-04T19:15:49.347Z"
      },
      {
        "duration": 578,
        "start_time": "2022-08-04T19:17:17.904Z"
      },
      {
        "duration": 11,
        "start_time": "2022-08-04T19:17:46.530Z"
      },
      {
        "duration": 590,
        "start_time": "2022-08-04T19:17:55.330Z"
      },
      {
        "duration": 575,
        "start_time": "2022-08-04T19:18:22.727Z"
      },
      {
        "duration": 557,
        "start_time": "2022-08-04T19:18:40.984Z"
      },
      {
        "duration": 823,
        "start_time": "2022-08-04T19:20:16.780Z"
      },
      {
        "duration": 30,
        "start_time": "2022-08-04T19:20:28.202Z"
      },
      {
        "duration": 7,
        "start_time": "2022-08-04T19:20:30.361Z"
      },
      {
        "duration": 226,
        "start_time": "2022-08-04T19:20:31.538Z"
      },
      {
        "duration": 7,
        "start_time": "2022-08-04T19:20:32.851Z"
      },
      {
        "duration": 25,
        "start_time": "2022-08-04T19:21:09.190Z"
      },
      {
        "duration": 199,
        "start_time": "2022-08-04T19:21:10.798Z"
      },
      {
        "duration": 17,
        "start_time": "2022-08-04T19:21:15.299Z"
      },
      {
        "duration": 168,
        "start_time": "2022-08-04T19:21:16.300Z"
      },
      {
        "duration": 3,
        "start_time": "2022-08-04T19:31:32.761Z"
      },
      {
        "duration": 102,
        "start_time": "2022-08-04T19:31:32.766Z"
      },
      {
        "duration": 21,
        "start_time": "2022-08-04T19:31:32.870Z"
      },
      {
        "duration": 24,
        "start_time": "2022-08-04T19:31:32.893Z"
      },
      {
        "duration": 2200,
        "start_time": "2022-08-04T19:31:32.919Z"
      },
      {
        "duration": 2226,
        "start_time": "2022-08-04T19:31:35.121Z"
      },
      {
        "duration": 10,
        "start_time": "2022-08-04T19:31:37.349Z"
      },
      {
        "duration": 22,
        "start_time": "2022-08-04T19:31:37.361Z"
      },
      {
        "duration": 63,
        "start_time": "2022-08-04T19:31:37.385Z"
      },
      {
        "duration": 7,
        "start_time": "2022-08-04T19:31:37.450Z"
      },
      {
        "duration": 10,
        "start_time": "2022-08-04T19:31:37.460Z"
      },
      {
        "duration": 28,
        "start_time": "2022-08-04T19:31:37.472Z"
      },
      {
        "duration": 9,
        "start_time": "2022-08-04T19:31:37.502Z"
      },
      {
        "duration": 19,
        "start_time": "2022-08-04T19:31:37.513Z"
      },
      {
        "duration": 16,
        "start_time": "2022-08-04T19:31:37.534Z"
      },
      {
        "duration": 42,
        "start_time": "2022-08-04T19:31:37.552Z"
      },
      {
        "duration": 102,
        "start_time": "2022-08-04T19:31:37.596Z"
      },
      {
        "duration": 4,
        "start_time": "2022-08-04T19:31:37.700Z"
      },
      {
        "duration": 100,
        "start_time": "2022-08-04T19:31:37.706Z"
      },
      {
        "duration": 8,
        "start_time": "2022-08-04T19:31:37.808Z"
      },
      {
        "duration": 368,
        "start_time": "2022-08-04T19:31:37.817Z"
      },
      {
        "duration": 26,
        "start_time": "2022-08-04T19:31:38.187Z"
      },
      {
        "duration": 2469,
        "start_time": "2022-08-04T19:31:38.216Z"
      },
      {
        "duration": 289,
        "start_time": "2022-08-04T19:31:40.692Z"
      },
      {
        "duration": 16,
        "start_time": "2022-08-04T19:31:40.983Z"
      },
      {
        "duration": 16,
        "start_time": "2022-08-04T19:31:41.001Z"
      },
      {
        "duration": 666,
        "start_time": "2022-08-04T19:31:41.019Z"
      },
      {
        "duration": 815,
        "start_time": "2022-08-04T19:31:41.687Z"
      },
      {
        "duration": 25,
        "start_time": "2022-08-04T19:31:42.506Z"
      },
      {
        "duration": 11,
        "start_time": "2022-08-04T19:31:42.533Z"
      },
      {
        "duration": 217,
        "start_time": "2022-08-04T19:31:42.545Z"
      },
      {
        "duration": 7,
        "start_time": "2022-08-04T19:31:42.764Z"
      },
      {
        "duration": 39,
        "start_time": "2022-08-04T19:31:42.773Z"
      },
      {
        "duration": 210,
        "start_time": "2022-08-04T19:31:42.814Z"
      },
      {
        "duration": 16,
        "start_time": "2022-08-04T19:31:43.026Z"
      },
      {
        "duration": 178,
        "start_time": "2022-08-04T19:31:43.044Z"
      },
      {
        "duration": 667,
        "start_time": "2022-08-04T20:02:21.417Z"
      },
      {
        "duration": 391,
        "start_time": "2022-08-04T20:02:22.086Z"
      },
      {
        "duration": 17,
        "start_time": "2022-08-04T20:02:22.478Z"
      },
      {
        "duration": 28,
        "start_time": "2022-08-04T20:02:22.496Z"
      },
      {
        "duration": 3976,
        "start_time": "2022-08-04T20:02:22.526Z"
      },
      {
        "duration": 2288,
        "start_time": "2022-08-04T20:02:26.505Z"
      },
      {
        "duration": 14,
        "start_time": "2022-08-04T20:02:28.795Z"
      },
      {
        "duration": 8,
        "start_time": "2022-08-04T20:02:28.812Z"
      },
      {
        "duration": 93,
        "start_time": "2022-08-04T20:02:28.822Z"
      },
      {
        "duration": 8,
        "start_time": "2022-08-04T20:02:28.917Z"
      },
      {
        "duration": 10,
        "start_time": "2022-08-04T20:02:28.928Z"
      },
      {
        "duration": 17,
        "start_time": "2022-08-04T20:02:28.939Z"
      },
      {
        "duration": 18,
        "start_time": "2022-08-04T20:02:28.958Z"
      },
      {
        "duration": 13,
        "start_time": "2022-08-04T20:02:29.003Z"
      },
      {
        "duration": 21,
        "start_time": "2022-08-04T20:02:29.018Z"
      },
      {
        "duration": 20,
        "start_time": "2022-08-04T20:02:29.042Z"
      },
      {
        "duration": 123,
        "start_time": "2022-08-04T20:02:29.065Z"
      },
      {
        "duration": 4,
        "start_time": "2022-08-04T20:02:29.190Z"
      },
      {
        "duration": 86,
        "start_time": "2022-08-04T20:02:29.196Z"
      },
      {
        "duration": 8,
        "start_time": "2022-08-04T20:02:29.303Z"
      },
      {
        "duration": 367,
        "start_time": "2022-08-04T20:02:29.312Z"
      },
      {
        "duration": 30,
        "start_time": "2022-08-04T20:02:29.681Z"
      },
      {
        "duration": 2336,
        "start_time": "2022-08-04T20:02:29.713Z"
      },
      {
        "duration": 378,
        "start_time": "2022-08-04T20:02:32.052Z"
      },
      {
        "duration": 11,
        "start_time": "2022-08-04T20:02:32.432Z"
      },
      {
        "duration": 19,
        "start_time": "2022-08-04T20:02:32.445Z"
      },
      {
        "duration": 575,
        "start_time": "2022-08-04T20:02:32.465Z"
      },
      {
        "duration": 665,
        "start_time": "2022-08-04T20:02:33.041Z"
      },
      {
        "duration": 24,
        "start_time": "2022-08-04T20:02:33.708Z"
      },
      {
        "duration": 15,
        "start_time": "2022-08-04T20:02:33.734Z"
      },
      {
        "duration": 226,
        "start_time": "2022-08-04T20:02:33.751Z"
      },
      {
        "duration": 7,
        "start_time": "2022-08-04T20:02:33.980Z"
      },
      {
        "duration": 35,
        "start_time": "2022-08-04T20:02:33.988Z"
      },
      {
        "duration": 205,
        "start_time": "2022-08-04T20:02:34.025Z"
      },
      {
        "duration": 16,
        "start_time": "2022-08-04T20:02:34.232Z"
      },
      {
        "duration": 171,
        "start_time": "2022-08-04T20:02:34.250Z"
      }
    ],
    "kernelspec": {
      "display_name": "Python 3 (ipykernel)",
      "language": "python",
      "name": "python3"
    },
    "language_info": {
      "codemirror_mode": {
        "name": "ipython",
        "version": 3
      },
      "file_extension": ".py",
      "mimetype": "text/x-python",
      "name": "python",
      "nbconvert_exporter": "python",
      "pygments_lexer": "ipython3",
      "version": "3.9.5"
    },
    "toc": {
      "base_numbering": 1,
      "nav_menu": {},
      "number_sections": true,
      "sideBar": true,
      "skip_h1_title": true,
      "title_cell": "Table of Contents",
      "title_sidebar": "Contents",
      "toc_cell": false,
      "toc_position": {
        "height": "calc(100% - 180px)",
        "left": "10px",
        "top": "150px",
        "width": "383.188px"
      },
      "toc_section_display": true,
      "toc_window_display": true
    },
    "colab": {
      "provenance": []
    }
  },
  "nbformat": 4,
  "nbformat_minor": 0
}